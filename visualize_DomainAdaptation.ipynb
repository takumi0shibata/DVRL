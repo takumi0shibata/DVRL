{
 "cells": [
  {
   "cell_type": "code",
   "execution_count": 1,
   "metadata": {},
   "outputs": [
    {
     "name": "stdout",
     "output_type": "stream",
     "text": [
      "Wed Feb 28 22:00:36 2024       \n",
      "+---------------------------------------------------------------------------------------+\n",
      "| NVIDIA-SMI 545.23.05              Driver Version: 545.84       CUDA Version: 12.3     |\n",
      "|-----------------------------------------+----------------------+----------------------+\n",
      "| GPU  Name                 Persistence-M | Bus-Id        Disp.A | Volatile Uncorr. ECC |\n",
      "| Fan  Temp   Perf          Pwr:Usage/Cap |         Memory-Usage | GPU-Util  Compute M. |\n",
      "|                                         |                      |               MIG M. |\n",
      "|=========================================+======================+======================|\n",
      "|   0  NVIDIA GeForce RTX 4090        On  | 00000000:01:00.0  On |                  Off |\n",
      "|  0%   46C    P8              24W / 450W |    554MiB / 24564MiB |      7%      Default |\n",
      "|                                         |                      |                  N/A |\n",
      "+-----------------------------------------+----------------------+----------------------+\n",
      "                                                                                         \n",
      "+---------------------------------------------------------------------------------------+\n",
      "| Processes:                                                                            |\n",
      "|  GPU   GI   CI        PID   Type   Process name                            GPU Memory |\n",
      "|        ID   ID                                                             Usage      |\n",
      "|=======================================================================================|\n",
      "|    0   N/A  N/A        31      G   /Xwayland                                 N/A      |\n",
      "+---------------------------------------------------------------------------------------+\n"
     ]
    }
   ],
   "source": [
    "!nvidia-smi"
   ]
  },
  {
   "cell_type": "code",
   "execution_count": 2,
   "metadata": {},
   "outputs": [],
   "source": [
    "import numpy as np\n",
    "import pandas as pd\n",
    "import os\n",
    "import random\n",
    "import torch\n",
    "from configs.configs import Configs\n",
    "from models.predictor_model import EssayScorer\n",
    "from transformers import AutoConfig\n",
    "from utils.create_embedding_feautres import create_embedding_features\n",
    "from utils.dvrl_utils import remove_top_p_sample, fit_func, pred_func, calc_qwk, random_remove_sample\n",
    "from sklearn.metrics import mean_squared_error\n",
    "import matplotlib.pyplot as plt\n",
    "import japanize_matplotlib\n",
    "import seaborn as sns\n",
    "from sklearn.model_selection import train_test_split"
   ]
  },
  {
   "cell_type": "code",
   "execution_count": 3,
   "metadata": {},
   "outputs": [
    {
     "name": "stdout",
     "output_type": "stream",
     "text": [
      "cuda\n"
     ]
    }
   ],
   "source": [
    "test_prompt_id = 8\n",
    "# output_path = f'outputs/DVRL_DomainAdaptation/'\n",
    "output_path = f'outputs/DVRL_DomainAdaptation{test_prompt_id}/'\n",
    "\n",
    "seed = 12\n",
    "np.random.seed(seed)\n",
    "random.seed(seed)\n",
    "os.environ['PYTHONHASHSEED'] = str(seed)\n",
    "torch.manual_seed(seed)\n",
    "torch.cuda.manual_seed(seed)\n",
    "\n",
    "# parameters\n",
    "device = torch.device('cuda' if torch.cuda.is_available() else 'cpu')\n",
    "print(device)\n",
    "configs = Configs()\n",
    "attribute_name = 'score'\n",
    "\n",
    "# Load data\n",
    "data_path = configs.DATA_PATH3 + str(test_prompt_id) + '/'\n",
    "model_name = 'microsoft/deberta-v3-large'"
   ]
  },
  {
   "cell_type": "code",
   "execution_count": 4,
   "metadata": {
    "scrolled": true
   },
   "outputs": [
    {
     "name": "stdout",
     "output_type": "stream",
     "text": [
      "load data from data/cross_prompt_attributes/8/...\n",
      "Loading embedding from cache...\n",
      "================================\n",
      "X_train:  (10414, 1024)\n",
      "Y_train:  (10414,)\n",
      "Y_train max:  1.0\n",
      "Y_train min:  0.0\n",
      "================================\n",
      "X_test:  (651, 1024)\n",
      "Y_test:  (651,)\n",
      "Y_test max:  1.0\n",
      "Y_test min:  0.16666666666666666\n",
      "================================\n",
      "Creating predictor model...\n",
      "QWK: 0.3097\n",
      "Creating predictor model...\n",
      "QWK: 0.4681\n",
      "Creating predictor model...\n",
      "QWK: 0.3200\n",
      "Creating predictor model...\n",
      "QWK: 0.2937\n",
      "Creating predictor model...\n",
      "QWK: 0.3168\n",
      "Creating predictor model...\n",
      "QWK: 0.3862\n",
      "Creating predictor model...\n",
      "QWK: 0.5133\n",
      "Creating predictor model...\n",
      "QWK: 0.3878\n",
      "Creating predictor model...\n",
      "QWK: 0.4739\n",
      "Creating predictor model...\n",
      "QWK: 0.2424\n",
      "Creating predictor model...\n",
      "QWK: 0.2013\n",
      "Creating predictor model...\n",
      "QWK: 0.2783\n",
      "Creating predictor model...\n",
      "QWK: 0.3719\n",
      "Creating predictor model...\n",
      "QWK: 0.1660\n",
      "Creating predictor model...\n",
      "QWK: 0.1443\n",
      "Creating predictor model...\n",
      "QWK: 0.2155\n",
      "Creating predictor model...\n",
      "QWK: 0.1125\n",
      "Creating predictor model...\n",
      "QWK: 0.0715\n",
      "Creating predictor model...\n",
      "QWK: -0.1182\n",
      "Creating predictor model...\n",
      "QWK: -0.0342\n",
      "Creating predictor model...\n",
      "QWK: 0.0064\n",
      "Creating predictor model...\n",
      "QWK: 0.3097\n",
      "Creating predictor model...\n",
      "QWK: 0.4511\n",
      "Creating predictor model...\n",
      "QWK: 0.3917\n",
      "Creating predictor model...\n",
      "QWK: 0.5091\n",
      "Creating predictor model...\n",
      "QWK: 0.5850\n",
      "Creating predictor model...\n",
      "QWK: 0.5796\n",
      "Creating predictor model...\n",
      "QWK: 0.5484\n",
      "Creating predictor model...\n",
      "QWK: 0.5494\n",
      "Creating predictor model...\n",
      "QWK: 0.6142\n",
      "Creating predictor model...\n",
      "QWK: 0.5394\n",
      "Creating predictor model...\n",
      "QWK: 0.5473\n",
      "Creating predictor model...\n",
      "QWK: 0.6151\n",
      "Creating predictor model...\n",
      "QWK: 0.4902\n",
      "Creating predictor model...\n",
      "QWK: 0.4720\n",
      "Creating predictor model...\n",
      "QWK: 0.4206\n",
      "Creating predictor model...\n",
      "QWK: 0.4268\n",
      "Creating predictor model...\n",
      "QWK: 0.4162\n",
      "Creating predictor model...\n",
      "QWK: 0.3264\n",
      "Creating predictor model...\n",
      "QWK: 0.3470\n",
      "Creating predictor model...\n",
      "QWK: 0.3361\n",
      "Creating predictor model...\n",
      "QWK: 0.0064\n",
      "Creating predictor model...\n",
      "QWK: 0.3097\n",
      "Creating predictor model...\n",
      "QWK: 0.3930\n",
      "Creating predictor model...\n",
      "QWK: 0.3418\n",
      "Creating predictor model...\n",
      "QWK: 0.4387\n",
      "Creating predictor model...\n",
      "QWK: 0.3809\n",
      "Creating predictor model...\n",
      "QWK: 0.4725\n",
      "Creating predictor model...\n",
      "QWK: 0.5630\n",
      "Creating predictor model...\n",
      "QWK: 0.6366\n",
      "Creating predictor model...\n",
      "QWK: 0.6523\n",
      "Creating predictor model...\n",
      "QWK: 0.4717\n",
      "Creating predictor model...\n",
      "QWK: 0.1962\n",
      "Creating predictor model...\n",
      "QWK: 0.3385\n",
      "Creating predictor model...\n",
      "QWK: 0.5707\n",
      "Creating predictor model...\n",
      "QWK: 0.6445\n",
      "Creating predictor model...\n",
      "QWK: 0.5167\n",
      "Creating predictor model...\n",
      "QWK: 0.5184\n",
      "Creating predictor model...\n",
      "QWK: 0.5227\n",
      "Creating predictor model...\n",
      "QWK: 0.5977\n",
      "Creating predictor model...\n",
      "QWK: 0.4928\n",
      "Creating predictor model...\n",
      "QWK: 0.4048\n",
      "Creating predictor model...\n",
      "QWK: 0.0064\n"
     ]
    },
    {
     "data": {
      "image/png": "[encoded data removed]",
      "text/plain": [
       "<Figure size 1000x500 with 1 Axes>"
      ]
     },
     "metadata": {},
     "output_type": "display_data"
    },
    {
     "data": {
      "image/png": "[encoded data removed]",
      "text/plain": [
       "<Figure size 1000x500 with 1 Axes>"
      ]
     },
     "metadata": {},
     "output_type": "display_data"
    }
   ],
   "source": [
    "# train_features, _, test_features, y_train, _, y_test = create_embedding_features(data_path, test_prompt_id, attribute_name, model_name, device)\n",
    "train_data, _, test_data = create_embedding_features(data_path, test_prompt_id, attribute_name, model_name, device)\n",
    "train_features, test_features, y_train, y_test, id_test = train_data['essay'], test_data['essay'], train_data['normalized_label'], test_data['normalized_label'], test_data['essay_id']\n",
    "dev_features, test_features, y_dev, y_test, dev_ids, _ = train_test_split(test_features, y_test, id_test, test_size=0.9, random_state=seed)\n",
    "\n",
    "# print info\n",
    "print('================================')\n",
    "print('X_train: ', train_features.shape)\n",
    "print('Y_train: ', y_train.shape)\n",
    "print('Y_train max: ', np.max(y_train))\n",
    "print('Y_train min: ', np.min(y_train))\n",
    "\n",
    "# print('================================')\n",
    "# print('X_dev: ', dev_features1.shape)\n",
    "# print('Y_dev: ', y_dev1.shape)\n",
    "# print('Y_dev max: ', np.max(y_dev1))\n",
    "# print('Y_dev min: ', np.min(y_dev1))\n",
    "\n",
    "print('================================')\n",
    "print('X_test: ', test_features.shape)\n",
    "print('Y_test: ', y_test.shape)\n",
    "print('Y_test max: ', np.max(y_test))\n",
    "print('Y_test min: ', np.min(y_test))\n",
    "print('================================')\n",
    "\n",
    "# Remove high and low value samples\n",
    "low_qwks = []\n",
    "low_mse = []\n",
    "for p in np.arange(0.0, 1.01, 0.05):\n",
    "    # Create predictor\n",
    "    print('Creating predictor model...')\n",
    "    config = AutoConfig.from_pretrained(model_name)\n",
    "    pred_model = EssayScorer(config.hidden_size)\n",
    "\n",
    "    weights = remove_top_p_sample(np.load(output_path + 'estimated_data_value.npy'), top_p=p, ascending=True)\n",
    "    history = fit_func(pred_model, train_features, y_train, batch_size=256, epochs=100, device=device, sample_weight=weights)\n",
    "\n",
    "    y_pred = pred_func(pred_model, test_features, batch_size=256, device=device)\n",
    "    qwk = calc_qwk(y_test, y_pred, test_prompt_id, 'score')\n",
    "    mse = mean_squared_error(y_test, y_pred)\n",
    "    print(f'QWK: {qwk:.4f}')\n",
    "    low_qwks.append(qwk)\n",
    "    low_mse.append(mse)\n",
    "\n",
    "np.random.seed(seed)\n",
    "random.seed(seed)\n",
    "os.environ['PYTHONHASHSEED'] = str(seed)\n",
    "torch.manual_seed(seed)\n",
    "torch.cuda.manual_seed(seed)\n",
    "\n",
    "high_qwks = []\n",
    "high_mse = []\n",
    "for p in np.arange(0.0, 1.01, 0.05):\n",
    "    # Create predictor\n",
    "    print('Creating predictor model...')\n",
    "    config = AutoConfig.from_pretrained(model_name)\n",
    "    pred_model = EssayScorer(config.hidden_size)\n",
    "\n",
    "    weights = remove_top_p_sample(np.load(output_path + 'estimated_data_value.npy'), top_p=p, ascending=False)\n",
    "    history = fit_func(pred_model, train_features, y_train, batch_size=256, epochs=100, device=device, sample_weight=weights)\n",
    "\n",
    "    y_pred = pred_func(pred_model, test_features, batch_size=256, device=device)\n",
    "    qwk = calc_qwk(y_test, y_pred, test_prompt_id, 'score')\n",
    "    mse = mean_squared_error(y_test, y_pred)\n",
    "    print(f'QWK: {qwk:.4f}')\n",
    "    high_qwks.append(qwk)\n",
    "    high_mse.append(mse)\n",
    "\n",
    "\n",
    "np.random.seed(seed)\n",
    "random.seed(seed)\n",
    "os.environ['PYTHONHASHSEED'] = str(seed)\n",
    "torch.manual_seed(seed)\n",
    "torch.cuda.manual_seed(seed)\n",
    "\n",
    "random_qwks = []\n",
    "random_mse = []\n",
    "for p in np.arange(0.0, 1.01, 0.05):\n",
    "    # Create predictor\n",
    "    print('Creating predictor model...')\n",
    "    config = AutoConfig.from_pretrained(model_name)\n",
    "    pred_model = EssayScorer(config.hidden_size)\n",
    "\n",
    "    weights = random_remove_sample(np.load(output_path + 'estimated_data_value.npy'), remove_p=p)\n",
    "    history = fit_func(pred_model, train_features, y_train, batch_size=256, epochs=100, device=device, sample_weight=weights)\n",
    "\n",
    "    y_pred = pred_func(pred_model, test_features, batch_size=256, device=device)\n",
    "    qwk = calc_qwk(y_test, y_pred, test_prompt_id, 'score')\n",
    "    mse = mean_squared_error(y_test, y_pred)\n",
    "    print(f'QWK: {qwk:.4f}')\n",
    "    random_qwks.append(qwk)\n",
    "    random_mse.append(mse)\n",
    "\n",
    "# plot\n",
    "p = np.arange(0.0, 1.01, 0.05)\n",
    "plt.figure(figsize=(10, 5))\n",
    "plt.plot(p, high_qwks, label='Removing high value data', color='blue')\n",
    "plt.plot(p, low_qwks, label='Removing low value data', color='red')\n",
    "plt.plot(p, random_qwks, label='Randomly removing data', color='green')\n",
    "plt.title('Remove High/Low Value Samples: QWK')\n",
    "plt.xlabel('Fraction of Removed Samples')\n",
    "plt.ylabel('QWK')\n",
    "plt.legend()\n",
    "plt.savefig(output_path + 'remove_high_low_samples_qwk.png')\n",
    "\n",
    "plt.figure(figsize=(10, 5))\n",
    "plt.plot(p, high_mse, label='Removing high value data', color='blue')\n",
    "plt.plot(p, low_mse, label='Removing low value data', color='red')\n",
    "plt.plot(p, random_mse, label='Randomly removing data', color='green')\n",
    "plt.title('Remove High/Low Value Samples: MSE')\n",
    "plt.xlabel('Fraction of Removed Samples')\n",
    "plt.ylabel('MSE')\n",
    "plt.legend()\n",
    "plt.savefig(output_path + 'remove_high_low_samples_mse.png')"
   ]
  },
  {
   "cell_type": "code",
   "execution_count": 5,
   "metadata": {},
   "outputs": [],
   "source": [
    "data_values = np.load(output_path + 'estimated_data_value.npy')"
   ]
  },
  {
   "cell_type": "code",
   "execution_count": 6,
   "metadata": {},
   "outputs": [
    {
     "data": {
      "text/plain": [
       "0.6675971"
      ]
     },
     "execution_count": 6,
     "metadata": {},
     "output_type": "execute_result"
    }
   ],
   "source": [
    "data_values.mean()"
   ]
  },
  {
   "cell_type": "code",
   "execution_count": 7,
   "metadata": {},
   "outputs": [
    {
     "data": {
      "text/plain": [
       "0.6694559"
      ]
     },
     "execution_count": 7,
     "metadata": {},
     "output_type": "execute_result"
    }
   ],
   "source": [
    "data_values.max()"
   ]
  },
  {
   "cell_type": "code",
   "execution_count": 8,
   "metadata": {},
   "outputs": [
    {
     "data": {
      "text/plain": [
       "0.66692775"
      ]
     },
     "execution_count": 8,
     "metadata": {},
     "output_type": "execute_result"
    }
   ],
   "source": [
    "data_values.min()"
   ]
  },
  {
   "cell_type": "code",
   "execution_count": null,
   "metadata": {},
   "outputs": [],
   "source": []
  },
  {
   "cell_type": "markdown",
   "metadata": {},
   "source": [
    "### 訓練に使用したテストデータのみを用いて学習する"
   ]
  },
  {
   "cell_type": "code",
   "execution_count": 9,
   "metadata": {},
   "outputs": [],
   "source": [
    "from utils.create_embedding_feautres import load_data, normalize_scores, create_data_loader\n",
    "from transformers import AutoTokenizer, AutoModel, AutoConfig"
   ]
  },
  {
   "cell_type": "code",
   "execution_count": 10,
   "metadata": {},
   "outputs": [],
   "source": [
    "data = load_data(data_path)\n",
    "\n",
    "features = np.array(data['test']['feature'])\n",
    "labels = np.array(data['test']['label'])\n",
    "prompts = np.array(data['test']['essay_set'])\n",
    "ids = np.array(data['test']['essay_id'])\n",
    "# Normalize scores\n",
    "normalized_labels = normalize_scores(labels, prompts, attribute_name)\n",
    "\n",
    "\n",
    "train_id = np.load(output_path + 'dev_ids.npy')"
   ]
  },
  {
   "cell_type": "code",
   "execution_count": 11,
   "metadata": {},
   "outputs": [
    {
     "name": "stdout",
     "output_type": "stream",
     "text": [
      "(72,)\n",
      "(651,)\n"
     ]
    }
   ],
   "source": [
    "train_data = {}\n",
    "test_data = {}\n",
    "\n",
    "idx = np.where(np.isin(ids, train_id))\n",
    "test_idx = np.where(np.isin(ids, train_id, invert=True))\n",
    "train_data['feature'] = features[idx]\n",
    "train_data['normalized_label'] = normalized_labels[idx]\n",
    "train_data['essay_set'] = prompts[idx]\n",
    "\n",
    "test_data['feature'] = features[test_idx]\n",
    "test_data['normalized_label'] = normalized_labels[test_idx]\n",
    "test_data['essay_set'] = prompts[test_idx]\n",
    "\n",
    "print(train_data['feature'].shape)\n",
    "print(test_data['feature'].shape)"
   ]
  },
  {
   "cell_type": "code",
   "execution_count": 12,
   "metadata": {
    "scrolled": true
   },
   "outputs": [
    {
     "name": "stderr",
     "output_type": "stream",
     "text": [
      "/home/takumi/anaconda3/envs/torch/lib/python3.10/site-packages/transformers/utils/generic.py:260: UserWarning: torch.utils._pytree._register_pytree_node is deprecated. Please use torch.utils._pytree.register_pytree_node instead.\n",
      "  torch.utils._pytree._register_pytree_node(\n"
     ]
    },
    {
     "name": "stdout",
     "output_type": "stream",
     "text": [
      "Using cuda\n",
      "Epoch 1/20\n"
     ]
    },
    {
     "name": "stderr",
     "output_type": "stream",
     "text": [
      "Training: 100%|███████████████████████████████████████| 3/3 [00:01<00:00,  1.68batch/s, loss=0.0235]\n"
     ]
    },
    {
     "name": "stdout",
     "output_type": "stream",
     "text": [
      "Training loss: 0.02352653630077839\n"
     ]
    },
    {
     "name": "stderr",
     "output_type": "stream",
     "text": [
      "Evaluation: 100%|██████████████████████████████████| 21/21 [00:02<00:00,  7.35batch/s, loss=0.00896]\n"
     ]
    },
    {
     "name": "stdout",
     "output_type": "stream",
     "text": [
      "[0.1874477]\n",
      "Test loss: 0.0090\n",
      "[TEST] -> QWK:  0.187, CORR:  0.294, RMSE:  0.093\n",
      "Epoch 2/20\n"
     ]
    },
    {
     "name": "stderr",
     "output_type": "stream",
     "text": [
      "Training: 100%|██████████████████████████████████████| 3/3 [00:00<00:00,  3.28batch/s, loss=0.00645]\n"
     ]
    },
    {
     "name": "stdout",
     "output_type": "stream",
     "text": [
      "Training loss: 0.006445692852139473\n"
     ]
    },
    {
     "name": "stderr",
     "output_type": "stream",
     "text": [
      "Evaluation: 100%|███████████████████████████████████| 21/21 [00:02<00:00,  7.43batch/s, loss=0.0107]\n"
     ]
    },
    {
     "name": "stdout",
     "output_type": "stream",
     "text": [
      "[0.21641484]\n",
      "Test loss: 0.0107\n",
      "[TEST] -> QWK:  0.216, CORR:  0.440, RMSE:  0.103\n",
      "Epoch 3/20\n"
     ]
    },
    {
     "name": "stderr",
     "output_type": "stream",
     "text": [
      "Training: 100%|██████████████████████████████████████| 3/3 [00:00<00:00,  3.24batch/s, loss=0.00392]\n"
     ]
    },
    {
     "name": "stdout",
     "output_type": "stream",
     "text": [
      "Training loss: 0.003923098789528012\n"
     ]
    },
    {
     "name": "stderr",
     "output_type": "stream",
     "text": [
      "Evaluation: 100%|██████████████████████████████████| 21/21 [00:02<00:00,  7.51batch/s, loss=0.00748]\n"
     ]
    },
    {
     "name": "stdout",
     "output_type": "stream",
     "text": [
      "[0.29522952]\n",
      "Test loss: 0.0075\n",
      "[TEST] -> QWK:  0.295, CORR:  0.522, RMSE:  0.086\n",
      "Epoch 4/20\n"
     ]
    },
    {
     "name": "stderr",
     "output_type": "stream",
     "text": [
      "Training: 100%|████████████████████████████████████████| 3/3 [00:00<00:00,  3.27batch/s, loss=0.004]\n"
     ]
    },
    {
     "name": "stdout",
     "output_type": "stream",
     "text": [
      "Training loss: 0.003995467132578294\n"
     ]
    },
    {
     "name": "stderr",
     "output_type": "stream",
     "text": [
      "Evaluation: 100%|██████████████████████████████████| 21/21 [00:02<00:00,  7.50batch/s, loss=0.00703]\n"
     ]
    },
    {
     "name": "stdout",
     "output_type": "stream",
     "text": [
      "[0.33240452]\n",
      "Test loss: 0.0070\n",
      "[TEST] -> QWK:  0.332, CORR:  0.584, RMSE:  0.083\n",
      "Epoch 5/20\n"
     ]
    },
    {
     "name": "stderr",
     "output_type": "stream",
     "text": [
      "Training: 100%|███████████████████████████████████████| 3/3 [00:00<00:00,  3.20batch/s, loss=0.0032]\n"
     ]
    },
    {
     "name": "stdout",
     "output_type": "stream",
     "text": [
      "Training loss: 0.0032009874703362584\n"
     ]
    },
    {
     "name": "stderr",
     "output_type": "stream",
     "text": [
      "Evaluation: 100%|██████████████████████████████████| 21/21 [00:02<00:00,  7.33batch/s, loss=0.00715]\n"
     ]
    },
    {
     "name": "stdout",
     "output_type": "stream",
     "text": [
      "[0.38438149]\n",
      "Test loss: 0.0072\n",
      "[TEST] -> QWK:  0.384, CORR:  0.637, RMSE:  0.084\n",
      "Epoch 6/20\n"
     ]
    },
    {
     "name": "stderr",
     "output_type": "stream",
     "text": [
      "Training: 100%|██████████████████████████████████████| 3/3 [00:00<00:00,  3.29batch/s, loss=0.00254]\n"
     ]
    },
    {
     "name": "stdout",
     "output_type": "stream",
     "text": [
      "Training loss: 0.002543750607098142\n"
     ]
    },
    {
     "name": "stderr",
     "output_type": "stream",
     "text": [
      "Evaluation: 100%|██████████████████████████████████| 21/21 [00:02<00:00,  7.44batch/s, loss=0.00682]\n"
     ]
    },
    {
     "name": "stdout",
     "output_type": "stream",
     "text": [
      "[0.42217422]\n",
      "Test loss: 0.0068\n",
      "[TEST] -> QWK:  0.422, CORR:  0.657, RMSE:  0.082\n",
      "Epoch 7/20\n"
     ]
    },
    {
     "name": "stderr",
     "output_type": "stream",
     "text": [
      "Training: 100%|██████████████████████████████████████| 3/3 [00:00<00:00,  3.28batch/s, loss=0.00222]\n"
     ]
    },
    {
     "name": "stdout",
     "output_type": "stream",
     "text": [
      "Training loss: 0.002220246746825675\n"
     ]
    },
    {
     "name": "stderr",
     "output_type": "stream",
     "text": [
      "Evaluation: 100%|██████████████████████████████████| 21/21 [00:02<00:00,  7.49batch/s, loss=0.00618]\n"
     ]
    },
    {
     "name": "stdout",
     "output_type": "stream",
     "text": [
      "[0.46029222]\n",
      "Test loss: 0.0062\n",
      "[TEST] -> QWK:  0.460, CORR:  0.663, RMSE:  0.078\n",
      "Epoch 8/20\n"
     ]
    },
    {
     "name": "stderr",
     "output_type": "stream",
     "text": [
      "Training: 100%|██████████████████████████████████████| 3/3 [00:00<00:00,  3.23batch/s, loss=0.00207]\n"
     ]
    },
    {
     "name": "stdout",
     "output_type": "stream",
     "text": [
      "Training loss: 0.00207458254105101\n"
     ]
    },
    {
     "name": "stderr",
     "output_type": "stream",
     "text": [
      "Evaluation: 100%|██████████████████████████████████| 21/21 [00:02<00:00,  7.50batch/s, loss=0.00593]\n"
     ]
    },
    {
     "name": "stdout",
     "output_type": "stream",
     "text": [
      "[0.48723794]\n",
      "Test loss: 0.0059\n",
      "[TEST] -> QWK:  0.487, CORR:  0.669, RMSE:  0.076\n",
      "Epoch 9/20\n"
     ]
    },
    {
     "name": "stderr",
     "output_type": "stream",
     "text": [
      "Training: 100%|██████████████████████████████████████| 3/3 [00:00<00:00,  3.24batch/s, loss=0.00157]\n"
     ]
    },
    {
     "name": "stdout",
     "output_type": "stream",
     "text": [
      "Training loss: 0.0015704134129919112\n"
     ]
    },
    {
     "name": "stderr",
     "output_type": "stream",
     "text": [
      "Evaluation: 100%|██████████████████████████████████| 21/21 [00:02<00:00,  7.47batch/s, loss=0.00585]\n"
     ]
    },
    {
     "name": "stdout",
     "output_type": "stream",
     "text": [
      "[0.51301009]\n",
      "Test loss: 0.0058\n",
      "[TEST] -> QWK:  0.513, CORR:  0.676, RMSE:  0.076\n",
      "Epoch 10/20\n"
     ]
    },
    {
     "name": "stderr",
     "output_type": "stream",
     "text": [
      "Training: 100%|██████████████████████████████████████| 3/3 [00:00<00:00,  3.28batch/s, loss=0.00139]\n"
     ]
    },
    {
     "name": "stdout",
     "output_type": "stream",
     "text": [
      "Training loss: 0.0013926419390675922\n"
     ]
    },
    {
     "name": "stderr",
     "output_type": "stream",
     "text": [
      "Evaluation: 100%|██████████████████████████████████| 21/21 [00:02<00:00,  7.50batch/s, loss=0.00571]\n"
     ]
    },
    {
     "name": "stdout",
     "output_type": "stream",
     "text": [
      "[0.52919501]\n",
      "Test loss: 0.0057\n",
      "[TEST] -> QWK:  0.529, CORR:  0.678, RMSE:  0.075\n",
      "Epoch 11/20\n"
     ]
    },
    {
     "name": "stderr",
     "output_type": "stream",
     "text": [
      "Training: 100%|██████████████████████████████████████| 3/3 [00:00<00:00,  3.24batch/s, loss=0.00115]\n"
     ]
    },
    {
     "name": "stdout",
     "output_type": "stream",
     "text": [
      "Training loss: 0.001149396732216701\n"
     ]
    },
    {
     "name": "stderr",
     "output_type": "stream",
     "text": [
      "Evaluation: 100%|██████████████████████████████████| 21/21 [00:02<00:00,  7.48batch/s, loss=0.00554]\n"
     ]
    },
    {
     "name": "stdout",
     "output_type": "stream",
     "text": [
      "[0.54647447]\n",
      "Test loss: 0.0055\n",
      "[TEST] -> QWK:  0.546, CORR:  0.676, RMSE:  0.074\n",
      "Epoch 12/20\n"
     ]
    },
    {
     "name": "stderr",
     "output_type": "stream",
     "text": [
      "Training: 100%|██████████████████████████████████████| 3/3 [00:00<00:00,  3.17batch/s, loss=0.00105]\n"
     ]
    },
    {
     "name": "stdout",
     "output_type": "stream",
     "text": [
      "Training loss: 0.0010536096039383362\n"
     ]
    },
    {
     "name": "stderr",
     "output_type": "stream",
     "text": [
      "Evaluation: 100%|██████████████████████████████████| 21/21 [00:02<00:00,  7.46batch/s, loss=0.00548]\n"
     ]
    },
    {
     "name": "stdout",
     "output_type": "stream",
     "text": [
      "[0.55353692]\n",
      "Test loss: 0.0055\n",
      "[TEST] -> QWK:  0.554, CORR:  0.676, RMSE:  0.073\n",
      "Epoch 13/20\n"
     ]
    },
    {
     "name": "stderr",
     "output_type": "stream",
     "text": [
      "Training: 100%|█████████████████████████████████████| 3/3 [00:00<00:00,  3.29batch/s, loss=0.000978]\n"
     ]
    },
    {
     "name": "stdout",
     "output_type": "stream",
     "text": [
      "Training loss: 0.000977708831972753\n"
     ]
    },
    {
     "name": "stderr",
     "output_type": "stream",
     "text": [
      "Evaluation: 100%|██████████████████████████████████| 21/21 [00:02<00:00,  7.32batch/s, loss=0.00554]\n"
     ]
    },
    {
     "name": "stdout",
     "output_type": "stream",
     "text": [
      "[0.56018629]\n",
      "Test loss: 0.0055\n",
      "[TEST] -> QWK:  0.560, CORR:  0.677, RMSE:  0.074\n",
      "Epoch 14/20\n"
     ]
    },
    {
     "name": "stderr",
     "output_type": "stream",
     "text": [
      "Training: 100%|█████████████████████████████████████| 3/3 [00:00<00:00,  3.24batch/s, loss=0.000929]\n"
     ]
    },
    {
     "name": "stdout",
     "output_type": "stream",
     "text": [
      "Training loss: 0.0009286717201272646\n"
     ]
    },
    {
     "name": "stderr",
     "output_type": "stream",
     "text": [
      "Evaluation: 100%|██████████████████████████████████| 21/21 [00:02<00:00,  7.42batch/s, loss=0.00566]\n"
     ]
    },
    {
     "name": "stdout",
     "output_type": "stream",
     "text": [
      "[0.56779633]\n",
      "Test loss: 0.0057\n",
      "[TEST] -> QWK:  0.568, CORR:  0.678, RMSE:  0.075\n",
      "Epoch 15/20\n"
     ]
    },
    {
     "name": "stderr",
     "output_type": "stream",
     "text": [
      "Training: 100%|█████████████████████████████████████| 3/3 [00:00<00:00,  3.26batch/s, loss=0.000792]\n"
     ]
    },
    {
     "name": "stdout",
     "output_type": "stream",
     "text": [
      "Training loss: 0.0007916520698927343\n"
     ]
    },
    {
     "name": "stderr",
     "output_type": "stream",
     "text": [
      "Evaluation: 100%|██████████████████████████████████| 21/21 [00:02<00:00,  7.47batch/s, loss=0.00551]\n"
     ]
    },
    {
     "name": "stdout",
     "output_type": "stream",
     "text": [
      "[0.57393694]\n",
      "Test loss: 0.0055\n",
      "[TEST] -> QWK:  0.574, CORR:  0.676, RMSE:  0.074\n",
      "Epoch 16/20\n"
     ]
    },
    {
     "name": "stderr",
     "output_type": "stream",
     "text": [
      "Training: 100%|██████████████████████████████████████| 3/3 [00:00<00:00,  3.17batch/s, loss=0.00069]\n"
     ]
    },
    {
     "name": "stdout",
     "output_type": "stream",
     "text": [
      "Training loss: 0.0006901364201136554\n"
     ]
    },
    {
     "name": "stderr",
     "output_type": "stream",
     "text": [
      "Evaluation: 100%|██████████████████████████████████| 21/21 [00:02<00:00,  7.27batch/s, loss=0.00544]\n"
     ]
    },
    {
     "name": "stdout",
     "output_type": "stream",
     "text": [
      "[0.57512257]\n",
      "Test loss: 0.0054\n",
      "[TEST] -> QWK:  0.575, CORR:  0.675, RMSE:  0.073\n",
      "Epoch 17/20\n"
     ]
    },
    {
     "name": "stderr",
     "output_type": "stream",
     "text": [
      "Training: 100%|█████████████████████████████████████| 3/3 [00:00<00:00,  3.22batch/s, loss=0.000637]\n"
     ]
    },
    {
     "name": "stdout",
     "output_type": "stream",
     "text": [
      "Training loss: 0.0006370447711863866\n"
     ]
    },
    {
     "name": "stderr",
     "output_type": "stream",
     "text": [
      "Evaluation: 100%|██████████████████████████████████| 21/21 [00:02<00:00,  7.36batch/s, loss=0.00544]\n"
     ]
    },
    {
     "name": "stdout",
     "output_type": "stream",
     "text": [
      "[0.58005337]\n",
      "Test loss: 0.0054\n",
      "[TEST] -> QWK:  0.580, CORR:  0.675, RMSE:  0.073\n",
      "Epoch 18/20\n"
     ]
    },
    {
     "name": "stderr",
     "output_type": "stream",
     "text": [
      "Training: 100%|█████████████████████████████████████| 3/3 [00:00<00:00,  3.22batch/s, loss=0.000747]\n"
     ]
    },
    {
     "name": "stdout",
     "output_type": "stream",
     "text": [
      "Training loss: 0.0007466641448748609\n"
     ]
    },
    {
     "name": "stderr",
     "output_type": "stream",
     "text": [
      "Evaluation: 100%|██████████████████████████████████| 21/21 [00:02<00:00,  7.47batch/s, loss=0.00546]\n"
     ]
    },
    {
     "name": "stdout",
     "output_type": "stream",
     "text": [
      "[0.5805768]\n",
      "Test loss: 0.0055\n",
      "[TEST] -> QWK:  0.581, CORR:  0.675, RMSE:  0.073\n",
      "Epoch 19/20\n"
     ]
    },
    {
     "name": "stderr",
     "output_type": "stream",
     "text": [
      "Training: 100%|█████████████████████████████████████| 3/3 [00:00<00:00,  3.26batch/s, loss=0.000646]\n"
     ]
    },
    {
     "name": "stdout",
     "output_type": "stream",
     "text": [
      "Training loss: 0.0006461038768369084\n"
     ]
    },
    {
     "name": "stderr",
     "output_type": "stream",
     "text": [
      "Evaluation: 100%|██████████████████████████████████| 21/21 [00:02<00:00,  7.43batch/s, loss=0.00546]\n"
     ]
    },
    {
     "name": "stdout",
     "output_type": "stream",
     "text": [
      "[0.57992541]\n",
      "Test loss: 0.0055\n",
      "[TEST] -> QWK:  0.580, CORR:  0.675, RMSE:  0.073\n",
      "Epoch 20/20\n"
     ]
    },
    {
     "name": "stderr",
     "output_type": "stream",
     "text": [
      "Training: 100%|██████████████████████████████████████| 3/3 [00:00<00:00,  3.22batch/s, loss=0.00056]\n"
     ]
    },
    {
     "name": "stdout",
     "output_type": "stream",
     "text": [
      "Training loss: 0.0005597561103058979\n"
     ]
    },
    {
     "name": "stderr",
     "output_type": "stream",
     "text": [
      "Evaluation: 100%|██████████████████████████████████| 21/21 [00:02<00:00,  7.46batch/s, loss=0.00546]"
     ]
    },
    {
     "name": "stdout",
     "output_type": "stream",
     "text": [
      "[0.58014311]\n",
      "Test loss: 0.0055\n",
      "[TEST] -> QWK:  0.580, CORR:  0.676, RMSE:  0.073\n"
     ]
    },
    {
     "name": "stderr",
     "output_type": "stream",
     "text": [
      "\n"
     ]
    }
   ],
   "source": [
    "import torch\n",
    "import torch.nn as nn\n",
    "from torch.optim import AdamW\n",
    "from transformers import get_linear_schedule_with_warmup\n",
    "from utils.evaluation import train_epoch, evaluate_epoch\n",
    "\n",
    "\n",
    "model_name = 'bert-base-uncased'\n",
    "tokenizer = AutoTokenizer.from_pretrained(model_name)\n",
    "model = AutoModel.from_pretrained(model_name).to(device)\n",
    "config = AutoConfig.from_pretrained(model_name)\n",
    "\n",
    "train_loader = create_data_loader(train_data, tokenizer, max_length=512, batch_size=32)\n",
    "test_loader = create_data_loader(test_data, tokenizer, max_length=512, batch_size=32)\n",
    "\n",
    "# set parameters\n",
    "EPOCHS = 20\n",
    "\n",
    "# Define the device\n",
    "device = torch.device(\"cuda\" if torch.cuda.is_available() else \"cpu\")\n",
    "# device = torch.device('mps')\n",
    "print(f\"Using {device}\")\n",
    "\n",
    "# Define the model\n",
    "class PreTrainedScorer(nn.Module):\n",
    "    def __init__(self, base_model: AutoModel, hidden_size=768, num_labels=1):\n",
    "        super(PreTrainedScorer, self).__init__()\n",
    "        self.base_model = base_model\n",
    "        self.regressor = nn.Linear(hidden_size, num_labels)\n",
    "        self.sigmoid = nn.Sigmoid()\n",
    "\n",
    "    def forward(self, input_ids, attention_mask):\n",
    "        outputs = self.base_model(input_ids=input_ids, attention_mask=attention_mask)\n",
    "        pooled_output = outputs.pooler_output\n",
    "        logits = self.regressor(pooled_output)\n",
    "        return self.sigmoid(logits)\n",
    "\n",
    "# Initialize the model\n",
    "model = PreTrainedScorer(model, hidden_size=config.hidden_size).to(device)\n",
    "\n",
    "# Define loss function, optimizer, and scheduler\n",
    "loss_fn = nn.MSELoss(reduction='none').to(device)\n",
    "optimizer = AdamW(model.parameters(), lr=2e-5)\n",
    "scheduler = get_linear_schedule_with_warmup(optimizer, num_warmup_steps=0, num_training_steps=len(train_loader)*EPOCHS)\n",
    "\n",
    "# Training loop\n",
    "for epoch in range(EPOCHS):\n",
    "    print(f\"Epoch {epoch+1}/{EPOCHS}\")\n",
    "\n",
    "    # Training Set\n",
    "    train_loss = train_epoch(model, train_loader, loss_fn, optimizer, device, scheduler, use_weight=False)\n",
    "    print(f\"Training loss: {train_loss}\")\n",
    "\n",
    "    # Test Set\n",
    "    eval_history = evaluate_epoch(model, test_loader, loss_fn, device, attribute_name)\n",
    "    print(f\"Test loss: {eval_history['loss']:.4f}\")\n",
    "\n",
    "    print(f'[TEST] -> QWK: {eval_history[\"qwk\"]: .3f}, CORR: {eval_history[\"corr\"]: .3f}, RMSE: {eval_history[\"rmse\"]: .3f}')\n",
    "\n",
    "best_val_metrics = [eval_history[met] for met in ['qwk', 'lwk', 'corr', 'rmse', 'mae']]\n",
    "\n",
    "pd.DataFrame(np.array(best_val_metrics).reshape(1, 5), columns=['qwk', 'lwk', 'corr', 'rmse', 'mae']).to_csv(output_path + f'baseline_metrics{test_prompt_id}.csv', index=False, header=True)"
   ]
  },
  {
   "cell_type": "markdown",
   "metadata": {},
   "source": [
    "## 選ばれたデータを用いて，別モデルを学習 (BERT)"
   ]
  },
  {
   "cell_type": "code",
   "execution_count": 13,
   "metadata": {},
   "outputs": [],
   "source": [
    "逆張り = True"
   ]
  },
  {
   "cell_type": "code",
   "execution_count": 14,
   "metadata": {},
   "outputs": [],
   "source": [
    "from utils.create_embedding_feautres import load_data, normalize_scores, create_data_loader\n",
    "from transformers import AutoTokenizer, AutoModel, AutoConfig\n",
    "import collections"
   ]
  },
  {
   "cell_type": "code",
   "execution_count": 15,
   "metadata": {},
   "outputs": [],
   "source": [
    "data = load_data(data_path)\n",
    "data_values = np.load(output_path + 'estimated_data_value.npy')\n",
    "if 逆張り:\n",
    "    weights = remove_top_p_sample(data_values, top_p=0.9, ascending=False)\n",
    "else:\n",
    "    weights = remove_top_p_sample(data_values, top_p=0.9, ascending=True)\n",
    "\n",
    "y_train = np.array(data['train']['label'])\n",
    "y_dev = np.array(data['dev']['label'])\n",
    "y_test = np.array(data['test']['label'])\n",
    "\n",
    "train_essay_prompt = np.array(data['train']['essay_set'])\n",
    "dev_essay_prompt = np.array(data['dev']['essay_set'])\n",
    "test_essay_prompt = np.array(data['test']['essay_set'])\n",
    "\n",
    "# Normalize scores\n",
    "y_train = normalize_scores(y_train, train_essay_prompt, attribute_name)\n",
    "y_dev = normalize_scores(y_dev, dev_essay_prompt, attribute_name)\n",
    "y_test = normalize_scores(y_test, test_essay_prompt, attribute_name)\n",
    "\n",
    "data['train']['normalized_label'] = y_train\n",
    "data['dev']['normalized_label'] = y_dev\n",
    "data['test']['normalized_label'] = y_test"
   ]
  },
  {
   "cell_type": "code",
   "execution_count": 16,
   "metadata": {},
   "outputs": [
    {
     "data": {
      "image/png": "[encoded data removed]",
      "text/plain": [
       "<Figure size 640x480 with 1 Axes>"
      ]
     },
     "metadata": {},
     "output_type": "display_data"
    }
   ],
   "source": [
    "if 逆張り:\n",
    "    top10per_list = train_essay_prompt[data_values.flatten().argsort()][:int(len(data_values)*0.1)]\n",
    "else:\n",
    "    top10per_list = train_essay_prompt[data_values.flatten().argsort()[::-1]][:int(len(data_values)*0.1)]\n",
    "count = collections.Counter(top10per_list)\n",
    "plt.bar(list(count.keys()), [i / len(top10per_list) for i in list(count.values())])\n",
    "plt.savefig(output_path + 'high_value_prompt.png')"
   ]
  },
  {
   "cell_type": "code",
   "execution_count": 17,
   "metadata": {},
   "outputs": [],
   "source": [
    "for key, value in dict(count).items():\n",
    "    count[key] = value / len(top10per_list)"
   ]
  },
  {
   "cell_type": "code",
   "execution_count": 18,
   "metadata": {},
   "outputs": [
    {
     "data": {
      "text/plain": [
       "{1: 0.2680115273775216,\n",
       " 2: 0.49855907780979825,\n",
       " 3: 0.012487992315081652,\n",
       " 4: 0.01921229586935639,\n",
       " 5: 0.03170028818443804,\n",
       " 6: 0.05475504322766571,\n",
       " 7: 0.11527377521613832}"
      ]
     },
     "execution_count": 18,
     "metadata": {},
     "output_type": "execute_result"
    }
   ],
   "source": [
    "avg_weight_dict = dict((x, y) for x, y in sorted(count.items()))\n",
    "avg_weight_dict"
   ]
  },
  {
   "cell_type": "code",
   "execution_count": 19,
   "metadata": {},
   "outputs": [
    {
     "data": {
      "text/plain": [
       "[0.2680115273775216,\n",
       " 0.49855907780979825,\n",
       " 0.012487992315081652,\n",
       " 0.01921229586935639,\n",
       " 0.03170028818443804,\n",
       " 0.05475504322766571,\n",
       " 0.11527377521613832]"
      ]
     },
     "execution_count": 19,
     "metadata": {},
     "output_type": "execute_result"
    }
   ],
   "source": [
    "avg_weight_list = [v for k, v in avg_weight_dict.items()]\n",
    "avg_weight_list"
   ]
  },
  {
   "cell_type": "code",
   "execution_count": 20,
   "metadata": {
    "scrolled": true
   },
   "outputs": [
    {
     "name": "stdout",
     "output_type": "stream",
     "text": [
      "Using cuda\n",
      "Epoch 1/10\n"
     ]
    },
    {
     "name": "stderr",
     "output_type": "stream",
     "text": [
      "Training: 100%|█████████████████████████████████| 326/326 [02:01<00:00,  2.68batch/s, loss=0.000192]\n"
     ]
    },
    {
     "name": "stdout",
     "output_type": "stream",
     "text": [
      "Training loss: 0.00019160517616837125\n"
     ]
    },
    {
     "name": "stderr",
     "output_type": "stream",
     "text": [
      "Evaluation: 100%|███████████████████████████████████| 58/58 [00:07<00:00,  7.39batch/s, loss=0.0643]\n"
     ]
    },
    {
     "name": "stdout",
     "output_type": "stream",
     "text": [
      "[0.5296514  0.29771763 0.15470715 0.15127105 0.33804838 0.2092238\n",
      " 0.58861934]\n",
      "Dev loss: 0.0643\n"
     ]
    },
    {
     "name": "stderr",
     "output_type": "stream",
     "text": [
      "Evaluation: 100%|██████████████████████████████████| 23/23 [00:03<00:00,  7.15batch/s, loss=0.00777]\n"
     ]
    },
    {
     "name": "stdout",
     "output_type": "stream",
     "text": [
      "[0.31900578]\n",
      "Test loss: 0.0078\n",
      "[VAL]  -> QWK:  0.385, CORR:  0.480, RMSE:  0.254\n",
      "[TEST] -> QWK:  0.319, CORR:  0.426, RMSE:  0.087\n",
      "[BEST] -> QWK:  0.319, CORR:  0.426, RMSE:  0.087\n",
      "Epoch 2/10\n"
     ]
    },
    {
     "name": "stderr",
     "output_type": "stream",
     "text": [
      "Training: 100%|██████████████████████████████████| 326/326 [02:01<00:00,  2.69batch/s, loss=4.83e-5]\n"
     ]
    },
    {
     "name": "stdout",
     "output_type": "stream",
     "text": [
      "Training loss: 4.8303960969900844e-05\n"
     ]
    },
    {
     "name": "stderr",
     "output_type": "stream",
     "text": [
      "Evaluation: 100%|███████████████████████████████████| 58/58 [00:07<00:00,  7.51batch/s, loss=0.0672]\n"
     ]
    },
    {
     "name": "stdout",
     "output_type": "stream",
     "text": [
      "[0.5482355  0.31499544 0.10160628 0.11379853 0.33767439 0.2092238\n",
      " 0.56114496]\n",
      "Dev loss: 0.0672\n"
     ]
    },
    {
     "name": "stderr",
     "output_type": "stream",
     "text": [
      "Evaluation: 100%|██████████████████████████████████| 23/23 [00:03<00:00,  7.30batch/s, loss=0.00787]\n"
     ]
    },
    {
     "name": "stdout",
     "output_type": "stream",
     "text": [
      "[0.3485353]\n",
      "Test loss: 0.0079\n",
      "[VAL]  -> QWK:  0.394, CORR:  0.467, RMSE:  0.260\n",
      "[TEST] -> QWK:  0.349, CORR:  0.436, RMSE:  0.088\n",
      "[BEST] -> QWK:  0.349, CORR:  0.436, RMSE:  0.088\n",
      "Epoch 3/10\n"
     ]
    },
    {
     "name": "stderr",
     "output_type": "stream",
     "text": [
      "Training: 100%|██████████████████████████████████| 326/326 [02:01<00:00,  2.69batch/s, loss=3.27e-5]\n"
     ]
    },
    {
     "name": "stdout",
     "output_type": "stream",
     "text": [
      "Training loss: 3.271940595368757e-05\n"
     ]
    },
    {
     "name": "stderr",
     "output_type": "stream",
     "text": [
      "Evaluation: 100%|█████████████████████████████████████| 58/58 [00:07<00:00,  7.53batch/s, loss=0.07]\n"
     ]
    },
    {
     "name": "stdout",
     "output_type": "stream",
     "text": [
      "[0.54645214 0.39269874 0.04683841 0.06488479 0.34069695 0.21245209\n",
      " 0.52106803]\n",
      "Dev loss: 0.0700\n"
     ]
    },
    {
     "name": "stderr",
     "output_type": "stream",
     "text": [
      "Evaluation: 100%|██████████████████████████████████| 23/23 [00:03<00:00,  7.25batch/s, loss=0.00819]\n"
     ]
    },
    {
     "name": "stdout",
     "output_type": "stream",
     "text": [
      "[0.33537628]\n",
      "Test loss: 0.0082\n",
      "[VAL]  -> QWK:  0.427, CORR:  0.460, RMSE:  0.265\n",
      "[TEST] -> QWK:  0.335, CORR:  0.461, RMSE:  0.090\n",
      "[BEST] -> QWK:  0.335, CORR:  0.461, RMSE:  0.090\n",
      "Epoch 4/10\n"
     ]
    },
    {
     "name": "stderr",
     "output_type": "stream",
     "text": [
      "Training: 100%|██████████████████████████████████| 326/326 [02:01<00:00,  2.68batch/s, loss=2.38e-5]\n"
     ]
    },
    {
     "name": "stdout",
     "output_type": "stream",
     "text": [
      "Training loss: 2.3786976264809698e-05\n"
     ]
    },
    {
     "name": "stderr",
     "output_type": "stream",
     "text": [
      "Evaluation: 100%|███████████████████████████████████| 58/58 [00:07<00:00,  7.51batch/s, loss=0.0679]\n"
     ]
    },
    {
     "name": "stdout",
     "output_type": "stream",
     "text": [
      "[0.54339025 0.35384172 0.08923924 0.11379853 0.33767439 0.21198975\n",
      " 0.54186037]\n",
      "Dev loss: 0.0679\n"
     ]
    },
    {
     "name": "stderr",
     "output_type": "stream",
     "text": [
      "Evaluation: 100%|██████████████████████████████████| 23/23 [00:03<00:00,  7.20batch/s, loss=0.00818]\n"
     ]
    },
    {
     "name": "stdout",
     "output_type": "stream",
     "text": [
      "[0.32085324]\n",
      "Test loss: 0.0082\n",
      "[VAL]  -> QWK:  0.410, CORR:  0.487, RMSE:  0.261\n",
      "[TEST] -> QWK:  0.321, CORR:  0.438, RMSE:  0.090\n",
      "[BEST] -> QWK:  0.335, CORR:  0.461, RMSE:  0.090\n",
      "Epoch 5/10\n"
     ]
    },
    {
     "name": "stderr",
     "output_type": "stream",
     "text": [
      "Training: 100%|██████████████████████████████████| 326/326 [02:01<00:00,  2.69batch/s, loss=1.48e-5]\n"
     ]
    },
    {
     "name": "stdout",
     "output_type": "stream",
     "text": [
      "Training loss: 1.4766043370617326e-05\n"
     ]
    },
    {
     "name": "stderr",
     "output_type": "stream",
     "text": [
      "Evaluation: 100%|███████████████████████████████████| 58/58 [00:07<00:00,  7.50batch/s, loss=0.0675]\n"
     ]
    },
    {
     "name": "stdout",
     "output_type": "stream",
     "text": [
      "[0.54394104 0.33227103 0.09540847 0.12493119 0.34069695 0.21198975\n",
      " 0.55605459]\n",
      "Dev loss: 0.0675\n"
     ]
    },
    {
     "name": "stderr",
     "output_type": "stream",
     "text": [
      "Evaluation: 100%|██████████████████████████████████| 23/23 [00:03<00:00,  7.26batch/s, loss=0.00834]\n"
     ]
    },
    {
     "name": "stdout",
     "output_type": "stream",
     "text": [
      "[0.31407799]\n",
      "Test loss: 0.0083\n",
      "[VAL]  -> QWK:  0.402, CORR:  0.496, RMSE:  0.260\n",
      "[TEST] -> QWK:  0.314, CORR:  0.422, RMSE:  0.090\n",
      "[BEST] -> QWK:  0.335, CORR:  0.461, RMSE:  0.090\n",
      "Epoch 6/10\n"
     ]
    },
    {
     "name": "stderr",
     "output_type": "stream",
     "text": [
      "Training: 100%|██████████████████████████████████| 326/326 [02:01<00:00,  2.68batch/s, loss=1.56e-5]\n"
     ]
    },
    {
     "name": "stdout",
     "output_type": "stream",
     "text": [
      "Training loss: 1.5615111254971502e-05\n"
     ]
    },
    {
     "name": "stderr",
     "output_type": "stream",
     "text": [
      "Evaluation: 100%|███████████████████████████████████| 58/58 [00:07<00:00,  7.53batch/s, loss=0.0684]\n"
     ]
    },
    {
     "name": "stdout",
     "output_type": "stream",
     "text": [
      "[0.54927553 0.32941139 0.0974255  0.13604694 0.33430854 0.21245209\n",
      " 0.55088436]\n",
      "Dev loss: 0.0684\n"
     ]
    },
    {
     "name": "stderr",
     "output_type": "stream",
     "text": [
      "Evaluation: 100%|██████████████████████████████████| 23/23 [00:03<00:00,  7.20batch/s, loss=0.00829]\n"
     ]
    },
    {
     "name": "stdout",
     "output_type": "stream",
     "text": [
      "[0.31247423]\n",
      "Test loss: 0.0083\n",
      "[VAL]  -> QWK:  0.401, CORR:  0.490, RMSE:  0.262\n",
      "[TEST] -> QWK:  0.312, CORR:  0.423, RMSE:  0.090\n",
      "[BEST] -> QWK:  0.335, CORR:  0.461, RMSE:  0.090\n",
      "Epoch 7/10\n"
     ]
    },
    {
     "name": "stderr",
     "output_type": "stream",
     "text": [
      "Training: 100%|██████████████████████████████████| 326/326 [02:01<00:00,  2.69batch/s, loss=1.32e-5]\n"
     ]
    },
    {
     "name": "stdout",
     "output_type": "stream",
     "text": [
      "Training loss: 1.3162546638332519e-05\n"
     ]
    },
    {
     "name": "stderr",
     "output_type": "stream",
     "text": [
      "Evaluation: 100%|███████████████████████████████████| 58/58 [00:07<00:00,  7.52batch/s, loss=0.0648]\n"
     ]
    },
    {
     "name": "stdout",
     "output_type": "stream",
     "text": [
      "[0.5377439  0.32363351 0.09120863 0.12493119 0.35069864 0.21683828\n",
      " 0.56507374]\n",
      "Dev loss: 0.0648\n"
     ]
    },
    {
     "name": "stderr",
     "output_type": "stream",
     "text": [
      "Evaluation: 100%|██████████████████████████████████| 23/23 [00:03<00:00,  7.29batch/s, loss=0.00805]\n"
     ]
    },
    {
     "name": "stdout",
     "output_type": "stream",
     "text": [
      "[0.31394567]\n",
      "Test loss: 0.0081\n",
      "[VAL]  -> QWK:  0.397, CORR:  0.504, RMSE:  0.255\n",
      "[TEST] -> QWK:  0.314, CORR:  0.439, RMSE:  0.089\n",
      "[BEST] -> QWK:  0.335, CORR:  0.461, RMSE:  0.090\n",
      "Epoch 8/10\n"
     ]
    },
    {
     "name": "stderr",
     "output_type": "stream",
     "text": [
      "Training: 100%|██████████████████████████████████| 326/326 [02:01<00:00,  2.68batch/s, loss=1.03e-5]\n"
     ]
    },
    {
     "name": "stdout",
     "output_type": "stream",
     "text": [
      "Training loss: 1.0300204649299448e-05\n"
     ]
    },
    {
     "name": "stderr",
     "output_type": "stream",
     "text": [
      "Evaluation: 100%|███████████████████████████████████| 58/58 [00:07<00:00,  7.51batch/s, loss=0.0667]\n"
     ]
    },
    {
     "name": "stdout",
     "output_type": "stream",
     "text": [
      "[0.5438897  0.33227103 0.08923924 0.12493119 0.33729784 0.21198975\n",
      " 0.55968465]\n",
      "Dev loss: 0.0667\n"
     ]
    },
    {
     "name": "stderr",
     "output_type": "stream",
     "text": [
      "Evaluation: 100%|██████████████████████████████████| 23/23 [00:03<00:00,  7.22batch/s, loss=0.00815]\n"
     ]
    },
    {
     "name": "stdout",
     "output_type": "stream",
     "text": [
      "[0.31717316]\n",
      "Test loss: 0.0081\n",
      "[VAL]  -> QWK:  0.402, CORR:  0.487, RMSE:  0.259\n",
      "[TEST] -> QWK:  0.317, CORR:  0.441, RMSE:  0.089\n",
      "[BEST] -> QWK:  0.335, CORR:  0.461, RMSE:  0.090\n",
      "Epoch 9/10\n"
     ]
    },
    {
     "name": "stderr",
     "output_type": "stream",
     "text": [
      "Training: 100%|██████████████████████████████████| 326/326 [02:01<00:00,  2.68batch/s, loss=6.56e-6]\n"
     ]
    },
    {
     "name": "stdout",
     "output_type": "stream",
     "text": [
      "Training loss: 6.564431212343924e-06\n"
     ]
    },
    {
     "name": "stderr",
     "output_type": "stream",
     "text": [
      "Evaluation: 100%|███████████████████████████████████| 58/58 [00:07<00:00,  7.50batch/s, loss=0.0657]\n"
     ]
    },
    {
     "name": "stdout",
     "output_type": "stream",
     "text": [
      "[0.53842905 0.31931454 0.0974255  0.12493119 0.33729784 0.21198975\n",
      " 0.56745432]\n",
      "Dev loss: 0.0657\n"
     ]
    },
    {
     "name": "stderr",
     "output_type": "stream",
     "text": [
      "Evaluation: 100%|██████████████████████████████████| 23/23 [00:03<00:00,  7.27batch/s, loss=0.00815]\n"
     ]
    },
    {
     "name": "stdout",
     "output_type": "stream",
     "text": [
      "[0.31265626]\n",
      "Test loss: 0.0081\n",
      "[VAL]  -> QWK:  0.395, CORR:  0.489, RMSE:  0.257\n",
      "[TEST] -> QWK:  0.313, CORR:  0.436, RMSE:  0.089\n",
      "[BEST] -> QWK:  0.335, CORR:  0.461, RMSE:  0.090\n",
      "Epoch 10/10\n"
     ]
    },
    {
     "name": "stderr",
     "output_type": "stream",
     "text": [
      "Training: 100%|█████████████████████████████████████| 326/326 [02:02<00:00,  2.67batch/s, loss=6e-6]\n"
     ]
    },
    {
     "name": "stdout",
     "output_type": "stream",
     "text": [
      "Training loss: 5.995639462484616e-06\n"
     ]
    },
    {
     "name": "stderr",
     "output_type": "stream",
     "text": [
      "Evaluation: 100%|███████████████████████████████████| 58/58 [00:07<00:00,  7.44batch/s, loss=0.0664]\n"
     ]
    },
    {
     "name": "stdout",
     "output_type": "stream",
     "text": [
      "[0.5370895  0.33227103 0.08989267 0.12493119 0.33729784 0.21198975\n",
      " 0.56103398]\n",
      "Dev loss: 0.0664\n"
     ]
    },
    {
     "name": "stderr",
     "output_type": "stream",
     "text": [
      "Evaluation: 100%|███████████████████████████████████| 23/23 [00:03<00:00,  7.20batch/s, loss=0.0081]"
     ]
    },
    {
     "name": "stdout",
     "output_type": "stream",
     "text": [
      "[0.31859637]\n",
      "Test loss: 0.0081\n",
      "[VAL]  -> QWK:  0.400, CORR:  0.486, RMSE:  0.258\n",
      "[TEST] -> QWK:  0.319, CORR:  0.444, RMSE:  0.089\n",
      "[BEST] -> QWK:  0.335, CORR:  0.461, RMSE:  0.090\n"
     ]
    },
    {
     "name": "stderr",
     "output_type": "stream",
     "text": [
      "\n"
     ]
    }
   ],
   "source": [
    "import torch\n",
    "import torch.nn as nn\n",
    "from torch.optim import AdamW\n",
    "from transformers import get_linear_schedule_with_warmup\n",
    "from utils.evaluation import train_epoch, evaluate_epoch\n",
    "\n",
    "\n",
    "model_name = 'bert-base-uncased'\n",
    "tokenizer = AutoTokenizer.from_pretrained(model_name)\n",
    "model = AutoModel.from_pretrained(model_name).to(device)\n",
    "config = AutoConfig.from_pretrained(model_name)\n",
    "\n",
    "train_loader = create_data_loader(data['train'], tokenizer, max_length=512, batch_size=32, weights=weights)\n",
    "dev_loader = create_data_loader(data['dev'], tokenizer, max_length=512, batch_size=32)\n",
    "test_loader = create_data_loader(data['test'], tokenizer, max_length=512, batch_size=32)\n",
    "\n",
    "# set parameters\n",
    "EPOCHS = 10\n",
    "\n",
    "# Define the device\n",
    "device = torch.device(\"cuda\" if torch.cuda.is_available() else \"cpu\")\n",
    "# device = torch.device('mps')\n",
    "print(f\"Using {device}\")\n",
    "\n",
    "# Define the model\n",
    "class PreTrainedScorer(nn.Module):\n",
    "    def __init__(self, base_model: AutoModel, hidden_size=768, num_labels=1):\n",
    "        super(PreTrainedScorer, self).__init__()\n",
    "        self.base_model = base_model\n",
    "        self.regressor = nn.Linear(hidden_size, num_labels)\n",
    "        self.sigmoid = nn.Sigmoid()\n",
    "\n",
    "    def forward(self, input_ids, attention_mask):\n",
    "        outputs = self.base_model(input_ids=input_ids, attention_mask=attention_mask)\n",
    "        pooled_output = outputs.pooler_output\n",
    "        logits = self.regressor(pooled_output)\n",
    "        return self.sigmoid(logits)\n",
    "\n",
    "# Initialize the model\n",
    "model = PreTrainedScorer(model, hidden_size=config.hidden_size).to(device)\n",
    "\n",
    "# Define loss function, optimizer, and scheduler\n",
    "loss_fn = nn.MSELoss(reduction='none').to(device)\n",
    "optimizer = AdamW(model.parameters(), lr=2e-5)\n",
    "scheduler = get_linear_schedule_with_warmup(optimizer, num_warmup_steps=0, num_training_steps=len(train_loader)*EPOCHS)\n",
    "\n",
    "# Training loop\n",
    "best_test_metrics = [-1, -1, -1, -1, -1]\n",
    "best_val_metrics = [-1, -1, -1, -1, -1]\n",
    "best_test = [-1, -1, -1, -1, -1]\n",
    "for epoch in range(EPOCHS):\n",
    "    print(f\"Epoch {epoch+1}/{EPOCHS}\")\n",
    "\n",
    "    # Training Set\n",
    "    train_loss = train_epoch(model, train_loader, loss_fn, optimizer, device, scheduler)\n",
    "    print(f\"Training loss: {train_loss}\")\n",
    "\n",
    "    # Development Set\n",
    "    dev_history = evaluate_epoch(model, dev_loader, loss_fn, device, attribute_name, avg_weight_list)\n",
    "    print(f\"Dev loss: {dev_history['loss']:.4f}\")\n",
    "\n",
    "    # Test Set\n",
    "    eval_history = evaluate_epoch(model, test_loader, loss_fn, device, attribute_name)\n",
    "    print(f\"Test loss: {eval_history['loss']:.4f}\")\n",
    "\n",
    "    print(f'[VAL]  -> QWK: {dev_history[\"qwk\"]: .3f}, CORR: {dev_history[\"corr\"]: .3f}, RMSE: {dev_history[\"rmse\"]: .3f}')\n",
    "    print(f'[TEST] -> QWK: {eval_history[\"qwk\"]: .3f}, CORR: {eval_history[\"corr\"]: .3f}, RMSE: {eval_history[\"rmse\"]: .3f}')\n",
    "\n",
    "    if dev_history[\"qwk\"] > best_val_metrics[0]:\n",
    "        for i, met in enumerate(['qwk', 'lwk', 'corr', 'rmse', 'mae']):\n",
    "            best_val_metrics[i] = dev_history[met]\n",
    "            best_test_metrics[i] = eval_history[met]\n",
    "    if eval_history[\"qwk\"] > best_test[0]:\n",
    "        for i, met in enumerate(['qwk', 'lwk', 'corr', 'rmse', 'mae']):\n",
    "            best_test[i] = eval_history[met]\n",
    "\n",
    "    print(f'[BEST] -> QWK: {best_test_metrics[0]: .3f}, CORR: {best_test_metrics[2]: .3f}, RMSE: {best_test_metrics[3]: .3f}')\n",
    "\n",
    "pd.DataFrame(np.array(best_test_metrics).reshape(1, 5), columns=['qwk', 'lwk', 'corr', 'rmse', 'mae']).to_csv(output_path + f'BERT_best_metrics{test_prompt_id}.csv', index=False, header=True)\n",
    "pd.DataFrame(np.array(best_test).reshape(1, 5), columns=['qwk', 'lwk', 'corr', 'rmse', 'mae']).to_csv(output_path + f'BERT_sample_metrics{test_prompt_id}.csv', index=False, header=True)"
   ]
  },
  {
   "cell_type": "markdown",
   "metadata": {},
   "source": [
    "## 選ばれたデータを用いて，別モデルを学習 (PAES)"
   ]
  },
  {
   "cell_type": "code",
   "execution_count": 23,
   "metadata": {},
   "outputs": [
    {
     "name": "stdout",
     "output_type": "stream",
     "text": [
      "load data from data/cross_prompt_attributes/...\n",
      " pos_x size: 10414\n",
      " readability_x size: 10414\n",
      " pos_x size: 1839\n",
      " readability_x size: 1839\n",
      " pos_x size: 723\n",
      " readability_x size: 723\n"
     ]
    }
   ],
   "source": [
    "from utils.read_data import read_essays_single_score, read_pos_vocab\n",
    "from utils.general_utils import get_single_scaled_down_score, pad_hierarchical_text_sequences\n",
    "from torch.utils.data import TensorDataset, DataLoader\n",
    "from models.PAES import PAES, fastPAES\n",
    "from utils.evaluation import train_model, evaluate_model\n",
    "\n",
    "# Load configs\n",
    "configs = Configs()\n",
    "\n",
    "data_path = configs.DATA_PATH3\n",
    "print(f'load data from {data_path}...')\n",
    "train_path = data_path + str(test_prompt_id) + '/train.pk'\n",
    "dev_path = data_path + str(test_prompt_id) + '/dev.pk'\n",
    "test_path = data_path + str(test_prompt_id) + '/test.pk'\n",
    "features_path = configs.FEATURES_PATH\n",
    "readability_path = configs.READABILITY_PATH\n",
    "vocab_size = configs.VOCAB_SIZE\n",
    "epochs = configs.EPOCHS\n",
    "batch_size = configs.BATCH_SIZE\n",
    "\n",
    "read_configs = {\n",
    "    'train_path': train_path,\n",
    "    'dev_path': dev_path,\n",
    "    'test_path': test_path,\n",
    "    'features_path': features_path,\n",
    "    'readability_path': readability_path,\n",
    "    'vocab_size': vocab_size\n",
    "}\n",
    "\n",
    "# Read data\n",
    "pos_vocab = read_pos_vocab(read_configs)\n",
    "train_data, dev_data, test_data = read_essays_single_score(read_configs, pos_vocab, attribute_name)\n",
    "\n",
    "# Get max sentence length and max sentence number\n",
    "max_sentnum = max(train_data['max_sentnum'], dev_data['max_sentnum'], test_data['max_sentnum'])\n",
    "max_sentlen = max(train_data['max_sentlen'], dev_data['max_sentlen'], test_data['max_sentlen'])\n",
    "\n",
    "# Scale down the scores\n",
    "train_data['y_scaled'] = get_single_scaled_down_score(train_data['data_y'], train_data['prompt_ids'], attribute_name)\n",
    "dev_data['y_scaled'] = get_single_scaled_down_score(dev_data['data_y'], dev_data['prompt_ids'], attribute_name)\n",
    "test_data['y_scaled'] = get_single_scaled_down_score(test_data['data_y'], test_data['prompt_ids'], attribute_name)\n",
    "\n",
    "# Pad the sequences with shape [batch, max_sentence_num, max_sentence_length]\n",
    "X_train_pos = pad_hierarchical_text_sequences(train_data['pos_x'], max_sentnum, max_sentlen)\n",
    "X_dev_pos = pad_hierarchical_text_sequences(dev_data['pos_x'], max_sentnum, max_sentlen)\n",
    "X_test_pos = pad_hierarchical_text_sequences(test_data['pos_x'], max_sentnum, max_sentlen)\n",
    "\n",
    "X_train_pos = X_train_pos.reshape((X_train_pos.shape[0], X_train_pos.shape[1] * X_train_pos.shape[2]))\n",
    "X_dev_pos = X_dev_pos.reshape((X_dev_pos.shape[0], X_dev_pos.shape[1] * X_dev_pos.shape[2]))\n",
    "X_test_pos = X_test_pos.reshape((X_test_pos.shape[0], X_test_pos.shape[1] * X_test_pos.shape[2]))\n",
    "\n",
    "# convert to tensor\n",
    "X_train= torch.tensor(X_train_pos, dtype=torch.long)\n",
    "X_dev = torch.tensor(X_dev_pos, dtype=torch.long)\n",
    "X_test= torch.tensor(X_test_pos, dtype=torch.long)\n",
    "\n",
    "X_train_linguistic_features = torch.tensor(np.array(train_data['features_x']), dtype=torch.float)\n",
    "X_dev_linguistic_features = torch.tensor(np.array(dev_data['features_x']), dtype=torch.float)\n",
    "X_test_linguistic_features = torch.tensor(np.array(test_data['features_x']), dtype=torch.float)\n",
    "\n",
    "X_train_readability = torch.tensor(np.array(train_data['readability_x']), dtype=torch.float)\n",
    "X_dev_readability = torch.tensor(np.array(dev_data['readability_x']), dtype=torch.float)\n",
    "X_test_readability = torch.tensor(np.array(test_data['readability_x']), dtype=torch.float)\n",
    "\n",
    "Y_train = torch.tensor(np.array(train_data['y_scaled']), dtype=torch.float)\n",
    "Y_dev = torch.tensor(np.array(dev_data['y_scaled']), dtype=torch.float)\n",
    "Y_test = torch.tensor(np.array(test_data['y_scaled']), dtype=torch.float)\n",
    "\n",
    "train_essay_set = torch.tensor(np.array(train_data['prompt_ids']), dtype=torch.long)\n",
    "dev_essay_set = torch.tensor(np.array(dev_data['prompt_ids']), dtype=torch.long)\n",
    "test_essay_set = torch.tensor(np.array(test_data['prompt_ids']), dtype=torch.long)\n",
    "\n",
    "# Load weights\n",
    "data_values = np.load(output_path + 'estimated_data_value.npy')\n",
    "if 逆張り:\n",
    "    weights = remove_top_p_sample(data_values, top_p=0.9, ascending=False)\n",
    "else:\n",
    "    weights = remove_top_p_sample(data_values, top_p=0.9, ascending=True)\n",
    "weights = torch.tensor(weights, dtype=torch.float)\n",
    "\n",
    "# Create Datasets\n",
    "train_dataset = TensorDataset(X_train, Y_train, X_train_linguistic_features, X_train_readability, train_essay_set, weights)\n",
    "dev_dataset = TensorDataset(X_dev, Y_dev, X_dev_linguistic_features, X_dev_readability, dev_essay_set)\n",
    "test_dataset = TensorDataset(X_test, Y_test, X_test_linguistic_features, X_test_readability, test_essay_set)\n",
    "# Create Dataloaders\n",
    "train_loader = DataLoader(dataset=train_dataset, batch_size=batch_size, shuffle=True, num_workers=4, pin_memory=True)\n",
    "dev_loader = DataLoader(dataset=dev_dataset, batch_size=batch_size, shuffle=True, num_workers=4, pin_memory=True)\n",
    "test_loader = DataLoader(dataset=test_dataset, batch_size=batch_size, shuffle=True, num_workers=4, pin_memory=True)"
   ]
  },
  {
   "cell_type": "code",
   "execution_count": 24,
   "metadata": {
    "scrolled": true
   },
   "outputs": [
    {
     "name": "stdout",
     "output_type": "stream",
     "text": [
      "fastPAES(\n",
      "  (embed_layer): Embedding(36, 50, padding_idx=0)\n",
      "  (conv1d): Conv1d(50, 100, kernel_size=(5,), stride=(1,))\n",
      "  (lstm): LSTM(100, 100, batch_first=True)\n",
      "  (word_att): SoftAttention(\n",
      "    (w): Linear(in_features=100, out_features=100, bias=True)\n",
      "    (v): Linear(in_features=100, out_features=1, bias=True)\n",
      "  )\n",
      "  (sent_att): SoftAttention(\n",
      "    (w): Linear(in_features=100, out_features=100, bias=True)\n",
      "    (v): Linear(in_features=100, out_features=1, bias=True)\n",
      "  )\n",
      "  (linear): Linear(in_features=186, out_features=1, bias=True)\n",
      "  (dropout): Dropout(p=0.5, inplace=False)\n",
      ")\n",
      "1 / 50 EPOCHS\n",
      "Seed: 12, Prompt: 8\n"
     ]
    },
    {
     "name": "stderr",
     "output_type": "stream",
     "text": [
      "Training: 100%|██████████████████████████████| 1042/1042 [00:04<00:00, 222.48batch/s, loss=0.000394]\n"
     ]
    },
    {
     "name": "stdout",
     "output_type": "stream",
     "text": [
      "Train loss:  0.0004\n"
     ]
    },
    {
     "name": "stderr",
     "output_type": "stream",
     "text": [
      "Evaluation: 100%|████████████████████████████████| 184/184 [00:00<00:00, 333.12batch/s, loss=0.0687]\n"
     ]
    },
    {
     "name": "stdout",
     "output_type": "stream",
     "text": [
      "[0.51121483 0.3864251  0.05423316 0.18683997 0.34262833 0.21267698\n",
      " 0.51564894]\n",
      "Validation loss:  0.0687\n"
     ]
    },
    {
     "name": "stderr",
     "output_type": "stream",
     "text": [
      "Evaluation: 100%|█████████████████████████████████| 73/73 [00:00<00:00, 231.94batch/s, loss=0.00612]\n"
     ]
    },
    {
     "name": "stdout",
     "output_type": "stream",
     "text": [
      "[0.49681337]\n",
      "Test loss:  0.0061\n",
      "2 / 50 EPOCHS\n",
      "Seed: 12, Prompt: 8\n"
     ]
    },
    {
     "name": "stderr",
     "output_type": "stream",
     "text": [
      "Training: 100%|██████████████████████████████| 1042/1042 [00:04<00:00, 232.06batch/s, loss=0.000198]\n"
     ]
    },
    {
     "name": "stdout",
     "output_type": "stream",
     "text": [
      "Train loss:  0.0002\n"
     ]
    },
    {
     "name": "stderr",
     "output_type": "stream",
     "text": [
      "Evaluation: 100%|████████████████████████████████| 184/184 [00:00<00:00, 325.01batch/s, loss=0.0648]\n"
     ]
    },
    {
     "name": "stdout",
     "output_type": "stream",
     "text": [
      "[0.48470492 0.39173693 0.10519952 0.27272544 0.38422744 0.21795539\n",
      " 0.54525688]\n",
      "Validation loss:  0.0648\n"
     ]
    },
    {
     "name": "stderr",
     "output_type": "stream",
     "text": [
      "Evaluation: 100%|██████████████████████████████████| 73/73 [00:00<00:00, 216.60batch/s, loss=0.0063]\n"
     ]
    },
    {
     "name": "stdout",
     "output_type": "stream",
     "text": [
      "[0.46821899]\n",
      "Test loss:  0.0063\n",
      "3 / 50 EPOCHS\n",
      "Seed: 12, Prompt: 8\n"
     ]
    },
    {
     "name": "stderr",
     "output_type": "stream",
     "text": [
      "Training: 100%|██████████████████████████████| 1042/1042 [00:04<00:00, 233.25batch/s, loss=0.000167]\n"
     ]
    },
    {
     "name": "stdout",
     "output_type": "stream",
     "text": [
      "Train loss:  0.0002\n"
     ]
    },
    {
     "name": "stderr",
     "output_type": "stream",
     "text": [
      "Evaluation: 100%|████████████████████████████████| 184/184 [00:00<00:00, 304.78batch/s, loss=0.0712]\n"
     ]
    },
    {
     "name": "stdout",
     "output_type": "stream",
     "text": [
      "[0.51877899 0.44878814 0.11758181 0.30384396 0.3609868  0.22061654\n",
      " 0.5500726 ]\n",
      "Validation loss:  0.0712\n"
     ]
    },
    {
     "name": "stderr",
     "output_type": "stream",
     "text": [
      "Evaluation: 100%|██████████████████████████████████| 73/73 [00:00<00:00, 221.49batch/s, loss=0.0064]\n"
     ]
    },
    {
     "name": "stdout",
     "output_type": "stream",
     "text": [
      "[0.48022264]\n",
      "Test loss:  0.0064\n",
      "4 / 50 EPOCHS\n",
      "Seed: 12, Prompt: 8\n"
     ]
    },
    {
     "name": "stderr",
     "output_type": "stream",
     "text": [
      "Training: 100%|██████████████████████████████| 1042/1042 [00:04<00:00, 239.48batch/s, loss=0.000149]\n"
     ]
    },
    {
     "name": "stdout",
     "output_type": "stream",
     "text": [
      "Train loss:  0.0001\n"
     ]
    },
    {
     "name": "stderr",
     "output_type": "stream",
     "text": [
      "Evaluation: 100%|██████████████████████████████████| 184/184 [00:00<00:00, 330.56batch/s, loss=0.13]\n"
     ]
    },
    {
     "name": "stdout",
     "output_type": "stream",
     "text": [
      "[0.32885358 0.50160013 0.18067679 0.33468545 0.09988377 0.04700554\n",
      " 0.26036999]\n",
      "Validation loss:  0.1297\n"
     ]
    },
    {
     "name": "stderr",
     "output_type": "stream",
     "text": [
      "Evaluation: 100%|██████████████████████████████████| 73/73 [00:00<00:00, 222.02batch/s, loss=0.0142]\n"
     ]
    },
    {
     "name": "stdout",
     "output_type": "stream",
     "text": [
      "[0.36273815]\n",
      "Test loss:  0.0142\n",
      "5 / 50 EPOCHS\n",
      "Seed: 12, Prompt: 8\n"
     ]
    },
    {
     "name": "stderr",
     "output_type": "stream",
     "text": [
      "Training: 100%|██████████████████████████████| 1042/1042 [00:04<00:00, 239.90batch/s, loss=0.000147]\n"
     ]
    },
    {
     "name": "stdout",
     "output_type": "stream",
     "text": [
      "Train loss:  0.0001\n"
     ]
    },
    {
     "name": "stderr",
     "output_type": "stream",
     "text": [
      "Evaluation: 100%|████████████████████████████████| 184/184 [00:00<00:00, 305.49batch/s, loss=0.0843]\n"
     ]
    },
    {
     "name": "stdout",
     "output_type": "stream",
     "text": [
      "[0.55404759 0.4834394  0.14659969 0.32747628 0.28294498 0.20647224\n",
      " 0.4377266 ]\n",
      "Validation loss:  0.0843\n"
     ]
    },
    {
     "name": "stderr",
     "output_type": "stream",
     "text": [
      "Evaluation: 100%|█████████████████████████████████| 73/73 [00:00<00:00, 227.87batch/s, loss=0.00652]\n"
     ]
    },
    {
     "name": "stdout",
     "output_type": "stream",
     "text": [
      "[0.52767547]\n",
      "Test loss:  0.0065\n",
      "6 / 50 EPOCHS\n",
      "Seed: 12, Prompt: 8\n"
     ]
    },
    {
     "name": "stderr",
     "output_type": "stream",
     "text": [
      "Training: 100%|██████████████████████████████| 1042/1042 [00:04<00:00, 241.35batch/s, loss=0.000134]\n"
     ]
    },
    {
     "name": "stdout",
     "output_type": "stream",
     "text": [
      "Train loss:  0.0001\n"
     ]
    },
    {
     "name": "stderr",
     "output_type": "stream",
     "text": [
      "Evaluation: 100%|████████████████████████████████| 184/184 [00:00<00:00, 331.84batch/s, loss=0.0409]\n"
     ]
    },
    {
     "name": "stdout",
     "output_type": "stream",
     "text": [
      "[0.54368074 0.15055426 0.44901831 0.5731918  0.30868704 0.18903833\n",
      " 0.66198998]\n",
      "Validation loss:  0.0409\n"
     ]
    },
    {
     "name": "stderr",
     "output_type": "stream",
     "text": [
      "Evaluation: 100%|███████████████████████████████████| 73/73 [00:00<00:00, 227.60batch/s, loss=0.011]\n"
     ]
    },
    {
     "name": "stdout",
     "output_type": "stream",
     "text": [
      "[0.27748933]\n",
      "Test loss:  0.0110\n",
      "7 / 50 EPOCHS\n",
      "Seed: 12, Prompt: 8\n"
     ]
    },
    {
     "name": "stderr",
     "output_type": "stream",
     "text": [
      "Training: 100%|██████████████████████████████| 1042/1042 [00:04<00:00, 244.81batch/s, loss=0.000123]\n"
     ]
    },
    {
     "name": "stdout",
     "output_type": "stream",
     "text": [
      "Train loss:  0.0001\n"
     ]
    },
    {
     "name": "stderr",
     "output_type": "stream",
     "text": [
      "Evaluation: 100%|████████████████████████████████| 184/184 [00:00<00:00, 335.60batch/s, loss=0.0649]\n"
     ]
    },
    {
     "name": "stdout",
     "output_type": "stream",
     "text": [
      "[0.51236655 0.32211166 0.17363642 0.33403748 0.35754152 0.21613015\n",
      " 0.57642193]\n",
      "Validation loss:  0.0649\n"
     ]
    },
    {
     "name": "stderr",
     "output_type": "stream",
     "text": [
      "Evaluation: 100%|█████████████████████████████████| 73/73 [00:00<00:00, 223.37batch/s, loss=0.00701]\n"
     ]
    },
    {
     "name": "stdout",
     "output_type": "stream",
     "text": [
      "[0.43047552]\n",
      "Test loss:  0.0070\n",
      "8 / 50 EPOCHS\n",
      "Seed: 12, Prompt: 8\n"
     ]
    },
    {
     "name": "stderr",
     "output_type": "stream",
     "text": [
      "Training: 100%|██████████████████████████████| 1042/1042 [00:04<00:00, 243.58batch/s, loss=0.000116]\n"
     ]
    },
    {
     "name": "stdout",
     "output_type": "stream",
     "text": [
      "Train loss:  0.0001\n"
     ]
    },
    {
     "name": "stderr",
     "output_type": "stream",
     "text": [
      "Evaluation: 100%|████████████████████████████████| 184/184 [00:00<00:00, 334.72batch/s, loss=0.0667]\n"
     ]
    },
    {
     "name": "stdout",
     "output_type": "stream",
     "text": [
      "[0.53874261 0.33518019 0.14903846 0.35596352 0.35413223 0.21332785\n",
      " 0.58697318]\n",
      "Validation loss:  0.0667\n"
     ]
    },
    {
     "name": "stderr",
     "output_type": "stream",
     "text": [
      "Evaluation: 100%|█████████████████████████████████| 73/73 [00:00<00:00, 220.83batch/s, loss=0.00706]\n"
     ]
    },
    {
     "name": "stdout",
     "output_type": "stream",
     "text": [
      "[0.43537562]\n",
      "Test loss:  0.0071\n",
      "9 / 50 EPOCHS\n",
      "Seed: 12, Prompt: 8\n"
     ]
    },
    {
     "name": "stderr",
     "output_type": "stream",
     "text": [
      "Training: 100%|██████████████████████████████| 1042/1042 [00:04<00:00, 239.33batch/s, loss=0.000107]\n"
     ]
    },
    {
     "name": "stdout",
     "output_type": "stream",
     "text": [
      "Train loss:  0.0001\n"
     ]
    },
    {
     "name": "stderr",
     "output_type": "stream",
     "text": [
      "Evaluation: 100%|████████████████████████████████| 184/184 [00:00<00:00, 333.37batch/s, loss=0.0556]\n"
     ]
    },
    {
     "name": "stdout",
     "output_type": "stream",
     "text": [
      "[0.46011189 0.23475244 0.28073028 0.37519399 0.37092388 0.19418019\n",
      " 0.62400047]\n",
      "Validation loss:  0.0556\n"
     ]
    },
    {
     "name": "stderr",
     "output_type": "stream",
     "text": [
      "Evaluation: 100%|█████████████████████████████████| 73/73 [00:00<00:00, 223.59batch/s, loss=0.00722]\n"
     ]
    },
    {
     "name": "stdout",
     "output_type": "stream",
     "text": [
      "[0.3806619]\n",
      "Test loss:  0.0072\n",
      "10 / 50 EPOCHS\n",
      "Seed: 12, Prompt: 8\n"
     ]
    },
    {
     "name": "stderr",
     "output_type": "stream",
     "text": [
      "Training: 100%|████████████████████████████████| 1042/1042 [00:04<00:00, 246.15batch/s, loss=9.8e-5]\n"
     ]
    },
    {
     "name": "stdout",
     "output_type": "stream",
     "text": [
      "Train loss:  0.0001\n"
     ]
    },
    {
     "name": "stderr",
     "output_type": "stream",
     "text": [
      "Evaluation: 100%|████████████████████████████████| 184/184 [00:00<00:00, 343.79batch/s, loss=0.0574]\n"
     ]
    },
    {
     "name": "stdout",
     "output_type": "stream",
     "text": [
      "[0.47678514 0.24146306 0.25447761 0.33328181 0.34827456 0.21273618\n",
      " 0.61942312]\n",
      "Validation loss:  0.0574\n"
     ]
    },
    {
     "name": "stderr",
     "output_type": "stream",
     "text": [
      "Evaluation: 100%|█████████████████████████████████| 73/73 [00:00<00:00, 232.50batch/s, loss=0.00719]\n"
     ]
    },
    {
     "name": "stdout",
     "output_type": "stream",
     "text": [
      "[0.37416039]\n",
      "Test loss:  0.0072\n",
      "11 / 50 EPOCHS\n",
      "Seed: 12, Prompt: 8\n"
     ]
    },
    {
     "name": "stderr",
     "output_type": "stream",
     "text": [
      "Training: 100%|███████████████████████████████| 1042/1042 [00:04<00:00, 240.23batch/s, loss=9.56e-5]\n"
     ]
    },
    {
     "name": "stdout",
     "output_type": "stream",
     "text": [
      "Train loss:  0.0001\n"
     ]
    },
    {
     "name": "stderr",
     "output_type": "stream",
     "text": [
      "Evaluation: 100%|████████████████████████████████| 184/184 [00:00<00:00, 337.53batch/s, loss=0.0684]\n"
     ]
    },
    {
     "name": "stdout",
     "output_type": "stream",
     "text": [
      "[0.53527185 0.32797386 0.14493722 0.30009731 0.34457762 0.1910186\n",
      " 0.5470515 ]\n",
      "Validation loss:  0.0684\n"
     ]
    },
    {
     "name": "stderr",
     "output_type": "stream",
     "text": [
      "Evaluation: 100%|█████████████████████████████████| 73/73 [00:00<00:00, 224.85batch/s, loss=0.00694]\n"
     ]
    },
    {
     "name": "stdout",
     "output_type": "stream",
     "text": [
      "[0.42162364]\n",
      "Test loss:  0.0069\n",
      "12 / 50 EPOCHS\n",
      "Seed: 12, Prompt: 8\n"
     ]
    },
    {
     "name": "stderr",
     "output_type": "stream",
     "text": [
      "Training: 100%|████████████████████████████████| 1042/1042 [00:04<00:00, 241.96batch/s, loss=9.8e-5]\n"
     ]
    },
    {
     "name": "stdout",
     "output_type": "stream",
     "text": [
      "Train loss:  0.0001\n"
     ]
    },
    {
     "name": "stderr",
     "output_type": "stream",
     "text": [
      "Evaluation: 100%|████████████████████████████████| 184/184 [00:00<00:00, 340.76batch/s, loss=0.0585]\n"
     ]
    },
    {
     "name": "stdout",
     "output_type": "stream",
     "text": [
      "[0.49747304 0.28478073 0.24318182 0.38144604 0.38370012 0.21425289\n",
      " 0.5610321 ]\n",
      "Validation loss:  0.0585\n"
     ]
    },
    {
     "name": "stderr",
     "output_type": "stream",
     "text": [
      "Evaluation: 100%|█████████████████████████████████| 73/73 [00:00<00:00, 223.53batch/s, loss=0.00713]\n"
     ]
    },
    {
     "name": "stdout",
     "output_type": "stream",
     "text": [
      "[0.36186861]\n",
      "Test loss:  0.0071\n",
      "13 / 50 EPOCHS\n",
      "Seed: 12, Prompt: 8\n"
     ]
    },
    {
     "name": "stderr",
     "output_type": "stream",
     "text": [
      "Training: 100%|███████████████████████████████| 1042/1042 [00:04<00:00, 238.79batch/s, loss=8.96e-5]\n"
     ]
    },
    {
     "name": "stdout",
     "output_type": "stream",
     "text": [
      "Train loss:  0.0001\n"
     ]
    },
    {
     "name": "stderr",
     "output_type": "stream",
     "text": [
      "Evaluation: 100%|████████████████████████████████| 184/184 [00:00<00:00, 336.63batch/s, loss=0.0744]\n"
     ]
    },
    {
     "name": "stdout",
     "output_type": "stream",
     "text": [
      "[0.55307062 0.37543034 0.11762425 0.30711982 0.30599828 0.19368728\n",
      " 0.52728652]\n",
      "Validation loss:  0.0744\n"
     ]
    },
    {
     "name": "stderr",
     "output_type": "stream",
     "text": [
      "Evaluation: 100%|█████████████████████████████████| 73/73 [00:00<00:00, 230.83batch/s, loss=0.00737]\n"
     ]
    },
    {
     "name": "stdout",
     "output_type": "stream",
     "text": [
      "[0.37645395]\n",
      "Test loss:  0.0074\n",
      "14 / 50 EPOCHS\n",
      "Seed: 12, Prompt: 8\n"
     ]
    },
    {
     "name": "stderr",
     "output_type": "stream",
     "text": [
      "Training: 100%|██████████████████████████████| 1042/1042 [00:04<00:00, 234.65batch/s, loss=0.000134]\n"
     ]
    },
    {
     "name": "stdout",
     "output_type": "stream",
     "text": [
      "Train loss:  0.0001\n"
     ]
    },
    {
     "name": "stderr",
     "output_type": "stream",
     "text": [
      "Evaluation: 100%|████████████████████████████████| 184/184 [00:00<00:00, 336.50batch/s, loss=0.0739]\n"
     ]
    },
    {
     "name": "stdout",
     "output_type": "stream",
     "text": [
      "[0.33200005 0.50908514 0.09642497 0.26583535 0.34166264 0.20202765\n",
      " 0.45252   ]\n",
      "Validation loss:  0.0739\n"
     ]
    },
    {
     "name": "stderr",
     "output_type": "stream",
     "text": [
      "Evaluation: 100%|███████████████████████████████████| 73/73 [00:00<00:00, 228.12batch/s, loss=0.012]\n"
     ]
    },
    {
     "name": "stdout",
     "output_type": "stream",
     "text": [
      "[0.24228495]\n",
      "Test loss:  0.0120\n",
      "15 / 50 EPOCHS\n",
      "Seed: 12, Prompt: 8\n"
     ]
    },
    {
     "name": "stderr",
     "output_type": "stream",
     "text": [
      "Training: 100%|███████████████████████████████| 1042/1042 [00:04<00:00, 241.91batch/s, loss=9.19e-5]\n"
     ]
    },
    {
     "name": "stdout",
     "output_type": "stream",
     "text": [
      "Train loss:  0.0001\n"
     ]
    },
    {
     "name": "stderr",
     "output_type": "stream",
     "text": [
      "Evaluation: 100%|████████████████████████████████| 184/184 [00:00<00:00, 338.31batch/s, loss=0.0755]\n"
     ]
    },
    {
     "name": "stdout",
     "output_type": "stream",
     "text": [
      "[0.57118398 0.4321021  0.16872145 0.32229299 0.28285507 0.19569273\n",
      " 0.51244562]\n",
      "Validation loss:  0.0755\n"
     ]
    },
    {
     "name": "stderr",
     "output_type": "stream",
     "text": [
      "Evaluation: 100%|█████████████████████████████████| 73/73 [00:00<00:00, 227.73batch/s, loss=0.00696]\n"
     ]
    },
    {
     "name": "stdout",
     "output_type": "stream",
     "text": [
      "[0.43619881]\n",
      "Test loss:  0.0070\n",
      "16 / 50 EPOCHS\n",
      "Seed: 12, Prompt: 8\n"
     ]
    },
    {
     "name": "stderr",
     "output_type": "stream",
     "text": [
      "Training: 100%|███████████████████████████████| 1042/1042 [00:04<00:00, 237.87batch/s, loss=8.01e-5]\n"
     ]
    },
    {
     "name": "stdout",
     "output_type": "stream",
     "text": [
      "Train loss:  0.0001\n"
     ]
    },
    {
     "name": "stderr",
     "output_type": "stream",
     "text": [
      "Evaluation: 100%|█████████████████████████████████| 184/184 [00:00<00:00, 335.43batch/s, loss=0.068]\n"
     ]
    },
    {
     "name": "stdout",
     "output_type": "stream",
     "text": [
      "[0.52967586 0.31931454 0.16874428 0.3174802  0.32644731 0.20467962\n",
      " 0.57237267]\n",
      "Validation loss:  0.0680\n"
     ]
    },
    {
     "name": "stderr",
     "output_type": "stream",
     "text": [
      "Evaluation: 100%|██████████████████████████████████| 73/73 [00:00<00:00, 229.86batch/s, loss=0.0069]\n"
     ]
    },
    {
     "name": "stdout",
     "output_type": "stream",
     "text": [
      "[0.4038375]\n",
      "Test loss:  0.0069\n",
      "17 / 50 EPOCHS\n",
      "Seed: 12, Prompt: 8\n"
     ]
    },
    {
     "name": "stderr",
     "output_type": "stream",
     "text": [
      "Training: 100%|████████████████████████████████| 1042/1042 [00:04<00:00, 238.77batch/s, loss=8.7e-5]\n"
     ]
    },
    {
     "name": "stdout",
     "output_type": "stream",
     "text": [
      "Train loss:  0.0001\n"
     ]
    },
    {
     "name": "stderr",
     "output_type": "stream",
     "text": [
      "Evaluation: 100%|████████████████████████████████| 184/184 [00:00<00:00, 335.90batch/s, loss=0.0709]\n"
     ]
    },
    {
     "name": "stdout",
     "output_type": "stream",
     "text": [
      "[0.534623   0.31658674 0.16314991 0.31390045 0.31158813 0.20092435\n",
      " 0.54416056]\n",
      "Validation loss:  0.0709\n"
     ]
    },
    {
     "name": "stderr",
     "output_type": "stream",
     "text": [
      "Evaluation: 100%|█████████████████████████████████| 73/73 [00:00<00:00, 222.14batch/s, loss=0.00764]\n"
     ]
    },
    {
     "name": "stdout",
     "output_type": "stream",
     "text": [
      "[0.33153398]\n",
      "Test loss:  0.0076\n",
      "18 / 50 EPOCHS\n",
      "Seed: 12, Prompt: 8\n"
     ]
    },
    {
     "name": "stderr",
     "output_type": "stream",
     "text": [
      "Training: 100%|███████████████████████████████| 1042/1042 [00:04<00:00, 236.70batch/s, loss=7.63e-5]\n"
     ]
    },
    {
     "name": "stdout",
     "output_type": "stream",
     "text": [
      "Train loss:  0.0001\n"
     ]
    },
    {
     "name": "stderr",
     "output_type": "stream",
     "text": [
      "Evaluation: 100%|████████████████████████████████| 184/184 [00:00<00:00, 334.41batch/s, loss=0.0781]\n"
     ]
    },
    {
     "name": "stdout",
     "output_type": "stream",
     "text": [
      "[0.55352677 0.41072449 0.08256523 0.24802528 0.25433584 0.18136634\n",
      " 0.47813857]\n",
      "Validation loss:  0.0781\n"
     ]
    },
    {
     "name": "stderr",
     "output_type": "stream",
     "text": [
      "Evaluation: 100%|█████████████████████████████████| 73/73 [00:00<00:00, 220.11batch/s, loss=0.00788]\n"
     ]
    },
    {
     "name": "stdout",
     "output_type": "stream",
     "text": [
      "[0.36725212]\n",
      "Test loss:  0.0079\n",
      "19 / 50 EPOCHS\n",
      "Seed: 12, Prompt: 8\n"
     ]
    },
    {
     "name": "stderr",
     "output_type": "stream",
     "text": [
      "Training: 100%|███████████████████████████████| 1042/1042 [00:04<00:00, 240.56batch/s, loss=7.21e-5]\n"
     ]
    },
    {
     "name": "stdout",
     "output_type": "stream",
     "text": [
      "Train loss:  0.0001\n"
     ]
    },
    {
     "name": "stderr",
     "output_type": "stream",
     "text": [
      "Evaluation: 100%|████████████████████████████████| 184/184 [00:00<00:00, 336.23batch/s, loss=0.0795]\n"
     ]
    },
    {
     "name": "stdout",
     "output_type": "stream",
     "text": [
      "[0.57114315 0.41933845 0.18823949 0.32615111 0.2872073  0.17878316\n",
      " 0.46183114]\n",
      "Validation loss:  0.0795\n"
     ]
    },
    {
     "name": "stderr",
     "output_type": "stream",
     "text": [
      "Evaluation: 100%|█████████████████████████████████| 73/73 [00:00<00:00, 225.45batch/s, loss=0.00881]\n"
     ]
    },
    {
     "name": "stdout",
     "output_type": "stream",
     "text": [
      "[0.33945622]\n",
      "Test loss:  0.0088\n",
      "20 / 50 EPOCHS\n",
      "Seed: 12, Prompt: 8\n"
     ]
    },
    {
     "name": "stderr",
     "output_type": "stream",
     "text": [
      "Training: 100%|███████████████████████████████| 1042/1042 [00:04<00:00, 242.13batch/s, loss=8.05e-5]\n"
     ]
    },
    {
     "name": "stdout",
     "output_type": "stream",
     "text": [
      "Train loss:  0.0001\n"
     ]
    },
    {
     "name": "stderr",
     "output_type": "stream",
     "text": [
      "Evaluation: 100%|██████████████████████████████████| 184/184 [00:00<00:00, 337.92batch/s, loss=0.06]\n"
     ]
    },
    {
     "name": "stdout",
     "output_type": "stream",
     "text": [
      "[0.51263924 0.28910066 0.25913476 0.34896117 0.36215757 0.21198975\n",
      " 0.58582869]\n",
      "Validation loss:  0.0600\n"
     ]
    },
    {
     "name": "stderr",
     "output_type": "stream",
     "text": [
      "Evaluation: 100%|██████████████████████████████████| 73/73 [00:00<00:00, 219.59batch/s, loss=0.0077]\n"
     ]
    },
    {
     "name": "stdout",
     "output_type": "stream",
     "text": [
      "[0.33016041]\n",
      "Test loss:  0.0077\n",
      "21 / 50 EPOCHS\n",
      "Seed: 12, Prompt: 8\n"
     ]
    },
    {
     "name": "stderr",
     "output_type": "stream",
     "text": [
      "Training: 100%|███████████████████████████████| 1042/1042 [00:04<00:00, 238.37batch/s, loss=7.12e-5]\n"
     ]
    },
    {
     "name": "stdout",
     "output_type": "stream",
     "text": [
      "Train loss:  0.0001\n"
     ]
    },
    {
     "name": "stderr",
     "output_type": "stream",
     "text": [
      "Evaluation: 100%|████████████████████████████████| 184/184 [00:00<00:00, 335.37batch/s, loss=0.0519]\n"
     ]
    },
    {
     "name": "stdout",
     "output_type": "stream",
     "text": [
      "[0.43839546 0.21073222 0.3723772  0.40610196 0.36525409 0.20875421\n",
      " 0.63153153]\n",
      "Validation loss:  0.0519\n"
     ]
    },
    {
     "name": "stderr",
     "output_type": "stream",
     "text": [
      "Evaluation: 100%|█████████████████████████████████| 73/73 [00:00<00:00, 224.25batch/s, loss=0.00776]\n"
     ]
    },
    {
     "name": "stdout",
     "output_type": "stream",
     "text": [
      "[0.30204285]\n",
      "Test loss:  0.0078\n",
      "22 / 50 EPOCHS\n",
      "Seed: 12, Prompt: 8\n"
     ]
    },
    {
     "name": "stderr",
     "output_type": "stream",
     "text": [
      "Training: 100%|███████████████████████████████| 1042/1042 [00:04<00:00, 237.81batch/s, loss=7.58e-5]\n"
     ]
    },
    {
     "name": "stdout",
     "output_type": "stream",
     "text": [
      "Train loss:  0.0001\n"
     ]
    },
    {
     "name": "stderr",
     "output_type": "stream",
     "text": [
      "Evaluation: 100%|████████████████████████████████| 184/184 [00:00<00:00, 324.55batch/s, loss=0.0628]\n"
     ]
    },
    {
     "name": "stdout",
     "output_type": "stream",
     "text": [
      "[0.51189695 0.30635681 0.20612216 0.34283981 0.34909111 0.21776836\n",
      " 0.55883467]\n",
      "Validation loss:  0.0628\n"
     ]
    },
    {
     "name": "stderr",
     "output_type": "stream",
     "text": [
      "Evaluation: 100%|█████████████████████████████████| 73/73 [00:00<00:00, 220.04batch/s, loss=0.00699]\n"
     ]
    },
    {
     "name": "stdout",
     "output_type": "stream",
     "text": [
      "[0.38769885]\n",
      "Test loss:  0.0070\n",
      "23 / 50 EPOCHS\n",
      "Seed: 12, Prompt: 8\n"
     ]
    },
    {
     "name": "stderr",
     "output_type": "stream",
     "text": [
      "Training: 100%|███████████████████████████████| 1042/1042 [00:04<00:00, 235.85batch/s, loss=7.21e-5]\n"
     ]
    },
    {
     "name": "stdout",
     "output_type": "stream",
     "text": [
      "Train loss:  0.0001\n"
     ]
    },
    {
     "name": "stderr",
     "output_type": "stream",
     "text": [
      "Evaluation: 100%|████████████████████████████████| 184/184 [00:00<00:00, 335.64batch/s, loss=0.0639]\n"
     ]
    },
    {
     "name": "stdout",
     "output_type": "stream",
     "text": [
      "[0.54529072 0.36792303 0.19964998 0.33661665 0.33857799 0.20419388\n",
      " 0.56165161]\n",
      "Validation loss:  0.0639\n"
     ]
    },
    {
     "name": "stderr",
     "output_type": "stream",
     "text": [
      "Evaluation: 100%|█████████████████████████████████| 73/73 [00:00<00:00, 228.84batch/s, loss=0.00767]\n"
     ]
    },
    {
     "name": "stdout",
     "output_type": "stream",
     "text": [
      "[0.35286051]\n",
      "Test loss:  0.0077\n",
      "24 / 50 EPOCHS\n",
      "Seed: 12, Prompt: 8\n"
     ]
    },
    {
     "name": "stderr",
     "output_type": "stream",
     "text": [
      "Training: 100%|███████████████████████████████| 1042/1042 [00:04<00:00, 235.94batch/s, loss=6.51e-5]\n"
     ]
    },
    {
     "name": "stdout",
     "output_type": "stream",
     "text": [
      "Train loss:  0.0001\n"
     ]
    },
    {
     "name": "stderr",
     "output_type": "stream",
     "text": [
      "Evaluation: 100%|████████████████████████████████| 184/184 [00:00<00:00, 329.60batch/s, loss=0.0661]\n"
     ]
    },
    {
     "name": "stdout",
     "output_type": "stream",
     "text": [
      "[0.54989642 0.3080221  0.21017228 0.34730905 0.33569165 0.20739474\n",
      " 0.57540722]\n",
      "Validation loss:  0.0661\n"
     ]
    },
    {
     "name": "stderr",
     "output_type": "stream",
     "text": [
      "Evaluation: 100%|█████████████████████████████████| 73/73 [00:00<00:00, 219.21batch/s, loss=0.00754]\n"
     ]
    },
    {
     "name": "stdout",
     "output_type": "stream",
     "text": [
      "[0.34728408]\n",
      "Test loss:  0.0075\n",
      "25 / 50 EPOCHS\n",
      "Seed: 12, Prompt: 8\n"
     ]
    },
    {
     "name": "stderr",
     "output_type": "stream",
     "text": [
      "Training: 100%|███████████████████████████████| 1042/1042 [00:04<00:00, 233.25batch/s, loss=6.87e-5]\n"
     ]
    },
    {
     "name": "stdout",
     "output_type": "stream",
     "text": [
      "Train loss:  0.0001\n"
     ]
    },
    {
     "name": "stderr",
     "output_type": "stream",
     "text": [
      "Evaluation: 100%|████████████████████████████████| 184/184 [00:00<00:00, 333.17batch/s, loss=0.0666]\n"
     ]
    },
    {
     "name": "stdout",
     "output_type": "stream",
     "text": [
      "[0.51904225 0.30906418 0.13507876 0.22667167 0.31413819 0.2081456\n",
      " 0.55254931]\n",
      "Validation loss:  0.0666\n"
     ]
    },
    {
     "name": "stderr",
     "output_type": "stream",
     "text": [
      "Evaluation: 100%|█████████████████████████████████| 73/73 [00:00<00:00, 227.39batch/s, loss=0.00814]\n"
     ]
    },
    {
     "name": "stdout",
     "output_type": "stream",
     "text": [
      "[0.30549941]\n",
      "Test loss:  0.0081\n",
      "26 / 50 EPOCHS\n",
      "Seed: 12, Prompt: 8\n"
     ]
    },
    {
     "name": "stderr",
     "output_type": "stream",
     "text": [
      "Training: 100%|████████████████████████████████| 1042/1042 [00:04<00:00, 234.51batch/s, loss=6.1e-5]\n"
     ]
    },
    {
     "name": "stdout",
     "output_type": "stream",
     "text": [
      "Train loss:  0.0001\n"
     ]
    },
    {
     "name": "stderr",
     "output_type": "stream",
     "text": [
      "Evaluation: 100%|████████████████████████████████| 184/184 [00:00<00:00, 336.35batch/s, loss=0.0558]\n"
     ]
    },
    {
     "name": "stdout",
     "output_type": "stream",
     "text": [
      "[0.48291315 0.24148778 0.34302551 0.39229765 0.36474449 0.20489055\n",
      " 0.62613237]\n",
      "Validation loss:  0.0558\n"
     ]
    },
    {
     "name": "stderr",
     "output_type": "stream",
     "text": [
      "Evaluation: 100%|██████████████████████████████████| 73/73 [00:00<00:00, 221.74batch/s, loss=0.0074]\n"
     ]
    },
    {
     "name": "stdout",
     "output_type": "stream",
     "text": [
      "[0.3448247]\n",
      "Test loss:  0.0074\n",
      "27 / 50 EPOCHS\n",
      "Seed: 12, Prompt: 8\n"
     ]
    },
    {
     "name": "stderr",
     "output_type": "stream",
     "text": [
      "Training: 100%|███████████████████████████████| 1042/1042 [00:04<00:00, 237.71batch/s, loss=5.77e-5]\n"
     ]
    },
    {
     "name": "stdout",
     "output_type": "stream",
     "text": [
      "Train loss:  0.0001\n"
     ]
    },
    {
     "name": "stderr",
     "output_type": "stream",
     "text": [
      "Evaluation: 100%|████████████████████████████████| 184/184 [00:00<00:00, 336.42batch/s, loss=0.0588]\n"
     ]
    },
    {
     "name": "stdout",
     "output_type": "stream",
     "text": [
      "[0.51606737 0.29517412 0.3276608  0.40176663 0.3616786  0.21198975\n",
      " 0.61824362]\n",
      "Validation loss:  0.0588\n"
     ]
    },
    {
     "name": "stderr",
     "output_type": "stream",
     "text": [
      "Evaluation: 100%|█████████████████████████████████| 73/73 [00:00<00:00, 229.85batch/s, loss=0.00735]\n"
     ]
    },
    {
     "name": "stdout",
     "output_type": "stream",
     "text": [
      "[0.36254891]\n",
      "Test loss:  0.0073\n",
      "28 / 50 EPOCHS\n",
      "Seed: 12, Prompt: 8\n"
     ]
    },
    {
     "name": "stderr",
     "output_type": "stream",
     "text": [
      "Training: 100%|███████████████████████████████| 1042/1042 [00:04<00:00, 240.48batch/s, loss=6.19e-5]\n"
     ]
    },
    {
     "name": "stdout",
     "output_type": "stream",
     "text": [
      "Train loss:  0.0001\n"
     ]
    },
    {
     "name": "stderr",
     "output_type": "stream",
     "text": [
      "Evaluation: 100%|████████████████████████████████| 184/184 [00:00<00:00, 337.73batch/s, loss=0.0544]\n"
     ]
    },
    {
     "name": "stdout",
     "output_type": "stream",
     "text": [
      "[0.45229719 0.23475244 0.31655857 0.33958444 0.36023002 0.20732457\n",
      " 0.63821453]\n",
      "Validation loss:  0.0544\n"
     ]
    },
    {
     "name": "stderr",
     "output_type": "stream",
     "text": [
      "Evaluation: 100%|█████████████████████████████████| 73/73 [00:00<00:00, 231.86batch/s, loss=0.00726]\n"
     ]
    },
    {
     "name": "stdout",
     "output_type": "stream",
     "text": [
      "[0.3334387]\n",
      "Test loss:  0.0073\n",
      "29 / 50 EPOCHS\n",
      "Seed: 12, Prompt: 8\n"
     ]
    },
    {
     "name": "stderr",
     "output_type": "stream",
     "text": [
      "Training: 100%|███████████████████████████████| 1042/1042 [00:04<00:00, 242.84batch/s, loss=5.52e-5]\n"
     ]
    },
    {
     "name": "stdout",
     "output_type": "stream",
     "text": [
      "Train loss:  0.0001\n"
     ]
    },
    {
     "name": "stderr",
     "output_type": "stream",
     "text": [
      "Evaluation: 100%|█████████████████████████████████| 184/184 [00:00<00:00, 337.71batch/s, loss=0.073]\n"
     ]
    },
    {
     "name": "stdout",
     "output_type": "stream",
     "text": [
      "[0.54190196 0.35386241 0.09497167 0.16562108 0.29304348 0.19237241\n",
      " 0.5247799 ]\n",
      "Validation loss:  0.0730\n"
     ]
    },
    {
     "name": "stderr",
     "output_type": "stream",
     "text": [
      "Evaluation: 100%|█████████████████████████████████| 73/73 [00:00<00:00, 226.20batch/s, loss=0.00794]\n"
     ]
    },
    {
     "name": "stdout",
     "output_type": "stream",
     "text": [
      "[0.33465967]\n",
      "Test loss:  0.0079\n",
      "30 / 50 EPOCHS\n",
      "Seed: 12, Prompt: 8\n"
     ]
    },
    {
     "name": "stderr",
     "output_type": "stream",
     "text": [
      "Training: 100%|███████████████████████████████| 1042/1042 [00:04<00:00, 243.02batch/s, loss=5.95e-5]\n"
     ]
    },
    {
     "name": "stdout",
     "output_type": "stream",
     "text": [
      "Train loss:  0.0001\n"
     ]
    },
    {
     "name": "stderr",
     "output_type": "stream",
     "text": [
      "Evaluation: 100%|████████████████████████████████| 184/184 [00:00<00:00, 343.34batch/s, loss=0.0699]\n"
     ]
    },
    {
     "name": "stdout",
     "output_type": "stream",
     "text": [
      "[0.5378063  0.31931454 0.17572351 0.31222448 0.31546347 0.19606406\n",
      " 0.5537655 ]\n",
      "Validation loss:  0.0699\n"
     ]
    },
    {
     "name": "stderr",
     "output_type": "stream",
     "text": [
      "Evaluation: 100%|█████████████████████████████████| 73/73 [00:00<00:00, 228.16batch/s, loss=0.00817]\n"
     ]
    },
    {
     "name": "stdout",
     "output_type": "stream",
     "text": [
      "[0.31486611]\n",
      "Test loss:  0.0082\n",
      "31 / 50 EPOCHS\n",
      "Seed: 12, Prompt: 8\n"
     ]
    },
    {
     "name": "stderr",
     "output_type": "stream",
     "text": [
      "Training: 100%|███████████████████████████████| 1042/1042 [00:04<00:00, 243.61batch/s, loss=5.28e-5]\n"
     ]
    },
    {
     "name": "stdout",
     "output_type": "stream",
     "text": [
      "Train loss:  0.0001\n"
     ]
    },
    {
     "name": "stderr",
     "output_type": "stream",
     "text": [
      "Evaluation: 100%|████████████████████████████████| 184/184 [00:00<00:00, 339.78batch/s, loss=0.0622]\n"
     ]
    },
    {
     "name": "stdout",
     "output_type": "stream",
     "text": [
      "[0.53638165 0.32795234 0.21347058 0.29317714 0.33691871 0.20996601\n",
      " 0.59484436]\n",
      "Validation loss:  0.0622\n"
     ]
    },
    {
     "name": "stderr",
     "output_type": "stream",
     "text": [
      "Evaluation: 100%|█████████████████████████████████| 73/73 [00:00<00:00, 230.55batch/s, loss=0.00722]\n"
     ]
    },
    {
     "name": "stdout",
     "output_type": "stream",
     "text": [
      "[0.37585181]\n",
      "Test loss:  0.0072\n",
      "32 / 50 EPOCHS\n",
      "Seed: 12, Prompt: 8\n"
     ]
    },
    {
     "name": "stderr",
     "output_type": "stream",
     "text": [
      "Training: 100%|███████████████████████████████| 1042/1042 [00:04<00:00, 240.03batch/s, loss=5.41e-5]\n"
     ]
    },
    {
     "name": "stdout",
     "output_type": "stream",
     "text": [
      "Train loss:  0.0001\n"
     ]
    },
    {
     "name": "stderr",
     "output_type": "stream",
     "text": [
      "Evaluation: 100%|████████████████████████████████| 184/184 [00:00<00:00, 340.90batch/s, loss=0.0555]\n"
     ]
    },
    {
     "name": "stdout",
     "output_type": "stream",
     "text": [
      "[0.47781775 0.25025671 0.27661115 0.28727335 0.35081712 0.21564205\n",
      " 0.63033304]\n",
      "Validation loss:  0.0555\n"
     ]
    },
    {
     "name": "stderr",
     "output_type": "stream",
     "text": [
      "Evaluation: 100%|█████████████████████████████████| 73/73 [00:00<00:00, 222.85batch/s, loss=0.00741]\n"
     ]
    },
    {
     "name": "stdout",
     "output_type": "stream",
     "text": [
      "[0.33047616]\n",
      "Test loss:  0.0074\n",
      "33 / 50 EPOCHS\n",
      "Seed: 12, Prompt: 8\n"
     ]
    },
    {
     "name": "stderr",
     "output_type": "stream",
     "text": [
      "Training: 100%|███████████████████████████████| 1042/1042 [00:04<00:00, 248.22batch/s, loss=5.37e-5]\n"
     ]
    },
    {
     "name": "stdout",
     "output_type": "stream",
     "text": [
      "Train loss:  0.0001\n"
     ]
    },
    {
     "name": "stderr",
     "output_type": "stream",
     "text": [
      "Evaluation: 100%|████████████████████████████████| 184/184 [00:00<00:00, 337.83batch/s, loss=0.0641]\n"
     ]
    },
    {
     "name": "stdout",
     "output_type": "stream",
     "text": [
      "[0.51363056 0.28912344 0.15131233 0.21125287 0.33353248 0.2014597\n",
      " 0.55223494]\n",
      "Validation loss:  0.0641\n"
     ]
    },
    {
     "name": "stderr",
     "output_type": "stream",
     "text": [
      "Evaluation: 100%|█████████████████████████████████| 73/73 [00:00<00:00, 227.06batch/s, loss=0.00797]\n"
     ]
    },
    {
     "name": "stdout",
     "output_type": "stream",
     "text": [
      "[0.31153361]\n",
      "Test loss:  0.0080\n",
      "34 / 50 EPOCHS\n",
      "Seed: 12, Prompt: 8\n"
     ]
    },
    {
     "name": "stderr",
     "output_type": "stream",
     "text": [
      "Training: 100%|███████████████████████████████| 1042/1042 [00:04<00:00, 248.52batch/s, loss=4.85e-5]\n"
     ]
    },
    {
     "name": "stdout",
     "output_type": "stream",
     "text": [
      "Train loss:  0.0000\n"
     ]
    },
    {
     "name": "stderr",
     "output_type": "stream",
     "text": [
      "Evaluation: 100%|████████████████████████████████| 184/184 [00:00<00:00, 336.20batch/s, loss=0.0757]\n"
     ]
    },
    {
     "name": "stdout",
     "output_type": "stream",
     "text": [
      "[0.55861791 0.41928315 0.0995632  0.20728878 0.2792644  0.17984343\n",
      " 0.45113277]\n",
      "Validation loss:  0.0757\n"
     ]
    },
    {
     "name": "stderr",
     "output_type": "stream",
     "text": [
      "Evaluation: 100%|█████████████████████████████████| 73/73 [00:00<00:00, 231.27batch/s, loss=0.00728]\n"
     ]
    },
    {
     "name": "stdout",
     "output_type": "stream",
     "text": [
      "[0.42988423]\n",
      "Test loss:  0.0073\n",
      "35 / 50 EPOCHS\n",
      "Seed: 12, Prompt: 8\n"
     ]
    },
    {
     "name": "stderr",
     "output_type": "stream",
     "text": [
      "Training: 100%|███████████████████████████████| 1042/1042 [00:04<00:00, 245.25batch/s, loss=5.47e-5]\n"
     ]
    },
    {
     "name": "stdout",
     "output_type": "stream",
     "text": [
      "Train loss:  0.0001\n"
     ]
    },
    {
     "name": "stderr",
     "output_type": "stream",
     "text": [
      "Evaluation: 100%|████████████████████████████████| 184/184 [00:00<00:00, 341.72batch/s, loss=0.0647]\n"
     ]
    },
    {
     "name": "stdout",
     "output_type": "stream",
     "text": [
      "[0.54316376 0.33227103 0.19446972 0.30983347 0.34667489 0.21175946\n",
      " 0.57105411]\n",
      "Validation loss:  0.0647\n"
     ]
    },
    {
     "name": "stderr",
     "output_type": "stream",
     "text": [
      "Evaluation: 100%|█████████████████████████████████| 73/73 [00:00<00:00, 227.57batch/s, loss=0.00822]\n"
     ]
    },
    {
     "name": "stdout",
     "output_type": "stream",
     "text": [
      "[0.31301695]\n",
      "Test loss:  0.0082\n",
      "36 / 50 EPOCHS\n",
      "Seed: 12, Prompt: 8\n"
     ]
    },
    {
     "name": "stderr",
     "output_type": "stream",
     "text": [
      "Training: 100%|███████████████████████████████| 1042/1042 [00:04<00:00, 245.28batch/s, loss=4.84e-5]\n"
     ]
    },
    {
     "name": "stdout",
     "output_type": "stream",
     "text": [
      "Train loss:  0.0000\n"
     ]
    },
    {
     "name": "stderr",
     "output_type": "stream",
     "text": [
      "Evaluation: 100%|████████████████████████████████| 184/184 [00:00<00:00, 343.39batch/s, loss=0.0736]\n"
     ]
    },
    {
     "name": "stdout",
     "output_type": "stream",
     "text": [
      "[0.56405739 0.39447794 0.16389738 0.31863118 0.30695908 0.18940319\n",
      " 0.54204837]\n",
      "Validation loss:  0.0736\n"
     ]
    },
    {
     "name": "stderr",
     "output_type": "stream",
     "text": [
      "Evaluation: 100%|█████████████████████████████████| 73/73 [00:00<00:00, 231.12batch/s, loss=0.00791]\n"
     ]
    },
    {
     "name": "stdout",
     "output_type": "stream",
     "text": [
      "[0.35469479]\n",
      "Test loss:  0.0079\n",
      "37 / 50 EPOCHS\n",
      "Seed: 12, Prompt: 8\n"
     ]
    },
    {
     "name": "stderr",
     "output_type": "stream",
     "text": [
      "Training: 100%|███████████████████████████████| 1042/1042 [00:04<00:00, 250.46batch/s, loss=5.17e-5]\n"
     ]
    },
    {
     "name": "stdout",
     "output_type": "stream",
     "text": [
      "Train loss:  0.0001\n"
     ]
    },
    {
     "name": "stderr",
     "output_type": "stream",
     "text": [
      "Evaluation: 100%|████████████████████████████████| 184/184 [00:00<00:00, 336.88batch/s, loss=0.0688]\n"
     ]
    },
    {
     "name": "stdout",
     "output_type": "stream",
     "text": [
      "[0.55109697 0.36366234 0.18506791 0.3091663  0.33087315 0.19811808\n",
      " 0.54965921]\n",
      "Validation loss:  0.0688\n"
     ]
    },
    {
     "name": "stderr",
     "output_type": "stream",
     "text": [
      "Evaluation: 100%|█████████████████████████████████| 73/73 [00:00<00:00, 232.60batch/s, loss=0.00831]\n"
     ]
    },
    {
     "name": "stdout",
     "output_type": "stream",
     "text": [
      "[0.32784808]\n",
      "Test loss:  0.0083\n",
      "38 / 50 EPOCHS\n",
      "Seed: 12, Prompt: 8\n"
     ]
    },
    {
     "name": "stderr",
     "output_type": "stream",
     "text": [
      "Training: 100%|███████████████████████████████| 1042/1042 [00:04<00:00, 242.35batch/s, loss=4.33e-5]\n"
     ]
    },
    {
     "name": "stdout",
     "output_type": "stream",
     "text": [
      "Train loss:  0.0000\n"
     ]
    },
    {
     "name": "stderr",
     "output_type": "stream",
     "text": [
      "Evaluation: 100%|████████████████████████████████| 184/184 [00:00<00:00, 335.40batch/s, loss=0.0704]\n"
     ]
    },
    {
     "name": "stdout",
     "output_type": "stream",
     "text": [
      "[0.54920589 0.37113303 0.14189726 0.24703752 0.31994981 0.19501247\n",
      " 0.51865391]\n",
      "Validation loss:  0.0704\n"
     ]
    },
    {
     "name": "stderr",
     "output_type": "stream",
     "text": [
      "Evaluation: 100%|█████████████████████████████████| 73/73 [00:00<00:00, 229.73batch/s, loss=0.00853]\n"
     ]
    },
    {
     "name": "stdout",
     "output_type": "stream",
     "text": [
      "[0.33351333]\n",
      "Test loss:  0.0085\n",
      "39 / 50 EPOCHS\n",
      "Seed: 12, Prompt: 8\n"
     ]
    },
    {
     "name": "stderr",
     "output_type": "stream",
     "text": [
      "Training: 100%|███████████████████████████████| 1042/1042 [00:04<00:00, 248.37batch/s, loss=4.69e-5]\n"
     ]
    },
    {
     "name": "stdout",
     "output_type": "stream",
     "text": [
      "Train loss:  0.0000\n"
     ]
    },
    {
     "name": "stderr",
     "output_type": "stream",
     "text": [
      "Evaluation: 100%|████████████████████████████████| 184/184 [00:00<00:00, 343.58batch/s, loss=0.0655]\n"
     ]
    },
    {
     "name": "stdout",
     "output_type": "stream",
     "text": [
      "[0.54549521 0.31499544 0.18426048 0.27062323 0.32393015 0.20713578\n",
      " 0.56246089]\n",
      "Validation loss:  0.0655\n"
     ]
    },
    {
     "name": "stderr",
     "output_type": "stream",
     "text": [
      "Evaluation: 100%|█████████████████████████████████| 73/73 [00:00<00:00, 225.69batch/s, loss=0.00805]\n"
     ]
    },
    {
     "name": "stdout",
     "output_type": "stream",
     "text": [
      "[0.32580003]\n",
      "Test loss:  0.0081\n",
      "40 / 50 EPOCHS\n",
      "Seed: 12, Prompt: 8\n"
     ]
    },
    {
     "name": "stderr",
     "output_type": "stream",
     "text": [
      "Training: 100%|███████████████████████████████| 1042/1042 [00:04<00:00, 243.21batch/s, loss=5.08e-5]\n"
     ]
    },
    {
     "name": "stdout",
     "output_type": "stream",
     "text": [
      "Train loss:  0.0001\n"
     ]
    },
    {
     "name": "stderr",
     "output_type": "stream",
     "text": [
      "Evaluation: 100%|█████████████████████████████████| 184/184 [00:00<00:00, 342.21batch/s, loss=0.063]\n"
     ]
    },
    {
     "name": "stdout",
     "output_type": "stream",
     "text": [
      "[0.5377073  0.30635681 0.25308001 0.30210805 0.32723822 0.21267698\n",
      " 0.54358236]\n",
      "Validation loss:  0.0630\n"
     ]
    },
    {
     "name": "stderr",
     "output_type": "stream",
     "text": [
      "Evaluation: 100%|██████████████████████████████████| 73/73 [00:00<00:00, 222.31batch/s, loss=0.0087]\n"
     ]
    },
    {
     "name": "stdout",
     "output_type": "stream",
     "text": [
      "[0.30678427]\n",
      "Test loss:  0.0087\n",
      "41 / 50 EPOCHS\n",
      "Seed: 12, Prompt: 8\n"
     ]
    },
    {
     "name": "stderr",
     "output_type": "stream",
     "text": [
      "Training: 100%|███████████████████████████████| 1042/1042 [00:04<00:00, 242.88batch/s, loss=4.69e-5]\n"
     ]
    },
    {
     "name": "stdout",
     "output_type": "stream",
     "text": [
      "Train loss:  0.0000\n"
     ]
    },
    {
     "name": "stderr",
     "output_type": "stream",
     "text": [
      "Evaluation: 100%|████████████████████████████████| 184/184 [00:00<00:00, 341.99batch/s, loss=0.0652]\n"
     ]
    },
    {
     "name": "stdout",
     "output_type": "stream",
     "text": [
      "[0.54781435 0.32795234 0.17458261 0.26219351 0.32021548 0.21111946\n",
      " 0.54689231]\n",
      "Validation loss:  0.0652\n"
     ]
    },
    {
     "name": "stderr",
     "output_type": "stream",
     "text": [
      "Evaluation: 100%|█████████████████████████████████| 73/73 [00:00<00:00, 228.81batch/s, loss=0.00808]\n"
     ]
    },
    {
     "name": "stdout",
     "output_type": "stream",
     "text": [
      "[0.32894013]\n",
      "Test loss:  0.0081\n",
      "42 / 50 EPOCHS\n",
      "Seed: 12, Prompt: 8\n"
     ]
    },
    {
     "name": "stderr",
     "output_type": "stream",
     "text": [
      "Training: 100%|███████████████████████████████| 1042/1042 [00:04<00:00, 244.11batch/s, loss=4.36e-5]\n"
     ]
    },
    {
     "name": "stdout",
     "output_type": "stream",
     "text": [
      "Train loss:  0.0000\n"
     ]
    },
    {
     "name": "stderr",
     "output_type": "stream",
     "text": [
      "Evaluation: 100%|████████████████████████████████| 184/184 [00:00<00:00, 342.65batch/s, loss=0.0742]\n"
     ]
    },
    {
     "name": "stdout",
     "output_type": "stream",
     "text": [
      "[0.57516056 0.41072449 0.14566632 0.28650221 0.2754419  0.19368728\n",
      " 0.51404642]\n",
      "Validation loss:  0.0742\n"
     ]
    },
    {
     "name": "stderr",
     "output_type": "stream",
     "text": [
      "Evaluation: 100%|█████████████████████████████████| 73/73 [00:00<00:00, 229.45batch/s, loss=0.00754]\n"
     ]
    },
    {
     "name": "stdout",
     "output_type": "stream",
     "text": [
      "[0.39072747]\n",
      "Test loss:  0.0075\n",
      "43 / 50 EPOCHS\n",
      "Seed: 12, Prompt: 8\n"
     ]
    },
    {
     "name": "stderr",
     "output_type": "stream",
     "text": [
      "Training: 100%|███████████████████████████████| 1042/1042 [00:04<00:00, 246.24batch/s, loss=4.25e-5]\n"
     ]
    },
    {
     "name": "stdout",
     "output_type": "stream",
     "text": [
      "Train loss:  0.0000\n"
     ]
    },
    {
     "name": "stderr",
     "output_type": "stream",
     "text": [
      "Evaluation: 100%|████████████████████████████████| 184/184 [00:00<00:00, 338.64batch/s, loss=0.0607]\n"
     ]
    },
    {
     "name": "stdout",
     "output_type": "stream",
     "text": [
      "[0.5118378  0.28725604 0.21179376 0.24817225 0.33615262 0.20039989\n",
      " 0.56361626]\n",
      "Validation loss:  0.0607\n"
     ]
    },
    {
     "name": "stderr",
     "output_type": "stream",
     "text": [
      "Evaluation: 100%|█████████████████████████████████| 73/73 [00:00<00:00, 223.90batch/s, loss=0.00815]\n"
     ]
    },
    {
     "name": "stdout",
     "output_type": "stream",
     "text": [
      "[0.30594388]\n",
      "Test loss:  0.0082\n",
      "44 / 50 EPOCHS\n",
      "Seed: 12, Prompt: 8\n"
     ]
    },
    {
     "name": "stderr",
     "output_type": "stream",
     "text": [
      "Training: 100%|███████████████████████████████| 1042/1042 [00:04<00:00, 244.57batch/s, loss=4.51e-5]\n"
     ]
    },
    {
     "name": "stdout",
     "output_type": "stream",
     "text": [
      "Train loss:  0.0000\n"
     ]
    },
    {
     "name": "stderr",
     "output_type": "stream",
     "text": [
      "Evaluation: 100%|████████████████████████████████| 184/184 [00:00<00:00, 344.83batch/s, loss=0.0671]\n"
     ]
    },
    {
     "name": "stdout",
     "output_type": "stream",
     "text": [
      "[0.5386119  0.35510042 0.16198023 0.27245564 0.32517082 0.20233179\n",
      " 0.52645316]\n",
      "Validation loss:  0.0671\n"
     ]
    },
    {
     "name": "stderr",
     "output_type": "stream",
     "text": [
      "Evaluation: 100%|██████████████████████████████████| 73/73 [00:00<00:00, 229.58batch/s, loss=0.0083]\n"
     ]
    },
    {
     "name": "stdout",
     "output_type": "stream",
     "text": [
      "[0.33342346]\n",
      "Test loss:  0.0083\n",
      "45 / 50 EPOCHS\n",
      "Seed: 12, Prompt: 8\n"
     ]
    },
    {
     "name": "stderr",
     "output_type": "stream",
     "text": [
      "Training: 100%|███████████████████████████████| 1042/1042 [00:04<00:00, 245.87batch/s, loss=4.48e-5]\n"
     ]
    },
    {
     "name": "stdout",
     "output_type": "stream",
     "text": [
      "Train loss:  0.0000\n"
     ]
    },
    {
     "name": "stderr",
     "output_type": "stream",
     "text": [
      "Evaluation: 100%|█████████████████████████████████| 184/184 [00:00<00:00, 341.85batch/s, loss=0.075]\n"
     ]
    },
    {
     "name": "stdout",
     "output_type": "stream",
     "text": [
      "[0.5807594  0.42844327 0.10688788 0.20728878 0.27243279 0.19070646\n",
      " 0.51079639]\n",
      "Validation loss:  0.0750\n"
     ]
    },
    {
     "name": "stderr",
     "output_type": "stream",
     "text": [
      "Evaluation: 100%|██████████████████████████████████| 73/73 [00:00<00:00, 226.02batch/s, loss=0.0093]\n"
     ]
    },
    {
     "name": "stdout",
     "output_type": "stream",
     "text": [
      "[0.29939693]\n",
      "Test loss:  0.0093\n",
      "46 / 50 EPOCHS\n",
      "Seed: 12, Prompt: 8\n"
     ]
    },
    {
     "name": "stderr",
     "output_type": "stream",
     "text": [
      "Training: 100%|███████████████████████████████| 1042/1042 [00:04<00:00, 241.86batch/s, loss=3.86e-5]\n"
     ]
    },
    {
     "name": "stdout",
     "output_type": "stream",
     "text": [
      "Train loss:  0.0000\n"
     ]
    },
    {
     "name": "stderr",
     "output_type": "stream",
     "text": [
      "Evaluation: 100%|████████████████████████████████| 184/184 [00:00<00:00, 345.12batch/s, loss=0.0694]\n"
     ]
    },
    {
     "name": "stdout",
     "output_type": "stream",
     "text": [
      "[0.55518672 0.41500389 0.13785869 0.19019813 0.30909795 0.19811808\n",
      " 0.53336857]\n",
      "Validation loss:  0.0694\n"
     ]
    },
    {
     "name": "stderr",
     "output_type": "stream",
     "text": [
      "Evaluation: 100%|█████████████████████████████████| 73/73 [00:00<00:00, 221.69batch/s, loss=0.00946]\n"
     ]
    },
    {
     "name": "stdout",
     "output_type": "stream",
     "text": [
      "[0.28970478]\n",
      "Test loss:  0.0095\n",
      "47 / 50 EPOCHS\n",
      "Seed: 12, Prompt: 8\n"
     ]
    },
    {
     "name": "stderr",
     "output_type": "stream",
     "text": [
      "Training: 100%|███████████████████████████████| 1042/1042 [00:04<00:00, 243.54batch/s, loss=4.02e-5]\n"
     ]
    },
    {
     "name": "stdout",
     "output_type": "stream",
     "text": [
      "Train loss:  0.0000\n"
     ]
    },
    {
     "name": "stderr",
     "output_type": "stream",
     "text": [
      "Evaluation: 100%|████████████████████████████████| 184/184 [00:00<00:00, 337.52batch/s, loss=0.0618]\n"
     ]
    },
    {
     "name": "stdout",
     "output_type": "stream",
     "text": [
      "[0.54723598 0.31656504 0.25308001 0.33512313 0.34106319 0.20379522\n",
      " 0.57195666]\n",
      "Validation loss:  0.0618\n"
     ]
    },
    {
     "name": "stderr",
     "output_type": "stream",
     "text": [
      "Evaluation: 100%|█████████████████████████████████| 73/73 [00:00<00:00, 219.23batch/s, loss=0.00878]\n"
     ]
    },
    {
     "name": "stdout",
     "output_type": "stream",
     "text": [
      "[0.29574317]\n",
      "Test loss:  0.0088\n",
      "48 / 50 EPOCHS\n",
      "Seed: 12, Prompt: 8\n"
     ]
    },
    {
     "name": "stderr",
     "output_type": "stream",
     "text": [
      "Training: 100%|███████████████████████████████| 1042/1042 [00:04<00:00, 241.97batch/s, loss=4.31e-5]\n"
     ]
    },
    {
     "name": "stdout",
     "output_type": "stream",
     "text": [
      "Train loss:  0.0000\n"
     ]
    },
    {
     "name": "stderr",
     "output_type": "stream",
     "text": [
      "Evaluation: 100%|████████████████████████████████| 184/184 [00:00<00:00, 343.83batch/s, loss=0.0651]\n"
     ]
    },
    {
     "name": "stdout",
     "output_type": "stream",
     "text": [
      "[0.53913853 0.34954441 0.16275474 0.27143937 0.33653698 0.20075627\n",
      " 0.52946235]\n",
      "Validation loss:  0.0651\n"
     ]
    },
    {
     "name": "stderr",
     "output_type": "stream",
     "text": [
      "Evaluation: 100%|█████████████████████████████████| 73/73 [00:00<00:00, 227.28batch/s, loss=0.00842]\n"
     ]
    },
    {
     "name": "stdout",
     "output_type": "stream",
     "text": [
      "[0.33238369]\n",
      "Test loss:  0.0084\n",
      "49 / 50 EPOCHS\n",
      "Seed: 12, Prompt: 8\n"
     ]
    },
    {
     "name": "stderr",
     "output_type": "stream",
     "text": [
      "Training: 100%|████████████████████████████████| 1042/1042 [00:04<00:00, 245.24batch/s, loss=4.4e-5]\n"
     ]
    },
    {
     "name": "stdout",
     "output_type": "stream",
     "text": [
      "Train loss:  0.0000\n"
     ]
    },
    {
     "name": "stderr",
     "output_type": "stream",
     "text": [
      "Evaluation: 100%|████████████████████████████████| 184/184 [00:00<00:00, 344.10batch/s, loss=0.0689]\n"
     ]
    },
    {
     "name": "stdout",
     "output_type": "stream",
     "text": [
      "[0.55648089 0.37650421 0.13803145 0.19722249 0.32107019 0.20031797\n",
      " 0.52036078]\n",
      "Validation loss:  0.0689\n"
     ]
    },
    {
     "name": "stderr",
     "output_type": "stream",
     "text": [
      "Evaluation: 100%|██████████████████████████████████| 73/73 [00:00<00:00, 231.16batch/s, loss=0.0102]\n"
     ]
    },
    {
     "name": "stdout",
     "output_type": "stream",
     "text": [
      "[0.25667007]\n",
      "Test loss:  0.0102\n",
      "50 / 50 EPOCHS\n",
      "Seed: 12, Prompt: 8\n"
     ]
    },
    {
     "name": "stderr",
     "output_type": "stream",
     "text": [
      "Training: 100%|███████████████████████████████| 1042/1042 [00:04<00:00, 238.38batch/s, loss=3.69e-5]\n"
     ]
    },
    {
     "name": "stdout",
     "output_type": "stream",
     "text": [
      "Train loss:  0.0000\n"
     ]
    },
    {
     "name": "stderr",
     "output_type": "stream",
     "text": [
      "Evaluation: 100%|████████████████████████████████| 184/184 [00:00<00:00, 342.85batch/s, loss=0.0699]\n"
     ]
    },
    {
     "name": "stdout",
     "output_type": "stream",
     "text": [
      "[0.55226593 0.43265023 0.15603135 0.25863319 0.30328665 0.19779685\n",
      " 0.54677159]\n",
      "Validation loss:  0.0699\n"
     ]
    },
    {
     "name": "stderr",
     "output_type": "stream",
     "text": [
      "Evaluation: 100%|█████████████████████████████████| 73/73 [00:00<00:00, 222.37batch/s, loss=0.00757]\n"
     ]
    },
    {
     "name": "stdout",
     "output_type": "stream",
     "text": [
      "[0.38112065]\n",
      "Test loss:  0.0076\n"
     ]
    }
   ],
   "source": [
    "import torch.nn as nn\n",
    "import torch.optim as optim\n",
    "import torch\n",
    "\n",
    "model = fastPAES(max_sentnum, max_sentlen, X_train_linguistic_features.size(1), X_train_readability.size(1), pos_vocab=pos_vocab)\n",
    "model = model.to(device)\n",
    "print(model)\n",
    "\n",
    "# Create loss and optimizer\n",
    "reduction = 'none'\n",
    "MSE_Loss = nn.MSELoss(reduction=reduction).to(device)\n",
    "optimizer = torch.optim.RMSprop(model.parameters(), lr=0.001)\n",
    "\n",
    "train_history = []\n",
    "dev_history = []\n",
    "test_history = []\n",
    "best_test_metrics = [-1, -1, -1, -1, -1]\n",
    "best_val_metrics = [-1, -1, -1, -1, -1]\n",
    "best_test = [-1, -1, -1, -1, -1]\n",
    "for epoch in range(epochs):\n",
    "    print('{} / {} EPOCHS'.format(epoch+1, epochs))\n",
    "    print('Seed: {}, Prompt: {}'.format(seed, test_prompt_id))\n",
    "    \n",
    "    # Train the model\n",
    "    train_loss = train_model(model, train_loader, MSE_Loss, optimizer, device, weight=True)\n",
    "    print(f'Train loss: {train_loss: .4f}')\n",
    "    train_history.append(train_loss)\n",
    "\n",
    "    # Evaluate the model on dev set\n",
    "    dev_results = evaluate_model(model, dev_loader, MSE_Loss, device, attribute_name, avg_weight_list)\n",
    "    print(f'Validation loss: {dev_results[\"loss\"]: .4f}')\n",
    "    dev_history.append(dev_results[\"loss\"])\n",
    "\n",
    "    # Evaluate the model on test set\n",
    "    test_results = evaluate_model(model, test_loader, MSE_Loss, device, attribute_name)\n",
    "    print(f'Test loss: {test_results[\"loss\"]: .4f}')\n",
    "    test_history.append(test_results[\"loss\"])\n",
    "\n",
    "    if dev_results[\"qwk\"] > best_val_metrics[0]:\n",
    "        for i, met in enumerate(['qwk', 'lwk', 'corr', 'rmse', 'mae']):\n",
    "            best_val_metrics[i] = dev_results[met]\n",
    "            best_test_metrics[i] = test_results[met]\n",
    "    if test_results[\"qwk\"] > best_test[0]:\n",
    "        for i, met in enumerate(['qwk', 'lwk', 'corr', 'rmse', 'mae']):\n",
    "            best_test[i] = test_results[met]\n",
    "\n",
    "    # if epoch % 10 == 0:\n",
    "    #     print(f'[VAL]  -> QWK: {dev_results[\"qwk\"]: .3f}, CORR: {dev_results[\"corr\"]: .3f}, RMSE: {dev_results[\"rmse\"]: .3f}')\n",
    "    #     print(f'[TEST] -> QWK: {test_results[\"qwk\"]: .3f}, CORR: {test_results[\"corr\"]: .3f}, RMSE: {test_results[\"rmse\"]: .3f}')\n",
    "    #     print(f'[BEST] -> QWK: {best_test_metrics[0]: .3f}, CORR: {best_test_metrics[2]: .3f}, RMSE: {best_test_metrics[3]: .3f}')\n",
    "    \n",
    "pd.DataFrame(np.array(best_test_metrics).reshape(1, 5), columns=['qwk', 'lwk', 'corr', 'rmse', 'mae']).to_csv(output_path + f'PAES_best_metrics{test_prompt_id}.csv', index=False, header=True)\n",
    "pd.DataFrame(np.array(best_test).reshape(1, 5), columns=['qwk', 'lwk', 'corr', 'rmse', 'mae']).to_csv(output_path + f'PAES_sample_metrics{test_prompt_id}.csv', index=False, header=True)"
   ]
  },
  {
   "cell_type": "code",
   "execution_count": null,
   "metadata": {},
   "outputs": [],
   "source": []
  }
 ],
 "metadata": {
  "kernelspec": {
   "display_name": "Python 3 (ipykernel)",
   "language": "python",
   "name": "python3"
  },
  "language_info": {
   "codemirror_mode": {
    "name": "ipython",
    "version": 3
   },
   "file_extension": ".py",
   "mimetype": "text/x-python",
   "name": "python",
   "nbconvert_exporter": "python",
   "pygments_lexer": "ipython3",
   "version": "3.11.5"
  }
 },
 "nbformat": 4,
 "nbformat_minor": 4
}
