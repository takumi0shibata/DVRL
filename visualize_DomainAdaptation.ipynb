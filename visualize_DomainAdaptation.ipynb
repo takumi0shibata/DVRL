{
 "cells": [
  {
   "cell_type": "code",
   "execution_count": 1,
   "metadata": {},
   "outputs": [
    {
     "name": "stdout",
     "output_type": "stream",
     "text": [
      "zsh:1: command not found: nvidia-smis\n"
     ]
    }
   ],
   "source": [
    "!nvidia-smis"
   ]
  },
  {
   "cell_type": "code",
   "execution_count": 1,
   "metadata": {},
   "outputs": [
    {
     "name": "stderr",
     "output_type": "stream",
     "text": [
      "/Users/takumishibata/.pyenv/versions/3.11.5/lib/python3.11/site-packages/tqdm/auto.py:21: TqdmWarning: IProgress not found. Please update jupyter and ipywidgets. See https://ipywidgets.readthedocs.io/en/stable/user_install.html\n",
      "  from .autonotebook import tqdm as notebook_tqdm\n"
     ]
    }
   ],
   "source": [
    "import numpy as np\n",
    "import pandas as pd\n",
    "import os\n",
    "import random\n",
    "import torch\n",
    "from configs.configs import Configs\n",
    "from models.predictor_model import EssayScorer\n",
    "from transformers import AutoConfig\n",
    "from utils.create_embedding_feautres import create_embedding_features\n",
    "from utils.dvrl_utils import remove_top_p_sample, fit_func, pred_func, calc_qwk, random_remove_sample, get_dev_sample\n",
    "from sklearn.metrics import mean_squared_error\n",
    "import matplotlib.pyplot as plt\n",
    "import japanize_matplotlib\n",
    "import seaborn as sns\n",
    "from sklearn.model_selection import train_test_split\n",
    "import pickle"
   ]
  },
  {
   "cell_type": "code",
   "execution_count": 2,
   "metadata": {},
   "outputs": [
    {
     "name": "stdout",
     "output_type": "stream",
     "text": [
      "cpu\n"
     ]
    }
   ],
   "source": [
    "test_prompt_id = 5\n",
    "# output_path = f'outputs/DVRL_DomainAdaptation/'\n",
    "# output_path = f'outputs/DVRL_DomainAdaptation{test_prompt_id}/'\n",
    "# output_path = f'outputs/DVRL_DomainAdaptation{test_prompt_id}_devsize0.01/'\n",
    "output_path = f'outputs/DVRL_DomainAdaptation{test_prompt_id}_devsize30/'\n",
    "\n",
    "seed = 12\n",
    "np.random.seed(seed)\n",
    "random.seed(seed)\n",
    "os.environ['PYTHONHASHSEED'] = str(seed)\n",
    "torch.manual_seed(seed)\n",
    "torch.cuda.manual_seed(seed)\n",
    "\n",
    "# parameters\n",
    "device = torch.device('cuda' if torch.cuda.is_available() else 'cpu')\n",
    "print(device)\n",
    "configs = Configs()\n",
    "attribute_name = 'score'\n",
    "\n",
    "# Load data\n",
    "data_path = configs.DATA_PATH3 + str(test_prompt_id) + '/'\n",
    "model_name = 'microsoft/deberta-v3-large'"
   ]
  },
  {
   "cell_type": "code",
   "execution_count": 4,
   "metadata": {
    "scrolled": true
   },
   "outputs": [
    {
     "name": "stdout",
     "output_type": "stream",
     "text": [
      "load data from data/cross_prompt_attributes/5/...\n",
      "Loading embedding from cache...\n",
      "Selected 30 samples.\n",
      "Selected sample indices: [1414, 1671, 1676, 838, 1434, 329, 272, 1140, 335, 1269, 1149, 1693, 1064, 195, 1591, 1511, 169, 741, 296, 1749, 716, 1576, 1770, 615, 294, 648, 1530, 1296, 1449, 621]\n",
      "================================\n",
      "X_train:  (9524, 1024)\n",
      "Y_train:  (9524,)\n",
      "Y_train max:  1.0\n",
      "Y_train min:  0.0\n",
      "================================\n",
      "X_test:  (1775, 1024)\n",
      "Y_test:  (1775,)\n",
      "Y_test max:  1.0\n",
      "Y_test min:  0.0\n",
      "================================\n",
      "Creating predictor model...\n",
      "QWK: 0.6985\n",
      "Creating predictor model...\n",
      "QWK: 0.7105\n",
      "Creating predictor model...\n",
      "QWK: 0.5506\n",
      "Creating predictor model...\n",
      "QWK: 0.6732\n",
      "Creating predictor model...\n",
      "QWK: 0.6368\n",
      "Creating predictor model...\n",
      "QWK: 0.5326\n",
      "Creating predictor model...\n",
      "QWK: 0.6408\n",
      "Creating predictor model...\n",
      "QWK: 0.5920\n",
      "Creating predictor model...\n",
      "QWK: 0.5651\n",
      "Creating predictor model...\n",
      "QWK: 0.3447\n",
      "Creating predictor model...\n",
      "QWK: 0.3356\n",
      "Creating predictor model...\n",
      "QWK: 0.2973\n",
      "Creating predictor model...\n",
      "QWK: 0.2149\n",
      "Creating predictor model...\n",
      "QWK: 0.2279\n",
      "Creating predictor model...\n",
      "QWK: 0.2796\n",
      "Creating predictor model...\n",
      "QWK: 0.2864\n",
      "Creating predictor model...\n",
      "QWK: 0.1554\n",
      "Creating predictor model...\n",
      "QWK: 0.0565\n",
      "Creating predictor model...\n",
      "QWK: 0.0830\n",
      "Creating predictor model...\n",
      "QWK: 0.1172\n",
      "Creating predictor model...\n",
      "QWK: 0.6082\n",
      "Creating predictor model...\n",
      "QWK: 0.7060\n",
      "Creating predictor model...\n",
      "QWK: 0.7126\n",
      "Creating predictor model...\n",
      "QWK: 0.7359\n",
      "Creating predictor model...\n",
      "QWK: 0.6993\n",
      "Creating predictor model...\n",
      "QWK: 0.7299\n",
      "Creating predictor model...\n",
      "QWK: 0.6539\n",
      "Creating predictor model...\n",
      "QWK: 0.7088\n",
      "Creating predictor model...\n",
      "QWK: 0.6703\n",
      "Creating predictor model...\n",
      "QWK: 0.7308\n",
      "Creating predictor model...\n",
      "QWK: 0.7243\n",
      "Creating predictor model...\n",
      "QWK: 0.7217\n",
      "Creating predictor model...\n",
      "QWK: 0.6805\n",
      "Creating predictor model...\n",
      "QWK: 0.7061\n",
      "Creating predictor model...\n",
      "QWK: 0.6187\n",
      "Creating predictor model...\n",
      "QWK: 0.6025\n",
      "Creating predictor model...\n",
      "QWK: 0.5727\n",
      "Creating predictor model...\n",
      "QWK: 0.5653\n",
      "Creating predictor model...\n",
      "QWK: 0.5586\n",
      "Creating predictor model...\n",
      "QWK: 0.5188\n",
      "Creating predictor model...\n",
      "QWK: 0.5280\n",
      "Creating predictor model...\n",
      "QWK: 0.6905\n",
      "Creating predictor model...\n",
      "QWK: 0.7060\n",
      "Creating predictor model...\n",
      "QWK: 0.7028\n",
      "Creating predictor model...\n",
      "QWK: 0.7228\n",
      "Creating predictor model...\n",
      "QWK: 0.7037\n",
      "Creating predictor model...\n",
      "QWK: 0.7026\n",
      "Creating predictor model...\n",
      "QWK: 0.6989\n",
      "Creating predictor model...\n",
      "QWK: 0.7170\n",
      "Creating predictor model...\n",
      "QWK: 0.7200\n",
      "Creating predictor model...\n",
      "QWK: 0.7092\n",
      "Creating predictor model...\n",
      "QWK: 0.6234\n",
      "Creating predictor model...\n",
      "QWK: 0.7016\n",
      "Creating predictor model...\n",
      "QWK: 0.7400\n",
      "Creating predictor model...\n",
      "QWK: 0.6236\n",
      "Creating predictor model...\n",
      "QWK: 0.7122\n",
      "Creating predictor model...\n",
      "QWK: 0.7451\n",
      "Creating predictor model...\n",
      "QWK: 0.6908\n",
      "Creating predictor model...\n",
      "QWK: 0.6906\n",
      "Creating predictor model...\n",
      "QWK: 0.7053\n",
      "Creating predictor model...\n",
      "QWK: 0.7169\n",
      "Creating predictor model...\n",
      "QWK: 0.6136\n",
      "Creating predictor model...\n",
      "QWK: 0.6905\n"
     ]
    },
    {
     "data": {
      "image/png": "[encoded data removed]",
      "text/plain": [
       "<Figure size 1000x500 with 1 Axes>"
      ]
     },
     "metadata": {},
     "output_type": "display_data"
    },
    {
     "data": {
      "image/png": "[encoded data removed]",
      "text/plain": [
       "<Figure size 1000x500 with 1 Axes>"
      ]
     },
     "metadata": {},
     "output_type": "display_data"
    }
   ],
   "source": [
    "train_data, _, test_data = create_embedding_features(data_path, test_prompt_id, attribute_name, model_name, device)\n",
    "train_features, test_features = train_data['essay'], test_data['essay']\n",
    "y_train, y_test, id_test = train_data['normalized_label'], test_data['normalized_label'], test_data['essay_id']\n",
    "dev_features, test_features, y_dev, y_test, dev_ids, _ = get_dev_sample(test_features, y_test, dev_size=30)\n",
    "\n",
    "# use dev data for training\n",
    "train_features = np.concatenate([train_features, dev_features], axis=0)\n",
    "y_train = np.concatenate([y_train, y_dev], axis=0)\n",
    "\n",
    "# print info\n",
    "print('================================')\n",
    "print('X_train: ', train_features.shape)\n",
    "print('Y_train: ', y_train.shape)\n",
    "print('Y_train max: ', np.max(y_train))\n",
    "print('Y_train min: ', np.min(y_train))\n",
    "\n",
    "\n",
    "print('================================')\n",
    "print('X_test: ', test_features.shape)\n",
    "print('Y_test: ', y_test.shape)\n",
    "print('Y_test max: ', np.max(y_test))\n",
    "print('Y_test min: ', np.min(y_test))\n",
    "print('================================')\n",
    "\n",
    "# Remove high and low value samples\n",
    "low_qwks = []\n",
    "low_mse = []\n",
    "for p in np.arange(0.0, 1.01, 0.05):\n",
    "    # Create predictor\n",
    "    print('Creating predictor model...')\n",
    "    config = AutoConfig.from_pretrained(model_name)\n",
    "    pred_model = EssayScorer(config.hidden_size)\n",
    "\n",
    "    weights = remove_top_p_sample(np.load(output_path + 'estimated_data_value.npy'), top_p=p, ascending=True)\n",
    "    weights = np.concatenate([weights, np.ones(dev_features.shape[0])], axis=0)\n",
    "    history = fit_func(pred_model, train_features, y_train, batch_size=256, epochs=100, device=device, sample_weight=weights)\n",
    "\n",
    "    y_pred = pred_func(pred_model, test_features, batch_size=256, device=device)\n",
    "    qwk = calc_qwk(y_test, y_pred, test_prompt_id, 'score')\n",
    "    mse = mean_squared_error(y_test, y_pred)\n",
    "    print(f'QWK: {qwk:.4f}')\n",
    "    low_qwks.append(qwk)\n",
    "    low_mse.append(mse)\n",
    "\n",
    "np.random.seed(seed)\n",
    "random.seed(seed)\n",
    "os.environ['PYTHONHASHSEED'] = str(seed)\n",
    "torch.manual_seed(seed)\n",
    "torch.cuda.manual_seed(seed)\n",
    "\n",
    "high_qwks = []\n",
    "high_mse = []\n",
    "for p in np.arange(0.0, 1.01, 0.05):\n",
    "    # Create predictor\n",
    "    print('Creating predictor model...')\n",
    "    config = AutoConfig.from_pretrained(model_name)\n",
    "    pred_model = EssayScorer(config.hidden_size)\n",
    "\n",
    "    weights = remove_top_p_sample(np.load(output_path + 'estimated_data_value.npy'), top_p=p, ascending=False)\n",
    "    weights = np.concatenate([weights, np.ones(dev_features.shape[0])], axis=0)\n",
    "    history = fit_func(pred_model, train_features, y_train, batch_size=256, epochs=100, device=device, sample_weight=weights)\n",
    "\n",
    "    y_pred = pred_func(pred_model, test_features, batch_size=256, device=device)\n",
    "    qwk = calc_qwk(y_test, y_pred, test_prompt_id, 'score')\n",
    "    mse = mean_squared_error(y_test, y_pred)\n",
    "    print(f'QWK: {qwk:.4f}')\n",
    "    high_qwks.append(qwk)\n",
    "    high_mse.append(mse)\n",
    "\n",
    "\n",
    "np.random.seed(seed)\n",
    "random.seed(seed)\n",
    "os.environ['PYTHONHASHSEED'] = str(seed)\n",
    "torch.manual_seed(seed)\n",
    "torch.cuda.manual_seed(seed)\n",
    "\n",
    "random_qwks = []\n",
    "random_mse = []\n",
    "for p in np.arange(0.0, 1.01, 0.05):\n",
    "    # Create predictor\n",
    "    print('Creating predictor model...')\n",
    "    config = AutoConfig.from_pretrained(model_name)\n",
    "    pred_model = EssayScorer(config.hidden_size)\n",
    "\n",
    "    weights = random_remove_sample(np.load(output_path + 'estimated_data_value.npy'), remove_p=p)\n",
    "    weights = np.concatenate([weights, np.ones(dev_features.shape[0])], axis=0)\n",
    "    history = fit_func(pred_model, train_features, y_train, batch_size=256, epochs=100, device=device, sample_weight=weights)\n",
    "\n",
    "    y_pred = pred_func(pred_model, test_features, batch_size=256, device=device)\n",
    "    qwk = calc_qwk(y_test, y_pred, test_prompt_id, 'score')\n",
    "    mse = mean_squared_error(y_test, y_pred)\n",
    "    print(f'QWK: {qwk:.4f}')\n",
    "    random_qwks.append(qwk)\n",
    "    random_mse.append(mse)\n",
    "\n",
    "# plot\n",
    "p = np.arange(0.0, 1.01, 0.05)\n",
    "plt.figure(figsize=(10, 5))\n",
    "plt.plot(p, high_qwks, label='Removing high value data', color='blue')\n",
    "plt.plot(p, low_qwks, label='Removing low value data', color='red')\n",
    "plt.plot(p, random_qwks, label='Randomly removing data', color='green')\n",
    "plt.title('Remove High/Low Value Samples: QWK')\n",
    "plt.xlabel('Fraction of Removed Samples')\n",
    "plt.ylabel('QWK')\n",
    "plt.legend()\n",
    "plt.savefig(output_path + 'remove_high_low_samples_qwk.png')\n",
    "\n",
    "plt.figure(figsize=(10, 5))\n",
    "plt.plot(p, high_mse, label='Removing high value data', color='blue')\n",
    "plt.plot(p, low_mse, label='Removing low value data', color='red')\n",
    "plt.plot(p, random_mse, label='Randomly removing data', color='green')\n",
    "plt.title('Remove High/Low Value Samples: MSE')\n",
    "plt.xlabel('Fraction of Removed Samples')\n",
    "plt.ylabel('MSE')\n",
    "plt.legend()\n",
    "plt.savefig(output_path + 'remove_high_low_samples_mse.png')\n",
    "\n",
    "output_qwk = np.array([np.arange(0.0, 1.01, 0.05).tolist(), high_qwks, low_qwks, random_qwks])\n",
    "output_mse = np.array([np.arange(0.0, 1.01, 0.05).tolist(), high_mse, low_mse, random_mse])\n",
    "pd.DataFrame(output_qwk).to_csv(output_path + 'mlp_qwk.csv', index=False, header=False)\n",
    "pd.DataFrame(output_mse).to_csv(output_path + 'mlp_mse.csv', index=False, header=False)"
   ]
  },
  {
   "cell_type": "code",
   "execution_count": 4,
   "metadata": {},
   "outputs": [],
   "source": [
    "data_values = np.load(output_path + 'estimated_data_value.npy')"
   ]
  },
  {
   "cell_type": "code",
   "execution_count": 5,
   "metadata": {},
   "outputs": [
    {
     "data": {
      "text/plain": [
       "0.81940633"
      ]
     },
     "execution_count": 5,
     "metadata": {},
     "output_type": "execute_result"
    }
   ],
   "source": [
    "data_values.mean()"
   ]
  },
  {
   "cell_type": "code",
   "execution_count": 6,
   "metadata": {},
   "outputs": [
    {
     "data": {
      "text/plain": [
       "0.8235809"
      ]
     },
     "execution_count": 6,
     "metadata": {},
     "output_type": "execute_result"
    }
   ],
   "source": [
    "data_values.max()"
   ]
  },
  {
   "cell_type": "code",
   "execution_count": 7,
   "metadata": {},
   "outputs": [
    {
     "data": {
      "text/plain": [
       "0.8171776"
      ]
     },
     "execution_count": 7,
     "metadata": {},
     "output_type": "execute_result"
    }
   ],
   "source": [
    "data_values.min()"
   ]
  },
  {
   "cell_type": "code",
   "execution_count": 8,
   "metadata": {},
   "outputs": [
    {
     "data": {
      "text/plain": [
       "<Axes: ylabel='Count'>"
      ]
     },
     "execution_count": 8,
     "metadata": {},
     "output_type": "execute_result"
    },
    {
     "data": {
      "image/png": "[encoded data removed]",
      "text/plain": [
       "<Figure size 640x480 with 1 Axes>"
      ]
     },
     "metadata": {},
     "output_type": "display_data"
    }
   ],
   "source": [
    "sns.histplot(-data_values, kde=True)"
   ]
  },
  {
   "cell_type": "markdown",
   "metadata": {},
   "source": [
    "### 訓練に使用したテストデータのみを用いて学習する"
   ]
  },
  {
   "cell_type": "code",
   "execution_count": 4,
   "metadata": {},
   "outputs": [],
   "source": [
    "from utils.create_embedding_feautres import load_data, normalize_scores, create_data_loader\n",
    "from transformers import AutoTokenizer, AutoModel, AutoConfig"
   ]
  },
  {
   "cell_type": "code",
   "execution_count": 13,
   "metadata": {},
   "outputs": [
    {
     "name": "stdout",
     "output_type": "stream",
     "text": [
      "[1691  446  689  653  945 1548 1244  452 1413  916 1447  871 1645  476\n",
      " 1368  878  746]\n"
     ]
    }
   ],
   "source": [
    "data = load_data(data_path)\n",
    "\n",
    "features = np.array(data['test']['feature'])\n",
    "labels = np.array(data['test']['label'])\n",
    "prompts = np.array(data['test']['essay_set'])\n",
    "ids = np.array(data['test']['essay_id'])\n",
    "# Normalize scores\n",
    "normalized_labels = normalize_scores(labels, prompts, attribute_name)\n",
    "\n",
    "\n",
    "sample_id = np.load(output_path + 'dev_ids.npy')\n",
    "not_sample_id = np.array([i for i in range(len(features)) if i not in sample_id])\n",
    "print(sample_id)"
   ]
  },
  {
   "cell_type": "code",
   "execution_count": 14,
   "metadata": {},
   "outputs": [
    {
     "name": "stdout",
     "output_type": "stream",
     "text": [
      "(17,)\n",
      "(1766,)\n"
     ]
    }
   ],
   "source": [
    "train_data = {}\n",
    "test_data = {}\n",
    "\n",
    "train_data['feature'] = features[sample_id]\n",
    "train_data['normalized_label'] = normalized_labels[sample_id]\n",
    "train_data['essay_set'] = prompts[sample_id]\n",
    "\n",
    "test_data['feature'] = features[not_sample_id]\n",
    "test_data['normalized_label'] = normalized_labels[not_sample_id]\n",
    "test_data['essay_set'] = prompts[not_sample_id]\n",
    "\n",
    "print(train_data['feature'].shape)\n",
    "print(test_data['feature'].shape)"
   ]
  },
  {
   "cell_type": "code",
   "execution_count": 16,
   "metadata": {
    "scrolled": true
   },
   "outputs": [
    {
     "name": "stdout",
     "output_type": "stream",
     "text": [
      "Using cuda\n",
      "Epoch 1/30\n"
     ]
    },
    {
     "name": "stderr",
     "output_type": "stream",
     "text": [
      "Training: 100%|████████████████████████████████████████| 1/1 [00:00<00:00,  1.83batch/s, loss=0.155]\n"
     ]
    },
    {
     "name": "stdout",
     "output_type": "stream",
     "text": [
      "Training loss: 0.1548919379711151\n"
     ]
    },
    {
     "name": "stderr",
     "output_type": "stream",
     "text": [
      "Evaluation: 100%|█████████████████████████████████████| 56/56 [00:07<00:00,  7.45batch/s, loss=0.04]\n"
     ]
    },
    {
     "name": "stdout",
     "output_type": "stream",
     "text": [
      "[-0.00381972]\n",
      "Test loss: 0.0400\n",
      "[TEST] -> QWK: -0.004, CORR:  0.089, RMSE:  0.201\n",
      "Epoch 2/30\n"
     ]
    },
    {
     "name": "stderr",
     "output_type": "stream",
     "text": [
      "Training: 100%|████████████████████████████████████████| 1/1 [00:00<00:00,  4.72batch/s, loss=0.135]\n"
     ]
    },
    {
     "name": "stdout",
     "output_type": "stream",
     "text": [
      "Training loss: 0.1352842003107071\n"
     ]
    },
    {
     "name": "stderr",
     "output_type": "stream",
     "text": [
      "Evaluation: 100%|███████████████████████████████████| 56/56 [00:07<00:00,  7.45batch/s, loss=0.0388]\n"
     ]
    },
    {
     "name": "stdout",
     "output_type": "stream",
     "text": [
      "[0.0356079]\n",
      "Test loss: 0.0388\n",
      "[TEST] -> QWK:  0.036, CORR:  0.348, RMSE:  0.198\n",
      "Epoch 3/30\n"
     ]
    },
    {
     "name": "stderr",
     "output_type": "stream",
     "text": [
      "Training: 100%|████████████████████████████████████████| 1/1 [00:00<00:00,  4.60batch/s, loss=0.118]\n"
     ]
    },
    {
     "name": "stdout",
     "output_type": "stream",
     "text": [
      "Training loss: 0.11810848116874695\n"
     ]
    },
    {
     "name": "stderr",
     "output_type": "stream",
     "text": [
      "Evaluation: 100%|███████████████████████████████████| 56/56 [00:07<00:00,  7.43batch/s, loss=0.0293]\n"
     ]
    },
    {
     "name": "stdout",
     "output_type": "stream",
     "text": [
      "[0.18461571]\n",
      "Test loss: 0.0293\n",
      "[TEST] -> QWK:  0.185, CORR:  0.474, RMSE:  0.172\n",
      "Epoch 4/30\n"
     ]
    },
    {
     "name": "stderr",
     "output_type": "stream",
     "text": [
      "Training: 100%|████████████████████████████████████████| 1/1 [00:00<00:00,  4.78batch/s, loss=0.101]\n"
     ]
    },
    {
     "name": "stdout",
     "output_type": "stream",
     "text": [
      "Training loss: 0.10073859244585037\n"
     ]
    },
    {
     "name": "stderr",
     "output_type": "stream",
     "text": [
      "Evaluation: 100%|███████████████████████████████████| 56/56 [00:07<00:00,  7.44batch/s, loss=0.0204]\n"
     ]
    },
    {
     "name": "stdout",
     "output_type": "stream",
     "text": [
      "[0.18965811]\n",
      "Test loss: 0.0204\n",
      "[TEST] -> QWK:  0.190, CORR:  0.513, RMSE:  0.144\n",
      "Epoch 5/30\n"
     ]
    },
    {
     "name": "stderr",
     "output_type": "stream",
     "text": [
      "Training: 100%|███████████████████████████████████████| 1/1 [00:00<00:00,  4.64batch/s, loss=0.0928]\n"
     ]
    },
    {
     "name": "stdout",
     "output_type": "stream",
     "text": [
      "Training loss: 0.09278526157140732\n"
     ]
    },
    {
     "name": "stderr",
     "output_type": "stream",
     "text": [
      "Evaluation: 100%|███████████████████████████████████| 56/56 [00:07<00:00,  7.42batch/s, loss=0.0169]\n"
     ]
    },
    {
     "name": "stdout",
     "output_type": "stream",
     "text": [
      "[0.32758016]\n",
      "Test loss: 0.0169\n",
      "[TEST] -> QWK:  0.328, CORR:  0.539, RMSE:  0.131\n",
      "Epoch 6/30\n"
     ]
    },
    {
     "name": "stderr",
     "output_type": "stream",
     "text": [
      "Training: 100%|███████████████████████████████████████| 1/1 [00:00<00:00,  4.50batch/s, loss=0.0782]\n"
     ]
    },
    {
     "name": "stdout",
     "output_type": "stream",
     "text": [
      "Training loss: 0.07821322977542877\n"
     ]
    },
    {
     "name": "stderr",
     "output_type": "stream",
     "text": [
      "Evaluation: 100%|███████████████████████████████████| 56/56 [00:07<00:00,  7.41batch/s, loss=0.0162]\n"
     ]
    },
    {
     "name": "stdout",
     "output_type": "stream",
     "text": [
      "[0.37643665]\n",
      "Test loss: 0.0162\n",
      "[TEST] -> QWK:  0.376, CORR:  0.538, RMSE:  0.128\n",
      "Epoch 7/30\n"
     ]
    },
    {
     "name": "stderr",
     "output_type": "stream",
     "text": [
      "Training: 100%|███████████████████████████████████████| 1/1 [00:00<00:00,  4.51batch/s, loss=0.0699]\n"
     ]
    },
    {
     "name": "stdout",
     "output_type": "stream",
     "text": [
      "Training loss: 0.06987261772155762\n"
     ]
    },
    {
     "name": "stderr",
     "output_type": "stream",
     "text": [
      "Evaluation: 100%|███████████████████████████████████| 56/56 [00:07<00:00,  7.40batch/s, loss=0.0158]\n"
     ]
    },
    {
     "name": "stdout",
     "output_type": "stream",
     "text": [
      "[0.39065881]\n",
      "Test loss: 0.0158\n",
      "[TEST] -> QWK:  0.391, CORR:  0.542, RMSE:  0.126\n",
      "Epoch 8/30\n"
     ]
    },
    {
     "name": "stderr",
     "output_type": "stream",
     "text": [
      "Training: 100%|███████████████████████████████████████| 1/1 [00:00<00:00,  4.53batch/s, loss=0.0642]\n"
     ]
    },
    {
     "name": "stdout",
     "output_type": "stream",
     "text": [
      "Training loss: 0.0642240047454834\n"
     ]
    },
    {
     "name": "stderr",
     "output_type": "stream",
     "text": [
      "Evaluation: 100%|███████████████████████████████████| 56/56 [00:07<00:00,  7.52batch/s, loss=0.0153]\n"
     ]
    },
    {
     "name": "stdout",
     "output_type": "stream",
     "text": [
      "[0.41872143]\n",
      "Test loss: 0.0153\n",
      "[TEST] -> QWK:  0.419, CORR:  0.553, RMSE:  0.124\n",
      "Epoch 9/30\n"
     ]
    },
    {
     "name": "stderr",
     "output_type": "stream",
     "text": [
      "Training: 100%|█████████████████████████████████████████| 1/1 [00:00<00:00,  4.64batch/s, loss=0.06]\n"
     ]
    },
    {
     "name": "stdout",
     "output_type": "stream",
     "text": [
      "Training loss: 0.059991758316755295\n"
     ]
    },
    {
     "name": "stderr",
     "output_type": "stream",
     "text": [
      "Evaluation: 100%|███████████████████████████████████| 56/56 [00:07<00:00,  7.55batch/s, loss=0.0149]\n"
     ]
    },
    {
     "name": "stdout",
     "output_type": "stream",
     "text": [
      "[0.45718233]\n",
      "Test loss: 0.0149\n",
      "[TEST] -> QWK:  0.457, CORR:  0.564, RMSE:  0.123\n",
      "Epoch 10/30\n"
     ]
    },
    {
     "name": "stderr",
     "output_type": "stream",
     "text": [
      "Training: 100%|███████████████████████████████████████| 1/1 [00:00<00:00,  4.78batch/s, loss=0.0537]\n"
     ]
    },
    {
     "name": "stdout",
     "output_type": "stream",
     "text": [
      "Training loss: 0.05368947982788086\n"
     ]
    },
    {
     "name": "stderr",
     "output_type": "stream",
     "text": [
      "Evaluation: 100%|███████████████████████████████████| 56/56 [00:07<00:00,  7.53batch/s, loss=0.0148]\n"
     ]
    },
    {
     "name": "stdout",
     "output_type": "stream",
     "text": [
      "[0.4823607]\n",
      "Test loss: 0.0148\n",
      "[TEST] -> QWK:  0.482, CORR:  0.570, RMSE:  0.122\n",
      "Epoch 11/30\n"
     ]
    },
    {
     "name": "stderr",
     "output_type": "stream",
     "text": [
      "Training: 100%|███████████████████████████████████████| 1/1 [00:00<00:00,  4.63batch/s, loss=0.0494]\n"
     ]
    },
    {
     "name": "stdout",
     "output_type": "stream",
     "text": [
      "Training loss: 0.04942435398697853\n"
     ]
    },
    {
     "name": "stderr",
     "output_type": "stream",
     "text": [
      "Evaluation: 100%|███████████████████████████████████| 56/56 [00:07<00:00,  7.54batch/s, loss=0.0143]\n"
     ]
    },
    {
     "name": "stdout",
     "output_type": "stream",
     "text": [
      "[0.49607256]\n",
      "Test loss: 0.0143\n",
      "[TEST] -> QWK:  0.496, CORR:  0.583, RMSE:  0.120\n",
      "Epoch 12/30\n"
     ]
    },
    {
     "name": "stderr",
     "output_type": "stream",
     "text": [
      "Training: 100%|███████████████████████████████████████| 1/1 [00:00<00:00,  4.83batch/s, loss=0.0449]\n"
     ]
    },
    {
     "name": "stdout",
     "output_type": "stream",
     "text": [
      "Training loss: 0.04486304894089699\n"
     ]
    },
    {
     "name": "stderr",
     "output_type": "stream",
     "text": [
      "Evaluation: 100%|███████████████████████████████████| 56/56 [00:07<00:00,  7.54batch/s, loss=0.0141]\n"
     ]
    },
    {
     "name": "stdout",
     "output_type": "stream",
     "text": [
      "[0.50808381]\n",
      "Test loss: 0.0141\n",
      "[TEST] -> QWK:  0.508, CORR:  0.591, RMSE:  0.119\n",
      "Epoch 13/30\n"
     ]
    },
    {
     "name": "stderr",
     "output_type": "stream",
     "text": [
      "Training: 100%|███████████████████████████████████████| 1/1 [00:00<00:00,  4.46batch/s, loss=0.0385]\n"
     ]
    },
    {
     "name": "stdout",
     "output_type": "stream",
     "text": [
      "Training loss: 0.038532376289367676\n"
     ]
    },
    {
     "name": "stderr",
     "output_type": "stream",
     "text": [
      "Evaluation: 100%|████████████████████████████████████| 56/56 [00:07<00:00,  7.50batch/s, loss=0.014]\n"
     ]
    },
    {
     "name": "stdout",
     "output_type": "stream",
     "text": [
      "[0.51361584]\n",
      "Test loss: 0.0140\n",
      "[TEST] -> QWK:  0.514, CORR:  0.596, RMSE:  0.119\n",
      "Epoch 14/30\n"
     ]
    },
    {
     "name": "stderr",
     "output_type": "stream",
     "text": [
      "Training: 100%|███████████████████████████████████████| 1/1 [00:00<00:00,  4.54batch/s, loss=0.0353]\n"
     ]
    },
    {
     "name": "stdout",
     "output_type": "stream",
     "text": [
      "Training loss: 0.03534845635294914\n"
     ]
    },
    {
     "name": "stderr",
     "output_type": "stream",
     "text": [
      "Evaluation: 100%|████████████████████████████████████| 56/56 [00:07<00:00,  7.53batch/s, loss=0.014]\n"
     ]
    },
    {
     "name": "stdout",
     "output_type": "stream",
     "text": [
      "[0.51738814]\n",
      "Test loss: 0.0140\n",
      "[TEST] -> QWK:  0.517, CORR:  0.602, RMSE:  0.118\n",
      "Epoch 15/30\n"
     ]
    },
    {
     "name": "stderr",
     "output_type": "stream",
     "text": [
      "Training: 100%|███████████████████████████████████████| 1/1 [00:00<00:00,  4.71batch/s, loss=0.0359]\n"
     ]
    },
    {
     "name": "stdout",
     "output_type": "stream",
     "text": [
      "Training loss: 0.03590593859553337\n"
     ]
    },
    {
     "name": "stderr",
     "output_type": "stream",
     "text": [
      "Evaluation: 100%|███████████████████████████████████| 56/56 [00:07<00:00,  7.55batch/s, loss=0.0138]\n"
     ]
    },
    {
     "name": "stdout",
     "output_type": "stream",
     "text": [
      "[0.54104841]\n",
      "Test loss: 0.0138\n",
      "[TEST] -> QWK:  0.541, CORR:  0.613, RMSE:  0.117\n",
      "Epoch 16/30\n"
     ]
    },
    {
     "name": "stderr",
     "output_type": "stream",
     "text": [
      "Training: 100%|███████████████████████████████████████| 1/1 [00:00<00:00,  4.61batch/s, loss=0.0341]\n"
     ]
    },
    {
     "name": "stdout",
     "output_type": "stream",
     "text": [
      "Training loss: 0.03408798947930336\n"
     ]
    },
    {
     "name": "stderr",
     "output_type": "stream",
     "text": [
      "Evaluation: 100%|███████████████████████████████████| 56/56 [00:07<00:00,  7.53batch/s, loss=0.0137]\n"
     ]
    },
    {
     "name": "stdout",
     "output_type": "stream",
     "text": [
      "[0.53504967]\n",
      "Test loss: 0.0137\n",
      "[TEST] -> QWK:  0.535, CORR:  0.616, RMSE:  0.117\n",
      "Epoch 17/30\n"
     ]
    },
    {
     "name": "stderr",
     "output_type": "stream",
     "text": [
      "Training: 100%|███████████████████████████████████████| 1/1 [00:00<00:00,  4.74batch/s, loss=0.0286]\n"
     ]
    },
    {
     "name": "stdout",
     "output_type": "stream",
     "text": [
      "Training loss: 0.028576837852597237\n"
     ]
    },
    {
     "name": "stderr",
     "output_type": "stream",
     "text": [
      "Evaluation: 100%|███████████████████████████████████| 56/56 [00:07<00:00,  7.54batch/s, loss=0.0136]\n"
     ]
    },
    {
     "name": "stdout",
     "output_type": "stream",
     "text": [
      "[0.52849958]\n",
      "Test loss: 0.0136\n",
      "[TEST] -> QWK:  0.528, CORR:  0.618, RMSE:  0.117\n",
      "Epoch 18/30\n"
     ]
    },
    {
     "name": "stderr",
     "output_type": "stream",
     "text": [
      "Training: 100%|███████████████████████████████████████| 1/1 [00:00<00:00,  4.54batch/s, loss=0.0306]\n"
     ]
    },
    {
     "name": "stdout",
     "output_type": "stream",
     "text": [
      "Training loss: 0.0306075531989336\n"
     ]
    },
    {
     "name": "stderr",
     "output_type": "stream",
     "text": [
      "Evaluation: 100%|███████████████████████████████████| 56/56 [00:07<00:00,  7.53batch/s, loss=0.0138]\n"
     ]
    },
    {
     "name": "stdout",
     "output_type": "stream",
     "text": [
      "[0.50335609]\n",
      "Test loss: 0.0138\n",
      "[TEST] -> QWK:  0.503, CORR:  0.615, RMSE:  0.117\n",
      "Epoch 19/30\n"
     ]
    },
    {
     "name": "stderr",
     "output_type": "stream",
     "text": [
      "Training: 100%|███████████████████████████████████████| 1/1 [00:00<00:00,  4.38batch/s, loss=0.0275]\n"
     ]
    },
    {
     "name": "stdout",
     "output_type": "stream",
     "text": [
      "Training loss: 0.02747328206896782\n"
     ]
    },
    {
     "name": "stderr",
     "output_type": "stream",
     "text": [
      "Evaluation: 100%|███████████████████████████████████| 56/56 [00:07<00:00,  7.55batch/s, loss=0.0141]\n"
     ]
    },
    {
     "name": "stdout",
     "output_type": "stream",
     "text": [
      "[0.48064588]\n",
      "Test loss: 0.0141\n",
      "[TEST] -> QWK:  0.481, CORR:  0.612, RMSE:  0.118\n",
      "Epoch 20/30\n"
     ]
    },
    {
     "name": "stderr",
     "output_type": "stream",
     "text": [
      "Training: 100%|███████████████████████████████████████| 1/1 [00:00<00:00,  4.27batch/s, loss=0.0245]\n"
     ]
    },
    {
     "name": "stdout",
     "output_type": "stream",
     "text": [
      "Training loss: 0.024470428004860878\n"
     ]
    },
    {
     "name": "stderr",
     "output_type": "stream",
     "text": [
      "Evaluation: 100%|███████████████████████████████████| 56/56 [00:07<00:00,  7.55batch/s, loss=0.0144]\n"
     ]
    },
    {
     "name": "stdout",
     "output_type": "stream",
     "text": [
      "[0.46976668]\n",
      "Test loss: 0.0144\n",
      "[TEST] -> QWK:  0.470, CORR:  0.609, RMSE:  0.120\n",
      "Epoch 21/30\n"
     ]
    },
    {
     "name": "stderr",
     "output_type": "stream",
     "text": [
      "Training: 100%|███████████████████████████████████████| 1/1 [00:00<00:00,  4.29batch/s, loss=0.0254]\n"
     ]
    },
    {
     "name": "stdout",
     "output_type": "stream",
     "text": [
      "Training loss: 0.025370320305228233\n"
     ]
    },
    {
     "name": "stderr",
     "output_type": "stream",
     "text": [
      "Evaluation: 100%|███████████████████████████████████| 56/56 [00:07<00:00,  7.54batch/s, loss=0.0146]\n"
     ]
    },
    {
     "name": "stdout",
     "output_type": "stream",
     "text": [
      "[0.46890399]\n",
      "Test loss: 0.0146\n",
      "[TEST] -> QWK:  0.469, CORR:  0.607, RMSE:  0.120\n",
      "Epoch 22/30\n"
     ]
    },
    {
     "name": "stderr",
     "output_type": "stream",
     "text": [
      "Training: 100%|███████████████████████████████████████| 1/1 [00:00<00:00,  4.57batch/s, loss=0.0234]\n"
     ]
    },
    {
     "name": "stdout",
     "output_type": "stream",
     "text": [
      "Training loss: 0.02340170554816723\n"
     ]
    },
    {
     "name": "stderr",
     "output_type": "stream",
     "text": [
      "Evaluation: 100%|███████████████████████████████████| 56/56 [00:07<00:00,  7.54batch/s, loss=0.0144]\n"
     ]
    },
    {
     "name": "stdout",
     "output_type": "stream",
     "text": [
      "[0.47836747]\n",
      "Test loss: 0.0144\n",
      "[TEST] -> QWK:  0.478, CORR:  0.610, RMSE:  0.120\n",
      "Epoch 23/30\n"
     ]
    },
    {
     "name": "stderr",
     "output_type": "stream",
     "text": [
      "Training: 100%|███████████████████████████████████████| 1/1 [00:00<00:00,  4.60batch/s, loss=0.0223]\n"
     ]
    },
    {
     "name": "stdout",
     "output_type": "stream",
     "text": [
      "Training loss: 0.022276034578680992\n"
     ]
    },
    {
     "name": "stderr",
     "output_type": "stream",
     "text": [
      "Evaluation: 100%|███████████████████████████████████| 56/56 [00:07<00:00,  7.53batch/s, loss=0.0143]\n"
     ]
    },
    {
     "name": "stdout",
     "output_type": "stream",
     "text": [
      "[0.4987086]\n",
      "Test loss: 0.0143\n",
      "[TEST] -> QWK:  0.499, CORR:  0.613, RMSE:  0.119\n",
      "Epoch 24/30\n"
     ]
    },
    {
     "name": "stderr",
     "output_type": "stream",
     "text": [
      "Training: 100%|███████████████████████████████████████| 1/1 [00:00<00:00,  4.79batch/s, loss=0.0221]\n"
     ]
    },
    {
     "name": "stdout",
     "output_type": "stream",
     "text": [
      "Training loss: 0.022084373980760574\n"
     ]
    },
    {
     "name": "stderr",
     "output_type": "stream",
     "text": [
      "Evaluation: 100%|███████████████████████████████████| 56/56 [00:07<00:00,  7.54batch/s, loss=0.0141]\n"
     ]
    },
    {
     "name": "stdout",
     "output_type": "stream",
     "text": [
      "[0.51642102]\n",
      "Test loss: 0.0141\n",
      "[TEST] -> QWK:  0.516, CORR:  0.616, RMSE:  0.118\n",
      "Epoch 25/30\n"
     ]
    },
    {
     "name": "stderr",
     "output_type": "stream",
     "text": [
      "Training: 100%|███████████████████████████████████████| 1/1 [00:00<00:00,  4.42batch/s, loss=0.0207]\n"
     ]
    },
    {
     "name": "stdout",
     "output_type": "stream",
     "text": [
      "Training loss: 0.020746145397424698\n"
     ]
    },
    {
     "name": "stderr",
     "output_type": "stream",
     "text": [
      "Evaluation: 100%|████████████████████████████████████| 56/56 [00:07<00:00,  7.43batch/s, loss=0.014]\n"
     ]
    },
    {
     "name": "stdout",
     "output_type": "stream",
     "text": [
      "[0.52781013]\n",
      "Test loss: 0.0140\n",
      "[TEST] -> QWK:  0.528, CORR:  0.617, RMSE:  0.118\n",
      "Epoch 26/30\n"
     ]
    },
    {
     "name": "stderr",
     "output_type": "stream",
     "text": [
      "Training: 100%|███████████████████████████████████████| 1/1 [00:00<00:00,  4.48batch/s, loss=0.0197]\n"
     ]
    },
    {
     "name": "stdout",
     "output_type": "stream",
     "text": [
      "Training loss: 0.019696790724992752\n"
     ]
    },
    {
     "name": "stderr",
     "output_type": "stream",
     "text": [
      "Evaluation: 100%|████████████████████████████████████| 56/56 [00:07<00:00,  7.36batch/s, loss=0.014]\n"
     ]
    },
    {
     "name": "stdout",
     "output_type": "stream",
     "text": [
      "[0.53292487]\n",
      "Test loss: 0.0140\n",
      "[TEST] -> QWK:  0.533, CORR:  0.618, RMSE:  0.118\n",
      "Epoch 27/30\n"
     ]
    },
    {
     "name": "stderr",
     "output_type": "stream",
     "text": [
      "Training: 100%|███████████████████████████████████████| 1/1 [00:00<00:00,  4.77batch/s, loss=0.0204]\n"
     ]
    },
    {
     "name": "stdout",
     "output_type": "stream",
     "text": [
      "Training loss: 0.020437994971871376\n"
     ]
    },
    {
     "name": "stderr",
     "output_type": "stream",
     "text": [
      "Evaluation: 100%|████████████████████████████████████| 56/56 [00:07<00:00,  7.48batch/s, loss=0.014]\n"
     ]
    },
    {
     "name": "stdout",
     "output_type": "stream",
     "text": [
      "[0.5359563]\n",
      "Test loss: 0.0140\n",
      "[TEST] -> QWK:  0.536, CORR:  0.619, RMSE:  0.118\n",
      "Epoch 28/30\n"
     ]
    },
    {
     "name": "stderr",
     "output_type": "stream",
     "text": [
      "Training: 100%|███████████████████████████████████████| 1/1 [00:00<00:00,  4.55batch/s, loss=0.0193]\n"
     ]
    },
    {
     "name": "stdout",
     "output_type": "stream",
     "text": [
      "Training loss: 0.019280007109045982\n"
     ]
    },
    {
     "name": "stderr",
     "output_type": "stream",
     "text": [
      "Evaluation: 100%|███████████████████████████████████| 56/56 [00:07<00:00,  7.40batch/s, loss=0.0139]\n"
     ]
    },
    {
     "name": "stdout",
     "output_type": "stream",
     "text": [
      "[0.53426219]\n",
      "Test loss: 0.0139\n",
      "[TEST] -> QWK:  0.534, CORR:  0.619, RMSE:  0.118\n",
      "Epoch 29/30\n"
     ]
    },
    {
     "name": "stderr",
     "output_type": "stream",
     "text": [
      "Training: 100%|███████████████████████████████████████| 1/1 [00:00<00:00,  4.73batch/s, loss=0.0201]\n"
     ]
    },
    {
     "name": "stdout",
     "output_type": "stream",
     "text": [
      "Training loss: 0.02010432817041874\n"
     ]
    },
    {
     "name": "stderr",
     "output_type": "stream",
     "text": [
      "Evaluation: 100%|███████████████████████████████████| 56/56 [00:07<00:00,  7.47batch/s, loss=0.0139]\n"
     ]
    },
    {
     "name": "stdout",
     "output_type": "stream",
     "text": [
      "[0.53193005]\n",
      "Test loss: 0.0139\n",
      "[TEST] -> QWK:  0.532, CORR:  0.619, RMSE:  0.118\n",
      "Epoch 30/30\n"
     ]
    },
    {
     "name": "stderr",
     "output_type": "stream",
     "text": [
      "Training: 100%|███████████████████████████████████████| 1/1 [00:00<00:00,  4.00batch/s, loss=0.0187]\n"
     ]
    },
    {
     "name": "stdout",
     "output_type": "stream",
     "text": [
      "Training loss: 0.018708422780036926\n"
     ]
    },
    {
     "name": "stderr",
     "output_type": "stream",
     "text": [
      "Evaluation: 100%|███████████████████████████████████| 56/56 [00:07<00:00,  7.38batch/s, loss=0.0139]"
     ]
    },
    {
     "name": "stdout",
     "output_type": "stream",
     "text": [
      "[0.53174805]\n",
      "Test loss: 0.0139\n",
      "[TEST] -> QWK:  0.532, CORR:  0.619, RMSE:  0.118\n"
     ]
    },
    {
     "name": "stderr",
     "output_type": "stream",
     "text": [
      "\n"
     ]
    }
   ],
   "source": [
    "import torch\n",
    "import torch.nn as nn\n",
    "from torch.optim import AdamW\n",
    "from transformers import get_linear_schedule_with_warmup\n",
    "from utils.evaluation import train_epoch, evaluate_epoch\n",
    "\n",
    "\n",
    "model_name = 'bert-base-uncased'\n",
    "tokenizer = AutoTokenizer.from_pretrained(model_name)\n",
    "model = AutoModel.from_pretrained(model_name).to(device)\n",
    "config = AutoConfig.from_pretrained(model_name)\n",
    "\n",
    "train_loader = create_data_loader(train_data, tokenizer, max_length=512, batch_size=32)\n",
    "test_loader = create_data_loader(test_data, tokenizer, max_length=512, batch_size=32)\n",
    "\n",
    "# set parameters\n",
    "EPOCHS = 30\n",
    "\n",
    "# Define the device\n",
    "device = torch.device(\"cuda\" if torch.cuda.is_available() else \"cpu\")\n",
    "# device = torch.device('mps')\n",
    "print(f\"Using {device}\")\n",
    "\n",
    "# Define the model\n",
    "class PreTrainedScorer(nn.Module):\n",
    "    def __init__(self, base_model: AutoModel, hidden_size=768, num_labels=1):\n",
    "        super(PreTrainedScorer, self).__init__()\n",
    "        self.base_model = base_model\n",
    "        self.regressor = nn.Linear(hidden_size, num_labels)\n",
    "        self.sigmoid = nn.Sigmoid()\n",
    "\n",
    "    def forward(self, input_ids, attention_mask):\n",
    "        outputs = self.base_model(input_ids=input_ids, attention_mask=attention_mask)\n",
    "        pooled_output = outputs.pooler_output\n",
    "        logits = self.regressor(pooled_output)\n",
    "        return self.sigmoid(logits)\n",
    "\n",
    "# Initialize the model\n",
    "model = PreTrainedScorer(model, hidden_size=config.hidden_size).to(device)\n",
    "\n",
    "# Define loss function, optimizer, and scheduler\n",
    "loss_fn = nn.MSELoss(reduction='none').to(device)\n",
    "optimizer = AdamW(model.parameters(), lr=2e-5)\n",
    "scheduler = get_linear_schedule_with_warmup(optimizer, num_warmup_steps=0, num_training_steps=len(train_loader)*EPOCHS)\n",
    "\n",
    "# Training loop\n",
    "for epoch in range(EPOCHS):\n",
    "    print('valuationに使用したデータだけで訓練中')\n",
    "    print(f\"Epoch {epoch+1}/{EPOCHS}\")\n",
    "\n",
    "    # Training Set\n",
    "    train_loss = train_epoch(model, train_loader, loss_fn, optimizer, device, scheduler, use_weight=False)\n",
    "    print(f\"Training loss: {train_loss}\")\n",
    "\n",
    "    # Test Set\n",
    "    eval_history = evaluate_epoch(model, test_loader, loss_fn, device, attribute_name)\n",
    "    print(f\"Test loss: {eval_history['loss']:.4f}\")\n",
    "\n",
    "    print(f'[TEST] -> QWK: {eval_history[\"qwk\"]: .3f}, CORR: {eval_history[\"corr\"]: .3f}, RMSE: {eval_history[\"rmse\"]: .3f}')\n",
    "\n",
    "best_val_metrics = [eval_history[met] for met in ['qwk', 'lwk', 'corr', 'rmse', 'mae']]\n",
    "\n",
    "pd.DataFrame(np.array(best_val_metrics).reshape(1, 5), columns=['qwk', 'lwk', 'corr', 'rmse', 'mae']).to_csv(output_path + f'baseline_metrics{test_prompt_id}.csv', index=False, header=True)"
   ]
  },
  {
   "cell_type": "markdown",
   "metadata": {},
   "source": [
    "## 選ばれたデータを用いて，別モデルを学習 (BERT)"
   ]
  },
  {
   "cell_type": "code",
   "execution_count": 3,
   "metadata": {},
   "outputs": [
    {
     "ename": "NameError",
     "evalue": "name 'low_mse' is not defined",
     "output_type": "error",
     "traceback": [
      "\u001b[0;31m---------------------------------------------------------------------------\u001b[0m",
      "\u001b[0;31mNameError\u001b[0m                                 Traceback (most recent call last)",
      "Cell \u001b[0;32mIn[3], line 1\u001b[0m\n\u001b[0;32m----> 1\u001b[0m low_mean_mse \u001b[38;5;241m=\u001b[39m np\u001b[38;5;241m.\u001b[39marray(\u001b[43mlow_mse\u001b[49m)\u001b[38;5;241m.\u001b[39mmean()\n\u001b[1;32m      2\u001b[0m high_mean_mse \u001b[38;5;241m=\u001b[39m np\u001b[38;5;241m.\u001b[39marray(high_mse)\u001b[38;5;241m.\u001b[39mmean()\n\u001b[1;32m      4\u001b[0m \u001b[38;5;28;01mif\u001b[39;00m low_mean_mse \u001b[38;5;241m>\u001b[39m high_mean_mse:\n",
      "\u001b[0;31mNameError\u001b[0m: name 'low_mse' is not defined"
     ]
    }
   ],
   "source": [
    "low_mean_mse = np.array(low_mse).mean()\n",
    "high_mean_mse = np.array(high_mse).mean()\n",
    "\n",
    "if low_mean_mse > high_mean_mse:\n",
    "    逆張り = True\n",
    "else:\n",
    "    逆張り = False\n",
    "\n",
    "high_mean_mse\n",
    "\n",
    "low_mean_mse\n",
    "\n",
    "逆張り"
   ]
  },
  {
   "cell_type": "code",
   "execution_count": 4,
   "metadata": {},
   "outputs": [],
   "source": [
    "from utils.create_embedding_feautres import load_data, normalize_scores, create_data_loader\n",
    "from transformers import AutoTokenizer, AutoModel, AutoConfig\n",
    "import collections"
   ]
  },
  {
   "cell_type": "code",
   "execution_count": 7,
   "metadata": {},
   "outputs": [
    {
     "name": "stdout",
     "output_type": "stream",
     "text": [
      "[3 3 2 ... 1 1 1]\n",
      "train size: (9530,)\n",
      "dev size: (1680,)\n",
      "test size: (1766,)\n",
      "Using cpu\n",
      "BERT訓練中\n",
      "Epoch 1/10\n"
     ]
    },
    {
     "name": "stderr",
     "output_type": "stream",
     "text": [
      "Training:   0%|                                                          | 0/298 [00:01<?, ?batch/s]\n"
     ]
    },
    {
     "ename": "KeyboardInterrupt",
     "evalue": "",
     "output_type": "error",
     "traceback": [
      "\u001b[0;31m---------------------------------------------------------------------------\u001b[0m",
      "\u001b[0;31mKeyboardInterrupt\u001b[0m                         Traceback (most recent call last)",
      "Cell \u001b[0;32mIn[7], line 144\u001b[0m\n\u001b[1;32m    141\u001b[0m \u001b[38;5;28mprint\u001b[39m(\u001b[38;5;124mf\u001b[39m\u001b[38;5;124m\"\u001b[39m\u001b[38;5;124mEpoch \u001b[39m\u001b[38;5;132;01m{\u001b[39;00mepoch\u001b[38;5;241m+\u001b[39m\u001b[38;5;241m1\u001b[39m\u001b[38;5;132;01m}\u001b[39;00m\u001b[38;5;124m/\u001b[39m\u001b[38;5;132;01m{\u001b[39;00mEPOCHS\u001b[38;5;132;01m}\u001b[39;00m\u001b[38;5;124m\"\u001b[39m)\n\u001b[1;32m    143\u001b[0m \u001b[38;5;66;03m# Training Set\u001b[39;00m\n\u001b[0;32m--> 144\u001b[0m train_loss \u001b[38;5;241m=\u001b[39m \u001b[43mtrain_epoch\u001b[49m\u001b[43m(\u001b[49m\u001b[43mmodel\u001b[49m\u001b[43m,\u001b[49m\u001b[43m \u001b[49m\u001b[43mtrain_loader\u001b[49m\u001b[43m,\u001b[49m\u001b[43m \u001b[49m\u001b[43mloss_fn\u001b[49m\u001b[43m,\u001b[49m\u001b[43m \u001b[49m\u001b[43moptimizer\u001b[49m\u001b[43m,\u001b[49m\u001b[43m \u001b[49m\u001b[43mdevice\u001b[49m\u001b[43m,\u001b[49m\u001b[43m \u001b[49m\u001b[43mscheduler\u001b[49m\u001b[43m,\u001b[49m\u001b[43m \u001b[49m\u001b[43muse_weight\u001b[49m\u001b[38;5;241;43m=\u001b[39;49m\u001b[38;5;28;43;01mFalse\u001b[39;49;00m\u001b[43m)\u001b[49m\n\u001b[1;32m    145\u001b[0m \u001b[38;5;28mprint\u001b[39m(\u001b[38;5;124mf\u001b[39m\u001b[38;5;124m\"\u001b[39m\u001b[38;5;124mTraining loss: \u001b[39m\u001b[38;5;132;01m{\u001b[39;00mtrain_loss\u001b[38;5;132;01m}\u001b[39;00m\u001b[38;5;124m\"\u001b[39m)\n\u001b[1;32m    147\u001b[0m \u001b[38;5;66;03m# Development Set\u001b[39;00m\n",
      "File \u001b[0;32m~/Library/CloudStorage/OneDrive-電気通信大学/src/DVRL/utils/evaluation.py:181\u001b[0m, in \u001b[0;36mtrain_epoch\u001b[0;34m(model, data_loader, loss_fn, optimizer, device, scheduler, use_weight)\u001b[0m\n\u001b[1;32m    179\u001b[0m losses \u001b[38;5;241m=\u001b[39m []\n\u001b[1;32m    180\u001b[0m progress_bar \u001b[38;5;241m=\u001b[39m tqdm(data_loader, desc\u001b[38;5;241m=\u001b[39m\u001b[38;5;124m\"\u001b[39m\u001b[38;5;124mTraining\u001b[39m\u001b[38;5;124m\"\u001b[39m, unit\u001b[38;5;241m=\u001b[39m\u001b[38;5;124m\"\u001b[39m\u001b[38;5;124mbatch\u001b[39m\u001b[38;5;124m\"\u001b[39m, ncols\u001b[38;5;241m=\u001b[39m\u001b[38;5;241m100\u001b[39m)\n\u001b[0;32m--> 181\u001b[0m \u001b[43m\u001b[49m\u001b[38;5;28;43;01mfor\u001b[39;49;00m\u001b[43m \u001b[49m\u001b[43md\u001b[49m\u001b[43m \u001b[49m\u001b[38;5;129;43;01min\u001b[39;49;00m\u001b[43m \u001b[49m\u001b[43mprogress_bar\u001b[49m\u001b[43m:\u001b[49m\n\u001b[1;32m    182\u001b[0m \u001b[43m    \u001b[49m\u001b[43minput_ids\u001b[49m\u001b[43m \u001b[49m\u001b[38;5;241;43m=\u001b[39;49m\u001b[43m \u001b[49m\u001b[43md\u001b[49m\u001b[43m[\u001b[49m\u001b[38;5;124;43m'\u001b[39;49m\u001b[38;5;124;43minput_ids\u001b[39;49m\u001b[38;5;124;43m'\u001b[39;49m\u001b[43m]\u001b[49m\u001b[38;5;241;43m.\u001b[39;49m\u001b[43mto\u001b[49m\u001b[43m(\u001b[49m\u001b[43mdevice\u001b[49m\u001b[43m)\u001b[49m\n\u001b[1;32m    183\u001b[0m \u001b[43m    \u001b[49m\u001b[43mattention_mask\u001b[49m\u001b[43m \u001b[49m\u001b[38;5;241;43m=\u001b[39;49m\u001b[43m \u001b[49m\u001b[43md\u001b[49m\u001b[43m[\u001b[49m\u001b[38;5;124;43m'\u001b[39;49m\u001b[38;5;124;43mattention_mask\u001b[39;49m\u001b[38;5;124;43m'\u001b[39;49m\u001b[43m]\u001b[49m\u001b[38;5;241;43m.\u001b[39;49m\u001b[43mto\u001b[49m\u001b[43m(\u001b[49m\u001b[43mdevice\u001b[49m\u001b[43m)\u001b[49m\n",
      "File \u001b[0;32m~/.pyenv/versions/3.11.5/lib/python3.11/site-packages/tqdm/std.py:1182\u001b[0m, in \u001b[0;36mtqdm.__iter__\u001b[0;34m(self)\u001b[0m\n\u001b[1;32m   1179\u001b[0m time \u001b[38;5;241m=\u001b[39m \u001b[38;5;28mself\u001b[39m\u001b[38;5;241m.\u001b[39m_time\n\u001b[1;32m   1181\u001b[0m \u001b[38;5;28;01mtry\u001b[39;00m:\n\u001b[0;32m-> 1182\u001b[0m \u001b[43m    \u001b[49m\u001b[38;5;28;43;01mfor\u001b[39;49;00m\u001b[43m \u001b[49m\u001b[43mobj\u001b[49m\u001b[43m \u001b[49m\u001b[38;5;129;43;01min\u001b[39;49;00m\u001b[43m \u001b[49m\u001b[43miterable\u001b[49m\u001b[43m:\u001b[49m\n\u001b[1;32m   1183\u001b[0m \u001b[43m        \u001b[49m\u001b[38;5;28;43;01myield\u001b[39;49;00m\u001b[43m \u001b[49m\u001b[43mobj\u001b[49m\n\u001b[1;32m   1184\u001b[0m \u001b[43m        \u001b[49m\u001b[38;5;66;43;03m# Update and possibly print the progressbar.\u001b[39;49;00m\n\u001b[1;32m   1185\u001b[0m \u001b[43m        \u001b[49m\u001b[38;5;66;43;03m# Note: does not call self.update(1) for speed optimisation.\u001b[39;49;00m\n",
      "File \u001b[0;32m~/.pyenv/versions/3.11.5/lib/python3.11/site-packages/torch/utils/data/dataloader.py:439\u001b[0m, in \u001b[0;36mDataLoader.__iter__\u001b[0;34m(self)\u001b[0m\n\u001b[1;32m    437\u001b[0m     \u001b[38;5;28;01mreturn\u001b[39;00m \u001b[38;5;28mself\u001b[39m\u001b[38;5;241m.\u001b[39m_iterator\n\u001b[1;32m    438\u001b[0m \u001b[38;5;28;01melse\u001b[39;00m:\n\u001b[0;32m--> 439\u001b[0m     \u001b[38;5;28;01mreturn\u001b[39;00m \u001b[38;5;28;43mself\u001b[39;49m\u001b[38;5;241;43m.\u001b[39;49m\u001b[43m_get_iterator\u001b[49m\u001b[43m(\u001b[49m\u001b[43m)\u001b[49m\n",
      "File \u001b[0;32m~/.pyenv/versions/3.11.5/lib/python3.11/site-packages/torch/utils/data/dataloader.py:387\u001b[0m, in \u001b[0;36mDataLoader._get_iterator\u001b[0;34m(self)\u001b[0m\n\u001b[1;32m    385\u001b[0m \u001b[38;5;28;01melse\u001b[39;00m:\n\u001b[1;32m    386\u001b[0m     \u001b[38;5;28mself\u001b[39m\u001b[38;5;241m.\u001b[39mcheck_worker_number_rationality()\n\u001b[0;32m--> 387\u001b[0m     \u001b[38;5;28;01mreturn\u001b[39;00m \u001b[43m_MultiProcessingDataLoaderIter\u001b[49m\u001b[43m(\u001b[49m\u001b[38;5;28;43mself\u001b[39;49m\u001b[43m)\u001b[49m\n",
      "File \u001b[0;32m~/.pyenv/versions/3.11.5/lib/python3.11/site-packages/torch/utils/data/dataloader.py:1040\u001b[0m, in \u001b[0;36m_MultiProcessingDataLoaderIter.__init__\u001b[0;34m(self, loader)\u001b[0m\n\u001b[1;32m   1033\u001b[0m w\u001b[38;5;241m.\u001b[39mdaemon \u001b[38;5;241m=\u001b[39m \u001b[38;5;28;01mTrue\u001b[39;00m\n\u001b[1;32m   1034\u001b[0m \u001b[38;5;66;03m# NB: Process.start() actually take some time as it needs to\u001b[39;00m\n\u001b[1;32m   1035\u001b[0m \u001b[38;5;66;03m#     start a process and pass the arguments over via a pipe.\u001b[39;00m\n\u001b[1;32m   1036\u001b[0m \u001b[38;5;66;03m#     Therefore, we only add a worker to self._workers list after\u001b[39;00m\n\u001b[1;32m   1037\u001b[0m \u001b[38;5;66;03m#     it started, so that we do not call .join() if program dies\u001b[39;00m\n\u001b[1;32m   1038\u001b[0m \u001b[38;5;66;03m#     before it starts, and __del__ tries to join but will get:\u001b[39;00m\n\u001b[1;32m   1039\u001b[0m \u001b[38;5;66;03m#     AssertionError: can only join a started process.\u001b[39;00m\n\u001b[0;32m-> 1040\u001b[0m \u001b[43mw\u001b[49m\u001b[38;5;241;43m.\u001b[39;49m\u001b[43mstart\u001b[49m\u001b[43m(\u001b[49m\u001b[43m)\u001b[49m\n\u001b[1;32m   1041\u001b[0m \u001b[38;5;28mself\u001b[39m\u001b[38;5;241m.\u001b[39m_index_queues\u001b[38;5;241m.\u001b[39mappend(index_queue)\n\u001b[1;32m   1042\u001b[0m \u001b[38;5;28mself\u001b[39m\u001b[38;5;241m.\u001b[39m_workers\u001b[38;5;241m.\u001b[39mappend(w)\n",
      "File \u001b[0;32m~/.pyenv/versions/3.11.5/lib/python3.11/multiprocessing/process.py:121\u001b[0m, in \u001b[0;36mBaseProcess.start\u001b[0;34m(self)\u001b[0m\n\u001b[1;32m    118\u001b[0m \u001b[38;5;28;01massert\u001b[39;00m \u001b[38;5;129;01mnot\u001b[39;00m _current_process\u001b[38;5;241m.\u001b[39m_config\u001b[38;5;241m.\u001b[39mget(\u001b[38;5;124m'\u001b[39m\u001b[38;5;124mdaemon\u001b[39m\u001b[38;5;124m'\u001b[39m), \\\n\u001b[1;32m    119\u001b[0m        \u001b[38;5;124m'\u001b[39m\u001b[38;5;124mdaemonic processes are not allowed to have children\u001b[39m\u001b[38;5;124m'\u001b[39m\n\u001b[1;32m    120\u001b[0m _cleanup()\n\u001b[0;32m--> 121\u001b[0m \u001b[38;5;28mself\u001b[39m\u001b[38;5;241m.\u001b[39m_popen \u001b[38;5;241m=\u001b[39m \u001b[38;5;28;43mself\u001b[39;49m\u001b[38;5;241;43m.\u001b[39;49m\u001b[43m_Popen\u001b[49m\u001b[43m(\u001b[49m\u001b[38;5;28;43mself\u001b[39;49m\u001b[43m)\u001b[49m\n\u001b[1;32m    122\u001b[0m \u001b[38;5;28mself\u001b[39m\u001b[38;5;241m.\u001b[39m_sentinel \u001b[38;5;241m=\u001b[39m \u001b[38;5;28mself\u001b[39m\u001b[38;5;241m.\u001b[39m_popen\u001b[38;5;241m.\u001b[39msentinel\n\u001b[1;32m    123\u001b[0m \u001b[38;5;66;03m# Avoid a refcycle if the target function holds an indirect\u001b[39;00m\n\u001b[1;32m    124\u001b[0m \u001b[38;5;66;03m# reference to the process object (see bpo-30775)\u001b[39;00m\n",
      "File \u001b[0;32m~/.pyenv/versions/3.11.5/lib/python3.11/multiprocessing/context.py:224\u001b[0m, in \u001b[0;36mProcess._Popen\u001b[0;34m(process_obj)\u001b[0m\n\u001b[1;32m    222\u001b[0m \u001b[38;5;129m@staticmethod\u001b[39m\n\u001b[1;32m    223\u001b[0m \u001b[38;5;28;01mdef\u001b[39;00m \u001b[38;5;21m_Popen\u001b[39m(process_obj):\n\u001b[0;32m--> 224\u001b[0m     \u001b[38;5;28;01mreturn\u001b[39;00m \u001b[43m_default_context\u001b[49m\u001b[38;5;241;43m.\u001b[39;49m\u001b[43mget_context\u001b[49m\u001b[43m(\u001b[49m\u001b[43m)\u001b[49m\u001b[38;5;241;43m.\u001b[39;49m\u001b[43mProcess\u001b[49m\u001b[38;5;241;43m.\u001b[39;49m\u001b[43m_Popen\u001b[49m\u001b[43m(\u001b[49m\u001b[43mprocess_obj\u001b[49m\u001b[43m)\u001b[49m\n",
      "File \u001b[0;32m~/.pyenv/versions/3.11.5/lib/python3.11/multiprocessing/context.py:288\u001b[0m, in \u001b[0;36mSpawnProcess._Popen\u001b[0;34m(process_obj)\u001b[0m\n\u001b[1;32m    285\u001b[0m \u001b[38;5;129m@staticmethod\u001b[39m\n\u001b[1;32m    286\u001b[0m \u001b[38;5;28;01mdef\u001b[39;00m \u001b[38;5;21m_Popen\u001b[39m(process_obj):\n\u001b[1;32m    287\u001b[0m     \u001b[38;5;28;01mfrom\u001b[39;00m \u001b[38;5;21;01m.\u001b[39;00m\u001b[38;5;21;01mpopen_spawn_posix\u001b[39;00m \u001b[38;5;28;01mimport\u001b[39;00m Popen\n\u001b[0;32m--> 288\u001b[0m     \u001b[38;5;28;01mreturn\u001b[39;00m \u001b[43mPopen\u001b[49m\u001b[43m(\u001b[49m\u001b[43mprocess_obj\u001b[49m\u001b[43m)\u001b[49m\n",
      "File \u001b[0;32m~/.pyenv/versions/3.11.5/lib/python3.11/multiprocessing/popen_spawn_posix.py:32\u001b[0m, in \u001b[0;36mPopen.__init__\u001b[0;34m(self, process_obj)\u001b[0m\n\u001b[1;32m     30\u001b[0m \u001b[38;5;28;01mdef\u001b[39;00m \u001b[38;5;21m__init__\u001b[39m(\u001b[38;5;28mself\u001b[39m, process_obj):\n\u001b[1;32m     31\u001b[0m     \u001b[38;5;28mself\u001b[39m\u001b[38;5;241m.\u001b[39m_fds \u001b[38;5;241m=\u001b[39m []\n\u001b[0;32m---> 32\u001b[0m     \u001b[38;5;28;43msuper\u001b[39;49m\u001b[43m(\u001b[49m\u001b[43m)\u001b[49m\u001b[38;5;241;43m.\u001b[39;49m\u001b[38;5;21;43m__init__\u001b[39;49m\u001b[43m(\u001b[49m\u001b[43mprocess_obj\u001b[49m\u001b[43m)\u001b[49m\n",
      "File \u001b[0;32m~/.pyenv/versions/3.11.5/lib/python3.11/multiprocessing/popen_fork.py:19\u001b[0m, in \u001b[0;36mPopen.__init__\u001b[0;34m(self, process_obj)\u001b[0m\n\u001b[1;32m     17\u001b[0m \u001b[38;5;28mself\u001b[39m\u001b[38;5;241m.\u001b[39mreturncode \u001b[38;5;241m=\u001b[39m \u001b[38;5;28;01mNone\u001b[39;00m\n\u001b[1;32m     18\u001b[0m \u001b[38;5;28mself\u001b[39m\u001b[38;5;241m.\u001b[39mfinalizer \u001b[38;5;241m=\u001b[39m \u001b[38;5;28;01mNone\u001b[39;00m\n\u001b[0;32m---> 19\u001b[0m \u001b[38;5;28;43mself\u001b[39;49m\u001b[38;5;241;43m.\u001b[39;49m\u001b[43m_launch\u001b[49m\u001b[43m(\u001b[49m\u001b[43mprocess_obj\u001b[49m\u001b[43m)\u001b[49m\n",
      "File \u001b[0;32m~/.pyenv/versions/3.11.5/lib/python3.11/multiprocessing/popen_spawn_posix.py:62\u001b[0m, in \u001b[0;36mPopen._launch\u001b[0;34m(self, process_obj)\u001b[0m\n\u001b[1;32m     60\u001b[0m     \u001b[38;5;28mself\u001b[39m\u001b[38;5;241m.\u001b[39msentinel \u001b[38;5;241m=\u001b[39m parent_r\n\u001b[1;32m     61\u001b[0m     \u001b[38;5;28;01mwith\u001b[39;00m \u001b[38;5;28mopen\u001b[39m(parent_w, \u001b[38;5;124m'\u001b[39m\u001b[38;5;124mwb\u001b[39m\u001b[38;5;124m'\u001b[39m, closefd\u001b[38;5;241m=\u001b[39m\u001b[38;5;28;01mFalse\u001b[39;00m) \u001b[38;5;28;01mas\u001b[39;00m f:\n\u001b[0;32m---> 62\u001b[0m         \u001b[43mf\u001b[49m\u001b[38;5;241;43m.\u001b[39;49m\u001b[43mwrite\u001b[49m\u001b[43m(\u001b[49m\u001b[43mfp\u001b[49m\u001b[38;5;241;43m.\u001b[39;49m\u001b[43mgetbuffer\u001b[49m\u001b[43m(\u001b[49m\u001b[43m)\u001b[49m\u001b[43m)\u001b[49m\n\u001b[1;32m     63\u001b[0m \u001b[38;5;28;01mfinally\u001b[39;00m:\n\u001b[1;32m     64\u001b[0m     fds_to_close \u001b[38;5;241m=\u001b[39m []\n",
      "\u001b[0;31mKeyboardInterrupt\u001b[0m: "
     ]
    },
    {
     "data": {
      "image/png": "[encoded data removed]",
      "text/plain": [
       "<Figure size 640x480 with 1 Axes>"
      ]
     },
     "metadata": {},
     "output_type": "display_data"
    }
   ],
   "source": [
    "qwks = []\n",
    "for p in np.arange(0.0, 1.01, 0.05):\n",
    "    data_values = np.load(output_path + 'estimated_data_value.npy')\n",
    "    if 逆張り:\n",
    "        weights = remove_top_p_sample(data_values, top_p=p, ascending=False)\n",
    "    else:\n",
    "        weights = remove_top_p_sample(data_values, top_p=p, ascending=True)\n",
    "    use_train_sample = (weights == 1)\n",
    "    \n",
    "    # Load data\n",
    "    data = load_data(data_path)\n",
    "    \n",
    "    x_train = np.array(data['train']['feature'])\n",
    "    x_dev = np.array(data['dev']['feature'])\n",
    "    x_test = np.array(data['test']['feature'])\n",
    "    \n",
    "    y_train = np.array(data['train']['label'])\n",
    "    y_dev = np.array(data['dev']['label'])\n",
    "    y_test = np.array(data['test']['label'])\n",
    "    \n",
    "    train_essay_prompt = np.array(data['train']['essay_set'])\n",
    "    dev_essay_prompt = np.array(data['dev']['essay_set'])\n",
    "    test_essay_prompt = np.array(data['test']['essay_set'])\n",
    "    \n",
    "    train_essay_id = np.array(data['train']['essay_id'])\n",
    "    dev_essay_id = np.array(data['dev']['essay_id'])\n",
    "    test_essay_id = np.array(data['test']['essay_id'])\n",
    "    \n",
    "    # Normalize scores\n",
    "    y_train = normalize_scores(y_train, train_essay_prompt, attribute_name)\n",
    "    y_dev = normalize_scores(y_dev, dev_essay_prompt, attribute_name)\n",
    "    y_test = normalize_scores(y_test, test_essay_prompt, attribute_name)\n",
    "    \n",
    "    sample_id = np.load(output_path + 'dev_ids.npy')\n",
    "    not_sample_id = np.array([i for i in range(len(y_test)) if i not in sample_id])\n",
    "    \n",
    "    train_data = {}\n",
    "    dev_data = {}\n",
    "    test_data = {}\n",
    "    \n",
    "    train_data['feature'] = np.concatenate([x_train[use_train_sample], x_test[sample_id]], axis=0)\n",
    "    train_data['normalized_label'] = np.concatenate([y_train[use_train_sample], y_test[sample_id]], axis=0)\n",
    "    train_data['essay_set'] = np.concatenate([train_essay_prompt[use_train_sample], test_essay_prompt[sample_id]], axis=0)\n",
    "    print(train_data['essay_set'])\n",
    "    \n",
    "    dev_data['feature'] = x_dev\n",
    "    dev_data['normalized_label'] = y_dev\n",
    "    dev_data['essay_set'] = dev_essay_prompt\n",
    "    \n",
    "    test_data['feature'] = x_test[not_sample_id]\n",
    "    test_data['normalized_label'] = y_test[not_sample_id]\n",
    "    test_data['essay_set'] = test_essay_prompt[not_sample_id]\n",
    "    \n",
    "    print(f'train size: {train_data[\"feature\"].shape}')\n",
    "    print(f'dev size: {dev_data[\"feature\"].shape}')\n",
    "    print(f'test size: {test_data[\"feature\"].shape}')\n",
    "    \n",
    "    if 逆張り:\n",
    "        top10per_list = train_essay_prompt[data_values.flatten().argsort()][:int(len(data_values)*(1-p))]\n",
    "    else:\n",
    "        top10per_list = train_essay_prompt[data_values.flatten().argsort()[::-1]][:int(len(data_values)*(1-p))]\n",
    "    count = collections.Counter(top10per_list)\n",
    "    plt.bar(list(count.keys()), [i / len(top10per_list) for i in list(count.values())])\n",
    "    plt.savefig(output_path + 'high_value_prompt.png')\n",
    "    \n",
    "    for key, value in dict(count).items():\n",
    "        count[key] = value / len(top10per_list)\n",
    "    count\n",
    "    \n",
    "    prompt_list = [i for i in range(1, 9)]\n",
    "    for prompt in prompt_list:\n",
    "        if prompt not in count.keys():\n",
    "            count[prompt] = 0\n",
    "    count\n",
    "    \n",
    "    avg_weight_dict = dict((x, y) for x, y in sorted(count.items()))\n",
    "    avg_weight_dict\n",
    "    \n",
    "    save_path = output_path + 'prompt_values/'\n",
    "    os.makedirs(save_path, exist_ok=True)\n",
    "    with open(save_path + f'prompt_value{p}.csv', 'wb') as f:\n",
    "        pickle.dump(avg_weight_dict, f)\n",
    "    \n",
    "    avg_weight_list = [v for k, v in avg_weight_dict.items() if k != test_prompt_id]\n",
    "    avg_weight_list\n",
    "    \n",
    "    import torch\n",
    "    import torch.nn as nn\n",
    "    from torch.optim import AdamW\n",
    "    from transformers import get_linear_schedule_with_warmup\n",
    "    from utils.evaluation import train_epoch, evaluate_epoch\n",
    "    \n",
    "    \n",
    "    model_name = 'bert-base-uncased'\n",
    "    tokenizer = AutoTokenizer.from_pretrained(model_name)\n",
    "    model = AutoModel.from_pretrained(model_name).to(device)\n",
    "    config = AutoConfig.from_pretrained(model_name)\n",
    "    \n",
    "    # weights = np.concatenate([weights, np.ones_like(sample_id)], axis=0)\n",
    "    # train_loader = create_data_loader(train_data, tokenizer, max_length=512, batch_size=32, weights=weights)\n",
    "    train_loader = create_data_loader(train_data, tokenizer, max_length=512, batch_size=32)\n",
    "    dev_loader = create_data_loader(dev_data, tokenizer, max_length=512, batch_size=32)\n",
    "    test_loader = create_data_loader(test_data, tokenizer, max_length=512, batch_size=32)\n",
    "    \n",
    "    # set parameters\n",
    "    EPOCHS = 10\n",
    "    \n",
    "    # Define the device\n",
    "    device = torch.device(\"cuda\" if torch.cuda.is_available() else \"cpu\")\n",
    "    # device = torch.device('mps')\n",
    "    print(f\"Using {device}\")\n",
    "    \n",
    "    # Define the model\n",
    "    class PreTrainedScorer(nn.Module):\n",
    "        def __init__(self, base_model: AutoModel, hidden_size=768, num_labels=1):\n",
    "            super(PreTrainedScorer, self).__init__()\n",
    "            self.base_model = base_model\n",
    "            self.regressor = nn.Linear(hidden_size, num_labels)\n",
    "            self.sigmoid = nn.Sigmoid()\n",
    "    \n",
    "        def forward(self, input_ids, attention_mask):\n",
    "            outputs = self.base_model(input_ids=input_ids, attention_mask=attention_mask)\n",
    "            pooled_output = outputs.pooler_output\n",
    "            logits = self.regressor(pooled_output)\n",
    "            return self.sigmoid(logits)\n",
    "    \n",
    "    # Initialize the model\n",
    "    model = PreTrainedScorer(model, hidden_size=config.hidden_size).to(device)\n",
    "    \n",
    "    # Define loss function, optimizer, and scheduler\n",
    "    loss_fn = nn.MSELoss(reduction='none').to(device)\n",
    "    optimizer = AdamW(model.parameters(), lr=2e-5)\n",
    "    scheduler = get_linear_schedule_with_warmup(optimizer, num_warmup_steps=0, num_training_steps=len(train_loader)*EPOCHS)\n",
    "    \n",
    "    # Training loop\n",
    "    best_test_metrics = [-1, -1, -1, -1, -1]\n",
    "    best_val_metrics = [-1, -1, -1, -1, -1]\n",
    "    best_test = [-1, -1, -1, -1, -1]\n",
    "    for epoch in range(EPOCHS):\n",
    "        print('BERT訓練中')\n",
    "        print(f\"Epoch {epoch+1}/{EPOCHS}\")\n",
    "    \n",
    "        # Training Set\n",
    "        train_loss = train_epoch(model, train_loader, loss_fn, optimizer, device, scheduler, use_weight=False)\n",
    "        print(f\"Training loss: {train_loss}\")\n",
    "    \n",
    "        # Development Set\n",
    "        dev_history = evaluate_epoch(model, dev_loader, loss_fn, device, attribute_name, avg_weight_list)\n",
    "        print(f\"Dev loss: {dev_history['loss']:.4f}\")\n",
    "    \n",
    "        # Test Set\n",
    "        eval_history = evaluate_epoch(model, test_loader, loss_fn, device, attribute_name)\n",
    "        print(f\"Test loss: {eval_history['loss']:.4f}\")\n",
    "    \n",
    "        print(f'[VAL]  -> QWK: {dev_history[\"qwk\"]: .3f}, CORR: {dev_history[\"corr\"]: .3f}, RMSE: {dev_history[\"rmse\"]: .3f}')\n",
    "        print(f'[TEST] -> QWK: {eval_history[\"qwk\"]: .3f}, CORR: {eval_history[\"corr\"]: .3f}, RMSE: {eval_history[\"rmse\"]: .3f}')\n",
    "    \n",
    "        if dev_history[\"qwk\"] > best_val_metrics[0]:\n",
    "            for i, met in enumerate(['qwk', 'lwk', 'corr', 'rmse', 'mae']):\n",
    "                best_val_metrics[i] = dev_history[met]\n",
    "                best_test_metrics[i] = eval_history[met]\n",
    "        if eval_history[\"qwk\"] > best_test[0]:\n",
    "            for i, met in enumerate(['qwk', 'lwk', 'corr', 'rmse', 'mae']):\n",
    "                best_test[i] = eval_history[met]\n",
    "    \n",
    "        print(f'[BEST] -> QWK: {best_test_metrics[0]: .3f}, CORR: {best_test_metrics[2]: .3f}, RMSE: {best_test_metrics[3]: .3f}')\n",
    "    \n",
    "    pd.DataFrame(np.array(best_test_metrics).reshape(1, 5), columns=['qwk', 'lwk', 'corr', 'rmse', 'mae']).to_csv(output_path + f'BERT_best_metrics{test_prompt_id}.csv', index=False, header=True)\n",
    "    pd.DataFrame(np.array(best_test).reshape(1, 5), columns=['qwk', 'lwk', 'corr', 'rmse', 'mae']).to_csv(output_path + f'BERT_sample_metrics{test_prompt_id}.csv', index=False, header=True)\n",
    "\n",
    "    qwks.append(best_test_metrics[0])\n",
    "\n",
    "output_qwk = np.array([np.arange(0.0, 1.01, 0.05).tolist(), qwks])\n",
    "pd.DataFrame(output_qwk).to_csv(output_path + 'bert_qwk.csv', index=False, header=False)"
   ]
  },
  {
   "cell_type": "markdown",
   "metadata": {},
   "source": [
    "## 選ばれたデータを用いて，別モデルを学習 (PAES)"
   ]
  },
  {
   "cell_type": "code",
   "execution_count": null,
   "metadata": {},
   "outputs": [],
   "source": [
    "qwks = []\n",
    "for p in np.arange(0.0, 1.01, 0.05):\n",
    "    from utils.read_data import read_essays_single_score, read_pos_vocab\n",
    "    from utils.general_utils import get_single_scaled_down_score, pad_hierarchical_text_sequences\n",
    "    from torch.utils.data import TensorDataset, DataLoader\n",
    "    from models.PAES import PAES, fastPAES\n",
    "    from utils.evaluation import train_model, evaluate_model\n",
    "    \n",
    "    # Load configs\n",
    "    configs = Configs()\n",
    "    \n",
    "    data_path = configs.DATA_PATH3\n",
    "    print(f'load data from {data_path}...')\n",
    "    train_path = data_path + str(test_prompt_id) + '/train.pk'\n",
    "    dev_path = data_path + str(test_prompt_id) + '/dev.pk'\n",
    "    test_path = data_path + str(test_prompt_id) + '/test.pk'\n",
    "    features_path = configs.FEATURES_PATH\n",
    "    readability_path = configs.READABILITY_PATH\n",
    "    vocab_size = configs.VOCAB_SIZE\n",
    "    epochs = configs.EPOCHS\n",
    "    batch_size = configs.BATCH_SIZE\n",
    "    \n",
    "    read_configs = {\n",
    "        'train_path': train_path,\n",
    "        'dev_path': dev_path,\n",
    "        'test_path': test_path,\n",
    "        'features_path': features_path,\n",
    "        'readability_path': readability_path,\n",
    "        'vocab_size': vocab_size\n",
    "    }\n",
    "    \n",
    "    # Read data\n",
    "    pos_vocab = read_pos_vocab(read_configs)\n",
    "    train_data, dev_data, test_data = read_essays_single_score(read_configs, pos_vocab, attribute_name)\n",
    "    \n",
    "    # Get max sentence length and max sentence number\n",
    "    max_sentnum = max(train_data['max_sentnum'], dev_data['max_sentnum'], test_data['max_sentnum'])\n",
    "    max_sentlen = max(train_data['max_sentlen'], dev_data['max_sentlen'], test_data['max_sentlen'])\n",
    "    \n",
    "    # Scale down the scores\n",
    "    train_data['y_scaled'] = get_single_scaled_down_score(train_data['data_y'], train_data['prompt_ids'], attribute_name)\n",
    "    dev_data['y_scaled'] = get_single_scaled_down_score(dev_data['data_y'], dev_data['prompt_ids'], attribute_name)\n",
    "    test_data['y_scaled'] = get_single_scaled_down_score(test_data['data_y'], test_data['prompt_ids'], attribute_name)\n",
    "    \n",
    "    # Pad the sequences with shape [batch, max_sentence_num, max_sentence_length]\n",
    "    X_train_pos = pad_hierarchical_text_sequences(train_data['pos_x'], max_sentnum, max_sentlen)\n",
    "    X_dev_pos = pad_hierarchical_text_sequences(dev_data['pos_x'], max_sentnum, max_sentlen)\n",
    "    X_test_pos = pad_hierarchical_text_sequences(test_data['pos_x'], max_sentnum, max_sentlen)\n",
    "    \n",
    "    X_train_pos = X_train_pos.reshape((X_train_pos.shape[0], X_train_pos.shape[1] * X_train_pos.shape[2]))\n",
    "    X_dev_pos = X_dev_pos.reshape((X_dev_pos.shape[0], X_dev_pos.shape[1] * X_dev_pos.shape[2]))\n",
    "    X_test_pos = X_test_pos.reshape((X_test_pos.shape[0], X_test_pos.shape[1] * X_test_pos.shape[2]))\n",
    "    \n",
    "    # convert to tensor\n",
    "    X_train= torch.tensor(X_train_pos, dtype=torch.long)\n",
    "    X_dev = torch.tensor(X_dev_pos, dtype=torch.long)\n",
    "    X_test= torch.tensor(X_test_pos, dtype=torch.long)\n",
    "    \n",
    "    X_train_linguistic_features = torch.tensor(np.array(train_data['features_x']), dtype=torch.float)\n",
    "    X_dev_linguistic_features = torch.tensor(np.array(dev_data['features_x']), dtype=torch.float)\n",
    "    X_test_linguistic_features = torch.tensor(np.array(test_data['features_x']), dtype=torch.float)\n",
    "    \n",
    "    X_train_readability = torch.tensor(np.array(train_data['readability_x']), dtype=torch.float)\n",
    "    X_dev_readability = torch.tensor(np.array(dev_data['readability_x']), dtype=torch.float)\n",
    "    X_test_readability = torch.tensor(np.array(test_data['readability_x']), dtype=torch.float)\n",
    "    \n",
    "    Y_train = torch.tensor(np.array(train_data['y_scaled']), dtype=torch.float)\n",
    "    Y_dev = torch.tensor(np.array(dev_data['y_scaled']), dtype=torch.float)\n",
    "    Y_test = torch.tensor(np.array(test_data['y_scaled']), dtype=torch.float)\n",
    "    \n",
    "    train_essay_set = torch.tensor(np.array(train_data['prompt_ids']), dtype=torch.long)\n",
    "    dev_essay_set = torch.tensor(np.array(dev_data['prompt_ids']), dtype=torch.long)\n",
    "    test_essay_set = torch.tensor(np.array(test_data['prompt_ids']), dtype=torch.long)\n",
    "    \n",
    "    # Load weights\n",
    "    data_values = np.load(output_path + 'estimated_data_value.npy')\n",
    "    if 逆張り:\n",
    "        weights = remove_top_p_sample(data_values, top_p=p, ascending=False)\n",
    "    else:\n",
    "        weights = remove_top_p_sample(data_values, top_p=p, ascending=True)\n",
    "    weights = (torch.tensor(weights, dtype=torch.float) == 1)\n",
    "    \n",
    "    sample_id = np.load(output_path + 'dev_ids.npy')\n",
    "    not_sample_id = np.array([i for i in range(len(y_test)) if i not in sample_id])\n",
    "    \n",
    "    X_train = torch.concat([X_train[weights], X_test[sample_id]])\n",
    "    Y_train = torch.concat([Y_train[weights], Y_test[sample_id]])\n",
    "    X_train_linguistic_features = torch.concat([X_train_linguistic_features[weights], X_test_linguistic_features[sample_id]])\n",
    "    X_train_readability = torch.concat([X_train_readability[weights], X_test_readability[sample_id]])\n",
    "    train_essay_set = torch.concat([train_essay_set[weights], test_essay_set[sample_id]])\n",
    "    \n",
    "    X_test = X_test[not_sample_id]\n",
    "    Y_test = Y_test[not_sample_id]\n",
    "    X_test_linguistic_features = X_test_linguistic_features[not_sample_id]\n",
    "    X_test_readability = X_test_readability[not_sample_id]\n",
    "    test_essay_set = test_essay_set[not_sample_id]\n",
    "    \n",
    "    print(f'train size: {X_train.size()}')\n",
    "    print(f'dev size: {X_dev.size()}')\n",
    "    print(f'test size: {X_test.size()}')\n",
    "    \n",
    "    # Create Datasets\n",
    "    train_dataset = TensorDataset(X_train, Y_train, X_train_linguistic_features, X_train_readability, train_essay_set)\n",
    "    dev_dataset = TensorDataset(X_dev, Y_dev, X_dev_linguistic_features, X_dev_readability, dev_essay_set)\n",
    "    test_dataset = TensorDataset(X_test, Y_test, X_test_linguistic_features, X_test_readability, test_essay_set)\n",
    "    # Create Dataloaders\n",
    "    train_loader = DataLoader(dataset=train_dataset, batch_size=batch_size, shuffle=True, num_workers=4, pin_memory=True)\n",
    "    dev_loader = DataLoader(dataset=dev_dataset, batch_size=batch_size, shuffle=True, num_workers=4, pin_memory=True)\n",
    "    test_loader = DataLoader(dataset=test_dataset, batch_size=batch_size, shuffle=True, num_workers=4, pin_memory=True)\n",
    "    \n",
    "    import torch.nn as nn\n",
    "    import torch.optim as optim\n",
    "    import torch\n",
    "    \n",
    "    model = fastPAES(max_sentnum, max_sentlen, X_train_linguistic_features.size(1), X_train_readability.size(1), pos_vocab=pos_vocab)\n",
    "    model = model.to(device)\n",
    "    print(model)\n",
    "    \n",
    "    # Create loss and optimizer\n",
    "    reduction = 'mean'\n",
    "    MSE_Loss = nn.MSELoss(reduction=reduction).to(device)\n",
    "    optimizer = torch.optim.RMSprop(model.parameters(), lr=0.001)\n",
    "    \n",
    "    train_history = []\n",
    "    dev_history = []\n",
    "    test_history = []\n",
    "    best_test_metrics = [-1, -1, -1, -1, -1]\n",
    "    best_val_metrics = [-1, -1, -1, -1, -1]\n",
    "    best_test = [-1, -1, -1, -1, -1]\n",
    "    for epoch in range(epochs):\n",
    "        print('PAES訓練中')\n",
    "        print('{} / {} EPOCHS'.format(epoch+1, epochs))\n",
    "        print('Seed: {}, Prompt: {}'.format(seed, test_prompt_id))\n",
    "        \n",
    "        # Train the model\n",
    "        train_loss = train_model(model, train_loader, MSE_Loss, optimizer, device, weight=False)\n",
    "        print(f'Train loss: {train_loss: .4f}')\n",
    "        train_history.append(train_loss)\n",
    "    \n",
    "        # Evaluate the model on dev set\n",
    "        dev_results = evaluate_model(model, dev_loader, MSE_Loss, device, attribute_name, avg_weight_list)\n",
    "        print(f'Validation loss: {dev_results[\"loss\"]: .4f}')\n",
    "        dev_history.append(dev_results[\"loss\"])\n",
    "    \n",
    "        # Evaluate the model on test set\n",
    "        test_results = evaluate_model(model, test_loader, MSE_Loss, device, attribute_name)\n",
    "        print(f'Test loss: {test_results[\"loss\"]: .4f}')\n",
    "        test_history.append(test_results[\"loss\"])\n",
    "    \n",
    "        if dev_results[\"qwk\"] > best_val_metrics[0]:\n",
    "            for i, met in enumerate(['qwk', 'lwk', 'corr', 'rmse', 'mae']):\n",
    "                best_val_metrics[i] = dev_results[met]\n",
    "                best_test_metrics[i] = test_results[met]\n",
    "        if test_results[\"qwk\"] > best_test[0]:\n",
    "            for i, met in enumerate(['qwk', 'lwk', 'corr', 'rmse', 'mae']):\n",
    "                best_test[i] = test_results[met]\n",
    "    \n",
    "        # if epoch % 10 == 0:\n",
    "        #     print(f'[VAL]  -> QWK: {dev_results[\"qwk\"]: .3f}, CORR: {dev_results[\"corr\"]: .3f}, RMSE: {dev_results[\"rmse\"]: .3f}')\n",
    "        #     print(f'[TEST] -> QWK: {test_results[\"qwk\"]: .3f}, CORR: {test_results[\"corr\"]: .3f}, RMSE: {test_results[\"rmse\"]: .3f}')\n",
    "        #     print(f'[BEST] -> QWK: {best_test_metrics[0]: .3f}, CORR: {best_test_metrics[2]: .3f}, RMSE: {best_test_metrics[3]: .3f}')\n",
    "        \n",
    "    pd.DataFrame(np.array(best_test_metrics).reshape(1, 5), columns=['qwk', 'lwk', 'corr', 'rmse', 'mae']).to_csv(output_path + f'PAES_best_metrics{test_prompt_id}.csv', index=False, header=True)\n",
    "    pd.DataFrame(np.array(best_test).reshape(1, 5), columns=['qwk', 'lwk', 'corr', 'rmse', 'mae']).to_csv(output_path + f'PAES_sample_metrics{test_prompt_id}.csv', index=False, header=True)\n",
    "\n",
    "output_qwk = np.array([np.arange(0.0, 1.01, 0.05).tolist(), qwks])\n",
    "pd.DataFrame(output_qwk).to_csv(output_path + 'PAES_qwk.csv', index=False, header=False)"
   ]
  },
  {
   "cell_type": "code",
   "execution_count": null,
   "metadata": {},
   "outputs": [],
   "source": []
  },
  {
   "cell_type": "markdown",
   "metadata": {},
   "source": [
    "条件付き確率で選ぶ\n",
    "広げる損失を分散を大きくする"
   ]
  }
 ],
 "metadata": {
  "kernelspec": {
   "display_name": "Python 3 (ipykernel)",
   "language": "python",
   "name": "python3"
  },
  "language_info": {
   "codemirror_mode": {
    "name": "ipython",
    "version": 3
   },
   "file_extension": ".py",
   "mimetype": "text/x-python",
   "name": "python",
   "nbconvert_exporter": "python",
   "pygments_lexer": "ipython3",
   "version": "3.11.5"
  }
 },
 "nbformat": 4,
 "nbformat_minor": 4
}
