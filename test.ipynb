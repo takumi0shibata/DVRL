{
 "cells": [
  {
   "cell_type": "code",
   "execution_count": 1,
   "metadata": {},
   "outputs": [],
   "source": [
    "import pickle\n",
    "with open('/Users/takumishibata/Documents/project/DVRL-AES/data/allreadability.pickle', 'rb') as f:\n",
    "    data = pickle.load(f)"
   ]
  },
  {
   "cell_type": "code",
   "execution_count": 3,
   "metadata": {},
   "outputs": [
    {
     "data": {
      "text/html": [
       "<div><style>\n",
       ".dataframe > thead > tr,\n",
       ".dataframe > tbody > tr {\n",
       "  text-align: right;\n",
       "  white-space: pre-wrap;\n",
       "}\n",
       "</style>\n",
       "<small>shape: (12_978, 36)</small><table border=\"1\" class=\"dataframe\"><thead><tr><th>column_0</th><th>column_1</th><th>column_2</th><th>column_3</th><th>column_4</th><th>column_5</th><th>column_6</th><th>column_7</th><th>column_8</th><th>column_9</th><th>column_10</th><th>column_11</th><th>column_12</th><th>column_13</th><th>column_14</th><th>column_15</th><th>column_16</th><th>column_17</th><th>column_18</th><th>column_19</th><th>column_20</th><th>column_21</th><th>column_22</th><th>column_23</th><th>column_24</th><th>column_25</th><th>column_26</th><th>column_27</th><th>column_28</th><th>column_29</th><th>column_30</th><th>column_31</th><th>column_32</th><th>column_33</th><th>column_34</th><th>column_35</th></tr><tr><td>f64</td><td>f64</td><td>f64</td><td>f64</td><td>f64</td><td>f64</td><td>f64</td><td>f64</td><td>f64</td><td>f64</td><td>f64</td><td>f64</td><td>f64</td><td>f64</td><td>f64</td><td>f64</td><td>f64</td><td>f64</td><td>f64</td><td>f64</td><td>f64</td><td>f64</td><td>f64</td><td>f64</td><td>f64</td><td>f64</td><td>f64</td><td>f64</td><td>f64</td><td>f64</td><td>f64</td><td>f64</td><td>f64</td><td>f64</td><td>f64</td><td>f64</td></tr></thead><tbody><tr><td>1.0</td><td>0.473611</td><td>0.512424</td><td>0.417457</td><td>0.567478</td><td>0.396054</td><td>0.514018</td><td>0.549841</td><td>0.407643</td><td>0.245001</td><td>0.404053</td><td>0.388934</td><td>0.448843</td><td>0.242857</td><td>0.320369</td><td>0.398838</td><td>0.374211</td><td>0.424658</td><td>0.460452</td><td>0.242857</td><td>0.0</td><td>0.310526</td><td>0.19697</td><td>0.29918</td><td>0.204082</td><td>0.142857</td><td>0.318182</td><td>0.391304</td><td>0.470085</td><td>0.073171</td><td>0.08</td><td>0.285714</td><td>0.0</td><td>0.333333</td><td>0.0</td><td>0.0</td></tr><tr><td>2.0</td><td>0.582582</td><td>0.55295</td><td>0.441778</td><td>0.435069</td><td>0.554975</td><td>0.598785</td><td>0.698836</td><td>0.497725</td><td>0.368179</td><td>0.422411</td><td>0.518055</td><td>0.478076</td><td>0.285714</td><td>0.297675</td><td>0.491835</td><td>0.494139</td><td>0.519303</td><td>0.545198</td><td>0.285714</td><td>0.0</td><td>0.421053</td><td>0.371212</td><td>0.45082</td><td>0.163265</td><td>0.571429</td><td>0.409091</td><td>0.452174</td><td>0.487179</td><td>0.219512</td><td>0.16</td><td>0.142857</td><td>0.181818</td><td>0.111111</td><td>0.0</td><td>0.0</td></tr><tr><td>3.0</td><td>0.445281</td><td>0.470945</td><td>0.424657</td><td>0.567183</td><td>0.456524</td><td>0.497662</td><td>0.636807</td><td>0.393312</td><td>0.380837</td><td>0.42361</td><td>0.414298</td><td>0.39673</td><td>0.214286</td><td>0.389643</td><td>0.327706</td><td>0.309288</td><td>0.346202</td><td>0.415254</td><td>0.214286</td><td>0.0</td><td>0.268421</td><td>0.234848</td><td>0.315574</td><td>0.22449</td><td>0.142857</td><td>0.363636</td><td>0.2</td><td>0.299145</td><td>0.02439</td><td>0.04</td><td>0.142857</td><td>0.090909</td><td>0.111111</td><td>0.1</td><td>0.083333</td></tr><tr><td>4.0</td><td>0.562133</td><td>0.665803</td><td>0.703988</td><td>0.427117</td><td>0.56617</td><td>0.717465</td><td>0.723364</td><td>0.620564</td><td>0.552666</td><td>0.696325</td><td>0.549498</td><td>0.430538</td><td>0.385714</td><td>0.280733</td><td>0.685026</td><td>0.627592</td><td>0.647572</td><td>0.663842</td><td>0.385714</td><td>0.0</td><td>0.668421</td><td>0.530303</td><td>0.737705</td><td>0.44898</td><td>0.535714</td><td>0.386364</td><td>0.313043</td><td>0.487179</td><td>0.390244</td><td>0.04</td><td>0.285714</td><td>0.363636</td><td>0.222222</td><td>0.0</td><td>0.25</td></tr><tr><td>5.0</td><td>0.443214</td><td>0.410476</td><td>0.421405</td><td>0.516206</td><td>0.421611</td><td>0.437963</td><td>0.625058</td><td>0.333121</td><td>0.201825</td><td>0.440303</td><td>0.502643</td><td>0.327596</td><td>0.414286</td><td>0.249749</td><td>0.556324</td><td>0.550045</td><td>0.582814</td><td>0.564972</td><td>0.414286</td><td>0.0</td><td>0.452632</td><td>0.424242</td><td>0.397541</td><td>0.510204</td><td>0.857143</td><td>0.340909</td><td>0.313043</td><td>0.487179</td><td>0.268293</td><td>0.28</td><td>0.0</td><td>0.636364</td><td>0.444444</td><td>0.0</td><td>0.333333</td></tr><tr><td>&hellip;</td><td>&hellip;</td><td>&hellip;</td><td>&hellip;</td><td>&hellip;</td><td>&hellip;</td><td>&hellip;</td><td>&hellip;</td><td>&hellip;</td><td>&hellip;</td><td>&hellip;</td><td>&hellip;</td><td>&hellip;</td><td>&hellip;</td><td>&hellip;</td><td>&hellip;</td><td>&hellip;</td><td>&hellip;</td><td>&hellip;</td><td>&hellip;</td><td>&hellip;</td><td>&hellip;</td><td>&hellip;</td><td>&hellip;</td><td>&hellip;</td><td>&hellip;</td><td>&hellip;</td><td>&hellip;</td><td>&hellip;</td><td>&hellip;</td><td>&hellip;</td><td>&hellip;</td><td>&hellip;</td><td>&hellip;</td><td>&hellip;</td><td>&hellip;</td></tr><tr><td>21626.0</td><td>0.579897</td><td>0.648013</td><td>0.357651</td><td>0.612318</td><td>0.648014</td><td>0.524369</td><td>0.554205</td><td>0.339333</td><td>0.374394</td><td>0.304867</td><td>0.25513</td><td>0.666112</td><td>0.114583</td><td>0.149606</td><td>0.855102</td><td>0.82212</td><td>0.969595</td><td>0.6625</td><td>0.364583</td><td>0.4</td><td>0.519553</td><td>0.409524</td><td>0.534591</td><td>0.55</td><td>0.38</td><td>0.771429</td><td>0.646512</td><td>0.719424</td><td>0.133333</td><td>0.166667</td><td>0.2</td><td>0.0</td><td>0.363636</td><td>0.352941</td><td>0.470588</td></tr><tr><td>21628.0</td><td>0.290709</td><td>0.175423</td><td>0.210338</td><td>0.755443</td><td>0.219728</td><td>0.154912</td><td>0.328087</td><td>0.073088</td><td>0.214473</td><td>0.237333</td><td>0.23614</td><td>0.302429</td><td>0.4375</td><td>0.155431</td><td>0.535459</td><td>0.524424</td><td>0.629505</td><td>0.433333</td><td>0.4375</td><td>0.0</td><td>0.22905</td><td>0.171429</td><td>0.298742</td><td>0.316667</td><td>0.2</td><td>0.371429</td><td>0.409302</td><td>0.446043</td><td>0.088889</td><td>0.229167</td><td>0.0</td><td>0.111111</td><td>0.272727</td><td>0.058824</td><td>0.176471</td></tr><tr><td>21629.0</td><td>0.514705</td><td>0.521653</td><td>0.494558</td><td>0.557582</td><td>0.525142</td><td>0.492974</td><td>0.599106</td><td>0.375534</td><td>0.369841</td><td>0.489266</td><td>0.405162</td><td>0.44138</td><td>0.114583</td><td>0.227064</td><td>0.897704</td><td>0.893088</td><td>0.929054</td><td>0.733333</td><td>0.489583</td><td>0.6</td><td>0.75419</td><td>0.638095</td><td>0.562893</td><td>0.733333</td><td>0.12</td><td>0.514286</td><td>0.427907</td><td>0.848921</td><td>0.222222</td><td>0.25</td><td>0.4</td><td>0.111111</td><td>0.181818</td><td>0.235294</td><td>0.235294</td></tr><tr><td>21630.0</td><td>0.408352</td><td>0.350177</td><td>0.370962</td><td>0.642585</td><td>0.345676</td><td>0.412775</td><td>0.44475</td><td>0.294082</td><td>0.397841</td><td>0.383271</td><td>0.340769</td><td>0.360737</td><td>0.395833</td><td>0.223223</td><td>0.594133</td><td>0.590783</td><td>0.647523</td><td>0.50625</td><td>0.395833</td><td>0.0</td><td>0.502793</td><td>0.285714</td><td>0.424528</td><td>0.4</td><td>0.14</td><td>0.314286</td><td>0.451163</td><td>0.532374</td><td>0.4</td><td>0.354167</td><td>0.2</td><td>0.055556</td><td>0.272727</td><td>0.117647</td><td>0.294118</td></tr><tr><td>21633.0</td><td>0.528986</td><td>0.442029</td><td>0.424033</td><td>0.523593</td><td>0.508228</td><td>0.438088</td><td>0.59555</td><td>0.318424</td><td>0.350352</td><td>0.422206</td><td>0.45385</td><td>0.415169</td><td>0.291667</td><td>0.302822</td><td>0.499235</td><td>0.532719</td><td>0.533784</td><td>0.475</td><td>0.291667</td><td>0.0</td><td>0.396648</td><td>0.380952</td><td>0.314465</td><td>0.333333</td><td>0.2</td><td>0.157143</td><td>0.325581</td><td>0.395683</td><td>0.2</td><td>0.1875</td><td>0.2</td><td>0.055556</td><td>0.454545</td><td>0.0</td><td>0.058824</td></tr></tbody></table></div>"
      ],
      "text/plain": [
       "shape: (12_978, 36)\n",
       "┌──────────┬──────────┬──────────┬──────────┬───┬───────────┬───────────┬───────────┬───────────┐\n",
       "│ column_0 ┆ column_1 ┆ column_2 ┆ column_3 ┆ … ┆ column_32 ┆ column_33 ┆ column_34 ┆ column_35 │\n",
       "│ ---      ┆ ---      ┆ ---      ┆ ---      ┆   ┆ ---       ┆ ---       ┆ ---       ┆ ---       │\n",
       "│ f64      ┆ f64      ┆ f64      ┆ f64      ┆   ┆ f64       ┆ f64       ┆ f64       ┆ f64       │\n",
       "╞══════════╪══════════╪══════════╪══════════╪═══╪═══════════╪═══════════╪═══════════╪═══════════╡\n",
       "│ 1.0      ┆ 0.473611 ┆ 0.512424 ┆ 0.417457 ┆ … ┆ 0.0       ┆ 0.333333  ┆ 0.0       ┆ 0.0       │\n",
       "│ 2.0      ┆ 0.582582 ┆ 0.55295  ┆ 0.441778 ┆ … ┆ 0.181818  ┆ 0.111111  ┆ 0.0       ┆ 0.0       │\n",
       "│ 3.0      ┆ 0.445281 ┆ 0.470945 ┆ 0.424657 ┆ … ┆ 0.090909  ┆ 0.111111  ┆ 0.1       ┆ 0.083333  │\n",
       "│ 4.0      ┆ 0.562133 ┆ 0.665803 ┆ 0.703988 ┆ … ┆ 0.363636  ┆ 0.222222  ┆ 0.0       ┆ 0.25      │\n",
       "│ 5.0      ┆ 0.443214 ┆ 0.410476 ┆ 0.421405 ┆ … ┆ 0.636364  ┆ 0.444444  ┆ 0.0       ┆ 0.333333  │\n",
       "│ …        ┆ …        ┆ …        ┆ …        ┆ … ┆ …         ┆ …         ┆ …         ┆ …         │\n",
       "│ 21626.0  ┆ 0.579897 ┆ 0.648013 ┆ 0.357651 ┆ … ┆ 0.0       ┆ 0.363636  ┆ 0.352941  ┆ 0.470588  │\n",
       "│ 21628.0  ┆ 0.290709 ┆ 0.175423 ┆ 0.210338 ┆ … ┆ 0.111111  ┆ 0.272727  ┆ 0.058824  ┆ 0.176471  │\n",
       "│ 21629.0  ┆ 0.514705 ┆ 0.521653 ┆ 0.494558 ┆ … ┆ 0.111111  ┆ 0.181818  ┆ 0.235294  ┆ 0.235294  │\n",
       "│ 21630.0  ┆ 0.408352 ┆ 0.350177 ┆ 0.370962 ┆ … ┆ 0.055556  ┆ 0.272727  ┆ 0.117647  ┆ 0.294118  │\n",
       "│ 21633.0  ┆ 0.528986 ┆ 0.442029 ┆ 0.424033 ┆ … ┆ 0.055556  ┆ 0.454545  ┆ 0.0       ┆ 0.058824  │\n",
       "└──────────┴──────────┴──────────┴──────────┴───┴───────────┴───────────┴───────────┴───────────┘"
      ]
     },
     "execution_count": 3,
     "metadata": {},
     "output_type": "execute_result"
    }
   ],
   "source": [
    "import polars as pl\n",
    "pl.DataFrame(data)"
   ]
  },
  {
   "cell_type": "code",
   "execution_count": 4,
   "metadata": {},
   "outputs": [
    {
     "data": {
      "text/html": [
       "<div><style>\n",
       ".dataframe > thead > tr,\n",
       ".dataframe > tbody > tr {\n",
       "  text-align: right;\n",
       "  white-space: pre-wrap;\n",
       "}\n",
       "</style>\n",
       "<small>shape: (12_978, 54)</small><table border=\"1\" class=\"dataframe\"><thead><tr><th>item_id</th><th>prompt_id</th><th>mean_word</th><th>word_var</th><th>mean_sent</th><th>sent_var</th><th>ess_char_len</th><th>word_count</th><th>prep_comma</th><th>unique_word</th><th>clause_per_s</th><th>mean_clause_l</th><th>max_clause_in_s</th><th>spelling_err</th><th>sent_ave_depth</th><th>ave_leaf_depth</th><th>automated_readability</th><th>linsear_write</th><th>stop_prop</th><th>positive_sentence_prop</th><th>negative_sentence_prop</th><th>neutral_sentence_prop</th><th>overall_positivity_score</th><th>overall_negativity_score</th><th>,</th><th>.</th><th>VB</th><th>JJR</th><th>WP</th><th>PRP$</th><th>VBN</th><th>VBG</th><th>IN</th><th>CC</th><th>JJS</th><th>PRP</th><th>MD</th><th>WRB</th><th>RB</th><th>VBD</th><th>RBR</th><th>VBZ</th><th>NNP</th><th>POS</th><th>WDT</th><th>DT</th><th>CD</th><th>NN</th><th>TO</th><th>JJ</th><th>VBP</th><th>RP</th><th>NNS</th><th>score</th></tr><tr><td>i64</td><td>i64</td><td>f64</td><td>f64</td><td>f64</td><td>f64</td><td>i64</td><td>i64</td><td>i64</td><td>i64</td><td>f64</td><td>f64</td><td>i64</td><td>i64</td><td>f64</td><td>f64</td><td>f64</td><td>f64</td><td>f64</td><td>f64</td><td>f64</td><td>f64</td><td>f64</td><td>f64</td><td>f64</td><td>f64</td><td>f64</td><td>f64</td><td>f64</td><td>f64</td><td>f64</td><td>f64</td><td>f64</td><td>f64</td><td>f64</td><td>f64</td><td>f64</td><td>f64</td><td>f64</td><td>f64</td><td>f64</td><td>f64</td><td>f64</td><td>f64</td><td>f64</td><td>f64</td><td>f64</td><td>f64</td><td>f64</td><td>f64</td><td>f64</td><td>f64</td><td>f64</td><td>f64</td></tr></thead><tbody><tr><td>1</td><td>1</td><td>4.400593</td><td>5.842492</td><td>21.0625</td><td>171.308594</td><td>1483</td><td>337</td><td>71</td><td>117</td><td>0.4375</td><td>8.0</td><td>2</td><td>26</td><td>5.6875</td><td>3.075567</td><td>11.3</td><td>11.2</td><td>0.48368</td><td>0.75</td><td>0.0</td><td>0.25</td><td>0.6029125</td><td>0.0</td><td>0.046392</td><td>0.041237</td><td>0.059278</td><td>0.002577</td><td>0.002577</td><td>0.030928</td><td>0.010309</td><td>0.036082</td><td>0.136598</td><td>0.036082</td><td>0.0</td><td>0.074742</td><td>0.012887</td><td>0.010309</td><td>0.059278</td><td>0.002577</td><td>0.0</td><td>0.036082</td><td>0.028351</td><td>0.002577</td><td>0.0</td><td>0.051546</td><td>0.0</td><td>0.14433</td><td>0.025773</td><td>0.048969</td><td>0.030928</td><td>0.007732</td><td>0.043814</td><td>8.0</td></tr><tr><td>2</td><td>1</td><td>4.353222</td><td>5.469506</td><td>20.95</td><td>142.2475</td><td>1824</td><td>419</td><td>70</td><td>125</td><td>0.25</td><td>7.8</td><td>1</td><td>33</td><td>6.2</td><td>3.414847</td><td>10.1</td><td>12.2</td><td>0.539379</td><td>0.7</td><td>0.0</td><td>0.3</td><td>0.54889</td><td>0.0</td><td>0.025751</td><td>0.042918</td><td>0.062232</td><td>0.002146</td><td>0.0</td><td>0.017167</td><td>0.01073</td><td>0.042918</td><td>0.124464</td><td>0.038627</td><td>0.002146</td><td>0.072961</td><td>0.034335</td><td>0.019313</td><td>0.036481</td><td>0.017167</td><td>0.0</td><td>0.012876</td><td>0.032189</td><td>0.0</td><td>0.002146</td><td>0.075107</td><td>0.008584</td><td>0.122318</td><td>0.017167</td><td>0.042918</td><td>0.036481</td><td>0.004292</td><td>0.087983</td><td>9.0</td></tr><tr><td>3</td><td>1</td><td>4.405018</td><td>5.545638</td><td>19.928571</td><td>184.637755</td><td>1229</td><td>279</td><td>41</td><td>113</td><td>0.142857</td><td>16.5</td><td>1</td><td>11</td><td>5.571429</td><td>2.99026</td><td>9.8</td><td>7.857143</td><td>0.498208</td><td>0.714286</td><td>0.142857</td><td>0.142857</td><td>0.696043</td><td>0.0</td><td>0.028571</td><td>0.044444</td><td>0.04127</td><td>0.009524</td><td>0.015873</td><td>0.006349</td><td>0.0</td><td>0.028571</td><td>0.101587</td><td>0.050794</td><td>0.003175</td><td>0.044444</td><td>0.012698</td><td>0.009524</td><td>0.038095</td><td>0.003175</td><td>0.003175</td><td>0.019048</td><td>0.038095</td><td>0.0</td><td>0.0</td><td>0.085714</td><td>0.006349</td><td>0.12381</td><td>0.025397</td><td>0.047619</td><td>0.07619</td><td>0.009524</td><td>0.111111</td><td>7.0</td></tr><tr><td>4</td><td>1</td><td>4.868321</td><td>6.415867</td><td>19.407407</td><td>135.722908</td><td>2551</td><td>524</td><td>77</td><td>179</td><td>0.222222</td><td>9.333333</td><td>2</td><td>81</td><td>4.740741</td><td>2.507745</td><td>15.2</td><td>15.5</td><td>0.572519</td><td>0.62963</td><td>0.0</td><td>0.37037</td><td>0.67553</td><td>0.0</td><td>0.021104</td><td>0.043831</td><td>0.048701</td><td>0.006494</td><td>0.00487</td><td>0.012987</td><td>0.012987</td><td>0.008117</td><td>0.103896</td><td>0.027597</td><td>0.00974</td><td>0.024351</td><td>0.022727</td><td>0.006494</td><td>0.043831</td><td>0.029221</td><td>0.001623</td><td>0.019481</td><td>0.11526</td><td>0.003247</td><td>0.003247</td><td>0.069805</td><td>0.0</td><td>0.126623</td><td>0.024351</td><td>0.066558</td><td>0.040584</td><td>0.001623</td><td>0.086039</td><td>10.0</td></tr><tr><td>5</td><td>1</td><td>4.408602</td><td>5.450249</td><td>15.5</td><td>43.516667</td><td>2050</td><td>465</td><td>56</td><td>128</td><td>0.433333</td><td>5.230769</td><td>2</td><td>25</td><td>4.733333</td><td>2.403846</td><td>7.7</td><td>10.666667</td><td>0.483871</td><td>0.533333</td><td>0.133333</td><td>0.333333</td><td>0.80498</td><td>0.0</td><td>0.025048</td><td>0.057803</td><td>0.080925</td><td>0.015414</td><td>0.001927</td><td>0.007707</td><td>0.003854</td><td>0.011561</td><td>0.082852</td><td>0.028902</td><td>0.001927</td><td>0.046243</td><td>0.050096</td><td>0.009634</td><td>0.069364</td><td>0.003854</td><td>0.003854</td><td>0.030829</td><td>0.011561</td><td>0.0</td><td>0.00578</td><td>0.104046</td><td>0.009634</td><td>0.131021</td><td>0.040462</td><td>0.042389</td><td>0.036609</td><td>0.001927</td><td>0.078998</td><td>8.0</td></tr><tr><td>&hellip;</td><td>&hellip;</td><td>&hellip;</td><td>&hellip;</td><td>&hellip;</td><td>&hellip;</td><td>&hellip;</td><td>&hellip;</td><td>&hellip;</td><td>&hellip;</td><td>&hellip;</td><td>&hellip;</td><td>&hellip;</td><td>&hellip;</td><td>&hellip;</td><td>&hellip;</td><td>&hellip;</td><td>&hellip;</td><td>&hellip;</td><td>&hellip;</td><td>&hellip;</td><td>&hellip;</td><td>&hellip;</td><td>&hellip;</td><td>&hellip;</td><td>&hellip;</td><td>&hellip;</td><td>&hellip;</td><td>&hellip;</td><td>&hellip;</td><td>&hellip;</td><td>&hellip;</td><td>&hellip;</td><td>&hellip;</td><td>&hellip;</td><td>&hellip;</td><td>&hellip;</td><td>&hellip;</td><td>&hellip;</td><td>&hellip;</td><td>&hellip;</td><td>&hellip;</td><td>&hellip;</td><td>&hellip;</td><td>&hellip;</td><td>&hellip;</td><td>&hellip;</td><td>&hellip;</td><td>&hellip;</td><td>&hellip;</td><td>&hellip;</td><td>&hellip;</td><td>&hellip;</td><td>&hellip;</td></tr><tr><td>21626</td><td>8</td><td>4.08284</td><td>3.922132</td><td>31.296296</td><td>220.727023</td><td>3450</td><td>845</td><td>136</td><td>221</td><td>0.62963</td><td>6.941176</td><td>2</td><td>68</td><td>5.888889</td><td>2.635514</td><td>18.6</td><td>14.0</td><td>0.510059</td><td>0.666667</td><td>0.222222</td><td>0.111111</td><td>0.675163</td><td>0.0</td><td>0.049068</td><td>0.026497</td><td>0.052993</td><td>0.000981</td><td>0.003925</td><td>0.009814</td><td>0.007851</td><td>0.006869</td><td>0.084396</td><td>0.052993</td><td>0.002944</td><td>0.110893</td><td>0.023553</td><td>0.007851</td><td>0.062807</td><td>0.047105</td><td>0.002944</td><td>0.024534</td><td>0.082434</td><td>0.000981</td><td>0.001963</td><td>0.060844</td><td>0.010795</td><td>0.095191</td><td>0.019627</td><td>0.049068</td><td>0.035329</td><td>0.005888</td><td>0.031403</td><td>35.0</td></tr><tr><td>21628</td><td>8</td><td>3.943119</td><td>3.620618</td><td>15.571429</td><td>181.673469</td><td>2149</td><td>545</td><td>72</td><td>119</td><td>0.285714</td><td>3.5</td><td>2</td><td>48</td><td>4.057143</td><td>2.230769</td><td>14.1</td><td>17.0</td><td>0.508257</td><td>0.485714</td><td>0.142857</td><td>0.371429</td><td>0.765043</td><td>0.0</td><td>0.032211</td><td>0.057101</td><td>0.033675</td><td>0.001464</td><td>0.0</td><td>0.014641</td><td>0.002928</td><td>0.013177</td><td>0.073206</td><td>0.038067</td><td>0.007321</td><td>0.081991</td><td>0.014641</td><td>0.004392</td><td>0.065886</td><td>0.064422</td><td>0.002928</td><td>0.010249</td><td>0.06735</td><td>0.002928</td><td>0.002928</td><td>0.064422</td><td>0.007321</td><td>0.124451</td><td>0.021962</td><td>0.060029</td><td>0.020498</td><td>0.007321</td><td>0.039531</td><td>32.0</td></tr><tr><td>21629</td><td>8</td><td>4.394608</td><td>5.746245</td><td>19.902439</td><td>251.063653</td><td>3586</td><td>816</td><td>151</td><td>252</td><td>0.292683</td><td>6.833333</td><td>2</td><td>83</td><td>4.926829</td><td>2.649485</td><td>15.3</td><td>10.8</td><td>0.491422</td><td>0.585366</td><td>0.146341</td><td>0.268293</td><td>0.766973</td><td>0.0</td><td>0.046443</td><td>0.039526</td><td>0.030632</td><td>0.000988</td><td>0.004941</td><td>0.01581</td><td>0.022727</td><td>0.024704</td><td>0.102767</td><td>0.036561</td><td>0.001976</td><td>0.0583</td><td>0.007905</td><td>0.004941</td><td>0.052372</td><td>0.071146</td><td>0.0</td><td>0.011858</td><td>0.086957</td><td>0.002964</td><td>0.006917</td><td>0.085968</td><td>0.004941</td><td>0.113636</td><td>0.023715</td><td>0.050395</td><td>0.007905</td><td>0.009881</td><td>0.030632</td><td>40.0</td></tr><tr><td>21630</td><td>8</td><td>4.211744</td><td>5.896446</td><td>14.410256</td><td>52.395792</td><td>2367</td><td>562</td><td>109</td><td>160</td><td>0.153846</td><td>6.666667</td><td>2</td><td>38</td><td>4.25641</td><td>2.17037</td><td>6.8</td><td>11.4</td><td>0.467972</td><td>0.487179</td><td>0.307692</td><td>0.205128</td><td>0.846633</td><td>0.0</td><td>0.057554</td><td>0.056115</td><td>0.025899</td><td>0.0</td><td>0.007194</td><td>0.027338</td><td>0.015827</td><td>0.018705</td><td>0.099281</td><td>0.031655</td><td>0.011511</td><td>0.096403</td><td>0.014388</td><td>0.011511</td><td>0.07482</td><td>0.069065</td><td>0.0</td><td>0.018705</td><td>0.047482</td><td>0.002878</td><td>0.001439</td><td>0.071942</td><td>0.005755</td><td>0.105036</td><td>0.01295</td><td>0.048921</td><td>0.011511</td><td>0.004317</td><td>0.02446</td><td>40.0</td></tr><tr><td>21633</td><td>8</td><td>4.24359</td><td>6.090237</td><td>16.137931</td><td>30.187872</td><td>1986</td><td>468</td><td>81</td><td>154</td><td>0.37931</td><td>6.272727</td><td>2</td><td>16</td><td>4.862069</td><td>2.462406</td><td>7.3</td><td>7.428571</td><td>0.480769</td><td>0.724138</td><td>0.103448</td><td>0.172414</td><td>0.598631</td><td>0.0</td><td>0.047882</td><td>0.053407</td><td>0.038674</td><td>0.0</td><td>0.003683</td><td>0.023941</td><td>0.018416</td><td>0.016575</td><td>0.101289</td><td>0.022099</td><td>0.003683</td><td>0.07919</td><td>0.016575</td><td>0.009208</td><td>0.062615</td><td>0.029466</td><td>0.001842</td><td>0.031308</td><td>0.038674</td><td>0.007366</td><td>0.009208</td><td>0.069982</td><td>0.001842</td><td>0.101289</td><td>0.020258</td><td>0.069982</td><td>0.049724</td><td>0.007366</td><td>0.053407</td><td>40.0</td></tr></tbody></table></div>"
      ],
      "text/plain": [
       "shape: (12_978, 54)\n",
       "┌─────────┬───────────┬───────────┬──────────┬───┬──────────┬──────────┬──────────┬───────┐\n",
       "│ item_id ┆ prompt_id ┆ mean_word ┆ word_var ┆ … ┆ VBP      ┆ RP       ┆ NNS      ┆ score │\n",
       "│ ---     ┆ ---       ┆ ---       ┆ ---      ┆   ┆ ---      ┆ ---      ┆ ---      ┆ ---   │\n",
       "│ i64     ┆ i64       ┆ f64       ┆ f64      ┆   ┆ f64      ┆ f64      ┆ f64      ┆ f64   │\n",
       "╞═════════╪═══════════╪═══════════╪══════════╪═══╪══════════╪══════════╪══════════╪═══════╡\n",
       "│ 1       ┆ 1         ┆ 4.400593  ┆ 5.842492 ┆ … ┆ 0.030928 ┆ 0.007732 ┆ 0.043814 ┆ 8.0   │\n",
       "│ 2       ┆ 1         ┆ 4.353222  ┆ 5.469506 ┆ … ┆ 0.036481 ┆ 0.004292 ┆ 0.087983 ┆ 9.0   │\n",
       "│ 3       ┆ 1         ┆ 4.405018  ┆ 5.545638 ┆ … ┆ 0.07619  ┆ 0.009524 ┆ 0.111111 ┆ 7.0   │\n",
       "│ 4       ┆ 1         ┆ 4.868321  ┆ 6.415867 ┆ … ┆ 0.040584 ┆ 0.001623 ┆ 0.086039 ┆ 10.0  │\n",
       "│ 5       ┆ 1         ┆ 4.408602  ┆ 5.450249 ┆ … ┆ 0.036609 ┆ 0.001927 ┆ 0.078998 ┆ 8.0   │\n",
       "│ …       ┆ …         ┆ …         ┆ …        ┆ … ┆ …        ┆ …        ┆ …        ┆ …     │\n",
       "│ 21626   ┆ 8         ┆ 4.08284   ┆ 3.922132 ┆ … ┆ 0.035329 ┆ 0.005888 ┆ 0.031403 ┆ 35.0  │\n",
       "│ 21628   ┆ 8         ┆ 3.943119  ┆ 3.620618 ┆ … ┆ 0.020498 ┆ 0.007321 ┆ 0.039531 ┆ 32.0  │\n",
       "│ 21629   ┆ 8         ┆ 4.394608  ┆ 5.746245 ┆ … ┆ 0.007905 ┆ 0.009881 ┆ 0.030632 ┆ 40.0  │\n",
       "│ 21630   ┆ 8         ┆ 4.211744  ┆ 5.896446 ┆ … ┆ 0.011511 ┆ 0.004317 ┆ 0.02446  ┆ 40.0  │\n",
       "│ 21633   ┆ 8         ┆ 4.24359   ┆ 6.090237 ┆ … ┆ 0.049724 ┆ 0.007366 ┆ 0.053407 ┆ 40.0  │\n",
       "└─────────┴───────────┴───────────┴──────────┴───┴──────────┴──────────┴──────────┴───────┘"
      ]
     },
     "execution_count": 4,
     "metadata": {},
     "output_type": "execute_result"
    }
   ],
   "source": [
    "pl.read_csv('data/hand_crafted_v3.csv')"
   ]
  },
  {
   "cell_type": "code",
   "execution_count": null,
   "metadata": {},
   "outputs": [],
   "source": []
  }
 ],
 "metadata": {
  "kernelspec": {
   "display_name": "Python 3",
   "language": "python",
   "name": "python3"
  },
  "language_info": {
   "codemirror_mode": {
    "name": "ipython",
    "version": 3
   },
   "file_extension": ".py",
   "mimetype": "text/x-python",
   "name": "python",
   "nbconvert_exporter": "python",
   "pygments_lexer": "ipython3",
   "version": "3.12.0"
  }
 },
 "nbformat": 4,
 "nbformat_minor": 2
}
