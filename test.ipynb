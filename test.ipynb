{
 "cells": [
  {
   "cell_type": "code",
   "execution_count": 193,
   "metadata": {},
   "outputs": [],
   "source": [
    "import pickle\n",
    "with open('/Users/takumishibata/Documents/project/DVRL-AES/data/allreadability.pickle', 'rb') as f:\n",
    "    data = pickle.load(f)"
   ]
  },
  {
   "cell_type": "code",
   "execution_count": 194,
   "metadata": {},
   "outputs": [],
   "source": [
    "import polars as pl\n",
    "df = pl.DataFrame(data, schema_overrides={'column_0': pl.Int64})\n",
    "df.rename({'column_0': 'item_id'}).write_csv('data/readability_features.csv')"
   ]
  },
  {
   "cell_type": "code",
   "execution_count": 200,
   "metadata": {},
   "outputs": [
    {
     "data": {
      "text/html": [
       "<div><style>\n",
       ".dataframe > thead > tr,\n",
       ".dataframe > tbody > tr {\n",
       "  text-align: right;\n",
       "  white-space: pre-wrap;\n",
       "}\n",
       "</style>\n",
       "<small>shape: (1, 54)</small><table border=\"1\" class=\"dataframe\"><thead><tr><th>item_id</th><th>prompt_id</th><th>mean_word</th><th>word_var</th><th>mean_sent</th><th>sent_var</th><th>ess_char_len</th><th>word_count</th><th>prep_comma</th><th>unique_word</th><th>clause_per_s</th><th>mean_clause_l</th><th>max_clause_in_s</th><th>spelling_err</th><th>sent_ave_depth</th><th>ave_leaf_depth</th><th>automated_readability</th><th>linsear_write</th><th>stop_prop</th><th>positive_sentence_prop</th><th>negative_sentence_prop</th><th>neutral_sentence_prop</th><th>overall_positivity_score</th><th>overall_negativity_score</th><th>,</th><th>.</th><th>VB</th><th>JJR</th><th>WP</th><th>PRP$</th><th>VBN</th><th>VBG</th><th>IN</th><th>CC</th><th>JJS</th><th>PRP</th><th>MD</th><th>WRB</th><th>RB</th><th>VBD</th><th>RBR</th><th>VBZ</th><th>NNP</th><th>POS</th><th>WDT</th><th>DT</th><th>CD</th><th>NN</th><th>TO</th><th>JJ</th><th>VBP</th><th>RP</th><th>NNS</th><th>score</th></tr><tr><td>i64</td><td>i64</td><td>f64</td><td>f64</td><td>f64</td><td>f64</td><td>i64</td><td>i64</td><td>i64</td><td>i64</td><td>f64</td><td>f64</td><td>i64</td><td>i64</td><td>f64</td><td>f64</td><td>f64</td><td>f64</td><td>f64</td><td>f64</td><td>f64</td><td>f64</td><td>f64</td><td>f64</td><td>f64</td><td>f64</td><td>f64</td><td>f64</td><td>f64</td><td>f64</td><td>f64</td><td>f64</td><td>f64</td><td>f64</td><td>f64</td><td>f64</td><td>f64</td><td>f64</td><td>f64</td><td>f64</td><td>f64</td><td>f64</td><td>f64</td><td>f64</td><td>f64</td><td>f64</td><td>f64</td><td>f64</td><td>f64</td><td>f64</td><td>f64</td><td>f64</td><td>f64</td><td>f64</td></tr></thead><tbody><tr><td>2979</td><td>2</td><td>3.886905</td><td>4.731257</td><td>56.0</td><td>882.666667</td><td>653</td><td>168</td><td>22</td><td>54</td><td>0.666667</td><td>3.5</td><td>1</td><td>15</td><td>8.666667</td><td>3.510638</td><td>25.3</td><td>28.0</td><td>0.434524</td><td>0.666667</td><td>0.0</td><td>0.333333</td><td>0.481833</td><td>0.0</td><td>0.027778</td><td>0.011111</td><td>0.088889</td><td>0.0</td><td>0.005556</td><td>0.027778</td><td>0.005556</td><td>0.005556</td><td>0.094444</td><td>0.011111</td><td>0.005556</td><td>0.038889</td><td>0.011111</td><td>0.033333</td><td>0.033333</td><td>0.0</td><td>0.0</td><td>0.027778</td><td>0.022222</td><td>0.0</td><td>0.011111</td><td>0.083333</td><td>0.0</td><td>0.144444</td><td>0.044444</td><td>0.088889</td><td>0.122222</td><td>0.0</td><td>0.038889</td><td>1.0</td></tr></tbody></table></div>"
      ],
      "text/plain": [
       "shape: (1, 54)\n",
       "┌─────────┬───────────┬───────────┬──────────┬───┬──────────┬─────┬──────────┬───────┐\n",
       "│ item_id ┆ prompt_id ┆ mean_word ┆ word_var ┆ … ┆ VBP      ┆ RP  ┆ NNS      ┆ score │\n",
       "│ ---     ┆ ---       ┆ ---       ┆ ---      ┆   ┆ ---      ┆ --- ┆ ---      ┆ ---   │\n",
       "│ i64     ┆ i64       ┆ f64       ┆ f64      ┆   ┆ f64      ┆ f64 ┆ f64      ┆ f64   │\n",
       "╞═════════╪═══════════╪═══════════╪══════════╪═══╪══════════╪═════╪══════════╪═══════╡\n",
       "│ 2979    ┆ 2         ┆ 3.886905  ┆ 4.731257 ┆ … ┆ 0.122222 ┆ 0.0 ┆ 0.038889 ┆ 1.0   │\n",
       "└─────────┴───────────┴───────────┴──────────┴───┴──────────┴─────┴──────────┴───────┘"
      ]
     },
     "execution_count": 200,
     "metadata": {},
     "output_type": "execute_result"
    }
   ],
   "source": [
    "pl.read_csv('data/hand_crafted_v3.csv').filter(pl.col('item_id') == 2979)"
   ]
  },
  {
   "cell_type": "code",
   "execution_count": 199,
   "metadata": {},
   "outputs": [
    {
     "data": {
      "text/html": [
       "<div><style>\n",
       ".dataframe > thead > tr,\n",
       ".dataframe > tbody > tr {\n",
       "  text-align: right;\n",
       "  white-space: pre-wrap;\n",
       "}\n",
       "</style>\n",
       "<small>shape: (1, 36)</small><table border=\"1\" class=\"dataframe\"><thead><tr><th>item_id</th><th>column_1</th><th>column_2</th><th>column_3</th><th>column_4</th><th>column_5</th><th>column_6</th><th>column_7</th><th>column_8</th><th>column_9</th><th>column_10</th><th>column_11</th><th>column_12</th><th>column_13</th><th>column_14</th><th>column_15</th><th>column_16</th><th>column_17</th><th>column_18</th><th>column_19</th><th>column_20</th><th>column_21</th><th>column_22</th><th>column_23</th><th>column_24</th><th>column_25</th><th>column_26</th><th>column_27</th><th>column_28</th><th>column_29</th><th>column_30</th><th>column_31</th><th>column_32</th><th>column_33</th><th>column_34</th><th>column_35</th></tr><tr><td>i64</td><td>f64</td><td>f64</td><td>f64</td><td>f64</td><td>f64</td><td>f64</td><td>f64</td><td>f64</td><td>f64</td><td>f64</td><td>f64</td><td>f64</td><td>f64</td><td>f64</td><td>f64</td><td>f64</td><td>f64</td><td>f64</td><td>f64</td><td>f64</td><td>f64</td><td>f64</td><td>f64</td><td>f64</td><td>f64</td><td>f64</td><td>f64</td><td>f64</td><td>f64</td><td>f64</td><td>f64</td><td>f64</td><td>f64</td><td>f64</td><td>f64</td></tr></thead><tbody><tr><td>21633</td><td>0.528986</td><td>0.442029</td><td>0.424033</td><td>0.523593</td><td>0.508228</td><td>0.438088</td><td>0.59555</td><td>0.318424</td><td>0.350352</td><td>0.422206</td><td>0.45385</td><td>0.415169</td><td>0.291667</td><td>0.302822</td><td>0.499235</td><td>0.532719</td><td>0.533784</td><td>0.475</td><td>0.291667</td><td>0.0</td><td>0.396648</td><td>0.380952</td><td>0.314465</td><td>0.333333</td><td>0.2</td><td>0.157143</td><td>0.325581</td><td>0.395683</td><td>0.2</td><td>0.1875</td><td>0.2</td><td>0.055556</td><td>0.454545</td><td>0.0</td><td>0.058824</td></tr></tbody></table></div>"
      ],
      "text/plain": [
       "shape: (1, 36)\n",
       "┌─────────┬──────────┬──────────┬──────────┬───┬───────────┬───────────┬───────────┬───────────┐\n",
       "│ item_id ┆ column_1 ┆ column_2 ┆ column_3 ┆ … ┆ column_32 ┆ column_33 ┆ column_34 ┆ column_35 │\n",
       "│ ---     ┆ ---      ┆ ---      ┆ ---      ┆   ┆ ---       ┆ ---       ┆ ---       ┆ ---       │\n",
       "│ i64     ┆ f64      ┆ f64      ┆ f64      ┆   ┆ f64       ┆ f64       ┆ f64       ┆ f64       │\n",
       "╞═════════╪══════════╪══════════╪══════════╪═══╪═══════════╪═══════════╪═══════════╪═══════════╡\n",
       "│ 21633   ┆ 0.528986 ┆ 0.442029 ┆ 0.424033 ┆ … ┆ 0.055556  ┆ 0.454545  ┆ 0.0       ┆ 0.058824  │\n",
       "└─────────┴──────────┴──────────┴──────────┴───┴───────────┴───────────┴───────────┴───────────┘"
      ]
     },
     "execution_count": 199,
     "metadata": {},
     "output_type": "execute_result"
    }
   ],
   "source": [
    "pl.read_csv('data/readability_features.csv').filter(pl.col('item_id') == 21633)"
   ]
  },
  {
   "cell_type": "code",
   "execution_count": null,
   "metadata": {},
   "outputs": [],
   "source": []
  }
 ],
 "metadata": {
  "kernelspec": {
   "display_name": "Python 3",
   "language": "python",
   "name": "python3"
  },
  "language_info": {
   "codemirror_mode": {
    "name": "ipython",
    "version": 3
   },
   "file_extension": ".py",
   "mimetype": "text/x-python",
   "name": "python",
   "nbconvert_exporter": "python",
   "pygments_lexer": "ipython3",
   "version": "3.12.0"
  }
 },
 "nbformat": 4,
 "nbformat_minor": 2
}
