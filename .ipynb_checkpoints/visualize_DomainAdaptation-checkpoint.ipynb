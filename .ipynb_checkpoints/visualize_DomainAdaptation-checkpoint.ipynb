{
 "cells": [
  {
   "cell_type": "code",
   "execution_count": 1,
   "metadata": {},
   "outputs": [
    {
     "name": "stdout",
     "output_type": "stream",
     "text": [
      "Wed Feb 28 19:43:25 2024       \n",
      "+---------------------------------------------------------------------------------------+\n",
      "| NVIDIA-SMI 545.23.05              Driver Version: 545.84       CUDA Version: 12.3     |\n",
      "|-----------------------------------------+----------------------+----------------------+\n",
      "| GPU  Name                 Persistence-M | Bus-Id        Disp.A | Volatile Uncorr. ECC |\n",
      "| Fan  Temp   Perf          Pwr:Usage/Cap |         Memory-Usage | GPU-Util  Compute M. |\n",
      "|                                         |                      |               MIG M. |\n",
      "|=========================================+======================+======================|\n",
      "|   0  NVIDIA GeForce RTX 4090        On  | 00000000:01:00.0  On |                  Off |\n",
      "|  0%   46C    P8              23W / 450W |    685MiB / 24564MiB |      4%      Default |\n",
      "|                                         |                      |                  N/A |\n",
      "+-----------------------------------------+----------------------+----------------------+\n",
      "                                                                                         \n",
      "+---------------------------------------------------------------------------------------+\n",
      "| Processes:                                                                            |\n",
      "|  GPU   GI   CI        PID   Type   Process name                            GPU Memory |\n",
      "|        ID   ID                                                             Usage      |\n",
      "|=======================================================================================|\n",
      "|  No running processes found                                                           |\n",
      "+---------------------------------------------------------------------------------------+\n"
     ]
    }
   ],
   "source": [
    "!nvidia-smi"
   ]
  },
  {
   "cell_type": "code",
   "execution_count": 2,
   "metadata": {},
   "outputs": [],
   "source": [
    "import numpy as np\n",
    "import pandas as pd\n",
    "import os\n",
    "import random\n",
    "import torch\n",
    "from configs.configs import Configs\n",
    "from models.predictor_model import EssayScorer\n",
    "from transformers import AutoConfig\n",
    "from utils.create_embedding_feautres import create_embedding_features\n",
    "from utils.dvrl_utils import remove_top_p_sample, fit_func, pred_func, calc_qwk, random_remove_sample\n",
    "from sklearn.metrics import mean_squared_error\n",
    "import matplotlib.pyplot as plt\n",
    "import japanize_matplotlib\n",
    "import seaborn as sns\n",
    "from sklearn.model_selection import train_test_split"
   ]
  },
  {
   "cell_type": "code",
   "execution_count": 3,
   "metadata": {},
   "outputs": [
    {
     "name": "stdout",
     "output_type": "stream",
     "text": [
      "cuda\n"
     ]
    }
   ],
   "source": [
    "test_prompt_id = 6\n",
    "# output_path = f'outputs/DVRL_DomainAdaptation/'\n",
    "output_path = f'outputs/DVRL_DomainAdaptation{test_prompt_id}/'\n",
    "\n",
    "seed = 12\n",
    "np.random.seed(seed)\n",
    "random.seed(seed)\n",
    "os.environ['PYTHONHASHSEED'] = str(seed)\n",
    "torch.manual_seed(seed)\n",
    "torch.cuda.manual_seed(seed)\n",
    "\n",
    "# parameters\n",
    "device = torch.device('cuda' if torch.cuda.is_available() else 'cpu')\n",
    "print(device)\n",
    "configs = Configs()\n",
    "attribute_name = 'score'\n",
    "\n",
    "# Load data\n",
    "data_path = configs.DATA_PATH3 + str(test_prompt_id) + '/'\n",
    "model_name = 'microsoft/deberta-v3-large'"
   ]
  },
  {
   "cell_type": "code",
   "execution_count": 4,
   "metadata": {},
   "outputs": [
    {
     "name": "stdout",
     "output_type": "stream",
     "text": [
      "load data from data/cross_prompt_attributes/6/...\n",
      "Loading embedding from cache...\n",
      "================================\n",
      "X_train:  (9498, 1024)\n",
      "Y_train:  (9498,)\n",
      "Y_train max:  1.0\n",
      "Y_train min:  0.0\n",
      "================================\n",
      "X_test:  (1620, 1024)\n",
      "Y_test:  (1620,)\n",
      "Y_test max:  1.0\n",
      "Y_test min:  0.0\n",
      "================================\n",
      "Creating predictor model...\n",
      "QWK: 0.5213\n",
      "Creating predictor model...\n",
      "QWK: 0.5832\n",
      "Creating predictor model...\n",
      "QWK: 0.5844\n",
      "Creating predictor model...\n",
      "QWK: 0.6295\n",
      "Creating predictor model...\n",
      "QWK: 0.5767\n",
      "Creating predictor model...\n",
      "QWK: 0.5924\n",
      "Creating predictor model...\n",
      "QWK: 0.5927\n",
      "Creating predictor model...\n",
      "QWK: 0.6459\n",
      "Creating predictor model...\n",
      "QWK: 0.6655\n",
      "Creating predictor model...\n",
      "QWK: 0.6659\n",
      "Creating predictor model...\n",
      "QWK: 0.6297\n",
      "Creating predictor model...\n",
      "QWK: 0.6468\n",
      "Creating predictor model...\n",
      "QWK: 0.6475\n",
      "Creating predictor model...\n",
      "QWK: 0.6525\n",
      "Creating predictor model...\n",
      "QWK: 0.6482\n",
      "Creating predictor model...\n",
      "QWK: 0.6505\n",
      "Creating predictor model...\n",
      "QWK: 0.6586\n",
      "Creating predictor model...\n",
      "QWK: 0.6419\n",
      "Creating predictor model...\n",
      "QWK: 0.6578\n",
      "Creating predictor model...\n",
      "QWK: 0.6434\n",
      "Creating predictor model...\n",
      "QWK: 0.0000\n",
      "Creating predictor model...\n",
      "QWK: 0.5213\n",
      "Creating predictor model...\n",
      "QWK: 0.5731\n",
      "Creating predictor model...\n",
      "QWK: 0.4908\n",
      "Creating predictor model...\n",
      "QWK: 0.5591\n",
      "Creating predictor model...\n",
      "QWK: 0.4771\n",
      "Creating predictor model...\n",
      "QWK: 0.5369\n",
      "Creating predictor model...\n",
      "QWK: 0.5507\n",
      "Creating predictor model...\n",
      "QWK: 0.3761\n",
      "Creating predictor model...\n",
      "QWK: 0.2566\n",
      "Creating predictor model...\n",
      "QWK: 0.3977\n",
      "Creating predictor model...\n",
      "QWK: 0.4386\n",
      "Creating predictor model...\n",
      "QWK: 0.2298\n",
      "Creating predictor model...\n",
      "QWK: 0.1874\n",
      "Creating predictor model...\n",
      "QWK: -0.1977\n",
      "Creating predictor model...\n",
      "QWK: -0.0938\n",
      "Creating predictor model...\n",
      "QWK: -0.2859\n",
      "Creating predictor model...\n",
      "QWK: 0.0406\n",
      "Creating predictor model...\n",
      "QWK: -0.2139\n",
      "Creating predictor model...\n",
      "QWK: -0.3755\n",
      "Creating predictor model...\n",
      "QWK: -0.2425\n",
      "Creating predictor model...\n",
      "QWK: 0.0000\n",
      "Creating predictor model...\n",
      "QWK: 0.5213\n",
      "Creating predictor model...\n",
      "QWK: 0.5734\n",
      "Creating predictor model...\n",
      "QWK: 0.5070\n",
      "Creating predictor model...\n",
      "QWK: 0.5587\n",
      "Creating predictor model...\n",
      "QWK: 0.5009\n",
      "Creating predictor model...\n",
      "QWK: 0.5552\n",
      "Creating predictor model...\n",
      "QWK: 0.5573\n",
      "Creating predictor model...\n",
      "QWK: 0.4338\n",
      "Creating predictor model...\n",
      "QWK: 0.5005\n",
      "Creating predictor model...\n",
      "QWK: 0.5523\n",
      "Creating predictor model...\n",
      "QWK: 0.5909\n",
      "Creating predictor model...\n",
      "QWK: 0.5773\n",
      "Creating predictor model...\n",
      "QWK: 0.5158\n",
      "Creating predictor model...\n",
      "QWK: 0.5911\n",
      "Creating predictor model...\n",
      "QWK: 0.5843\n",
      "Creating predictor model...\n",
      "QWK: 0.5097\n",
      "Creating predictor model...\n",
      "QWK: 0.5935\n",
      "Creating predictor model...\n",
      "QWK: 0.5999\n",
      "Creating predictor model...\n",
      "QWK: 0.4905\n",
      "Creating predictor model...\n",
      "QWK: 0.4537\n",
      "Creating predictor model...\n",
      "QWK: 0.0000\n"
     ]
    },
    {
     "data": {
      "image/png": "[encoded data removed]",
      "text/plain": [
       "<Figure size 1000x500 with 1 Axes>"
      ]
     },
     "metadata": {},
     "output_type": "display_data"
    },
    {
     "data": {
      "image/png": "[encoded data removed]",
      "text/plain": [
       "<Figure size 1000x500 with 1 Axes>"
      ]
     },
     "metadata": {},
     "output_type": "display_data"
    }
   ],
   "source": [
    "# train_features, _, test_features, y_train, _, y_test = create_embedding_features(data_path, test_prompt_id, attribute_name, model_name, device)\n",
    "train_data, _, test_data = create_embedding_features(data_path, test_prompt_id, attribute_name, model_name, device)\n",
    "train_features, test_features, y_train, y_test, id_test = train_data['essay'], test_data['essay'], train_data['normalized_label'], test_data['normalized_label'], test_data['essay_id']\n",
    "dev_features, test_features, y_dev, y_test, dev_ids, _ = train_test_split(test_features, y_test, id_test, test_size=0.9, random_state=seed)\n",
    "\n",
    "# print info\n",
    "print('================================')\n",
    "print('X_train: ', train_features.shape)\n",
    "print('Y_train: ', y_train.shape)\n",
    "print('Y_train max: ', np.max(y_train))\n",
    "print('Y_train min: ', np.min(y_train))\n",
    "\n",
    "# print('================================')\n",
    "# print('X_dev: ', dev_features1.shape)\n",
    "# print('Y_dev: ', y_dev1.shape)\n",
    "# print('Y_dev max: ', np.max(y_dev1))\n",
    "# print('Y_dev min: ', np.min(y_dev1))\n",
    "\n",
    "print('================================')\n",
    "print('X_test: ', test_features.shape)\n",
    "print('Y_test: ', y_test.shape)\n",
    "print('Y_test max: ', np.max(y_test))\n",
    "print('Y_test min: ', np.min(y_test))\n",
    "print('================================')\n",
    "\n",
    "# Remove high and low value samples\n",
    "low_qwks = []\n",
    "low_mse = []\n",
    "for p in np.arange(0.0, 1.01, 0.05):\n",
    "    # Create predictor\n",
    "    print('Creating predictor model...')\n",
    "    config = AutoConfig.from_pretrained(model_name)\n",
    "    pred_model = EssayScorer(config.hidden_size)\n",
    "\n",
    "    weights = remove_top_p_sample(np.load(output_path + 'estimated_data_value.npy'), top_p=p, ascending=True)\n",
    "    history = fit_func(pred_model, train_features, y_train, batch_size=256, epochs=100, device=device, sample_weight=weights)\n",
    "\n",
    "    y_pred = pred_func(pred_model, test_features, batch_size=256, device=device)\n",
    "    qwk = calc_qwk(y_test, y_pred, test_prompt_id, 'score')\n",
    "    mse = mean_squared_error(y_test, y_pred)\n",
    "    print(f'QWK: {qwk:.4f}')\n",
    "    low_qwks.append(qwk)\n",
    "    low_mse.append(mse)\n",
    "\n",
    "np.random.seed(seed)\n",
    "random.seed(seed)\n",
    "os.environ['PYTHONHASHSEED'] = str(seed)\n",
    "torch.manual_seed(seed)\n",
    "torch.cuda.manual_seed(seed)\n",
    "\n",
    "high_qwks = []\n",
    "high_mse = []\n",
    "for p in np.arange(0.0, 1.01, 0.05):\n",
    "    # Create predictor\n",
    "    print('Creating predictor model...')\n",
    "    config = AutoConfig.from_pretrained(model_name)\n",
    "    pred_model = EssayScorer(config.hidden_size)\n",
    "\n",
    "    weights = remove_top_p_sample(np.load(output_path + 'estimated_data_value.npy'), top_p=p, ascending=False)\n",
    "    history = fit_func(pred_model, train_features, y_train, batch_size=256, epochs=100, device=device, sample_weight=weights)\n",
    "\n",
    "    y_pred = pred_func(pred_model, test_features, batch_size=256, device=device)\n",
    "    qwk = calc_qwk(y_test, y_pred, test_prompt_id, 'score')\n",
    "    mse = mean_squared_error(y_test, y_pred)\n",
    "    print(f'QWK: {qwk:.4f}')\n",
    "    high_qwks.append(qwk)\n",
    "    high_mse.append(mse)\n",
    "\n",
    "\n",
    "np.random.seed(seed)\n",
    "random.seed(seed)\n",
    "os.environ['PYTHONHASHSEED'] = str(seed)\n",
    "torch.manual_seed(seed)\n",
    "torch.cuda.manual_seed(seed)\n",
    "\n",
    "random_qwks = []\n",
    "random_mse = []\n",
    "for p in np.arange(0.0, 1.01, 0.05):\n",
    "    # Create predictor\n",
    "    print('Creating predictor model...')\n",
    "    config = AutoConfig.from_pretrained(model_name)\n",
    "    pred_model = EssayScorer(config.hidden_size)\n",
    "\n",
    "    weights = random_remove_sample(np.load(output_path + 'estimated_data_value.npy'), remove_p=p)\n",
    "    history = fit_func(pred_model, train_features, y_train, batch_size=256, epochs=100, device=device, sample_weight=weights)\n",
    "\n",
    "    y_pred = pred_func(pred_model, test_features, batch_size=256, device=device)\n",
    "    qwk = calc_qwk(y_test, y_pred, test_prompt_id, 'score')\n",
    "    mse = mean_squared_error(y_test, y_pred)\n",
    "    print(f'QWK: {qwk:.4f}')\n",
    "    random_qwks.append(qwk)\n",
    "    random_mse.append(mse)\n",
    "\n",
    "# plot\n",
    "p = np.arange(0.0, 1.01, 0.05)\n",
    "plt.figure(figsize=(10, 5))\n",
    "plt.plot(p, high_qwks, label='Removing high value data', color='blue')\n",
    "plt.plot(p, low_qwks, label='Removing low value data', color='red')\n",
    "plt.plot(p, random_qwks, label='Randomly removing data', color='green')\n",
    "plt.title('Remove High/Low Value Samples: QWK')\n",
    "plt.xlabel('Fraction of Removed Samples')\n",
    "plt.ylabel('QWK')\n",
    "plt.legend()\n",
    "plt.savefig(output_path + 'remove_high_low_samples_qwk.png')\n",
    "\n",
    "plt.figure(figsize=(10, 5))\n",
    "plt.plot(p, high_mse, label='Removing high value data', color='blue')\n",
    "plt.plot(p, low_mse, label='Removing low value data', color='red')\n",
    "plt.plot(p, random_mse, label='Randomly removing data', color='green')\n",
    "plt.title('Remove High/Low Value Samples: MSE')\n",
    "plt.xlabel('Fraction of Removed Samples')\n",
    "plt.ylabel('MSE')\n",
    "plt.legend()\n",
    "plt.savefig(output_path + 'remove_high_low_samples_mse.png')"
   ]
  },
  {
   "cell_type": "code",
   "execution_count": 5,
   "metadata": {},
   "outputs": [],
   "source": [
    "data_values = np.load(output_path + 'estimated_data_value.npy')"
   ]
  },
  {
   "cell_type": "code",
   "execution_count": 6,
   "metadata": {},
   "outputs": [
    {
     "data": {
      "text/plain": [
       "0.27349177"
      ]
     },
     "execution_count": 6,
     "metadata": {},
     "output_type": "execute_result"
    }
   ],
   "source": [
    "data_values.mean()"
   ]
  },
  {
   "cell_type": "code",
   "execution_count": 7,
   "metadata": {},
   "outputs": [
    {
     "data": {
      "text/plain": [
       "0.27581194"
      ]
     },
     "execution_count": 7,
     "metadata": {},
     "output_type": "execute_result"
    }
   ],
   "source": [
    "data_values.max()"
   ]
  },
  {
   "cell_type": "code",
   "execution_count": 8,
   "metadata": {},
   "outputs": [
    {
     "data": {
      "text/plain": [
       "0.2667856"
      ]
     },
     "execution_count": 8,
     "metadata": {},
     "output_type": "execute_result"
    }
   ],
   "source": [
    "data_values.min()"
   ]
  },
  {
   "cell_type": "code",
   "execution_count": null,
   "metadata": {},
   "outputs": [],
   "source": []
  },
  {
   "cell_type": "markdown",
   "metadata": {},
   "source": [
    "### 訓練に使用したテストデータのみを用いて学習する"
   ]
  },
  {
   "cell_type": "code",
   "execution_count": 9,
   "metadata": {},
   "outputs": [],
   "source": [
    "from utils.create_embedding_feautres import load_data, normalize_scores, create_data_loader\n",
    "from transformers import AutoTokenizer, AutoModel, AutoConfig"
   ]
  },
  {
   "cell_type": "code",
   "execution_count": 10,
   "metadata": {},
   "outputs": [],
   "source": [
    "data = load_data(data_path)\n",
    "\n",
    "features = np.array(data['test']['feature'])\n",
    "labels = np.array(data['test']['label'])\n",
    "prompts = np.array(data['test']['essay_set'])\n",
    "ids = np.array(data['test']['essay_id'])\n",
    "# Normalize scores\n",
    "normalized_labels = normalize_scores(labels, prompts, attribute_name)\n",
    "\n",
    "\n",
    "train_id = np.load(output_path + 'dev_ids.npy')"
   ]
  },
  {
   "cell_type": "code",
   "execution_count": 11,
   "metadata": {},
   "outputs": [
    {
     "name": "stdout",
     "output_type": "stream",
     "text": [
      "(180,)\n",
      "(1620,)\n"
     ]
    }
   ],
   "source": [
    "train_data = {}\n",
    "test_data = {}\n",
    "\n",
    "idx = np.where(np.isin(ids, train_id))\n",
    "test_idx = np.where(np.isin(ids, train_id, invert=True))\n",
    "train_data['feature'] = features[idx]\n",
    "train_data['normalized_label'] = normalized_labels[idx]\n",
    "train_data['essay_set'] = prompts[idx]\n",
    "\n",
    "test_data['feature'] = features[test_idx]\n",
    "test_data['normalized_label'] = normalized_labels[test_idx]\n",
    "test_data['essay_set'] = prompts[test_idx]\n",
    "\n",
    "print(train_data['feature'].shape)\n",
    "print(test_data['feature'].shape)"
   ]
  },
  {
   "cell_type": "code",
   "execution_count": 12,
   "metadata": {
    "scrolled": true
   },
   "outputs": [
    {
     "name": "stderr",
     "output_type": "stream",
     "text": [
      "/home/takumi/anaconda3/envs/torch/lib/python3.10/site-packages/transformers/utils/generic.py:260: UserWarning: torch.utils._pytree._register_pytree_node is deprecated. Please use torch.utils._pytree.register_pytree_node instead.\n",
      "  torch.utils._pytree._register_pytree_node(\n"
     ]
    },
    {
     "name": "stdout",
     "output_type": "stream",
     "text": [
      "Using cuda\n",
      "Epoch 1/20\n"
     ]
    },
    {
     "name": "stderr",
     "output_type": "stream",
     "text": [
      "Training: 100%|███████████████████████████████████████| 6/6 [00:02<00:00,  2.24batch/s, loss=0.0748]\n"
     ]
    },
    {
     "name": "stdout",
     "output_type": "stream",
     "text": [
      "Training loss: 0.07481665102144082\n"
     ]
    },
    {
     "name": "stderr",
     "output_type": "stream",
     "text": [
      "Evaluation: 100%|███████████████████████████████████| 51/51 [00:06<00:00,  7.50batch/s, loss=0.0537]\n"
     ]
    },
    {
     "name": "stdout",
     "output_type": "stream",
     "text": [
      "[0.02607497]\n",
      "Test loss: 0.0537\n",
      "[TEST] -> QWK:  0.026, CORR:  0.628, RMSE:  0.232\n",
      "Epoch 2/20\n"
     ]
    },
    {
     "name": "stderr",
     "output_type": "stream",
     "text": [
      "Training: 100%|███████████████████████████████████████| 6/6 [00:02<00:00,  2.83batch/s, loss=0.0486]\n"
     ]
    },
    {
     "name": "stdout",
     "output_type": "stream",
     "text": [
      "Training loss: 0.048643144158025585\n"
     ]
    },
    {
     "name": "stderr",
     "output_type": "stream",
     "text": [
      "Evaluation: 100%|███████████████████████████████████| 51/51 [00:06<00:00,  7.50batch/s, loss=0.0428]\n"
     ]
    },
    {
     "name": "stdout",
     "output_type": "stream",
     "text": [
      "[0.23874078]\n",
      "Test loss: 0.0428\n",
      "[TEST] -> QWK:  0.239, CORR:  0.672, RMSE:  0.207\n",
      "Epoch 3/20\n"
     ]
    },
    {
     "name": "stderr",
     "output_type": "stream",
     "text": [
      "Training: 100%|███████████████████████████████████████| 6/6 [00:02<00:00,  2.77batch/s, loss=0.0327]\n"
     ]
    },
    {
     "name": "stdout",
     "output_type": "stream",
     "text": [
      "Training loss: 0.032713656313717365\n"
     ]
    },
    {
     "name": "stderr",
     "output_type": "stream",
     "text": [
      "Evaluation: 100%|███████████████████████████████████| 51/51 [00:06<00:00,  7.49batch/s, loss=0.0288]\n"
     ]
    },
    {
     "name": "stdout",
     "output_type": "stream",
     "text": [
      "[0.55095361]\n",
      "Test loss: 0.0288\n",
      "[TEST] -> QWK:  0.551, CORR:  0.727, RMSE:  0.170\n",
      "Epoch 4/20\n"
     ]
    },
    {
     "name": "stderr",
     "output_type": "stream",
     "text": [
      "Training: 100%|███████████████████████████████████████| 6/6 [00:02<00:00,  2.78batch/s, loss=0.0239]\n"
     ]
    },
    {
     "name": "stdout",
     "output_type": "stream",
     "text": [
      "Training loss: 0.02386430650949478\n"
     ]
    },
    {
     "name": "stderr",
     "output_type": "stream",
     "text": [
      "Evaluation: 100%|███████████████████████████████████| 51/51 [00:06<00:00,  7.44batch/s, loss=0.0376]\n"
     ]
    },
    {
     "name": "stdout",
     "output_type": "stream",
     "text": [
      "[0.50919346]\n",
      "Test loss: 0.0376\n",
      "[TEST] -> QWK:  0.509, CORR:  0.666, RMSE:  0.194\n",
      "Epoch 5/20\n"
     ]
    },
    {
     "name": "stderr",
     "output_type": "stream",
     "text": [
      "Training: 100%|███████████████████████████████████████| 6/6 [00:02<00:00,  2.84batch/s, loss=0.0203]\n"
     ]
    },
    {
     "name": "stdout",
     "output_type": "stream",
     "text": [
      "Training loss: 0.020344972610473633\n"
     ]
    },
    {
     "name": "stderr",
     "output_type": "stream",
     "text": [
      "Evaluation: 100%|███████████████████████████████████| 51/51 [00:06<00:00,  7.47batch/s, loss=0.0264]\n"
     ]
    },
    {
     "name": "stdout",
     "output_type": "stream",
     "text": [
      "[0.65848622]\n",
      "Test loss: 0.0264\n",
      "[TEST] -> QWK:  0.658, CORR:  0.748, RMSE:  0.163\n",
      "Epoch 6/20\n"
     ]
    },
    {
     "name": "stderr",
     "output_type": "stream",
     "text": [
      "Training: 100%|███████████████████████████████████████| 6/6 [00:02<00:00,  2.85batch/s, loss=0.0163]\n"
     ]
    },
    {
     "name": "stdout",
     "output_type": "stream",
     "text": [
      "Training loss: 0.016311137781788904\n"
     ]
    },
    {
     "name": "stderr",
     "output_type": "stream",
     "text": [
      "Evaluation: 100%|███████████████████████████████████| 51/51 [00:06<00:00,  7.47batch/s, loss=0.0266]\n"
     ]
    },
    {
     "name": "stdout",
     "output_type": "stream",
     "text": [
      "[0.61436647]\n",
      "Test loss: 0.0266\n",
      "[TEST] -> QWK:  0.614, CORR:  0.757, RMSE:  0.163\n",
      "Epoch 7/20\n"
     ]
    },
    {
     "name": "stderr",
     "output_type": "stream",
     "text": [
      "Training: 100%|███████████████████████████████████████| 6/6 [00:02<00:00,  2.81batch/s, loss=0.0138]\n"
     ]
    },
    {
     "name": "stdout",
     "output_type": "stream",
     "text": [
      "Training loss: 0.01383863016963005\n"
     ]
    },
    {
     "name": "stderr",
     "output_type": "stream",
     "text": [
      "Evaluation: 100%|███████████████████████████████████| 51/51 [00:06<00:00,  7.51batch/s, loss=0.0285]\n"
     ]
    },
    {
     "name": "stdout",
     "output_type": "stream",
     "text": [
      "[0.57328168]\n",
      "Test loss: 0.0285\n",
      "[TEST] -> QWK:  0.573, CORR:  0.761, RMSE:  0.169\n",
      "Epoch 8/20\n"
     ]
    },
    {
     "name": "stderr",
     "output_type": "stream",
     "text": [
      "Training: 100%|███████████████████████████████████████| 6/6 [00:02<00:00,  2.82batch/s, loss=0.0135]\n"
     ]
    },
    {
     "name": "stdout",
     "output_type": "stream",
     "text": [
      "Training loss: 0.013485266050944725\n"
     ]
    },
    {
     "name": "stderr",
     "output_type": "stream",
     "text": [
      "Evaluation: 100%|███████████████████████████████████| 51/51 [00:06<00:00,  7.49batch/s, loss=0.0235]\n"
     ]
    },
    {
     "name": "stdout",
     "output_type": "stream",
     "text": [
      "[0.6412632]\n",
      "Test loss: 0.0235\n",
      "[TEST] -> QWK:  0.641, CORR:  0.776, RMSE:  0.153\n",
      "Epoch 9/20\n"
     ]
    },
    {
     "name": "stderr",
     "output_type": "stream",
     "text": [
      "Training: 100%|███████████████████████████████████████| 6/6 [00:02<00:00,  2.87batch/s, loss=0.0119]\n"
     ]
    },
    {
     "name": "stdout",
     "output_type": "stream",
     "text": [
      "Training loss: 0.011886111305405697\n"
     ]
    },
    {
     "name": "stderr",
     "output_type": "stream",
     "text": [
      "Evaluation: 100%|███████████████████████████████████| 51/51 [00:06<00:00,  7.49batch/s, loss=0.0264]\n"
     ]
    },
    {
     "name": "stdout",
     "output_type": "stream",
     "text": [
      "[0.62289232]\n",
      "Test loss: 0.0264\n",
      "[TEST] -> QWK:  0.623, CORR:  0.774, RMSE:  0.163\n",
      "Epoch 10/20\n"
     ]
    },
    {
     "name": "stderr",
     "output_type": "stream",
     "text": [
      "Training: 100%|███████████████████████████████████████| 6/6 [00:02<00:00,  2.86batch/s, loss=0.0128]\n"
     ]
    },
    {
     "name": "stdout",
     "output_type": "stream",
     "text": [
      "Training loss: 0.012774029125769934\n"
     ]
    },
    {
     "name": "stderr",
     "output_type": "stream",
     "text": [
      "Evaluation: 100%|███████████████████████████████████| 51/51 [00:06<00:00,  7.48batch/s, loss=0.0242]\n"
     ]
    },
    {
     "name": "stdout",
     "output_type": "stream",
     "text": [
      "[0.64187161]\n",
      "Test loss: 0.0242\n",
      "[TEST] -> QWK:  0.642, CORR:  0.782, RMSE:  0.156\n",
      "Epoch 11/20\n"
     ]
    },
    {
     "name": "stderr",
     "output_type": "stream",
     "text": [
      "Training: 100%|███████████████████████████████████████| 6/6 [00:02<00:00,  2.83batch/s, loss=0.0104]\n"
     ]
    },
    {
     "name": "stdout",
     "output_type": "stream",
     "text": [
      "Training loss: 0.010389293854435286\n"
     ]
    },
    {
     "name": "stderr",
     "output_type": "stream",
     "text": [
      "Evaluation: 100%|███████████████████████████████████| 51/51 [00:06<00:00,  7.44batch/s, loss=0.0226]\n"
     ]
    },
    {
     "name": "stdout",
     "output_type": "stream",
     "text": [
      "[0.67615352]\n",
      "Test loss: 0.0226\n",
      "[TEST] -> QWK:  0.676, CORR:  0.786, RMSE:  0.150\n",
      "Epoch 12/20\n"
     ]
    },
    {
     "name": "stderr",
     "output_type": "stream",
     "text": [
      "Training: 100%|████████████████████████████████████████| 6/6 [00:02<00:00,  2.83batch/s, loss=0.009]\n"
     ]
    },
    {
     "name": "stdout",
     "output_type": "stream",
     "text": [
      "Training loss: 0.009000570047646761\n"
     ]
    },
    {
     "name": "stderr",
     "output_type": "stream",
     "text": [
      "Evaluation: 100%|███████████████████████████████████| 51/51 [00:06<00:00,  7.45batch/s, loss=0.0235]\n"
     ]
    },
    {
     "name": "stdout",
     "output_type": "stream",
     "text": [
      "[0.7031475]\n",
      "Test loss: 0.0235\n",
      "[TEST] -> QWK:  0.703, CORR:  0.786, RMSE:  0.153\n",
      "Epoch 13/20\n"
     ]
    },
    {
     "name": "stderr",
     "output_type": "stream",
     "text": [
      "Training: 100%|██████████████████████████████████████| 6/6 [00:02<00:00,  2.82batch/s, loss=0.00853]\n"
     ]
    },
    {
     "name": "stdout",
     "output_type": "stream",
     "text": [
      "Training loss: 0.008527344325557351\n"
     ]
    },
    {
     "name": "stderr",
     "output_type": "stream",
     "text": [
      "Evaluation: 100%|███████████████████████████████████| 51/51 [00:06<00:00,  7.32batch/s, loss=0.0224]\n"
     ]
    },
    {
     "name": "stdout",
     "output_type": "stream",
     "text": [
      "[0.71040327]\n",
      "Test loss: 0.0224\n",
      "[TEST] -> QWK:  0.710, CORR:  0.787, RMSE:  0.150\n",
      "Epoch 14/20\n"
     ]
    },
    {
     "name": "stderr",
     "output_type": "stream",
     "text": [
      "Training: 100%|██████████████████████████████████████| 6/6 [00:02<00:00,  2.78batch/s, loss=0.00878]\n"
     ]
    },
    {
     "name": "stdout",
     "output_type": "stream",
     "text": [
      "Training loss: 0.008784738834947348\n"
     ]
    },
    {
     "name": "stderr",
     "output_type": "stream",
     "text": [
      "Evaluation: 100%|███████████████████████████████████| 51/51 [00:06<00:00,  7.42batch/s, loss=0.0233]\n"
     ]
    },
    {
     "name": "stdout",
     "output_type": "stream",
     "text": [
      "[0.73046951]\n",
      "Test loss: 0.0233\n",
      "[TEST] -> QWK:  0.730, CORR:  0.789, RMSE:  0.153\n",
      "Epoch 15/20\n"
     ]
    },
    {
     "name": "stderr",
     "output_type": "stream",
     "text": [
      "Training: 100%|██████████████████████████████████████| 6/6 [00:02<00:00,  2.84batch/s, loss=0.00867]\n"
     ]
    },
    {
     "name": "stdout",
     "output_type": "stream",
     "text": [
      "Training loss: 0.00867369103555878\n"
     ]
    },
    {
     "name": "stderr",
     "output_type": "stream",
     "text": [
      "Evaluation: 100%|███████████████████████████████████| 51/51 [00:06<00:00,  7.46batch/s, loss=0.0228]\n"
     ]
    },
    {
     "name": "stdout",
     "output_type": "stream",
     "text": [
      "[0.73268379]\n",
      "Test loss: 0.0228\n",
      "[TEST] -> QWK:  0.733, CORR:  0.792, RMSE:  0.151\n",
      "Epoch 16/20\n"
     ]
    },
    {
     "name": "stderr",
     "output_type": "stream",
     "text": [
      "Training: 100%|████████████████████████████████████████| 6/6 [00:02<00:00,  2.82batch/s, loss=0.008]\n"
     ]
    },
    {
     "name": "stdout",
     "output_type": "stream",
     "text": [
      "Training loss: 0.008000840743382772\n"
     ]
    },
    {
     "name": "stderr",
     "output_type": "stream",
     "text": [
      "Evaluation: 100%|███████████████████████████████████| 51/51 [00:06<00:00,  7.41batch/s, loss=0.0221]\n"
     ]
    },
    {
     "name": "stdout",
     "output_type": "stream",
     "text": [
      "[0.72696611]\n",
      "Test loss: 0.0221\n",
      "[TEST] -> QWK:  0.727, CORR:  0.794, RMSE:  0.149\n",
      "Epoch 17/20\n"
     ]
    },
    {
     "name": "stderr",
     "output_type": "stream",
     "text": [
      "Training: 100%|██████████████████████████████████████| 6/6 [00:02<00:00,  2.87batch/s, loss=0.00756]\n"
     ]
    },
    {
     "name": "stdout",
     "output_type": "stream",
     "text": [
      "Training loss: 0.007560225824515025\n"
     ]
    },
    {
     "name": "stderr",
     "output_type": "stream",
     "text": [
      "Evaluation: 100%|███████████████████████████████████| 51/51 [00:06<00:00,  7.44batch/s, loss=0.0224]\n"
     ]
    },
    {
     "name": "stdout",
     "output_type": "stream",
     "text": [
      "[0.72762167]\n",
      "Test loss: 0.0224\n",
      "[TEST] -> QWK:  0.728, CORR:  0.795, RMSE:  0.150\n",
      "Epoch 18/20\n"
     ]
    },
    {
     "name": "stderr",
     "output_type": "stream",
     "text": [
      "Training: 100%|██████████████████████████████████████| 6/6 [00:02<00:00,  2.85batch/s, loss=0.00715]\n"
     ]
    },
    {
     "name": "stdout",
     "output_type": "stream",
     "text": [
      "Training loss: 0.007145166552315156\n"
     ]
    },
    {
     "name": "stderr",
     "output_type": "stream",
     "text": [
      "Evaluation: 100%|███████████████████████████████████| 51/51 [00:06<00:00,  7.39batch/s, loss=0.0223]\n"
     ]
    },
    {
     "name": "stdout",
     "output_type": "stream",
     "text": [
      "[0.73271839]\n",
      "Test loss: 0.0223\n",
      "[TEST] -> QWK:  0.733, CORR:  0.795, RMSE:  0.149\n",
      "Epoch 19/20\n"
     ]
    },
    {
     "name": "stderr",
     "output_type": "stream",
     "text": [
      "Training: 100%|██████████████████████████████████████| 6/6 [00:02<00:00,  2.84batch/s, loss=0.00721]\n"
     ]
    },
    {
     "name": "stdout",
     "output_type": "stream",
     "text": [
      "Training loss: 0.007206648743400971\n"
     ]
    },
    {
     "name": "stderr",
     "output_type": "stream",
     "text": [
      "Evaluation: 100%|████████████████████████████████████| 51/51 [00:06<00:00,  7.45batch/s, loss=0.022]\n"
     ]
    },
    {
     "name": "stdout",
     "output_type": "stream",
     "text": [
      "[0.73474533]\n",
      "Test loss: 0.0220\n",
      "[TEST] -> QWK:  0.735, CORR:  0.795, RMSE:  0.148\n",
      "Epoch 20/20\n"
     ]
    },
    {
     "name": "stderr",
     "output_type": "stream",
     "text": [
      "Training: 100%|██████████████████████████████████████| 6/6 [00:02<00:00,  2.84batch/s, loss=0.00708]\n"
     ]
    },
    {
     "name": "stdout",
     "output_type": "stream",
     "text": [
      "Training loss: 0.007078649243339896\n"
     ]
    },
    {
     "name": "stderr",
     "output_type": "stream",
     "text": [
      "Evaluation: 100%|████████████████████████████████████| 51/51 [00:06<00:00,  7.40batch/s, loss=0.022]"
     ]
    },
    {
     "name": "stdout",
     "output_type": "stream",
     "text": [
      "[0.7358999]\n",
      "Test loss: 0.0220\n",
      "[TEST] -> QWK:  0.736, CORR:  0.795, RMSE:  0.148\n"
     ]
    },
    {
     "name": "stderr",
     "output_type": "stream",
     "text": [
      "\n"
     ]
    }
   ],
   "source": [
    "import torch\n",
    "import torch.nn as nn\n",
    "from torch.optim import AdamW\n",
    "from transformers import get_linear_schedule_with_warmup\n",
    "from utils.evaluation import train_epoch, evaluate_epoch\n",
    "\n",
    "\n",
    "model_name = 'bert-base-uncased'\n",
    "tokenizer = AutoTokenizer.from_pretrained(model_name)\n",
    "model = AutoModel.from_pretrained(model_name).to(device)\n",
    "config = AutoConfig.from_pretrained(model_name)\n",
    "\n",
    "train_loader = create_data_loader(train_data, tokenizer, max_length=512, batch_size=32)\n",
    "test_loader = create_data_loader(test_data, tokenizer, max_length=512, batch_size=32)\n",
    "\n",
    "# set parameters\n",
    "EPOCHS = 20\n",
    "\n",
    "# Define the device\n",
    "device = torch.device(\"cuda\" if torch.cuda.is_available() else \"cpu\")\n",
    "# device = torch.device('mps')\n",
    "print(f\"Using {device}\")\n",
    "\n",
    "# Define the model\n",
    "class PreTrainedScorer(nn.Module):\n",
    "    def __init__(self, base_model: AutoModel, hidden_size=768, num_labels=1):\n",
    "        super(PreTrainedScorer, self).__init__()\n",
    "        self.base_model = base_model\n",
    "        self.regressor = nn.Linear(hidden_size, num_labels)\n",
    "        self.sigmoid = nn.Sigmoid()\n",
    "\n",
    "    def forward(self, input_ids, attention_mask):\n",
    "        outputs = self.base_model(input_ids=input_ids, attention_mask=attention_mask)\n",
    "        pooled_output = outputs.pooler_output\n",
    "        logits = self.regressor(pooled_output)\n",
    "        return self.sigmoid(logits)\n",
    "\n",
    "# Initialize the model\n",
    "model = PreTrainedScorer(model, hidden_size=config.hidden_size).to(device)\n",
    "\n",
    "# Define loss function, optimizer, and scheduler\n",
    "loss_fn = nn.MSELoss(reduction='none').to(device)\n",
    "optimizer = AdamW(model.parameters(), lr=2e-5)\n",
    "scheduler = get_linear_schedule_with_warmup(optimizer, num_warmup_steps=0, num_training_steps=len(train_loader)*EPOCHS)\n",
    "\n",
    "# Training loop\n",
    "for epoch in range(EPOCHS):\n",
    "    print(f\"Epoch {epoch+1}/{EPOCHS}\")\n",
    "\n",
    "    # Training Set\n",
    "    train_loss = train_epoch(model, train_loader, loss_fn, optimizer, device, scheduler, use_weight=False)\n",
    "    print(f\"Training loss: {train_loss}\")\n",
    "\n",
    "    # Test Set\n",
    "    eval_history = evaluate_epoch(model, test_loader, loss_fn, device, attribute_name)\n",
    "    print(f\"Test loss: {eval_history['loss']:.4f}\")\n",
    "\n",
    "    print(f'[TEST] -> QWK: {eval_history[\"qwk\"]: .3f}, CORR: {eval_history[\"corr\"]: .3f}, RMSE: {eval_history[\"rmse\"]: .3f}')\n",
    "\n",
    "best_val_metrics = [eval_history[met] for met in ['qwk', 'lwk', 'corr', 'rmse', 'mae']]\n",
    "\n",
    "pd.DataFrame(np.array(best_val_metrics).reshape(1, 5), columns=['qwk', 'lwk', 'corr', 'rmse', 'mae']).to_csv(output_path + f'baseline_metrics{test_prompt_id}.csv', index=False, header=True)"
   ]
  },
  {
   "cell_type": "markdown",
   "metadata": {},
   "source": [
    "## 選ばれたデータを用いて，別モデルを学習 (BERT)"
   ]
  },
  {
   "cell_type": "code",
   "execution_count": 13,
   "metadata": {},
   "outputs": [],
   "source": [
    "逆張り = False"
   ]
  },
  {
   "cell_type": "code",
   "execution_count": 14,
   "metadata": {},
   "outputs": [],
   "source": [
    "from utils.create_embedding_feautres import load_data, normalize_scores, create_data_loader\n",
    "from transformers import AutoTokenizer, AutoModel, AutoConfig\n",
    "import collections"
   ]
  },
  {
   "cell_type": "code",
   "execution_count": 15,
   "metadata": {},
   "outputs": [],
   "source": [
    "data = load_data(data_path)\n",
    "data_values = np.load(output_path + 'estimated_data_value.npy')\n",
    "if 逆張り:\n",
    "    weights = remove_top_p_sample(data_values, top_p=0.9, ascending=False)\n",
    "else:\n",
    "    weights = remove_top_p_sample(data_values, top_p=0.9, ascending=True)\n",
    "\n",
    "y_train = np.array(data['train']['label'])\n",
    "y_dev = np.array(data['dev']['label'])\n",
    "y_test = np.array(data['test']['label'])\n",
    "\n",
    "train_essay_prompt = np.array(data['train']['essay_set'])\n",
    "dev_essay_prompt = np.array(data['dev']['essay_set'])\n",
    "test_essay_prompt = np.array(data['test']['essay_set'])\n",
    "\n",
    "# Normalize scores\n",
    "y_train = normalize_scores(y_train, train_essay_prompt, attribute_name)\n",
    "y_dev = normalize_scores(y_dev, dev_essay_prompt, attribute_name)\n",
    "y_test = normalize_scores(y_test, test_essay_prompt, attribute_name)\n",
    "\n",
    "data['train']['normalized_label'] = y_train\n",
    "data['dev']['normalized_label'] = y_dev\n",
    "data['test']['normalized_label'] = y_test"
   ]
  },
  {
   "cell_type": "code",
   "execution_count": 16,
   "metadata": {},
   "outputs": [
    {
     "data": {
      "image/png": "[encoded data removed]",
      "text/plain": [
       "<Figure size 640x480 with 1 Axes>"
      ]
     },
     "metadata": {},
     "output_type": "display_data"
    }
   ],
   "source": [
    "if 逆張り:\n",
    "    top10per_list = train_essay_prompt[data_values.flatten().argsort()][:int(len(data_values)*0.1)]\n",
    "else:\n",
    "    top10per_list = train_essay_prompt[data_values.flatten().argsort()[::-1]][:int(len(data_values)*0.1)]\n",
    "count = collections.Counter(top10per_list)\n",
    "plt.bar(list(count.keys()), [i / len(top10per_list) for i in list(count.values())])\n",
    "plt.savefig(output_path + 'high_value_prompt.png')"
   ]
  },
  {
   "cell_type": "code",
   "execution_count": 17,
   "metadata": {},
   "outputs": [],
   "source": [
    "for key, value in dict(count).items():\n",
    "    count[key] = value / len(top10per_list)"
   ]
  },
  {
   "cell_type": "code",
   "execution_count": 18,
   "metadata": {},
   "outputs": [
    {
     "data": {
      "text/plain": [
       "{1: 0.10326659641728135,\n",
       " 3: 0.2613277133825079,\n",
       " 4: 0.2623814541622761,\n",
       " 5: 0.22760800842992623,\n",
       " 7: 0.13909378292939936,\n",
       " 8: 0.006322444678609062}"
      ]
     },
     "execution_count": 18,
     "metadata": {},
     "output_type": "execute_result"
    }
   ],
   "source": [
    "avg_weight_dict = dict((x, y) for x, y in sorted(count.items()))\n",
    "avg_weight_dict"
   ]
  },
  {
   "cell_type": "code",
   "execution_count": 19,
   "metadata": {},
   "outputs": [],
   "source": [
    "avg_weight_list = [v for k, v in avg_weight_dict.items()]"
   ]
  },
  {
   "cell_type": "code",
   "execution_count": 20,
   "metadata": {},
   "outputs": [
    {
     "name": "stdout",
     "output_type": "stream",
     "text": [
      "Using cuda\n",
      "Epoch 1/10\n"
     ]
    },
    {
     "name": "stderr",
     "output_type": "stream",
     "text": [
      "Training: 100%|█████████████████████████████████| 297/297 [01:51<00:00,  2.66batch/s, loss=0.000834]\n"
     ]
    },
    {
     "name": "stdout",
     "output_type": "stream",
     "text": [
      "Training loss: 0.000834360167399733\n"
     ]
    },
    {
     "name": "stderr",
     "output_type": "stream",
     "text": [
      "Evaluation: 100%|███████████████████████████████████| 53/53 [00:07<00:00,  7.29batch/s, loss=0.0561]\n"
     ]
    },
    {
     "name": "stdout",
     "output_type": "stream",
     "text": [
      "[0.25760562 0.07490947 0.49913486 0.56614246 0.72713154 0.55044182\n",
      " 0.0089773 ]\n"
     ]
    },
    {
     "ename": "TypeError",
     "evalue": "Axis must be specified when shapes of a and weights differ.",
     "output_type": "error",
     "traceback": [
      "\u001b[0;31m---------------------------------------------------------------------------\u001b[0m",
      "\u001b[0;31mTypeError\u001b[0m                                 Traceback (most recent call last)",
      "Cell \u001b[0;32mIn[20], line 59\u001b[0m\n\u001b[1;32m     56\u001b[0m \u001b[38;5;28mprint\u001b[39m(\u001b[38;5;124mf\u001b[39m\u001b[38;5;124m\"\u001b[39m\u001b[38;5;124mTraining loss: \u001b[39m\u001b[38;5;132;01m{\u001b[39;00mtrain_loss\u001b[38;5;132;01m}\u001b[39;00m\u001b[38;5;124m\"\u001b[39m)\n\u001b[1;32m     58\u001b[0m \u001b[38;5;66;03m# Development Set\u001b[39;00m\n\u001b[0;32m---> 59\u001b[0m dev_history \u001b[38;5;241m=\u001b[39m \u001b[43mevaluate_epoch\u001b[49m\u001b[43m(\u001b[49m\u001b[43mmodel\u001b[49m\u001b[43m,\u001b[49m\u001b[43m \u001b[49m\u001b[43mdev_loader\u001b[49m\u001b[43m,\u001b[49m\u001b[43m \u001b[49m\u001b[43mloss_fn\u001b[49m\u001b[43m,\u001b[49m\u001b[43m \u001b[49m\u001b[43mdevice\u001b[49m\u001b[43m,\u001b[49m\u001b[43m \u001b[49m\u001b[43mattribute_name\u001b[49m\u001b[43m,\u001b[49m\u001b[43m \u001b[49m\u001b[43mavg_weight_list\u001b[49m\u001b[43m)\u001b[49m\n\u001b[1;32m     60\u001b[0m \u001b[38;5;28mprint\u001b[39m(\u001b[38;5;124mf\u001b[39m\u001b[38;5;124m\"\u001b[39m\u001b[38;5;124mDev loss: \u001b[39m\u001b[38;5;132;01m{\u001b[39;00mdev_history[\u001b[38;5;124m'\u001b[39m\u001b[38;5;124mloss\u001b[39m\u001b[38;5;124m'\u001b[39m]\u001b[38;5;132;01m:\u001b[39;00m\u001b[38;5;124m.4f\u001b[39m\u001b[38;5;132;01m}\u001b[39;00m\u001b[38;5;124m\"\u001b[39m)\n\u001b[1;32m     62\u001b[0m \u001b[38;5;66;03m# Test Set\u001b[39;00m\n",
      "File \u001b[0;32m/mnt/c/Users/tandf/OneDrive - 電気通信大学/Src/DVRL/utils/evaluation.py:283\u001b[0m, in \u001b[0;36mevaluate_epoch\u001b[0;34m(model, data_loader, loss_fn, device, attribute, average_weight)\u001b[0m\n\u001b[1;32m    281\u001b[0m     avg_lwk \u001b[38;5;241m=\u001b[39m np\u001b[38;5;241m.\u001b[39maverage(np\u001b[38;5;241m.\u001b[39marray(lwks), weights\u001b[38;5;241m=\u001b[39mlens)\n\u001b[1;32m    282\u001b[0m \u001b[38;5;28;01melse\u001b[39;00m:\n\u001b[0;32m--> 283\u001b[0m     avg_qwk \u001b[38;5;241m=\u001b[39m \u001b[43mnp\u001b[49m\u001b[38;5;241;43m.\u001b[39;49m\u001b[43maverage\u001b[49m\u001b[43m(\u001b[49m\u001b[43mnp\u001b[49m\u001b[38;5;241;43m.\u001b[39;49m\u001b[43marray\u001b[49m\u001b[43m(\u001b[49m\u001b[43mqwks\u001b[49m\u001b[43m)\u001b[49m\u001b[43m,\u001b[49m\u001b[43m \u001b[49m\u001b[43mweights\u001b[49m\u001b[38;5;241;43m=\u001b[39;49m\u001b[43maverage_weight\u001b[49m\u001b[43m)\u001b[49m\n\u001b[1;32m    284\u001b[0m     avg_lwk \u001b[38;5;241m=\u001b[39m np\u001b[38;5;241m.\u001b[39maverage(np\u001b[38;5;241m.\u001b[39marray(lwks), weights\u001b[38;5;241m=\u001b[39maverage_weight)\n\u001b[1;32m    285\u001b[0m \u001b[38;5;28;01mreturn\u001b[39;00m {\n\u001b[1;32m    286\u001b[0m     \u001b[38;5;124m'\u001b[39m\u001b[38;5;124mloss\u001b[39m\u001b[38;5;124m'\u001b[39m: np\u001b[38;5;241m.\u001b[39mmean(losses),\n\u001b[1;32m    287\u001b[0m     \u001b[38;5;124m'\u001b[39m\u001b[38;5;124mqwk\u001b[39m\u001b[38;5;124m'\u001b[39m: avg_qwk,\n\u001b[0;32m   (...)\u001b[0m\n\u001b[1;32m    291\u001b[0m     \u001b[38;5;124m'\u001b[39m\u001b[38;5;124mmae\u001b[39m\u001b[38;5;124m'\u001b[39m: mae\n\u001b[1;32m    292\u001b[0m }\n",
      "File \u001b[0;32m~/anaconda3/envs/torch/lib/python3.10/site-packages/numpy/lib/function_base.py:534\u001b[0m, in \u001b[0;36maverage\u001b[0;34m(a, axis, weights, returned, keepdims)\u001b[0m\n\u001b[1;32m    532\u001b[0m \u001b[38;5;28;01mif\u001b[39;00m a\u001b[38;5;241m.\u001b[39mshape \u001b[38;5;241m!=\u001b[39m wgt\u001b[38;5;241m.\u001b[39mshape:\n\u001b[1;32m    533\u001b[0m     \u001b[38;5;28;01mif\u001b[39;00m axis \u001b[38;5;129;01mis\u001b[39;00m \u001b[38;5;28;01mNone\u001b[39;00m:\n\u001b[0;32m--> 534\u001b[0m         \u001b[38;5;28;01mraise\u001b[39;00m \u001b[38;5;167;01mTypeError\u001b[39;00m(\n\u001b[1;32m    535\u001b[0m             \u001b[38;5;124m\"\u001b[39m\u001b[38;5;124mAxis must be specified when shapes of a and weights \u001b[39m\u001b[38;5;124m\"\u001b[39m\n\u001b[1;32m    536\u001b[0m             \u001b[38;5;124m\"\u001b[39m\u001b[38;5;124mdiffer.\u001b[39m\u001b[38;5;124m\"\u001b[39m)\n\u001b[1;32m    537\u001b[0m     \u001b[38;5;28;01mif\u001b[39;00m wgt\u001b[38;5;241m.\u001b[39mndim \u001b[38;5;241m!=\u001b[39m \u001b[38;5;241m1\u001b[39m:\n\u001b[1;32m    538\u001b[0m         \u001b[38;5;28;01mraise\u001b[39;00m \u001b[38;5;167;01mTypeError\u001b[39;00m(\n\u001b[1;32m    539\u001b[0m             \u001b[38;5;124m\"\u001b[39m\u001b[38;5;124m1D weights expected when shapes of a and weights differ.\u001b[39m\u001b[38;5;124m\"\u001b[39m)\n",
      "\u001b[0;31mTypeError\u001b[0m: Axis must be specified when shapes of a and weights differ."
     ]
    }
   ],
   "source": [
    "import torch\n",
    "import torch.nn as nn\n",
    "from torch.optim import AdamW\n",
    "from transformers import get_linear_schedule_with_warmup\n",
    "from utils.evaluation import train_epoch, evaluate_epoch\n",
    "\n",
    "\n",
    "model_name = 'bert-base-uncased'\n",
    "tokenizer = AutoTokenizer.from_pretrained(model_name)\n",
    "model = AutoModel.from_pretrained(model_name).to(device)\n",
    "config = AutoConfig.from_pretrained(model_name)\n",
    "\n",
    "train_loader = create_data_loader(data['train'], tokenizer, max_length=512, batch_size=32, weights=weights)\n",
    "dev_loader = create_data_loader(data['dev'], tokenizer, max_length=512, batch_size=32)\n",
    "test_loader = create_data_loader(data['test'], tokenizer, max_length=512, batch_size=32)\n",
    "\n",
    "# set parameters\n",
    "EPOCHS = 10\n",
    "\n",
    "# Define the device\n",
    "device = torch.device(\"cuda\" if torch.cuda.is_available() else \"cpu\")\n",
    "# device = torch.device('mps')\n",
    "print(f\"Using {device}\")\n",
    "\n",
    "# Define the model\n",
    "class PreTrainedScorer(nn.Module):\n",
    "    def __init__(self, base_model: AutoModel, hidden_size=768, num_labels=1):\n",
    "        super(PreTrainedScorer, self).__init__()\n",
    "        self.base_model = base_model\n",
    "        self.regressor = nn.Linear(hidden_size, num_labels)\n",
    "        self.sigmoid = nn.Sigmoid()\n",
    "\n",
    "    def forward(self, input_ids, attention_mask):\n",
    "        outputs = self.base_model(input_ids=input_ids, attention_mask=attention_mask)\n",
    "        pooled_output = outputs.pooler_output\n",
    "        logits = self.regressor(pooled_output)\n",
    "        return self.sigmoid(logits)\n",
    "\n",
    "# Initialize the model\n",
    "model = PreTrainedScorer(model, hidden_size=config.hidden_size).to(device)\n",
    "\n",
    "# Define loss function, optimizer, and scheduler\n",
    "loss_fn = nn.MSELoss(reduction='none').to(device)\n",
    "optimizer = AdamW(model.parameters(), lr=2e-5)\n",
    "scheduler = get_linear_schedule_with_warmup(optimizer, num_warmup_steps=0, num_training_steps=len(train_loader)*EPOCHS)\n",
    "\n",
    "# Training loop\n",
    "best_test_metrics = [-1, -1, -1, -1, -1]\n",
    "best_val_metrics = [-1, -1, -1, -1, -1]\n",
    "best_test = [-1, -1, -1, -1, -1]\n",
    "for epoch in range(EPOCHS):\n",
    "    print(f\"Epoch {epoch+1}/{EPOCHS}\")\n",
    "\n",
    "    # Training Set\n",
    "    train_loss = train_epoch(model, train_loader, loss_fn, optimizer, device, scheduler)\n",
    "    print(f\"Training loss: {train_loss}\")\n",
    "\n",
    "    # Development Set\n",
    "    dev_history = evaluate_epoch(model, dev_loader, loss_fn, device, attribute_name, avg_weight_list)\n",
    "    print(f\"Dev loss: {dev_history['loss']:.4f}\")\n",
    "\n",
    "    # Test Set\n",
    "    eval_history = evaluate_epoch(model, test_loader, loss_fn, device, attribute_name)\n",
    "    print(f\"Test loss: {eval_history['loss']:.4f}\")\n",
    "\n",
    "    print(f'[VAL]  -> QWK: {dev_history[\"qwk\"]: .3f}, CORR: {dev_history[\"corr\"]: .3f}, RMSE: {dev_history[\"rmse\"]: .3f}')\n",
    "    print(f'[TEST] -> QWK: {eval_history[\"qwk\"]: .3f}, CORR: {eval_history[\"corr\"]: .3f}, RMSE: {eval_history[\"rmse\"]: .3f}')\n",
    "\n",
    "    if dev_history[\"qwk\"] > best_val_metrics[0]:\n",
    "        for i, met in enumerate(['qwk', 'lwk', 'corr', 'rmse', 'mae']):\n",
    "            best_val_metrics[i] = dev_history[met]\n",
    "            best_test_metrics[i] = eval_history[met]\n",
    "    if eval_history[\"qwk\"] > best_test[0]:\n",
    "        for i, met in enumerate(['qwk', 'lwk', 'corr', 'rmse', 'mae']):\n",
    "            best_test[i] = eval_history[met]\n",
    "\n",
    "    print(f'[BEST] -> QWK: {best_test_metrics[0]: .3f}, CORR: {best_test_metrics[2]: .3f}, RMSE: {best_test_metrics[3]: .3f}')\n",
    "\n",
    "pd.DataFrame(np.array(best_test_metrics).reshape(1, 5), columns=['qwk', 'lwk', 'corr', 'rmse', 'mae']).to_csv(output_path + f'BERT_best_metrics{test_prompt_id}.csv', index=False, header=True)\n",
    "pd.DataFrame(np.array(best_test).reshape(1, 5), columns=['qwk', 'lwk', 'corr', 'rmse', 'mae']).to_csv(output_path + f'BERT_sample_metrics{test_prompt_id}.csv', index=False, header=True)"
   ]
  },
  {
   "cell_type": "markdown",
   "metadata": {},
   "source": [
    "## 選ばれたデータを用いて，別モデルを学習 (PAES)"
   ]
  },
  {
   "cell_type": "code",
   "execution_count": null,
   "metadata": {},
   "outputs": [],
   "source": [
    "from utils.read_data import read_essays_single_score, read_pos_vocab\n",
    "from utils.general_utils import get_single_scaled_down_score, pad_hierarchical_text_sequences\n",
    "from torch.utils.data import TensorDataset, DataLoader\n",
    "from models.PAES import PAES, fastPAES\n",
    "from utils.evaluation import train_model, evaluate_model\n",
    "\n",
    "# Load configs\n",
    "configs = Configs()\n",
    "\n",
    "data_path = configs.DATA_PATH3\n",
    "print(f'load data from {data_path}...')\n",
    "train_path = data_path + str(test_prompt_id) + '/train.pk'\n",
    "dev_path = data_path + str(test_prompt_id) + '/dev.pk'\n",
    "test_path = data_path + str(test_prompt_id) + '/test.pk'\n",
    "features_path = configs.FEATURES_PATH\n",
    "readability_path = configs.READABILITY_PATH\n",
    "vocab_size = configs.VOCAB_SIZE\n",
    "epochs = configs.EPOCHS\n",
    "batch_size = configs.BATCH_SIZE\n",
    "\n",
    "read_configs = {\n",
    "    'train_path': train_path,\n",
    "    'dev_path': dev_path,\n",
    "    'test_path': test_path,\n",
    "    'features_path': features_path,\n",
    "    'readability_path': readability_path,\n",
    "    'vocab_size': vocab_size\n",
    "}\n",
    "\n",
    "# Read data\n",
    "pos_vocab = read_pos_vocab(read_configs)\n",
    "train_data, dev_data, test_data = read_essays_single_score(read_configs, pos_vocab, attribute_name)\n",
    "\n",
    "# Get max sentence length and max sentence number\n",
    "max_sentnum = max(train_data['max_sentnum'], dev_data['max_sentnum'], test_data['max_sentnum'])\n",
    "max_sentlen = max(train_data['max_sentlen'], dev_data['max_sentlen'], test_data['max_sentlen'])\n",
    "\n",
    "# Scale down the scores\n",
    "train_data['y_scaled'] = get_single_scaled_down_score(train_data['data_y'], train_data['prompt_ids'], attribute_name)\n",
    "dev_data['y_scaled'] = get_single_scaled_down_score(dev_data['data_y'], dev_data['prompt_ids'], attribute_name)\n",
    "test_data['y_scaled'] = get_single_scaled_down_score(test_data['data_y'], test_data['prompt_ids'], attribute_name)\n",
    "\n",
    "# Pad the sequences with shape [batch, max_sentence_num, max_sentence_length]\n",
    "X_train_pos = pad_hierarchical_text_sequences(train_data['pos_x'], max_sentnum, max_sentlen)\n",
    "X_dev_pos = pad_hierarchical_text_sequences(dev_data['pos_x'], max_sentnum, max_sentlen)\n",
    "X_test_pos = pad_hierarchical_text_sequences(test_data['pos_x'], max_sentnum, max_sentlen)\n",
    "\n",
    "X_train_pos = X_train_pos.reshape((X_train_pos.shape[0], X_train_pos.shape[1] * X_train_pos.shape[2]))\n",
    "X_dev_pos = X_dev_pos.reshape((X_dev_pos.shape[0], X_dev_pos.shape[1] * X_dev_pos.shape[2]))\n",
    "X_test_pos = X_test_pos.reshape((X_test_pos.shape[0], X_test_pos.shape[1] * X_test_pos.shape[2]))\n",
    "\n",
    "# convert to tensor\n",
    "X_train= torch.tensor(X_train_pos, dtype=torch.long)\n",
    "X_dev = torch.tensor(X_dev_pos, dtype=torch.long)\n",
    "X_test= torch.tensor(X_test_pos, dtype=torch.long)\n",
    "\n",
    "X_train_linguistic_features = torch.tensor(np.array(train_data['features_x']), dtype=torch.float)\n",
    "X_dev_linguistic_features = torch.tensor(np.array(dev_data['features_x']), dtype=torch.float)\n",
    "X_test_linguistic_features = torch.tensor(np.array(test_data['features_x']), dtype=torch.float)\n",
    "\n",
    "X_train_readability = torch.tensor(np.array(train_data['readability_x']), dtype=torch.float)\n",
    "X_dev_readability = torch.tensor(np.array(dev_data['readability_x']), dtype=torch.float)\n",
    "X_test_readability = torch.tensor(np.array(test_data['readability_x']), dtype=torch.float)\n",
    "\n",
    "Y_train = torch.tensor(np.array(train_data['y_scaled']), dtype=torch.float)\n",
    "Y_dev = torch.tensor(np.array(dev_data['y_scaled']), dtype=torch.float)\n",
    "Y_test = torch.tensor(np.array(test_data['y_scaled']), dtype=torch.float)\n",
    "\n",
    "train_essay_set = torch.tensor(np.array(train_data['prompt_ids']), dtype=torch.long)\n",
    "dev_essay_set = torch.tensor(np.array(dev_data['prompt_ids']), dtype=torch.long)\n",
    "test_essay_set = torch.tensor(np.array(test_data['prompt_ids']), dtype=torch.long)\n",
    "\n",
    "# Load weights\n",
    "data_values = np.load(output_path + 'estimated_data_value.npy')\n",
    "if 逆張り:\n",
    "    weights = remove_top_p_sample(data_values, top_p=0.9, ascending=False)\n",
    "else:\n",
    "    weights = remove_top_p_sample(data_values, top_p=0.9, ascending=True)\n",
    "weights = torch.tensor(weights, dtype=torch.float)\n",
    "\n",
    "# Create Datasets\n",
    "train_dataset = TensorDataset(X_train, Y_train, X_train_linguistic_features, X_train_readability, train_essay_set, weights)\n",
    "dev_dataset = TensorDataset(X_dev, Y_dev, X_dev_linguistic_features, X_dev_readability, dev_essay_set)\n",
    "test_dataset = TensorDataset(X_test, Y_test, X_test_linguistic_features, X_test_readability, test_essay_set)\n",
    "# Create Dataloaders\n",
    "train_loader = DataLoader(dataset=train_dataset, batch_size=batch_size, shuffle=True, num_workers=4, pin_memory=True)\n",
    "dev_loader = DataLoader(dataset=dev_dataset, batch_size=batch_size, shuffle=True, num_workers=4, pin_memory=True)\n",
    "test_loader = DataLoader(dataset=test_dataset, batch_size=batch_size, shuffle=True, num_workers=4, pin_memory=True)"
   ]
  },
  {
   "cell_type": "code",
   "execution_count": null,
   "metadata": {
    "scrolled": true
   },
   "outputs": [],
   "source": [
    "import torch.nn as nn\n",
    "import torch.optim as optim\n",
    "import torch\n",
    "\n",
    "model = fastPAES(max_sentnum, max_sentlen, X_train_linguistic_features.size(1), X_train_readability.size(1), pos_vocab=pos_vocab)\n",
    "model = model.to(device)\n",
    "print(model)\n",
    "\n",
    "# Create loss and optimizer\n",
    "reduction = 'none'\n",
    "MSE_Loss = nn.MSELoss(reduction=reduction).to(device)\n",
    "optimizer = torch.optim.RMSprop(model.parameters(), lr=0.001)\n",
    "\n",
    "train_history = []\n",
    "dev_history = []\n",
    "test_history = []\n",
    "best_test_metrics = [-1, -1, -1, -1, -1]\n",
    "best_val_metrics = [-1, -1, -1, -1, -1]\n",
    "best_test = [-1, -1, -1, -1, -1]\n",
    "for epoch in range(epochs):\n",
    "    print('{} / {} EPOCHS'.format(epoch+1, epochs))\n",
    "    print('Seed: {}, Prompt: {}'.format(seed, test_prompt_id))\n",
    "    \n",
    "    # Train the model\n",
    "    train_loss = train_model(model, train_loader, MSE_Loss, optimizer, device, weight=True)\n",
    "    print(f'Train loss: {train_loss: .4f}')\n",
    "    train_history.append(train_loss)\n",
    "\n",
    "    # Evaluate the model on dev set\n",
    "    dev_results = evaluate_model(model, dev_loader, MSE_Loss, device, attribute_name, avg_weight_list)\n",
    "    print(f'Validation loss: {dev_results[\"loss\"]: .4f}')\n",
    "    dev_history.append(dev_results[\"loss\"])\n",
    "\n",
    "    # Evaluate the model on test set\n",
    "    test_results = evaluate_model(model, test_loader, MSE_Loss, device, attribute_name)\n",
    "    print(f'Test loss: {test_results[\"loss\"]: .4f}')\n",
    "    test_history.append(test_results[\"loss\"])\n",
    "\n",
    "    if dev_results[\"qwk\"] > best_val_metrics[0]:\n",
    "        for i, met in enumerate(['qwk', 'lwk', 'corr', 'rmse', 'mae']):\n",
    "            best_val_metrics[i] = dev_results[met]\n",
    "            best_test_metrics[i] = test_results[met]\n",
    "    if test_results[\"qwk\"] > best_test[0]:\n",
    "        for i, met in enumerate(['qwk', 'lwk', 'corr', 'rmse', 'mae']):\n",
    "            best_test[i] = test_results[met]\n",
    "\n",
    "    # if epoch % 10 == 0:\n",
    "    #     print(f'[VAL]  -> QWK: {dev_results[\"qwk\"]: .3f}, CORR: {dev_results[\"corr\"]: .3f}, RMSE: {dev_results[\"rmse\"]: .3f}')\n",
    "    #     print(f'[TEST] -> QWK: {test_results[\"qwk\"]: .3f}, CORR: {test_results[\"corr\"]: .3f}, RMSE: {test_results[\"rmse\"]: .3f}')\n",
    "    #     print(f'[BEST] -> QWK: {best_test_metrics[0]: .3f}, CORR: {best_test_metrics[2]: .3f}, RMSE: {best_test_metrics[3]: .3f}')\n",
    "    \n",
    "pd.DataFrame(np.array(best_test_metrics).reshape(1, 5), columns=['qwk', 'lwk', 'corr', 'rmse', 'mae']).to_csv(output_path + f'PAES_best_metrics{test_prompt_id}.csv', index=False, header=True)\n",
    "pd.DataFrame(np.array(best_test).reshape(1, 5), columns=['qwk', 'lwk', 'corr', 'rmse', 'mae']).to_csv(output_path + f'PAES_sample_metrics{test_prompt_id}.csv', index=False, header=True)"
   ]
  },
  {
   "cell_type": "code",
   "execution_count": null,
   "metadata": {},
   "outputs": [],
   "source": []
  }
 ],
 "metadata": {
  "kernelspec": {
   "display_name": "Python 3 (ipykernel)",
   "language": "python",
   "name": "python3"
  },
  "language_info": {
   "codemirror_mode": {
    "name": "ipython",
    "version": 3
   },
   "file_extension": ".py",
   "mimetype": "text/x-python",
   "name": "python",
   "nbconvert_exporter": "python",
   "pygments_lexer": "ipython3",
   "version": "3.10.13"
  }
 },
 "nbformat": 4,
 "nbformat_minor": 4
}
