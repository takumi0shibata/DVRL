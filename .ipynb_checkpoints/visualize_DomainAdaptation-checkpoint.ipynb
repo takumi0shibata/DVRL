{
 "cells": [
  {
   "cell_type": "code",
   "execution_count": 1,
   "metadata": {},
   "outputs": [],
   "source": [
    "import numpy as np\n",
    "import pandas as pd\n",
    "import os\n",
    "import random\n",
    "import torch\n",
    "from configs.configs import Configs\n",
    "from models.predictor_model import EssayScorer\n",
    "from transformers import AutoConfig\n",
    "from utils.create_embedding_feautres import create_embedding_features\n",
    "from utils.dvrl_utils import remove_top_p_sample, fit_func, pred_func, calc_qwk, random_remove_sample\n",
    "from sklearn.metrics import mean_squared_error\n",
    "import matplotlib.pyplot as plt\n",
    "import japanize_matplotlib"
   ]
  },
  {
   "cell_type": "code",
   "execution_count": 2,
   "metadata": {},
   "outputs": [
    {
     "name": "stdout",
     "output_type": "stream",
     "text": [
      "cuda\n"
     ]
    }
   ],
   "source": [
    "test_prompt_id = 1\n",
    "# output_path = f'outputs/DVRL_DomainAdaptation/'\n",
    "output_path = f'outputs/DVRL_DomainAdaptation{test_prompt_id}/'\n",
    "\n",
    "seed = 12\n",
    "np.random.seed(seed)\n",
    "random.seed(seed)\n",
    "os.environ['PYTHONHASHSEED'] = str(seed)\n",
    "torch.manual_seed(seed)\n",
    "torch.cuda.manual_seed(seed)\n",
    "\n",
    "# parameters\n",
    "device = torch.device('cuda' if torch.cuda.is_available() else 'cpu')\n",
    "print(device)\n",
    "configs = Configs()\n",
    "attribute_name = 'score'\n",
    "\n",
    "# Load data\n",
    "data_path = configs.DATA_PATH3 + str(test_prompt_id) + '/'\n",
    "model_name = 'microsoft/deberta-v3-large'"
   ]
  },
  {
   "cell_type": "code",
   "execution_count": 5,
   "metadata": {},
   "outputs": [
    {
     "name": "stdout",
     "output_type": "stream",
     "text": [
      "load data from data/cross_prompt_attributes/1/...\n",
      "Loading embedding from cache...\n",
      "================================\n",
      "X_train:  (9513, 1024)\n",
      "Y_train:  (9513,)\n",
      "Y_train max:  1.0\n",
      "Y_train min:  0.0\n",
      "================================\n",
      "X_test:  (1783, 1024)\n",
      "Y_test:  (1783,)\n",
      "Y_test max:  1.0\n",
      "Y_test min:  0.0\n",
      "================================\n",
      "Creating predictor model...\n",
      "QWK: 0.5356\n",
      "Creating predictor model...\n",
      "QWK: 0.5416\n",
      "Creating predictor model...\n",
      "QWK: 0.3818\n",
      "Creating predictor model...\n",
      "QWK: 0.3606\n",
      "Creating predictor model...\n",
      "QWK: 0.4951\n",
      "Creating predictor model...\n",
      "QWK: 0.4247\n",
      "Creating predictor model...\n",
      "QWK: 0.2565\n",
      "Creating predictor model...\n",
      "QWK: 0.5195\n",
      "Creating predictor model...\n",
      "QWK: 0.4867\n",
      "Creating predictor model...\n",
      "QWK: 0.3494\n",
      "Creating predictor model...\n",
      "QWK: 0.1474\n",
      "Creating predictor model...\n",
      "QWK: 0.2933\n",
      "Creating predictor model...\n",
      "QWK: 0.0926\n",
      "Creating predictor model...\n",
      "QWK: 0.2919\n",
      "Creating predictor model...\n",
      "QWK: 0.0584\n",
      "Creating predictor model...\n",
      "QWK: -0.0576\n",
      "Creating predictor model...\n",
      "QWK: -0.0717\n",
      "Creating predictor model...\n",
      "QWK: -0.1904\n",
      "Creating predictor model...\n",
      "QWK: -0.2889\n",
      "Creating predictor model...\n",
      "QWK: -0.3421\n",
      "Creating predictor model...\n",
      "QWK: 0.0138\n",
      "Creating predictor model...\n",
      "QWK: 0.5356\n",
      "Creating predictor model...\n",
      "QWK: 0.6212\n",
      "Creating predictor model...\n",
      "QWK: 0.4937\n",
      "Creating predictor model...\n",
      "QWK: 0.4921\n",
      "Creating predictor model...\n",
      "QWK: 0.5427\n",
      "Creating predictor model...\n",
      "QWK: 0.6110\n",
      "Creating predictor model...\n",
      "QWK: 0.5669\n",
      "Creating predictor model...\n",
      "QWK: 0.5891\n",
      "Creating predictor model...\n",
      "QWK: 0.5393\n",
      "Creating predictor model...\n",
      "QWK: 0.5841\n",
      "Creating predictor model...\n",
      "QWK: 0.6026\n",
      "Creating predictor model...\n",
      "QWK: 0.7177\n",
      "Creating predictor model...\n",
      "QWK: 0.6987\n",
      "Creating predictor model...\n",
      "QWK: 0.7022\n",
      "Creating predictor model...\n",
      "QWK: 0.7072\n",
      "Creating predictor model...\n",
      "QWK: 0.7647\n",
      "Creating predictor model...\n",
      "QWK: 0.7799\n",
      "Creating predictor model...\n",
      "QWK: 0.7707\n",
      "Creating predictor model...\n",
      "QWK: 0.7696\n",
      "Creating predictor model...\n",
      "QWK: 0.7767\n",
      "Creating predictor model...\n",
      "QWK: 0.0138\n",
      "Creating predictor model...\n",
      "QWK: 0.5356\n",
      "Creating predictor model...\n",
      "QWK: 0.5750\n",
      "Creating predictor model...\n",
      "QWK: 0.4511\n",
      "Creating predictor model...\n",
      "QWK: 0.5390\n",
      "Creating predictor model...\n",
      "QWK: 0.5580\n",
      "Creating predictor model...\n",
      "QWK: 0.6364\n",
      "Creating predictor model...\n",
      "QWK: 0.3936\n",
      "Creating predictor model...\n",
      "QWK: 0.4067\n",
      "Creating predictor model...\n",
      "QWK: 0.5407\n",
      "Creating predictor model...\n",
      "QWK: 0.4541\n",
      "Creating predictor model...\n",
      "QWK: 0.4388\n",
      "Creating predictor model...\n",
      "QWK: 0.4555\n",
      "Creating predictor model...\n",
      "QWK: 0.5845\n",
      "Creating predictor model...\n",
      "QWK: 0.4076\n",
      "Creating predictor model...\n",
      "QWK: 0.2385\n",
      "Creating predictor model...\n",
      "QWK: 0.6453\n",
      "Creating predictor model...\n",
      "QWK: 0.4904\n",
      "Creating predictor model...\n",
      "QWK: 0.4175\n",
      "Creating predictor model...\n",
      "QWK: 0.2654\n",
      "Creating predictor model...\n",
      "QWK: 0.0966\n",
      "Creating predictor model...\n",
      "QWK: 0.0138\n"
     ]
    },
    {
     "data": {
      "image/png": "[encoded data removed]",
      "text/plain": [
       "<Figure size 1000x500 with 1 Axes>"
      ]
     },
     "metadata": {},
     "output_type": "display_data"
    },
    {
     "data": {
      "image/png": "[encoded data removed]",
      "text/plain": [
       "<Figure size 1000x500 with 1 Axes>"
      ]
     },
     "metadata": {},
     "output_type": "display_data"
    }
   ],
   "source": [
    "train_features, _, test_features, y_train, _, y_test = create_embedding_features(data_path, test_prompt_id, attribute_name, model_name, device)\n",
    "\n",
    "# print info\n",
    "print('================================')\n",
    "print('X_train: ', train_features.shape)\n",
    "print('Y_train: ', y_train.shape)\n",
    "print('Y_train max: ', np.max(y_train))\n",
    "print('Y_train min: ', np.min(y_train))\n",
    "\n",
    "# print('================================')\n",
    "# print('X_dev: ', dev_features1.shape)\n",
    "# print('Y_dev: ', y_dev1.shape)\n",
    "# print('Y_dev max: ', np.max(y_dev1))\n",
    "# print('Y_dev min: ', np.min(y_dev1))\n",
    "\n",
    "print('================================')\n",
    "print('X_test: ', test_features.shape)\n",
    "print('Y_test: ', y_test.shape)\n",
    "print('Y_test max: ', np.max(y_test))\n",
    "print('Y_test min: ', np.min(y_test))\n",
    "print('================================')\n",
    "\n",
    "# Remove high and low value samples\n",
    "low_qwks = []\n",
    "low_mse = []\n",
    "for p in np.arange(0.0, 1.01, 0.05):\n",
    "    # Create predictor\n",
    "    print('Creating predictor model...')\n",
    "    config = AutoConfig.from_pretrained(model_name)\n",
    "    pred_model = EssayScorer(config.hidden_size)\n",
    "\n",
    "    weights = remove_top_p_sample(np.load(output_path + 'estimated_data_value.npy'), top_p=p, ascending=True)\n",
    "    history = fit_func(pred_model, train_features, y_train, batch_size=256, epochs=100, device=device, sample_weight=weights)\n",
    "\n",
    "    y_pred = pred_func(pred_model, test_features, batch_size=256, device=device)\n",
    "    qwk = calc_qwk(y_test, y_pred, test_prompt_id, 'score')\n",
    "    mse = mean_squared_error(y_test, y_pred)\n",
    "    print(f'QWK: {qwk:.4f}')\n",
    "    low_qwks.append(qwk)\n",
    "    low_mse.append(mse)\n",
    "\n",
    "np.random.seed(seed)\n",
    "random.seed(seed)\n",
    "os.environ['PYTHONHASHSEED'] = str(seed)\n",
    "torch.manual_seed(seed)\n",
    "torch.cuda.manual_seed(seed)\n",
    "\n",
    "high_qwks = []\n",
    "high_mse = []\n",
    "for p in np.arange(0.0, 1.01, 0.05):\n",
    "    # Create predictor\n",
    "    print('Creating predictor model...')\n",
    "    config = AutoConfig.from_pretrained(model_name)\n",
    "    pred_model = EssayScorer(config.hidden_size)\n",
    "\n",
    "    weights = remove_top_p_sample(np.load(output_path + 'estimated_data_value.npy'), top_p=p, ascending=False)\n",
    "    history = fit_func(pred_model, train_features, y_train, batch_size=256, epochs=100, device=device, sample_weight=weights)\n",
    "\n",
    "    y_pred = pred_func(pred_model, test_features, batch_size=256, device=device)\n",
    "    qwk = calc_qwk(y_test, y_pred, test_prompt_id, 'score')\n",
    "    mse = mean_squared_error(y_test, y_pred)\n",
    "    print(f'QWK: {qwk:.4f}')\n",
    "    high_qwks.append(qwk)\n",
    "    high_mse.append(mse)\n",
    "\n",
    "\n",
    "np.random.seed(seed)\n",
    "random.seed(seed)\n",
    "os.environ['PYTHONHASHSEED'] = str(seed)\n",
    "torch.manual_seed(seed)\n",
    "torch.cuda.manual_seed(seed)\n",
    "\n",
    "random_qwks = []\n",
    "random_mse = []\n",
    "for p in np.arange(0.0, 1.01, 0.05):\n",
    "    # Create predictor\n",
    "    print('Creating predictor model...')\n",
    "    config = AutoConfig.from_pretrained(model_name)\n",
    "    pred_model = EssayScorer(config.hidden_size)\n",
    "\n",
    "    weights = random_remove_sample(np.load(output_path + 'estimated_data_value.npy'), remove_p=p)\n",
    "    history = fit_func(pred_model, train_features, y_train, batch_size=256, epochs=100, device=device, sample_weight=weights)\n",
    "\n",
    "    y_pred = pred_func(pred_model, test_features, batch_size=256, device=device)\n",
    "    qwk = calc_qwk(y_test, y_pred, test_prompt_id, 'score')\n",
    "    mse = mean_squared_error(y_test, y_pred)\n",
    "    print(f'QWK: {qwk:.4f}')\n",
    "    random_qwks.append(qwk)\n",
    "    random_mse.append(mse)\n",
    "\n",
    "# plot\n",
    "p = np.arange(0.0, 1.01, 0.05)\n",
    "plt.figure(figsize=(10, 5))\n",
    "plt.plot(p, high_qwks, label='Removing high value data', color='blue')\n",
    "plt.plot(p, low_qwks, label='Removing low value data', color='red')\n",
    "plt.plot(p, random_qwks, label='Randomly removing data', color='green')\n",
    "plt.title('Remove High/Low Value Samples: QWK')\n",
    "plt.xlabel('Fraction of Removed Samples')\n",
    "plt.ylabel('QWK')\n",
    "plt.legend()\n",
    "plt.savefig(output_path + 'remove_high_low_samples_qwk.png')\n",
    "\n",
    "plt.figure(figsize=(10, 5))\n",
    "plt.plot(p, high_mse, label='Removing high value data', color='blue')\n",
    "plt.plot(p, low_mse, label='Removing low value data', color='red')\n",
    "plt.plot(p, random_mse, label='Randomly removing data', color='green')\n",
    "plt.title('Remove High/Low Value Samples: MSE')\n",
    "plt.xlabel('Fraction of Removed Samples')\n",
    "plt.ylabel('MSE')\n",
    "plt.legend()\n",
    "plt.savefig(output_path + 'remove_high_low_samples_mse.png')"
   ]
  },
  {
   "cell_type": "code",
   "execution_count": 5,
   "metadata": {},
   "outputs": [],
   "source": [
    "data_values = np.load(output_path + 'estimated_data_value.npy')"
   ]
  },
  {
   "cell_type": "code",
   "execution_count": 6,
   "metadata": {},
   "outputs": [
    {
     "data": {
      "text/plain": [
       "0.78301144"
      ]
     },
     "execution_count": 6,
     "metadata": {},
     "output_type": "execute_result"
    }
   ],
   "source": [
    "data_values.mean()"
   ]
  },
  {
   "cell_type": "code",
   "execution_count": 7,
   "metadata": {},
   "outputs": [
    {
     "data": {
      "text/plain": [
       "0.79293925"
      ]
     },
     "execution_count": 7,
     "metadata": {},
     "output_type": "execute_result"
    }
   ],
   "source": [
    "data_values.max()"
   ]
  },
  {
   "cell_type": "code",
   "execution_count": 8,
   "metadata": {},
   "outputs": [
    {
     "data": {
      "text/plain": [
       "0.7789216"
      ]
     },
     "execution_count": 8,
     "metadata": {},
     "output_type": "execute_result"
    }
   ],
   "source": [
    "data_values.min()"
   ]
  },
  {
   "cell_type": "code",
   "execution_count": null,
   "metadata": {},
   "outputs": [],
   "source": []
  },
  {
   "cell_type": "markdown",
   "metadata": {},
   "source": [
    "## 選ばれたデータを用いて，別モデルを学習 (BERT)"
   ]
  },
  {
   "cell_type": "code",
   "execution_count": 6,
   "metadata": {},
   "outputs": [],
   "source": [
    "from utils.create_embedding_feautres import load_data, normalize_scores, create_data_loader\n",
    "from transformers import AutoTokenizer, AutoModel, AutoConfig"
   ]
  },
  {
   "cell_type": "code",
   "execution_count": 7,
   "metadata": {},
   "outputs": [],
   "source": [
    "data = load_data(data_path)\n",
    "data_values = np.load(output_path + 'estimated_data_value.npy')\n",
    "weights = remove_top_p_sample(data_values, top_p=0.9, ascending=False)\n",
    "\n",
    "y_train = np.array(data['train']['label'])\n",
    "y_dev = np.array(data['dev']['label'])\n",
    "y_test = np.array(data['test']['label'])\n",
    "\n",
    "train_essay_prompt = np.array(data['train']['essay_set'])\n",
    "dev_essay_prompt = np.array(data['dev']['essay_set'])\n",
    "test_essay_prompt = np.array(data['test']['essay_set'])\n",
    "\n",
    "# Normalize scores\n",
    "y_train = normalize_scores(y_train, train_essay_prompt, attribute_name)\n",
    "y_dev = normalize_scores(y_dev, dev_essay_prompt, attribute_name)\n",
    "y_test = normalize_scores(y_test, test_essay_prompt, attribute_name)\n",
    "\n",
    "data['train']['normalized_label'] = y_train\n",
    "data['dev']['normalized_label'] = y_dev\n",
    "data['test']['normalized_label'] = y_test"
   ]
  },
  {
   "cell_type": "code",
   "execution_count": 10,
   "metadata": {},
   "outputs": [
    {
     "name": "stdout",
     "output_type": "stream",
     "text": [
      "Using cuda\n",
      "Epoch 1/10\n"
     ]
    },
    {
     "name": "stderr",
     "output_type": "stream",
     "text": [
      "Training: 100%|█████████████████████████████████| 298/298 [01:57<00:00,  2.54batch/s, loss=0.000968]\n"
     ]
    },
    {
     "name": "stdout",
     "output_type": "stream",
     "text": [
      "Training loss: 0.0009683760607733532\n"
     ]
    },
    {
     "name": "stderr",
     "output_type": "stream",
     "text": [
      "Evaluation: 100%|███████████████████████████████████| 53/53 [00:08<00:00,  6.29batch/s, loss=0.0643]\n"
     ]
    },
    {
     "name": "stdout",
     "output_type": "stream",
     "text": [
      "[0.33289005 0.40203805 0.56171047 0.40135872 0.23551025 0.65875071\n",
      " 0.12520339]\n",
      "Dev loss: 0.0643\n",
      "Dev QWK: 0.4075\n"
     ]
    },
    {
     "name": "stderr",
     "output_type": "stream",
     "text": [
      "Evaluation: 100%|██████████████████████████████████| 56/56 [00:08<00:00,  6.29batch/s, loss=0.00927]\n"
     ]
    },
    {
     "name": "stdout",
     "output_type": "stream",
     "text": [
      "[0.75627164]\n",
      "Test loss: 0.0093\n",
      "Test QWK: 0.7563\n",
      "Epoch 2/10\n"
     ]
    },
    {
     "name": "stderr",
     "output_type": "stream",
     "text": [
      "Training: 100%|█████████████████████████████████| 298/298 [01:57<00:00,  2.55batch/s, loss=0.000298]\n"
     ]
    },
    {
     "name": "stdout",
     "output_type": "stream",
     "text": [
      "Training loss: 0.0002978161002809457\n"
     ]
    },
    {
     "name": "stderr",
     "output_type": "stream",
     "text": [
      "Evaluation: 100%|███████████████████████████████████| 53/53 [00:08<00:00,  6.24batch/s, loss=0.0682]\n"
     ]
    },
    {
     "name": "stdout",
     "output_type": "stream",
     "text": [
      "[0.41192319 0.3172232  0.53898704 0.42354563 0.28341264 0.62812419\n",
      " 0.15766031]\n",
      "Dev loss: 0.0682\n",
      "Dev QWK: 0.4125\n"
     ]
    },
    {
     "name": "stderr",
     "output_type": "stream",
     "text": [
      "Evaluation: 100%|██████████████████████████████████| 56/56 [00:09<00:00,  6.22batch/s, loss=0.00866]\n"
     ]
    },
    {
     "name": "stdout",
     "output_type": "stream",
     "text": [
      "[0.76687445]\n",
      "Test loss: 0.0087\n",
      "Test QWK: 0.7669\n",
      "Epoch 3/10\n"
     ]
    },
    {
     "name": "stderr",
     "output_type": "stream",
     "text": [
      "Training: 100%|██████████████████████████████████| 298/298 [01:56<00:00,  2.55batch/s, loss=0.00017]\n"
     ]
    },
    {
     "name": "stdout",
     "output_type": "stream",
     "text": [
      "Training loss: 0.00016966060566659207\n"
     ]
    },
    {
     "name": "stderr",
     "output_type": "stream",
     "text": [
      "Evaluation: 100%|███████████████████████████████████| 53/53 [00:08<00:00,  6.22batch/s, loss=0.0715]\n"
     ]
    },
    {
     "name": "stdout",
     "output_type": "stream",
     "text": [
      "[0.43394104 0.23668417 0.45250378 0.4318142  0.28395752 0.60803249\n",
      " 0.17496066]\n",
      "Dev loss: 0.0715\n",
      "Dev QWK: 0.3897\n"
     ]
    },
    {
     "name": "stderr",
     "output_type": "stream",
     "text": [
      "Evaluation: 100%|███████████████████████████████████| 56/56 [00:09<00:00,  6.20batch/s, loss=0.0102]\n"
     ]
    },
    {
     "name": "stdout",
     "output_type": "stream",
     "text": [
      "[0.76637312]\n",
      "Test loss: 0.0102\n",
      "Test QWK: 0.7664\n",
      "Epoch 4/10\n"
     ]
    },
    {
     "name": "stderr",
     "output_type": "stream",
     "text": [
      "Training: 100%|█████████████████████████████████| 298/298 [01:56<00:00,  2.55batch/s, loss=0.000135]\n"
     ]
    },
    {
     "name": "stdout",
     "output_type": "stream",
     "text": [
      "Training loss: 0.00013539777348313083\n"
     ]
    },
    {
     "name": "stderr",
     "output_type": "stream",
     "text": [
      "Evaluation: 100%|███████████████████████████████████| 53/53 [00:08<00:00,  6.21batch/s, loss=0.0715]\n"
     ]
    },
    {
     "name": "stdout",
     "output_type": "stream",
     "text": [
      "[0.47757375 0.20041226 0.50281708 0.40031382 0.26327078 0.58444594\n",
      " 0.21921686]\n",
      "Dev loss: 0.0715\n",
      "Dev QWK: 0.3902\n"
     ]
    },
    {
     "name": "stderr",
     "output_type": "stream",
     "text": [
      "Evaluation: 100%|█████████████████████████████████████| 56/56 [00:08<00:00,  6.23batch/s, loss=0.01]\n"
     ]
    },
    {
     "name": "stdout",
     "output_type": "stream",
     "text": [
      "[0.76558051]\n",
      "Test loss: 0.0100\n",
      "Test QWK: 0.7656\n",
      "Epoch 5/10\n"
     ]
    },
    {
     "name": "stderr",
     "output_type": "stream",
     "text": [
      "Training: 100%|█████████████████████████████████| 298/298 [01:51<00:00,  2.68batch/s, loss=0.000106]\n"
     ]
    },
    {
     "name": "stdout",
     "output_type": "stream",
     "text": [
      "Training loss: 0.00010649489619342841\n"
     ]
    },
    {
     "name": "stderr",
     "output_type": "stream",
     "text": [
      "Evaluation: 100%|███████████████████████████████████| 53/53 [00:07<00:00,  7.48batch/s, loss=0.0678]\n"
     ]
    },
    {
     "name": "stdout",
     "output_type": "stream",
     "text": [
      "[0.4360587  0.23318625 0.52732873 0.42575329 0.27266339 0.626407\n",
      " 0.18962219]\n",
      "Dev loss: 0.0678\n",
      "Dev QWK: 0.4021\n"
     ]
    },
    {
     "name": "stderr",
     "output_type": "stream",
     "text": [
      "Evaluation: 100%|██████████████████████████████████| 56/56 [00:07<00:00,  7.34batch/s, loss=0.00949]\n"
     ]
    },
    {
     "name": "stdout",
     "output_type": "stream",
     "text": [
      "[0.77091748]\n",
      "Test loss: 0.0095\n",
      "Test QWK: 0.7709\n",
      "Epoch 6/10\n"
     ]
    },
    {
     "name": "stderr",
     "output_type": "stream",
     "text": [
      "Training: 100%|██████████████████████████████████| 298/298 [01:51<00:00,  2.68batch/s, loss=7.31e-5]\n"
     ]
    },
    {
     "name": "stdout",
     "output_type": "stream",
     "text": [
      "Training loss: 7.30641193291085e-05\n"
     ]
    },
    {
     "name": "stderr",
     "output_type": "stream",
     "text": [
      "Evaluation: 100%|███████████████████████████████████| 53/53 [00:07<00:00,  7.41batch/s, loss=0.0589]\n"
     ]
    },
    {
     "name": "stdout",
     "output_type": "stream",
     "text": [
      "[0.40412401 0.38696506 0.57611647 0.43962259 0.2783525  0.69640775\n",
      " 0.15394136]\n",
      "Dev loss: 0.0589\n",
      "Dev QWK: 0.4391\n"
     ]
    },
    {
     "name": "stderr",
     "output_type": "stream",
     "text": [
      "Evaluation: 100%|██████████████████████████████████| 56/56 [00:07<00:00,  7.40batch/s, loss=0.00916]\n"
     ]
    },
    {
     "name": "stdout",
     "output_type": "stream",
     "text": [
      "[0.74991018]\n",
      "Test loss: 0.0092\n",
      "Test QWK: 0.7499\n",
      "Epoch 7/10\n"
     ]
    },
    {
     "name": "stderr",
     "output_type": "stream",
     "text": [
      "Training: 100%|██████████████████████████████████| 298/298 [01:50<00:00,  2.69batch/s, loss=5.44e-5]\n"
     ]
    },
    {
     "name": "stdout",
     "output_type": "stream",
     "text": [
      "Training loss: 5.4400621416331825e-05\n"
     ]
    },
    {
     "name": "stderr",
     "output_type": "stream",
     "text": [
      "Evaluation: 100%|███████████████████████████████████| 53/53 [00:07<00:00,  7.50batch/s, loss=0.0607]\n"
     ]
    },
    {
     "name": "stdout",
     "output_type": "stream",
     "text": [
      "[0.41846362 0.35748503 0.57130324 0.42570616 0.27799213 0.68157686\n",
      " 0.19397278]\n",
      "Dev loss: 0.0607\n",
      "Dev QWK: 0.4343\n"
     ]
    },
    {
     "name": "stderr",
     "output_type": "stream",
     "text": [
      "Evaluation: 100%|██████████████████████████████████| 56/56 [00:07<00:00,  7.42batch/s, loss=0.00939]\n"
     ]
    },
    {
     "name": "stdout",
     "output_type": "stream",
     "text": [
      "[0.75340491]\n",
      "Test loss: 0.0094\n",
      "Test QWK: 0.7534\n",
      "Epoch 8/10\n"
     ]
    },
    {
     "name": "stderr",
     "output_type": "stream",
     "text": [
      "Training: 100%|██████████████████████████████████| 298/298 [01:55<00:00,  2.59batch/s, loss=3.95e-5]\n"
     ]
    },
    {
     "name": "stdout",
     "output_type": "stream",
     "text": [
      "Training loss: 3.947215861432426e-05\n"
     ]
    },
    {
     "name": "stderr",
     "output_type": "stream",
     "text": [
      "Evaluation: 100%|███████████████████████████████████| 53/53 [00:08<00:00,  6.20batch/s, loss=0.0651]\n"
     ]
    },
    {
     "name": "stdout",
     "output_type": "stream",
     "text": [
      "[0.43573843 0.27519826 0.55447986 0.42802716 0.27389395 0.64041367\n",
      " 0.20440497]\n",
      "Dev loss: 0.0651\n",
      "Dev QWK: 0.4163\n"
     ]
    },
    {
     "name": "stderr",
     "output_type": "stream",
     "text": [
      "Evaluation: 100%|██████████████████████████████████| 56/56 [00:09<00:00,  6.16batch/s, loss=0.00936]\n"
     ]
    },
    {
     "name": "stdout",
     "output_type": "stream",
     "text": [
      "[0.7695084]\n",
      "Test loss: 0.0094\n",
      "Test QWK: 0.7695\n",
      "Epoch 9/10\n"
     ]
    },
    {
     "name": "stderr",
     "output_type": "stream",
     "text": [
      "Training: 100%|██████████████████████████████████| 298/298 [01:56<00:00,  2.55batch/s, loss=3.26e-5]\n"
     ]
    },
    {
     "name": "stdout",
     "output_type": "stream",
     "text": [
      "Training loss: 3.2577189590712335e-05\n"
     ]
    },
    {
     "name": "stderr",
     "output_type": "stream",
     "text": [
      "Evaluation: 100%|███████████████████████████████████| 53/53 [00:07<00:00,  7.49batch/s, loss=0.0661]\n"
     ]
    },
    {
     "name": "stdout",
     "output_type": "stream",
     "text": [
      "[0.44560468 0.26650317 0.54290438 0.43005056 0.27205141 0.63892958\n",
      " 0.19625289]\n",
      "Dev loss: 0.0661\n",
      "Dev QWK: 0.4140\n"
     ]
    },
    {
     "name": "stderr",
     "output_type": "stream",
     "text": [
      "Evaluation: 100%|███████████████████████████████████| 56/56 [00:07<00:00,  7.44batch/s, loss=0.0092]\n"
     ]
    },
    {
     "name": "stdout",
     "output_type": "stream",
     "text": [
      "[0.77007293]\n",
      "Test loss: 0.0092\n",
      "Test QWK: 0.7701\n",
      "Epoch 10/10\n"
     ]
    },
    {
     "name": "stderr",
     "output_type": "stream",
     "text": [
      "Training: 100%|██████████████████████████████████| 298/298 [01:50<00:00,  2.69batch/s, loss=2.69e-5]\n"
     ]
    },
    {
     "name": "stdout",
     "output_type": "stream",
     "text": [
      "Training loss: 2.689426360003395e-05\n"
     ]
    },
    {
     "name": "stderr",
     "output_type": "stream",
     "text": [
      "Evaluation: 100%|███████████████████████████████████| 53/53 [00:07<00:00,  7.53batch/s, loss=0.0647]\n"
     ]
    },
    {
     "name": "stdout",
     "output_type": "stream",
     "text": [
      "[0.43114449 0.26292774 0.54574779 0.42789359 0.27236063 0.64619941\n",
      " 0.18838192]\n",
      "Dev loss: 0.0647\n",
      "Dev QWK: 0.4118\n"
     ]
    },
    {
     "name": "stderr",
     "output_type": "stream",
     "text": [
      "Evaluation: 100%|██████████████████████████████████| 56/56 [00:07<00:00,  7.44batch/s, loss=0.00915]"
     ]
    },
    {
     "name": "stdout",
     "output_type": "stream",
     "text": [
      "[0.76681733]\n",
      "Test loss: 0.0092\n",
      "Test QWK: 0.7668\n"
     ]
    },
    {
     "name": "stderr",
     "output_type": "stream",
     "text": [
      "\n"
     ]
    },
    {
     "ename": "NameError",
     "evalue": "name 'pd' is not defined",
     "output_type": "error",
     "traceback": [
      "\u001b[0;31m---------------------------------------------------------------------------\u001b[0m",
      "\u001b[0;31mNameError\u001b[0m                                 Traceback (most recent call last)",
      "Cell \u001b[0;32mIn[10], line 71\u001b[0m\n\u001b[1;32m     68\u001b[0m             best_val_metrics[i] \u001b[38;5;241m=\u001b[39m dev_history[met]\n\u001b[1;32m     69\u001b[0m             best_test_metrics[i] \u001b[38;5;241m=\u001b[39m eval_history[met]\n\u001b[0;32m---> 71\u001b[0m \u001b[43mpd\u001b[49m\u001b[38;5;241m.\u001b[39mDataFrame(np\u001b[38;5;241m.\u001b[39marray(best_val_metrics)\u001b[38;5;241m.\u001b[39mreshape(\u001b[38;5;241m1\u001b[39m, \u001b[38;5;241m5\u001b[39m), columns\u001b[38;5;241m=\u001b[39m[\u001b[38;5;124m'\u001b[39m\u001b[38;5;124mqwk\u001b[39m\u001b[38;5;124m'\u001b[39m, \u001b[38;5;124m'\u001b[39m\u001b[38;5;124mlwk\u001b[39m\u001b[38;5;124m'\u001b[39m, \u001b[38;5;124m'\u001b[39m\u001b[38;5;124mcorr\u001b[39m\u001b[38;5;124m'\u001b[39m, \u001b[38;5;124m'\u001b[39m\u001b[38;5;124mrmse\u001b[39m\u001b[38;5;124m'\u001b[39m, \u001b[38;5;124m'\u001b[39m\u001b[38;5;124mmae\u001b[39m\u001b[38;5;124m'\u001b[39m])\u001b[38;5;241m.\u001b[39mto_csv(output_path \u001b[38;5;241m+\u001b[39m \u001b[38;5;124mf\u001b[39m\u001b[38;5;124m'\u001b[39m\u001b[38;5;124mbest_dev_metrics\u001b[39m\u001b[38;5;132;01m{\u001b[39;00mtest_prompt_id\u001b[38;5;132;01m}\u001b[39;00m\u001b[38;5;124m.csv\u001b[39m\u001b[38;5;124m'\u001b[39m, index\u001b[38;5;241m=\u001b[39m\u001b[38;5;28;01mFalse\u001b[39;00m, header\u001b[38;5;241m=\u001b[39m\u001b[38;5;28;01mTrue\u001b[39;00m)\n\u001b[1;32m     72\u001b[0m pd\u001b[38;5;241m.\u001b[39mDataFrame(np\u001b[38;5;241m.\u001b[39marray(best_test_metrics)\u001b[38;5;241m.\u001b[39mreshape(\u001b[38;5;241m1\u001b[39m, \u001b[38;5;241m5\u001b[39m), columns\u001b[38;5;241m=\u001b[39m[\u001b[38;5;124m'\u001b[39m\u001b[38;5;124mqwk\u001b[39m\u001b[38;5;124m'\u001b[39m, \u001b[38;5;124m'\u001b[39m\u001b[38;5;124mlwk\u001b[39m\u001b[38;5;124m'\u001b[39m, \u001b[38;5;124m'\u001b[39m\u001b[38;5;124mcorr\u001b[39m\u001b[38;5;124m'\u001b[39m, \u001b[38;5;124m'\u001b[39m\u001b[38;5;124mrmse\u001b[39m\u001b[38;5;124m'\u001b[39m, \u001b[38;5;124m'\u001b[39m\u001b[38;5;124mmae\u001b[39m\u001b[38;5;124m'\u001b[39m])\u001b[38;5;241m.\u001b[39mto_csv(output_path \u001b[38;5;241m+\u001b[39m \u001b[38;5;124mf\u001b[39m\u001b[38;5;124m'\u001b[39m\u001b[38;5;124mbest_metrics\u001b[39m\u001b[38;5;132;01m{\u001b[39;00mtest_prompt_id\u001b[38;5;132;01m}\u001b[39;00m\u001b[38;5;124m.csv\u001b[39m\u001b[38;5;124m'\u001b[39m, index\u001b[38;5;241m=\u001b[39m\u001b[38;5;28;01mFalse\u001b[39;00m, header\u001b[38;5;241m=\u001b[39m\u001b[38;5;28;01mTrue\u001b[39;00m)\n",
      "\u001b[0;31mNameError\u001b[0m: name 'pd' is not defined"
     ]
    }
   ],
   "source": [
    "import torch\n",
    "import torch.nn as nn\n",
    "from torch.optim import AdamW\n",
    "from transformers import get_linear_schedule_with_warmup\n",
    "from utils.evaluation import train_epoch, evaluate_epoch\n",
    "\n",
    "\n",
    "model_name = 'bert-base-uncased'\n",
    "tokenizer = AutoTokenizer.from_pretrained(model_name)\n",
    "model = AutoModel.from_pretrained(model_name).to(device)\n",
    "config = AutoConfig.from_pretrained(model_name)\n",
    "\n",
    "train_loader = create_data_loader(data['train'], tokenizer, max_length=512, batch_size=32, weights=weights)\n",
    "dev_loader = create_data_loader(data['dev'], tokenizer, max_length=512, batch_size=32)\n",
    "test_loader = create_data_loader(data['test'], tokenizer, max_length=512, batch_size=32)\n",
    "\n",
    "# set parameters\n",
    "EPOCHS = 10\n",
    "\n",
    "# Define the device\n",
    "device = torch.device(\"cuda\" if torch.cuda.is_available() else \"cpu\")\n",
    "# device = torch.device('mps')\n",
    "print(f\"Using {device}\")\n",
    "\n",
    "# Define the model\n",
    "class PreTrainedScorer(nn.Module):\n",
    "    def __init__(self, base_model: AutoModel, hidden_size=768, num_labels=1):\n",
    "        super(PreTrainedScorer, self).__init__()\n",
    "        self.base_model = base_model\n",
    "        self.regressor = nn.Linear(hidden_size, num_labels)\n",
    "        self.sigmoid = nn.Sigmoid()\n",
    "\n",
    "    def forward(self, input_ids, attention_mask):\n",
    "        outputs = self.base_model(input_ids=input_ids, attention_mask=attention_mask)\n",
    "        pooled_output = outputs.pooler_output\n",
    "        logits = self.regressor(pooled_output)\n",
    "        return self.sigmoid(logits)\n",
    "\n",
    "# Initialize the model\n",
    "model = PreTrainedScorer(model, hidden_size=config.hidden_size).to(device)\n",
    "\n",
    "# Define loss function, optimizer, and scheduler\n",
    "loss_fn = nn.MSELoss(reduction='none').to(device)\n",
    "optimizer = AdamW(model.parameters(), lr=2e-5)\n",
    "scheduler = get_linear_schedule_with_warmup(optimizer, num_warmup_steps=0, num_training_steps=len(train_loader)*EPOCHS)\n",
    "\n",
    "# Training loop\n",
    "best_test_metrics = [-1, -1, -1, -1, -1]\n",
    "best_val_metrics = [-1, -1, -1, -1, -1]\n",
    "best_test = [-1, -1, -1, -1, -1]\n",
    "for epoch in range(EPOCHS):\n",
    "    print(f\"Epoch {epoch+1}/{EPOCHS}\")\n",
    "\n",
    "    # Training Set\n",
    "    train_loss = train_epoch(model, train_loader, loss_fn, optimizer, device, scheduler)\n",
    "    print(f\"Training loss: {train_loss}\")\n",
    "\n",
    "    # Development Set\n",
    "    dev_history = evaluate_epoch(model, dev_loader, loss_fn, device, attribute_name)\n",
    "    print(f\"Dev loss: {dev_history['loss']:.4f}\")\n",
    "\n",
    "    # Test Set\n",
    "    eval_history = evaluate_epoch(model, test_loader, loss_fn, device, attribute_name)\n",
    "    print(f\"Test loss: {eval_history['loss']:.4f}\")\n",
    "\n",
    "    print(f'[VAL]  -> QWK: {dev_history[\"qwk\"]: .3f}, CORR: {dev_history[\"corr\"]: .3f}, RMSE: {dev_history[\"rmse\"]: .3f}')\n",
    "    print(f'[TEST] -> QWK: {eval_history[\"qwk\"]: .3f}, CORR: {eval_history[\"corr\"]: .3f}, RMSE: {eval_history[\"rmse\"]: .3f}')\n",
    "\n",
    "    if dev_history[\"qwk\"] > best_val_metrics[0]:\n",
    "        for i, met in enumerate(['qwk', 'lwk', 'corr', 'rmse', 'mae']):\n",
    "            best_val_metrics[i] = dev_history[met]\n",
    "            best_test_metrics[i] = eval_history[met]\n",
    "    if eval_history[\"qwk\"] > best_test[0]:\n",
    "        for i, met in enumerate(['qwk', 'lwk', 'corr', 'rmse', 'mae']):\n",
    "            best_test[i] = eval_history[met]\n",
    "\n",
    "    print(f'[BEST] -> QWK: {best_test_metrics[0]: .3f}, CORR: {best_test_metrics[2]: .3f}, RMSE: {best_test_metrics[3]: .3f}')\n",
    "\n",
    "pd.DataFrame(np.array(best_val_metrics).reshape(1, 5), columns=['qwk', 'lwk', 'corr', 'rmse', 'mae']).to_csv(output_path + f'best_dev_metrics{test_prompt_id}.csv', index=False, header=True)\n",
    "pd.DataFrame(np.array(best_test_metrics).reshape(1, 5), columns=['qwk', 'lwk', 'corr', 'rmse', 'mae']).to_csv(output_path + f'best_metrics{test_prompt_id}.csv', index=False, header=True)\n",
    "pd.DataFrame(np.array(best_test).reshape(1, 5), columns=['qwk', 'lwk', 'corr', 'rmse', 'mae']).to_csv(output_path + f'sample_metrics{test_prompt_id}.csv', index=False, header=True)"
   ]
  },
  {
   "cell_type": "markdown",
   "metadata": {},
   "source": [
    "## 選ばれたデータを用いて，別モデルを学習 (PAES)"
   ]
  },
  {
   "cell_type": "code",
   "execution_count": 3,
   "metadata": {},
   "outputs": [
    {
     "name": "stdout",
     "output_type": "stream",
     "text": [
      "load data from data/cross_prompt_attributes/...\n",
      " pos_x size: 9513\n",
      " readability_x size: 9513\n",
      " pos_x size: 1680\n",
      " readability_x size: 1680\n",
      " pos_x size: 1783\n",
      " readability_x size: 1783\n"
     ]
    }
   ],
   "source": [
    "from utils.read_data import read_essays_single_score, read_pos_vocab\n",
    "from utils.general_utils import get_single_scaled_down_score, pad_hierarchical_text_sequences\n",
    "from torch.utils.data import TensorDataset, DataLoader\n",
    "from models.PAES import PAES\n",
    "from utils.evaluation import train_model, evaluate_model\n",
    "\n",
    "# Load configs\n",
    "configs = Configs()\n",
    "\n",
    "data_path = configs.DATA_PATH3\n",
    "print(f'load data from {data_path}...')\n",
    "train_path = data_path + str(test_prompt_id) + '/train.pk'\n",
    "dev_path = data_path + str(test_prompt_id) + '/dev.pk'\n",
    "test_path = data_path + str(test_prompt_id) + '/test.pk'\n",
    "features_path = configs.FEATURES_PATH\n",
    "readability_path = configs.READABILITY_PATH\n",
    "vocab_size = configs.VOCAB_SIZE\n",
    "epochs = configs.EPOCHS\n",
    "batch_size = configs.BATCH_SIZE\n",
    "\n",
    "read_configs = {\n",
    "    'train_path': train_path,\n",
    "    'dev_path': dev_path,\n",
    "    'test_path': test_path,\n",
    "    'features_path': features_path,\n",
    "    'readability_path': readability_path,\n",
    "    'vocab_size': vocab_size\n",
    "}\n",
    "\n",
    "# Read data\n",
    "pos_vocab = read_pos_vocab(read_configs)\n",
    "train_data, dev_data, test_data = read_essays_single_score(read_configs, pos_vocab, attribute_name)\n",
    "\n",
    "# Get max sentence length and max sentence number\n",
    "max_sentnum = max(train_data['max_sentnum'], dev_data['max_sentnum'], test_data['max_sentnum'])\n",
    "max_sentlen = max(train_data['max_sentlen'], dev_data['max_sentlen'], test_data['max_sentlen'])\n",
    "\n",
    "# Scale down the scores\n",
    "train_data['y_scaled'] = get_single_scaled_down_score(train_data['data_y'], train_data['prompt_ids'], attribute_name)\n",
    "dev_data['y_scaled'] = get_single_scaled_down_score(dev_data['data_y'], dev_data['prompt_ids'], attribute_name)\n",
    "test_data['y_scaled'] = get_single_scaled_down_score(test_data['data_y'], test_data['prompt_ids'], attribute_name)\n",
    "\n",
    "# Pad the sequences with shape [batch, max_sentence_num, max_sentence_length]\n",
    "X_train_pos = pad_hierarchical_text_sequences(train_data['pos_x'], max_sentnum, max_sentlen)\n",
    "X_dev_pos = pad_hierarchical_text_sequences(dev_data['pos_x'], max_sentnum, max_sentlen)\n",
    "X_test_pos = pad_hierarchical_text_sequences(test_data['pos_x'], max_sentnum, max_sentlen)\n",
    "\n",
    "X_train_pos = X_train_pos.reshape((X_train_pos.shape[0], X_train_pos.shape[1] * X_train_pos.shape[2]))\n",
    "X_dev_pos = X_dev_pos.reshape((X_dev_pos.shape[0], X_dev_pos.shape[1] * X_dev_pos.shape[2]))\n",
    "X_test_pos = X_test_pos.reshape((X_test_pos.shape[0], X_test_pos.shape[1] * X_test_pos.shape[2]))\n",
    "\n",
    "# convert to tensor\n",
    "X_train= torch.tensor(X_train_pos, dtype=torch.long)\n",
    "X_dev = torch.tensor(X_dev_pos, dtype=torch.long)\n",
    "X_test= torch.tensor(X_test_pos, dtype=torch.long)\n",
    "\n",
    "X_train_linguistic_features = torch.tensor(np.array(train_data['features_x']), dtype=torch.float)\n",
    "X_dev_linguistic_features = torch.tensor(np.array(dev_data['features_x']), dtype=torch.float)\n",
    "X_test_linguistic_features = torch.tensor(np.array(test_data['features_x']), dtype=torch.float)\n",
    "\n",
    "X_train_readability = torch.tensor(np.array(train_data['readability_x']), dtype=torch.float)\n",
    "X_dev_readability = torch.tensor(np.array(dev_data['readability_x']), dtype=torch.float)\n",
    "X_test_readability = torch.tensor(np.array(test_data['readability_x']), dtype=torch.float)\n",
    "\n",
    "Y_train = torch.tensor(np.array(train_data['y_scaled']), dtype=torch.float)\n",
    "Y_dev = torch.tensor(np.array(dev_data['y_scaled']), dtype=torch.float)\n",
    "Y_test = torch.tensor(np.array(test_data['y_scaled']), dtype=torch.float)\n",
    "\n",
    "train_essay_set = torch.tensor(np.array(train_data['prompt_ids']), dtype=torch.long)\n",
    "dev_essay_set = torch.tensor(np.array(dev_data['prompt_ids']), dtype=torch.long)\n",
    "test_essay_set = torch.tensor(np.array(test_data['prompt_ids']), dtype=torch.long)\n",
    "\n",
    "# Load weights\n",
    "data_values = np.load(output_path + 'estimated_data_value.npy')\n",
    "weights = remove_top_p_sample(data_values, top_p=0.9, ascending=False)\n",
    "weights = torch.tensor(weights, dtype=torch.float)\n",
    "\n",
    "# Create Datasets\n",
    "train_dataset = TensorDataset(X_train, Y_train, X_train_linguistic_features, X_train_readability, train_essay_set, weights)\n",
    "dev_dataset = TensorDataset(X_dev, Y_dev, X_dev_linguistic_features, X_dev_readability, dev_essay_set)\n",
    "test_dataset = TensorDataset(X_test, Y_test, X_test_linguistic_features, X_test_readability, test_essay_set)\n",
    "# Create Dataloaders\n",
    "train_loader = DataLoader(dataset=train_dataset, batch_size=batch_size, shuffle=True, num_workers=4, pin_memory=True)\n",
    "dev_loader = DataLoader(dataset=dev_dataset, batch_size=batch_size, shuffle=True, num_workers=4, pin_memory=True)\n",
    "test_loader = DataLoader(dataset=test_dataset, batch_size=batch_size, shuffle=True, num_workers=4, pin_memory=True)"
   ]
  },
  {
   "cell_type": "code",
   "execution_count": 4,
   "metadata": {},
   "outputs": [
    {
     "name": "stdout",
     "output_type": "stream",
     "text": [
      "PAES(\n",
      "  (embed_layer): Embedding(36, 50, padding_idx=0)\n",
      "  (conv1d): Conv1d(50, 100, kernel_size=(5,), stride=(1,))\n",
      "  (lstm): LSTM(100, 100, batch_first=True)\n",
      "  (word_att): SoftAttention(\n",
      "    (w): Linear(in_features=100, out_features=100, bias=True)\n",
      "    (v): Linear(in_features=100, out_features=1, bias=True)\n",
      "  )\n",
      "  (sent_att): SoftAttention(\n",
      "    (w): Linear(in_features=100, out_features=100, bias=True)\n",
      "    (v): Linear(in_features=100, out_features=1, bias=True)\n",
      "  )\n",
      "  (linear): Linear(in_features=186, out_features=1, bias=True)\n",
      ")\n",
      "1 / 50 EPOCHS\n",
      "Seed: 12, Prompt: 1\n"
     ]
    },
    {
     "name": "stderr",
     "output_type": "stream",
     "text": [
      "Training: 100%|█████████████████████████████████| 952/952 [01:03<00:00, 15.00batch/s, loss=0.000878]\n"
     ]
    },
    {
     "name": "stdout",
     "output_type": "stream",
     "text": [
      "Train loss:  0.0009\n"
     ]
    },
    {
     "name": "stderr",
     "output_type": "stream",
     "text": [
      "Evaluation: 100%|█████████████████████████████████| 168/168 [00:04<00:00, 41.86batch/s, loss=0.0611]\n"
     ]
    },
    {
     "name": "stdout",
     "output_type": "stream",
     "text": [
      "[0.53873641 0.28222446 0.41753364 0.43858339 0.29311914 0.64189188\n",
      " 0.22603993]\n",
      "Validation loss:  0.0611\n"
     ]
    },
    {
     "name": "stderr",
     "output_type": "stream",
     "text": [
      "Evaluation: 100%|████████████████████████████████| 179/179 [00:04<00:00, 40.45batch/s, loss=0.00767]\n"
     ]
    },
    {
     "name": "stdout",
     "output_type": "stream",
     "text": [
      "[0.78088038]\n",
      "Test loss:  0.0077\n",
      "[VAL]  -> QWK:  0.419, CORR:  0.513, RMSE:  0.247\n",
      "[TEST] -> QWK:  0.781, CORR:  0.827, RMSE:  0.087\n",
      "[BEST] -> QWK:  0.781, CORR:  0.827, RMSE:  0.087\n",
      "2 / 50 EPOCHS\n",
      "Seed: 12, Prompt: 1\n"
     ]
    },
    {
     "name": "stderr",
     "output_type": "stream",
     "text": [
      "Training: 100%|█████████████████████████████████| 952/952 [01:04<00:00, 14.87batch/s, loss=0.000476]\n"
     ]
    },
    {
     "name": "stdout",
     "output_type": "stream",
     "text": [
      "Train loss:  0.0005\n"
     ]
    },
    {
     "name": "stderr",
     "output_type": "stream",
     "text": [
      "Evaluation: 100%|█████████████████████████████████| 168/168 [00:03<00:00, 43.36batch/s, loss=0.0557]\n"
     ]
    },
    {
     "name": "stdout",
     "output_type": "stream",
     "text": [
      "[0.52410704 0.33011624 0.47592942 0.46672156 0.37340581 0.65765321\n",
      " 0.22007308]\n",
      "Validation loss:  0.0557\n"
     ]
    },
    {
     "name": "stderr",
     "output_type": "stream",
     "text": [
      "Evaluation: 100%|████████████████████████████████| 179/179 [00:04<00:00, 42.78batch/s, loss=0.00725]\n"
     ]
    },
    {
     "name": "stdout",
     "output_type": "stream",
     "text": [
      "[0.78820917]\n",
      "Test loss:  0.0073\n",
      "[VAL]  -> QWK:  0.452, CORR:  0.558, RMSE:  0.236\n",
      "[TEST] -> QWK:  0.788, CORR:  0.839, RMSE:  0.085\n",
      "[BEST] -> QWK:  0.788, CORR:  0.839, RMSE:  0.085\n",
      "3 / 50 EPOCHS\n",
      "Seed: 12, Prompt: 1\n"
     ]
    },
    {
     "name": "stderr",
     "output_type": "stream",
     "text": [
      "Training: 100%|█████████████████████████████████| 952/952 [01:11<00:00, 13.31batch/s, loss=0.000438]\n"
     ]
    },
    {
     "name": "stdout",
     "output_type": "stream",
     "text": [
      "Train loss:  0.0004\n"
     ]
    },
    {
     "name": "stderr",
     "output_type": "stream",
     "text": [
      "Evaluation: 100%|█████████████████████████████████| 168/168 [00:03<00:00, 42.50batch/s, loss=0.0574]\n"
     ]
    },
    {
     "name": "stdout",
     "output_type": "stream",
     "text": [
      "[0.49434001 0.34537878 0.51482203 0.48036804 0.37994617 0.66011639\n",
      " 0.20200931]\n",
      "Validation loss:  0.0574\n"
     ]
    },
    {
     "name": "stderr",
     "output_type": "stream",
     "text": [
      "Evaluation: 100%|████████████████████████████████| 179/179 [00:04<00:00, 41.74batch/s, loss=0.00753]\n"
     ]
    },
    {
     "name": "stdout",
     "output_type": "stream",
     "text": [
      "[0.78645921]\n",
      "Test loss:  0.0075\n",
      "[VAL]  -> QWK:  0.458, CORR:  0.551, RMSE:  0.239\n",
      "[TEST] -> QWK:  0.786, CORR:  0.840, RMSE:  0.086\n",
      "[BEST] -> QWK:  0.786, CORR:  0.840, RMSE:  0.086\n",
      "4 / 50 EPOCHS\n",
      "Seed: 12, Prompt: 1\n"
     ]
    },
    {
     "name": "stderr",
     "output_type": "stream",
     "text": [
      "Training: 100%|█████████████████████████████████| 952/952 [01:04<00:00, 14.76batch/s, loss=0.000403]\n"
     ]
    },
    {
     "name": "stdout",
     "output_type": "stream",
     "text": [
      "Train loss:  0.0004\n"
     ]
    },
    {
     "name": "stderr",
     "output_type": "stream",
     "text": [
      "Evaluation: 100%|█████████████████████████████████| 168/168 [00:04<00:00, 39.05batch/s, loss=0.0597]\n"
     ]
    },
    {
     "name": "stdout",
     "output_type": "stream",
     "text": [
      "[0.5618781  0.32362898 0.47657236 0.44121392 0.30320612 0.62460537\n",
      " 0.26831746]\n",
      "Validation loss:  0.0597\n"
     ]
    },
    {
     "name": "stderr",
     "output_type": "stream",
     "text": [
      "Evaluation: 100%|████████████████████████████████| 179/179 [00:04<00:00, 40.04batch/s, loss=0.00806]\n"
     ]
    },
    {
     "name": "stdout",
     "output_type": "stream",
     "text": [
      "[0.75600109]\n",
      "Test loss:  0.0081\n",
      "[VAL]  -> QWK:  0.440, CORR:  0.561, RMSE:  0.244\n",
      "[TEST] -> QWK:  0.756, CORR:  0.842, RMSE:  0.090\n",
      "[BEST] -> QWK:  0.786, CORR:  0.840, RMSE:  0.086\n",
      "5 / 50 EPOCHS\n",
      "Seed: 12, Prompt: 1\n"
     ]
    },
    {
     "name": "stderr",
     "output_type": "stream",
     "text": [
      "Training: 100%|█████████████████████████████████| 952/952 [01:02<00:00, 15.20batch/s, loss=0.000396]\n"
     ]
    },
    {
     "name": "stdout",
     "output_type": "stream",
     "text": [
      "Train loss:  0.0004\n"
     ]
    },
    {
     "name": "stderr",
     "output_type": "stream",
     "text": [
      "Evaluation: 100%|█████████████████████████████████| 168/168 [00:04<00:00, 41.36batch/s, loss=0.0542]\n"
     ]
    },
    {
     "name": "stdout",
     "output_type": "stream",
     "text": [
      "[0.5307016  0.34306834 0.50265286 0.46724734 0.35722341 0.64528921\n",
      " 0.22788801]\n",
      "Validation loss:  0.0542\n"
     ]
    },
    {
     "name": "stderr",
     "output_type": "stream",
     "text": [
      "Evaluation: 100%|████████████████████████████████| 179/179 [00:04<00:00, 41.55batch/s, loss=0.00734]\n"
     ]
    },
    {
     "name": "stdout",
     "output_type": "stream",
     "text": [
      "[0.78202301]\n",
      "Test loss:  0.0073\n",
      "[VAL]  -> QWK:  0.456, CORR:  0.564, RMSE:  0.233\n",
      "[TEST] -> QWK:  0.782, CORR:  0.843, RMSE:  0.085\n",
      "[BEST] -> QWK:  0.786, CORR:  0.840, RMSE:  0.086\n",
      "6 / 50 EPOCHS\n",
      "Seed: 12, Prompt: 1\n"
     ]
    },
    {
     "name": "stderr",
     "output_type": "stream",
     "text": [
      "Training: 100%|█████████████████████████████████| 952/952 [01:03<00:00, 14.93batch/s, loss=0.000382]\n"
     ]
    },
    {
     "name": "stdout",
     "output_type": "stream",
     "text": [
      "Train loss:  0.0004\n"
     ]
    },
    {
     "name": "stderr",
     "output_type": "stream",
     "text": [
      "Evaluation: 100%|█████████████████████████████████| 168/168 [00:03<00:00, 42.77batch/s, loss=0.0689]\n"
     ]
    },
    {
     "name": "stdout",
     "output_type": "stream",
     "text": [
      "[0.60344931 0.30551029 0.44805738 0.41706837 0.27970065 0.58513627\n",
      " 0.27645951]\n",
      "Validation loss:  0.0689\n"
     ]
    },
    {
     "name": "stderr",
     "output_type": "stream",
     "text": [
      "Evaluation: 100%|████████████████████████████████| 179/179 [00:04<00:00, 43.05batch/s, loss=0.00806]\n"
     ]
    },
    {
     "name": "stdout",
     "output_type": "stream",
     "text": [
      "[0.76924052]\n",
      "Test loss:  0.0081\n",
      "[VAL]  -> QWK:  0.427, CORR:  0.538, RMSE:  0.262\n",
      "[TEST] -> QWK:  0.769, CORR:  0.844, RMSE:  0.090\n",
      "[BEST] -> QWK:  0.786, CORR:  0.840, RMSE:  0.086\n",
      "7 / 50 EPOCHS\n",
      "Seed: 12, Prompt: 1\n"
     ]
    },
    {
     "name": "stderr",
     "output_type": "stream",
     "text": [
      "Training: 100%|█████████████████████████████████| 952/952 [01:03<00:00, 15.02batch/s, loss=0.000372]\n"
     ]
    },
    {
     "name": "stdout",
     "output_type": "stream",
     "text": [
      "Train loss:  0.0004\n"
     ]
    },
    {
     "name": "stderr",
     "output_type": "stream",
     "text": [
      "Evaluation: 100%|█████████████████████████████████| 168/168 [00:04<00:00, 34.76batch/s, loss=0.0482]\n"
     ]
    },
    {
     "name": "stdout",
     "output_type": "stream",
     "text": [
      "[0.38535523 0.45953197 0.59093406 0.57743655 0.44324157 0.7212661\n",
      " 0.14989688]\n",
      "Validation loss:  0.0482\n"
     ]
    },
    {
     "name": "stderr",
     "output_type": "stream",
     "text": [
      "Evaluation: 100%|████████████████████████████████| 179/179 [00:04<00:00, 42.22batch/s, loss=0.00958]\n"
     ]
    },
    {
     "name": "stdout",
     "output_type": "stream",
     "text": [
      "[0.72953967]\n",
      "Test loss:  0.0096\n",
      "[VAL]  -> QWK:  0.502, CORR:  0.575, RMSE:  0.219\n",
      "[TEST] -> QWK:  0.730, CORR:  0.836, RMSE:  0.098\n",
      "[BEST] -> QWK:  0.730, CORR:  0.836, RMSE:  0.098\n",
      "8 / 50 EPOCHS\n",
      "Seed: 12, Prompt: 1\n"
     ]
    },
    {
     "name": "stderr",
     "output_type": "stream",
     "text": [
      "Training: 100%|█████████████████████████████████| 952/952 [01:07<00:00, 14.09batch/s, loss=0.000364]\n"
     ]
    },
    {
     "name": "stdout",
     "output_type": "stream",
     "text": [
      "Train loss:  0.0004\n"
     ]
    },
    {
     "name": "stderr",
     "output_type": "stream",
     "text": [
      "Evaluation: 100%|█████████████████████████████████| 168/168 [00:04<00:00, 41.85batch/s, loss=0.0501]\n"
     ]
    },
    {
     "name": "stdout",
     "output_type": "stream",
     "text": [
      "[0.47764832 0.40724659 0.53741329 0.53216851 0.39150402 0.68712397\n",
      " 0.20134114]\n",
      "Validation loss:  0.0501\n"
     ]
    },
    {
     "name": "stderr",
     "output_type": "stream",
     "text": [
      "Evaluation: 100%|████████████████████████████████| 179/179 [00:04<00:00, 38.58batch/s, loss=0.00756]\n"
     ]
    },
    {
     "name": "stdout",
     "output_type": "stream",
     "text": [
      "[0.77461442]\n",
      "Test loss:  0.0076\n",
      "[VAL]  -> QWK:  0.483, CORR:  0.577, RMSE:  0.224\n",
      "[TEST] -> QWK:  0.775, CORR:  0.841, RMSE:  0.086\n",
      "[BEST] -> QWK:  0.730, CORR:  0.836, RMSE:  0.098\n",
      "9 / 50 EPOCHS\n",
      "Seed: 12, Prompt: 1\n"
     ]
    },
    {
     "name": "stderr",
     "output_type": "stream",
     "text": [
      "Training: 100%|█████████████████████████████████| 952/952 [01:05<00:00, 14.50batch/s, loss=0.000357]\n"
     ]
    },
    {
     "name": "stdout",
     "output_type": "stream",
     "text": [
      "Train loss:  0.0004\n"
     ]
    },
    {
     "name": "stderr",
     "output_type": "stream",
     "text": [
      "Evaluation: 100%|█████████████████████████████████| 168/168 [00:03<00:00, 42.02batch/s, loss=0.0511]\n"
     ]
    },
    {
     "name": "stdout",
     "output_type": "stream",
     "text": [
      "[0.5184104  0.39265659 0.54930448 0.5046201  0.37942886 0.66801636\n",
      " 0.23761431]\n",
      "Validation loss:  0.0511\n"
     ]
    },
    {
     "name": "stderr",
     "output_type": "stream",
     "text": [
      "Evaluation: 100%|████████████████████████████████| 179/179 [00:04<00:00, 39.70batch/s, loss=0.00766]\n"
     ]
    },
    {
     "name": "stdout",
     "output_type": "stream",
     "text": [
      "[0.77074936]\n",
      "Test loss:  0.0077\n",
      "[VAL]  -> QWK:  0.482, CORR:  0.587, RMSE:  0.226\n",
      "[TEST] -> QWK:  0.771, CORR:  0.837, RMSE:  0.087\n",
      "[BEST] -> QWK:  0.730, CORR:  0.836, RMSE:  0.098\n",
      "10 / 50 EPOCHS\n",
      "Seed: 12, Prompt: 1\n"
     ]
    },
    {
     "name": "stderr",
     "output_type": "stream",
     "text": [
      "Training: 100%|█████████████████████████████████| 952/952 [01:03<00:00, 14.99batch/s, loss=0.000354]\n"
     ]
    },
    {
     "name": "stdout",
     "output_type": "stream",
     "text": [
      "Train loss:  0.0004\n"
     ]
    },
    {
     "name": "stderr",
     "output_type": "stream",
     "text": [
      "Evaluation: 100%|█████████████████████████████████| 168/168 [00:03<00:00, 43.44batch/s, loss=0.0457]\n"
     ]
    },
    {
     "name": "stdout",
     "output_type": "stream",
     "text": [
      "[0.46007902 0.42755046 0.58266832 0.55410869 0.40206002 0.70738829\n",
      " 0.20799535]\n",
      "Validation loss:  0.0457\n"
     ]
    },
    {
     "name": "stderr",
     "output_type": "stream",
     "text": [
      "Evaluation: 100%|████████████████████████████████| 179/179 [00:04<00:00, 41.86batch/s, loss=0.00764]\n"
     ]
    },
    {
     "name": "stdout",
     "output_type": "stream",
     "text": [
      "[0.76834044]\n",
      "Test loss:  0.0076\n",
      "[VAL]  -> QWK:  0.499, CORR:  0.591, RMSE:  0.214\n",
      "[TEST] -> QWK:  0.768, CORR:  0.843, RMSE:  0.088\n",
      "[BEST] -> QWK:  0.730, CORR:  0.836, RMSE:  0.098\n",
      "11 / 50 EPOCHS\n",
      "Seed: 12, Prompt: 1\n"
     ]
    },
    {
     "name": "stderr",
     "output_type": "stream",
     "text": [
      "Training: 100%|█████████████████████████████████| 952/952 [01:02<00:00, 15.35batch/s, loss=0.000343]\n"
     ]
    },
    {
     "name": "stdout",
     "output_type": "stream",
     "text": [
      "Train loss:  0.0003\n"
     ]
    },
    {
     "name": "stderr",
     "output_type": "stream",
     "text": [
      "Evaluation: 100%|█████████████████████████████████| 168/168 [00:03<00:00, 44.20batch/s, loss=0.0581]\n"
     ]
    },
    {
     "name": "stdout",
     "output_type": "stream",
     "text": [
      "[0.54414257 0.37296471 0.50333232 0.46898413 0.34156149 0.66772994\n",
      " 0.23754829]\n",
      "Validation loss:  0.0581\n"
     ]
    },
    {
     "name": "stderr",
     "output_type": "stream",
     "text": [
      "Evaluation: 100%|████████████████████████████████| 179/179 [00:04<00:00, 41.53batch/s, loss=0.00718]\n"
     ]
    },
    {
     "name": "stdout",
     "output_type": "stream",
     "text": [
      "[0.78884706]\n",
      "Test loss:  0.0072\n",
      "[VAL]  -> QWK:  0.464, CORR:  0.556, RMSE:  0.241\n",
      "[TEST] -> QWK:  0.789, CORR:  0.841, RMSE:  0.085\n",
      "[BEST] -> QWK:  0.730, CORR:  0.836, RMSE:  0.098\n",
      "12 / 50 EPOCHS\n",
      "Seed: 12, Prompt: 1\n"
     ]
    },
    {
     "name": "stderr",
     "output_type": "stream",
     "text": [
      "Training: 100%|█████████████████████████████████| 952/952 [01:03<00:00, 14.97batch/s, loss=0.000346]\n"
     ]
    },
    {
     "name": "stdout",
     "output_type": "stream",
     "text": [
      "Train loss:  0.0003\n"
     ]
    },
    {
     "name": "stderr",
     "output_type": "stream",
     "text": [
      "Evaluation: 100%|█████████████████████████████████| 168/168 [00:03<00:00, 44.26batch/s, loss=0.0523]\n"
     ]
    },
    {
     "name": "stdout",
     "output_type": "stream",
     "text": [
      "[0.52556196 0.39542484 0.51837815 0.47785713 0.3527032  0.65253366\n",
      " 0.27052569]\n",
      "Validation loss:  0.0523\n"
     ]
    },
    {
     "name": "stderr",
     "output_type": "stream",
     "text": [
      "Evaluation: 100%|████████████████████████████████| 179/179 [00:04<00:00, 38.99batch/s, loss=0.00768]\n"
     ]
    },
    {
     "name": "stdout",
     "output_type": "stream",
     "text": [
      "[0.76412505]\n",
      "Test loss:  0.0077\n",
      "[VAL]  -> QWK:  0.470, CORR:  0.583, RMSE:  0.229\n",
      "[TEST] -> QWK:  0.764, CORR:  0.842, RMSE:  0.088\n",
      "[BEST] -> QWK:  0.730, CORR:  0.836, RMSE:  0.098\n",
      "13 / 50 EPOCHS\n",
      "Seed: 12, Prompt: 1\n"
     ]
    },
    {
     "name": "stderr",
     "output_type": "stream",
     "text": [
      "Training: 100%|█████████████████████████████████| 952/952 [01:06<00:00, 14.33batch/s, loss=0.000334]\n"
     ]
    },
    {
     "name": "stdout",
     "output_type": "stream",
     "text": [
      "Train loss:  0.0003\n"
     ]
    },
    {
     "name": "stderr",
     "output_type": "stream",
     "text": [
      "Evaluation: 100%|█████████████████████████████████| 168/168 [00:04<00:00, 40.27batch/s, loss=0.0548]\n"
     ]
    },
    {
     "name": "stdout",
     "output_type": "stream",
     "text": [
      "[0.48878331 0.37501703 0.5199601  0.48890636 0.37393171 0.68768133\n",
      " 0.20694845]\n",
      "Validation loss:  0.0548\n"
     ]
    },
    {
     "name": "stderr",
     "output_type": "stream",
     "text": [
      "Evaluation: 100%|████████████████████████████████| 179/179 [00:04<00:00, 41.58batch/s, loss=0.00746]\n"
     ]
    },
    {
     "name": "stdout",
     "output_type": "stream",
     "text": [
      "[0.77933431]\n",
      "Test loss:  0.0075\n",
      "[VAL]  -> QWK:  0.467, CORR:  0.560, RMSE:  0.234\n",
      "[TEST] -> QWK:  0.779, CORR:  0.838, RMSE:  0.086\n",
      "[BEST] -> QWK:  0.730, CORR:  0.836, RMSE:  0.098\n",
      "14 / 50 EPOCHS\n",
      "Seed: 12, Prompt: 1\n"
     ]
    },
    {
     "name": "stderr",
     "output_type": "stream",
     "text": [
      "Training: 100%|█████████████████████████████████| 952/952 [01:04<00:00, 14.86batch/s, loss=0.000321]\n"
     ]
    },
    {
     "name": "stdout",
     "output_type": "stream",
     "text": [
      "Train loss:  0.0003\n"
     ]
    },
    {
     "name": "stderr",
     "output_type": "stream",
     "text": [
      "Evaluation: 100%|██████████████████████████████████| 168/168 [00:03<00:00, 42.24batch/s, loss=0.058]\n"
     ]
    },
    {
     "name": "stdout",
     "output_type": "stream",
     "text": [
      "[0.48366447 0.38380371 0.52911623 0.48797757 0.39869103 0.66761306\n",
      " 0.22004296]\n",
      "Validation loss:  0.0580\n"
     ]
    },
    {
     "name": "stderr",
     "output_type": "stream",
     "text": [
      "Evaluation: 100%|████████████████████████████████| 179/179 [00:04<00:00, 40.91batch/s, loss=0.00723]\n"
     ]
    },
    {
     "name": "stdout",
     "output_type": "stream",
     "text": [
      "[0.79627287]\n",
      "Test loss:  0.0072\n",
      "[VAL]  -> QWK:  0.471, CORR:  0.563, RMSE:  0.241\n",
      "[TEST] -> QWK:  0.796, CORR:  0.838, RMSE:  0.085\n",
      "[BEST] -> QWK:  0.730, CORR:  0.836, RMSE:  0.098\n",
      "15 / 50 EPOCHS\n",
      "Seed: 12, Prompt: 1\n"
     ]
    },
    {
     "name": "stderr",
     "output_type": "stream",
     "text": [
      "Training: 100%|█████████████████████████████████| 952/952 [01:03<00:00, 15.03batch/s, loss=0.000318]\n"
     ]
    },
    {
     "name": "stdout",
     "output_type": "stream",
     "text": [
      "Train loss:  0.0003\n"
     ]
    },
    {
     "name": "stderr",
     "output_type": "stream",
     "text": [
      "Evaluation: 100%|█████████████████████████████████| 168/168 [00:03<00:00, 44.18batch/s, loss=0.0621]\n"
     ]
    },
    {
     "name": "stdout",
     "output_type": "stream",
     "text": [
      "[0.50566703 0.34909545 0.50599549 0.45952604 0.34171736 0.6529384\n",
      " 0.24311642]\n",
      "Validation loss:  0.0621\n"
     ]
    },
    {
     "name": "stderr",
     "output_type": "stream",
     "text": [
      "Evaluation: 100%|████████████████████████████████| 179/179 [00:04<00:00, 41.85batch/s, loss=0.00731]\n"
     ]
    },
    {
     "name": "stdout",
     "output_type": "stream",
     "text": [
      "[0.78829892]\n",
      "Test loss:  0.0073\n",
      "[VAL]  -> QWK:  0.451, CORR:  0.548, RMSE:  0.249\n",
      "[TEST] -> QWK:  0.788, CORR:  0.837, RMSE:  0.086\n",
      "[BEST] -> QWK:  0.730, CORR:  0.836, RMSE:  0.098\n",
      "16 / 50 EPOCHS\n",
      "Seed: 12, Prompt: 1\n"
     ]
    },
    {
     "name": "stderr",
     "output_type": "stream",
     "text": [
      "Training: 100%|█████████████████████████████████| 952/952 [01:02<00:00, 15.18batch/s, loss=0.000314]\n"
     ]
    },
    {
     "name": "stdout",
     "output_type": "stream",
     "text": [
      "Train loss:  0.0003\n"
     ]
    },
    {
     "name": "stderr",
     "output_type": "stream",
     "text": [
      "Evaluation: 100%|█████████████████████████████████| 168/168 [00:04<00:00, 41.40batch/s, loss=0.0561]\n"
     ]
    },
    {
     "name": "stdout",
     "output_type": "stream",
     "text": [
      "[0.4892304  0.37147748 0.52622756 0.49440299 0.39327866 0.68012439\n",
      " 0.20531679]\n",
      "Validation loss:  0.0561\n"
     ]
    },
    {
     "name": "stderr",
     "output_type": "stream",
     "text": [
      "Evaluation: 100%|████████████████████████████████| 179/179 [00:04<00:00, 42.28batch/s, loss=0.00756]\n"
     ]
    },
    {
     "name": "stdout",
     "output_type": "stream",
     "text": [
      "[0.78424975]\n",
      "Test loss:  0.0076\n",
      "[VAL]  -> QWK:  0.471, CORR:  0.558, RMSE:  0.237\n",
      "[TEST] -> QWK:  0.784, CORR:  0.835, RMSE:  0.087\n",
      "[BEST] -> QWK:  0.730, CORR:  0.836, RMSE:  0.098\n",
      "17 / 50 EPOCHS\n",
      "Seed: 12, Prompt: 1\n"
     ]
    },
    {
     "name": "stderr",
     "output_type": "stream",
     "text": [
      "Training: 100%|█████████████████████████████████| 952/952 [01:03<00:00, 15.10batch/s, loss=0.000337]\n"
     ]
    },
    {
     "name": "stdout",
     "output_type": "stream",
     "text": [
      "Train loss:  0.0003\n"
     ]
    },
    {
     "name": "stderr",
     "output_type": "stream",
     "text": [
      "Evaluation: 100%|█████████████████████████████████| 168/168 [00:05<00:00, 33.17batch/s, loss=0.0702]\n"
     ]
    },
    {
     "name": "stdout",
     "output_type": "stream",
     "text": [
      "[0.58517394 0.30998408 0.4615742  0.41506472 0.27288499 0.5968797\n",
      " 0.29578073]\n",
      "Validation loss:  0.0702\n"
     ]
    },
    {
     "name": "stderr",
     "output_type": "stream",
     "text": [
      "Evaluation: 100%|████████████████████████████████| 179/179 [00:05<00:00, 33.65batch/s, loss=0.00863]\n"
     ]
    },
    {
     "name": "stdout",
     "output_type": "stream",
     "text": [
      "[0.75676954]\n",
      "Test loss:  0.0086\n",
      "[VAL]  -> QWK:  0.428, CORR:  0.538, RMSE:  0.265\n",
      "[TEST] -> QWK:  0.757, CORR:  0.836, RMSE:  0.093\n",
      "[BEST] -> QWK:  0.730, CORR:  0.836, RMSE:  0.098\n",
      "18 / 50 EPOCHS\n",
      "Seed: 12, Prompt: 1\n"
     ]
    },
    {
     "name": "stderr",
     "output_type": "stream",
     "text": [
      "Training: 100%|█████████████████████████████████| 952/952 [01:04<00:00, 14.72batch/s, loss=0.000309]\n"
     ]
    },
    {
     "name": "stdout",
     "output_type": "stream",
     "text": [
      "Train loss:  0.0003\n"
     ]
    },
    {
     "name": "stderr",
     "output_type": "stream",
     "text": [
      "Evaluation: 100%|█████████████████████████████████| 168/168 [00:04<00:00, 41.84batch/s, loss=0.0555]\n"
     ]
    },
    {
     "name": "stdout",
     "output_type": "stream",
     "text": [
      "[0.52693558 0.36279568 0.51352983 0.4827051  0.36680635 0.67392845\n",
      " 0.24502751]\n",
      "Validation loss:  0.0555\n"
     ]
    },
    {
     "name": "stderr",
     "output_type": "stream",
     "text": [
      "Evaluation: 100%|████████████████████████████████| 179/179 [00:04<00:00, 41.70batch/s, loss=0.00742]\n"
     ]
    },
    {
     "name": "stdout",
     "output_type": "stream",
     "text": [
      "[0.77640355]\n",
      "Test loss:  0.0074\n",
      "[VAL]  -> QWK:  0.469, CORR:  0.565, RMSE:  0.236\n",
      "[TEST] -> QWK:  0.776, CORR:  0.837, RMSE:  0.086\n",
      "[BEST] -> QWK:  0.730, CORR:  0.836, RMSE:  0.098\n",
      "19 / 50 EPOCHS\n",
      "Seed: 12, Prompt: 1\n"
     ]
    },
    {
     "name": "stderr",
     "output_type": "stream",
     "text": [
      "Training: 100%|█████████████████████████████████| 952/952 [01:09<00:00, 13.71batch/s, loss=0.000293]\n"
     ]
    },
    {
     "name": "stdout",
     "output_type": "stream",
     "text": [
      "Train loss:  0.0003\n"
     ]
    },
    {
     "name": "stderr",
     "output_type": "stream",
     "text": [
      "Evaluation: 100%|█████████████████████████████████| 168/168 [00:04<00:00, 36.16batch/s, loss=0.0485]\n"
     ]
    },
    {
     "name": "stdout",
     "output_type": "stream",
     "text": [
      "[0.45287012 0.43685058 0.56770333 0.53786656 0.40611649 0.72271164\n",
      " 0.22234444]\n",
      "Validation loss:  0.0485\n"
     ]
    },
    {
     "name": "stderr",
     "output_type": "stream",
     "text": [
      "Evaluation: 100%|████████████████████████████████| 179/179 [00:04<00:00, 38.85batch/s, loss=0.00793]\n"
     ]
    },
    {
     "name": "stdout",
     "output_type": "stream",
     "text": [
      "[0.76701408]\n",
      "Test loss:  0.0079\n",
      "[VAL]  -> QWK:  0.498, CORR:  0.579, RMSE:  0.220\n",
      "[TEST] -> QWK:  0.767, CORR:  0.838, RMSE:  0.089\n",
      "[BEST] -> QWK:  0.730, CORR:  0.836, RMSE:  0.098\n",
      "20 / 50 EPOCHS\n",
      "Seed: 12, Prompt: 1\n"
     ]
    },
    {
     "name": "stderr",
     "output_type": "stream",
     "text": [
      "Training: 100%|█████████████████████████████████| 952/952 [01:09<00:00, 13.79batch/s, loss=0.000304]\n"
     ]
    },
    {
     "name": "stdout",
     "output_type": "stream",
     "text": [
      "Train loss:  0.0003\n"
     ]
    },
    {
     "name": "stderr",
     "output_type": "stream",
     "text": [
      "Evaluation: 100%|█████████████████████████████████| 168/168 [00:04<00:00, 39.94batch/s, loss=0.0699]\n"
     ]
    },
    {
     "name": "stdout",
     "output_type": "stream",
     "text": [
      "[0.58034321 0.33837126 0.47358385 0.44739525 0.30308666 0.60264444\n",
      " 0.27866445]\n",
      "Validation loss:  0.0699\n"
     ]
    },
    {
     "name": "stderr",
     "output_type": "stream",
     "text": [
      "Evaluation: 100%|████████████████████████████████| 179/179 [00:04<00:00, 40.44batch/s, loss=0.00781]\n"
     ]
    },
    {
     "name": "stdout",
     "output_type": "stream",
     "text": [
      "[0.78267596]\n",
      "Test loss:  0.0078\n",
      "[VAL]  -> QWK:  0.444, CORR:  0.543, RMSE:  0.264\n",
      "[TEST] -> QWK:  0.783, CORR:  0.838, RMSE:  0.089\n",
      "[BEST] -> QWK:  0.730, CORR:  0.836, RMSE:  0.098\n",
      "21 / 50 EPOCHS\n",
      "Seed: 12, Prompt: 1\n"
     ]
    },
    {
     "name": "stderr",
     "output_type": "stream",
     "text": [
      "Training: 100%|██████████████████████████████████| 952/952 [01:08<00:00, 13.88batch/s, loss=0.00029]\n"
     ]
    },
    {
     "name": "stdout",
     "output_type": "stream",
     "text": [
      "Train loss:  0.0003\n"
     ]
    },
    {
     "name": "stderr",
     "output_type": "stream",
     "text": [
      "Evaluation: 100%|█████████████████████████████████| 168/168 [00:04<00:00, 40.84batch/s, loss=0.0605]\n"
     ]
    },
    {
     "name": "stdout",
     "output_type": "stream",
     "text": [
      "[0.52539382 0.36116096 0.50599549 0.48033485 0.37239202 0.67435381\n",
      " 0.21761694]\n",
      "Validation loss:  0.0605\n"
     ]
    },
    {
     "name": "stderr",
     "output_type": "stream",
     "text": [
      "Evaluation: 100%|████████████████████████████████| 179/179 [00:04<00:00, 39.79batch/s, loss=0.00727]\n"
     ]
    },
    {
     "name": "stdout",
     "output_type": "stream",
     "text": [
      "[0.79380247]\n",
      "Test loss:  0.0073\n",
      "[VAL]  -> QWK:  0.466, CORR:  0.556, RMSE:  0.246\n",
      "[TEST] -> QWK:  0.794, CORR:  0.836, RMSE:  0.085\n",
      "[BEST] -> QWK:  0.730, CORR:  0.836, RMSE:  0.098\n",
      "22 / 50 EPOCHS\n",
      "Seed: 12, Prompt: 1\n"
     ]
    },
    {
     "name": "stderr",
     "output_type": "stream",
     "text": [
      "Training: 100%|█████████████████████████████████| 952/952 [01:14<00:00, 12.76batch/s, loss=0.000283]\n"
     ]
    },
    {
     "name": "stdout",
     "output_type": "stream",
     "text": [
      "Train loss:  0.0003\n"
     ]
    },
    {
     "name": "stderr",
     "output_type": "stream",
     "text": [
      "Evaluation: 100%|█████████████████████████████████| 168/168 [00:05<00:00, 30.76batch/s, loss=0.0547]\n"
     ]
    },
    {
     "name": "stdout",
     "output_type": "stream",
     "text": [
      "[0.47460389 0.40342711 0.51775298 0.49720293 0.39247289 0.67389537\n",
      " 0.24375791]\n",
      "Validation loss:  0.0547\n"
     ]
    },
    {
     "name": "stderr",
     "output_type": "stream",
     "text": [
      "Evaluation: 100%|████████████████████████████████| 179/179 [00:05<00:00, 31.50batch/s, loss=0.00732]\n"
     ]
    },
    {
     "name": "stdout",
     "output_type": "stream",
     "text": [
      "[0.78999604]\n",
      "Test loss:  0.0073\n",
      "[VAL]  -> QWK:  0.474, CORR:  0.570, RMSE:  0.234\n",
      "[TEST] -> QWK:  0.790, CORR:  0.838, RMSE:  0.085\n",
      "[BEST] -> QWK:  0.730, CORR:  0.836, RMSE:  0.098\n",
      "23 / 50 EPOCHS\n",
      "Seed: 12, Prompt: 1\n"
     ]
    },
    {
     "name": "stderr",
     "output_type": "stream",
     "text": [
      "Training: 100%|█████████████████████████████████| 952/952 [01:11<00:00, 13.32batch/s, loss=0.000278]\n"
     ]
    },
    {
     "name": "stdout",
     "output_type": "stream",
     "text": [
      "Train loss:  0.0003\n"
     ]
    },
    {
     "name": "stderr",
     "output_type": "stream",
     "text": [
      "Evaluation: 100%|█████████████████████████████████| 168/168 [00:04<00:00, 38.47batch/s, loss=0.0568]\n"
     ]
    },
    {
     "name": "stdout",
     "output_type": "stream",
     "text": [
      "[0.46997484 0.36576941 0.50867677 0.48659639 0.37175267 0.66978508\n",
      " 0.21950503]\n",
      "Validation loss:  0.0568\n"
     ]
    },
    {
     "name": "stderr",
     "output_type": "stream",
     "text": [
      "Evaluation: 100%|████████████████████████████████| 179/179 [00:04<00:00, 37.23batch/s, loss=0.00745]\n"
     ]
    },
    {
     "name": "stdout",
     "output_type": "stream",
     "text": [
      "[0.78333249]\n",
      "Test loss:  0.0075\n",
      "[VAL]  -> QWK:  0.459, CORR:  0.555, RMSE:  0.238\n",
      "[TEST] -> QWK:  0.783, CORR:  0.834, RMSE:  0.086\n",
      "[BEST] -> QWK:  0.730, CORR:  0.836, RMSE:  0.098\n",
      "24 / 50 EPOCHS\n",
      "Seed: 12, Prompt: 1\n"
     ]
    },
    {
     "name": "stderr",
     "output_type": "stream",
     "text": [
      "Training: 100%|█████████████████████████████████| 952/952 [01:09<00:00, 13.68batch/s, loss=0.000297]\n"
     ]
    },
    {
     "name": "stdout",
     "output_type": "stream",
     "text": [
      "Train loss:  0.0003\n"
     ]
    },
    {
     "name": "stderr",
     "output_type": "stream",
     "text": [
      "Evaluation: 100%|█████████████████████████████████| 168/168 [00:04<00:00, 38.13batch/s, loss=0.0487]\n"
     ]
    },
    {
     "name": "stdout",
     "output_type": "stream",
     "text": [
      "[0.44108801 0.40970714 0.54901665 0.56252278 0.41411826 0.71174314\n",
      " 0.19022662]\n",
      "Validation loss:  0.0487\n"
     ]
    },
    {
     "name": "stderr",
     "output_type": "stream",
     "text": [
      "Evaluation: 100%|████████████████████████████████| 179/179 [00:04<00:00, 38.06batch/s, loss=0.00835]\n"
     ]
    },
    {
     "name": "stdout",
     "output_type": "stream",
     "text": [
      "[0.75386995]\n",
      "Test loss:  0.0083\n",
      "[VAL]  -> QWK:  0.490, CORR:  0.576, RMSE:  0.221\n",
      "[TEST] -> QWK:  0.754, CORR:  0.837, RMSE:  0.091\n",
      "[BEST] -> QWK:  0.730, CORR:  0.836, RMSE:  0.098\n",
      "25 / 50 EPOCHS\n",
      "Seed: 12, Prompt: 1\n"
     ]
    },
    {
     "name": "stderr",
     "output_type": "stream",
     "text": [
      "Training: 100%|██████████████████████████████████| 952/952 [01:09<00:00, 13.68batch/s, loss=0.00028]\n"
     ]
    },
    {
     "name": "stdout",
     "output_type": "stream",
     "text": [
      "Train loss:  0.0003\n"
     ]
    },
    {
     "name": "stderr",
     "output_type": "stream",
     "text": [
      "Evaluation: 100%|██████████████████████████████████| 168/168 [00:04<00:00, 41.55batch/s, loss=0.054]\n"
     ]
    },
    {
     "name": "stdout",
     "output_type": "stream",
     "text": [
      "[0.4893438  0.40409241 0.54753133 0.53700308 0.41871062 0.68795507\n",
      " 0.2117852 ]\n",
      "Validation loss:  0.0540\n"
     ]
    },
    {
     "name": "stderr",
     "output_type": "stream",
     "text": [
      "Evaluation: 100%|████████████████████████████████| 179/179 [00:04<00:00, 39.84batch/s, loss=0.00758]\n"
     ]
    },
    {
     "name": "stdout",
     "output_type": "stream",
     "text": [
      "[0.78180374]\n",
      "Test loss:  0.0076\n",
      "[VAL]  -> QWK:  0.492, CORR:  0.574, RMSE:  0.232\n",
      "[TEST] -> QWK:  0.782, CORR:  0.835, RMSE:  0.087\n",
      "[BEST] -> QWK:  0.730, CORR:  0.836, RMSE:  0.098\n",
      "26 / 50 EPOCHS\n",
      "Seed: 12, Prompt: 1\n"
     ]
    },
    {
     "name": "stderr",
     "output_type": "stream",
     "text": [
      "Training: 100%|█████████████████████████████████| 952/952 [01:09<00:00, 13.65batch/s, loss=0.000269]\n"
     ]
    },
    {
     "name": "stdout",
     "output_type": "stream",
     "text": [
      "Train loss:  0.0003\n"
     ]
    },
    {
     "name": "stderr",
     "output_type": "stream",
     "text": [
      "Evaluation: 100%|█████████████████████████████████| 168/168 [00:04<00:00, 39.80batch/s, loss=0.0577]\n"
     ]
    },
    {
     "name": "stdout",
     "output_type": "stream",
     "text": [
      "[0.51110719 0.38297872 0.48833399 0.50343144 0.37019138 0.67465512\n",
      " 0.23516022]\n",
      "Validation loss:  0.0577\n"
     ]
    },
    {
     "name": "stderr",
     "output_type": "stream",
     "text": [
      "Evaluation: 100%|█████████████████████████████████| 179/179 [00:05<00:00, 34.68batch/s, loss=0.0073]\n"
     ]
    },
    {
     "name": "stdout",
     "output_type": "stream",
     "text": [
      "[0.79351299]\n",
      "Test loss:  0.0073\n",
      "[VAL]  -> QWK:  0.469, CORR:  0.563, RMSE:  0.240\n",
      "[TEST] -> QWK:  0.794, CORR:  0.837, RMSE:  0.085\n",
      "[BEST] -> QWK:  0.730, CORR:  0.836, RMSE:  0.098\n",
      "27 / 50 EPOCHS\n",
      "Seed: 12, Prompt: 1\n"
     ]
    },
    {
     "name": "stderr",
     "output_type": "stream",
     "text": [
      "Training: 100%|█████████████████████████████████| 952/952 [01:19<00:00, 11.95batch/s, loss=0.000271]\n"
     ]
    },
    {
     "name": "stdout",
     "output_type": "stream",
     "text": [
      "Train loss:  0.0003\n"
     ]
    },
    {
     "name": "stderr",
     "output_type": "stream",
     "text": [
      "Evaluation: 100%|█████████████████████████████████| 168/168 [00:04<00:00, 33.73batch/s, loss=0.0552]\n"
     ]
    },
    {
     "name": "stdout",
     "output_type": "stream",
     "text": [
      "[0.49170002 0.39625895 0.50763982 0.50877279 0.39206616 0.69255306\n",
      " 0.22052862]\n",
      "Validation loss:  0.0552\n"
     ]
    },
    {
     "name": "stderr",
     "output_type": "stream",
     "text": [
      "Evaluation: 100%|████████████████████████████████| 179/179 [00:05<00:00, 35.59batch/s, loss=0.00747]\n"
     ]
    },
    {
     "name": "stdout",
     "output_type": "stream",
     "text": [
      "[0.78774372]\n",
      "Test loss:  0.0075\n",
      "[VAL]  -> QWK:  0.477, CORR:  0.562, RMSE:  0.235\n",
      "[TEST] -> QWK:  0.788, CORR:  0.838, RMSE:  0.086\n",
      "[BEST] -> QWK:  0.730, CORR:  0.836, RMSE:  0.098\n",
      "28 / 50 EPOCHS\n",
      "Seed: 12, Prompt: 1\n"
     ]
    },
    {
     "name": "stderr",
     "output_type": "stream",
     "text": [
      "Training: 100%|█████████████████████████████████| 952/952 [01:13<00:00, 13.01batch/s, loss=0.000274]\n"
     ]
    },
    {
     "name": "stdout",
     "output_type": "stream",
     "text": [
      "Train loss:  0.0003\n"
     ]
    },
    {
     "name": "stderr",
     "output_type": "stream",
     "text": [
      "Evaluation: 100%|█████████████████████████████████| 168/168 [00:04<00:00, 39.40batch/s, loss=0.0467]\n"
     ]
    },
    {
     "name": "stdout",
     "output_type": "stream",
     "text": [
      "[0.41597461 0.43465446 0.58902664 0.56232187 0.42747083 0.72761329\n",
      " 0.2033017 ]\n",
      "Validation loss:  0.0467\n"
     ]
    },
    {
     "name": "stderr",
     "output_type": "stream",
     "text": [
      "Evaluation: 100%|████████████████████████████████| 179/179 [00:04<00:00, 39.33batch/s, loss=0.00842]\n"
     ]
    },
    {
     "name": "stdout",
     "output_type": "stream",
     "text": [
      "[0.74991034]\n",
      "Test loss:  0.0084\n",
      "[VAL]  -> QWK:  0.502, CORR:  0.583, RMSE:  0.216\n",
      "[TEST] -> QWK:  0.750, CORR:  0.833, RMSE:  0.092\n",
      "[BEST] -> QWK:  0.750, CORR:  0.833, RMSE:  0.092\n",
      "29 / 50 EPOCHS\n",
      "Seed: 12, Prompt: 1\n"
     ]
    },
    {
     "name": "stderr",
     "output_type": "stream",
     "text": [
      "Training: 100%|█████████████████████████████████| 952/952 [01:11<00:00, 13.35batch/s, loss=0.000249]\n"
     ]
    },
    {
     "name": "stdout",
     "output_type": "stream",
     "text": [
      "Train loss:  0.0002\n"
     ]
    },
    {
     "name": "stderr",
     "output_type": "stream",
     "text": [
      "Evaluation: 100%|█████████████████████████████████| 168/168 [00:04<00:00, 38.71batch/s, loss=0.0626]\n"
     ]
    },
    {
     "name": "stdout",
     "output_type": "stream",
     "text": [
      "[0.5053408  0.37006548 0.4514382  0.48322772 0.34423316 0.63668156\n",
      " 0.22863726]\n",
      "Validation loss:  0.0626\n"
     ]
    },
    {
     "name": "stderr",
     "output_type": "stream",
     "text": [
      "Evaluation: 100%|████████████████████████████████| 179/179 [00:04<00:00, 40.61batch/s, loss=0.00751]\n"
     ]
    },
    {
     "name": "stdout",
     "output_type": "stream",
     "text": [
      "[0.80564284]\n",
      "Test loss:  0.0075\n",
      "[VAL]  -> QWK:  0.447, CORR:  0.545, RMSE:  0.250\n",
      "[TEST] -> QWK:  0.806, CORR:  0.830, RMSE:  0.086\n",
      "[BEST] -> QWK:  0.750, CORR:  0.833, RMSE:  0.092\n",
      "30 / 50 EPOCHS\n",
      "Seed: 12, Prompt: 1\n"
     ]
    },
    {
     "name": "stderr",
     "output_type": "stream",
     "text": [
      "Training: 100%|█████████████████████████████████| 952/952 [01:08<00:00, 13.81batch/s, loss=0.000258]\n"
     ]
    },
    {
     "name": "stdout",
     "output_type": "stream",
     "text": [
      "Train loss:  0.0003\n"
     ]
    },
    {
     "name": "stderr",
     "output_type": "stream",
     "text": [
      "Evaluation: 100%|█████████████████████████████████| 168/168 [00:04<00:00, 38.85batch/s, loss=0.0568]\n"
     ]
    },
    {
     "name": "stdout",
     "output_type": "stream",
     "text": [
      "[0.51432112 0.38005125 0.48470978 0.49575425 0.35680638 0.6771577\n",
      " 0.22745403]\n",
      "Validation loss:  0.0568\n"
     ]
    },
    {
     "name": "stderr",
     "output_type": "stream",
     "text": [
      "Evaluation: 100%|████████████████████████████████| 179/179 [00:04<00:00, 39.99batch/s, loss=0.00739]\n"
     ]
    },
    {
     "name": "stdout",
     "output_type": "stream",
     "text": [
      "[0.78955812]\n",
      "Test loss:  0.0074\n",
      "[VAL]  -> QWK:  0.465, CORR:  0.560, RMSE:  0.238\n",
      "[TEST] -> QWK:  0.790, CORR:  0.832, RMSE:  0.086\n",
      "[BEST] -> QWK:  0.750, CORR:  0.833, RMSE:  0.092\n",
      "31 / 50 EPOCHS\n",
      "Seed: 12, Prompt: 1\n"
     ]
    },
    {
     "name": "stderr",
     "output_type": "stream",
     "text": [
      "Training: 100%|█████████████████████████████████| 952/952 [01:13<00:00, 12.97batch/s, loss=0.000244]\n"
     ]
    },
    {
     "name": "stdout",
     "output_type": "stream",
     "text": [
      "Train loss:  0.0002\n"
     ]
    },
    {
     "name": "stderr",
     "output_type": "stream",
     "text": [
      "Evaluation: 100%|█████████████████████████████████| 168/168 [00:04<00:00, 35.21batch/s, loss=0.0671]\n"
     ]
    },
    {
     "name": "stdout",
     "output_type": "stream",
     "text": [
      "[0.58191252 0.31899205 0.44262351 0.43626688 0.29204312 0.60798106\n",
      " 0.27915594]\n",
      "Validation loss:  0.0671\n"
     ]
    },
    {
     "name": "stderr",
     "output_type": "stream",
     "text": [
      "Evaluation: 100%|████████████████████████████████| 179/179 [00:04<00:00, 37.33batch/s, loss=0.00748]\n"
     ]
    },
    {
     "name": "stdout",
     "output_type": "stream",
     "text": [
      "[0.79086956]\n",
      "Test loss:  0.0075\n",
      "[VAL]  -> QWK:  0.433, CORR:  0.543, RMSE:  0.259\n",
      "[TEST] -> QWK:  0.791, CORR:  0.837, RMSE:  0.087\n",
      "[BEST] -> QWK:  0.750, CORR:  0.833, RMSE:  0.092\n",
      "32 / 50 EPOCHS\n",
      "Seed: 12, Prompt: 1\n"
     ]
    },
    {
     "name": "stderr",
     "output_type": "stream",
     "text": [
      "Training: 100%|█████████████████████████████████| 952/952 [01:16<00:00, 12.50batch/s, loss=0.000257]\n"
     ]
    },
    {
     "name": "stdout",
     "output_type": "stream",
     "text": [
      "Train loss:  0.0003\n"
     ]
    },
    {
     "name": "stderr",
     "output_type": "stream",
     "text": [
      "Evaluation: 100%|██████████████████████████████████| 168/168 [00:04<00:00, 36.53batch/s, loss=0.066]\n"
     ]
    },
    {
     "name": "stdout",
     "output_type": "stream",
     "text": [
      "[0.55033542 0.33761813 0.47245286 0.46136138 0.32558057 0.63252301\n",
      " 0.29048675]\n",
      "Validation loss:  0.0660\n"
     ]
    },
    {
     "name": "stderr",
     "output_type": "stream",
     "text": [
      "Evaluation: 100%|████████████████████████████████| 179/179 [00:04<00:00, 36.09batch/s, loss=0.00741]\n"
     ]
    },
    {
     "name": "stdout",
     "output_type": "stream",
     "text": [
      "[0.78782301]\n",
      "Test loss:  0.0074\n",
      "[VAL]  -> QWK:  0.449, CORR:  0.542, RMSE:  0.257\n",
      "[TEST] -> QWK:  0.788, CORR:  0.832, RMSE:  0.086\n",
      "[BEST] -> QWK:  0.750, CORR:  0.833, RMSE:  0.092\n",
      "33 / 50 EPOCHS\n",
      "Seed: 12, Prompt: 1\n"
     ]
    },
    {
     "name": "stderr",
     "output_type": "stream",
     "text": [
      "Training: 100%|█████████████████████████████████| 952/952 [01:09<00:00, 13.78batch/s, loss=0.000249]\n"
     ]
    },
    {
     "name": "stdout",
     "output_type": "stream",
     "text": [
      "Train loss:  0.0002\n"
     ]
    },
    {
     "name": "stderr",
     "output_type": "stream",
     "text": [
      "Evaluation: 100%|█████████████████████████████████| 168/168 [00:04<00:00, 39.92batch/s, loss=0.0565]\n"
     ]
    },
    {
     "name": "stdout",
     "output_type": "stream",
     "text": [
      "[0.43910277 0.38966099 0.5045732  0.51654592 0.41683906 0.67312355\n",
      " 0.21338398]\n",
      "Validation loss:  0.0565\n"
     ]
    },
    {
     "name": "stderr",
     "output_type": "stream",
     "text": [
      "Evaluation: 100%|████████████████████████████████| 179/179 [00:04<00:00, 39.41batch/s, loss=0.00768]\n"
     ]
    },
    {
     "name": "stdout",
     "output_type": "stream",
     "text": [
      "[0.77926956]\n",
      "Test loss:  0.0077\n",
      "[VAL]  -> QWK:  0.469, CORR:  0.564, RMSE:  0.238\n",
      "[TEST] -> QWK:  0.779, CORR:  0.836, RMSE:  0.088\n",
      "[BEST] -> QWK:  0.750, CORR:  0.833, RMSE:  0.092\n",
      "34 / 50 EPOCHS\n",
      "Seed: 12, Prompt: 1\n"
     ]
    },
    {
     "name": "stderr",
     "output_type": "stream",
     "text": [
      "Training: 100%|█████████████████████████████████| 952/952 [01:09<00:00, 13.64batch/s, loss=0.000251]\n"
     ]
    },
    {
     "name": "stdout",
     "output_type": "stream",
     "text": [
      "Train loss:  0.0003\n"
     ]
    },
    {
     "name": "stderr",
     "output_type": "stream",
     "text": [
      "Evaluation: 100%|█████████████████████████████████| 168/168 [00:04<00:00, 38.59batch/s, loss=0.0779]\n"
     ]
    },
    {
     "name": "stdout",
     "output_type": "stream",
     "text": [
      "[0.56983265 0.28435067 0.44845607 0.42024976 0.2817388  0.56787404\n",
      " 0.31177975]\n",
      "Validation loss:  0.0779\n"
     ]
    },
    {
     "name": "stderr",
     "output_type": "stream",
     "text": [
      "Evaluation: 100%|████████████████████████████████| 179/179 [00:04<00:00, 40.41batch/s, loss=0.00803]\n"
     ]
    },
    {
     "name": "stdout",
     "output_type": "stream",
     "text": [
      "[0.7800597]\n",
      "Test loss:  0.0080\n",
      "[VAL]  -> QWK:  0.419, CORR:  0.529, RMSE:  0.279\n",
      "[TEST] -> QWK:  0.780, CORR:  0.836, RMSE:  0.090\n",
      "[BEST] -> QWK:  0.750, CORR:  0.833, RMSE:  0.092\n",
      "35 / 50 EPOCHS\n",
      "Seed: 12, Prompt: 1\n"
     ]
    },
    {
     "name": "stderr",
     "output_type": "stream",
     "text": [
      "Training: 100%|█████████████████████████████████| 952/952 [01:13<00:00, 13.03batch/s, loss=0.000247]\n"
     ]
    },
    {
     "name": "stdout",
     "output_type": "stream",
     "text": [
      "Train loss:  0.0002\n"
     ]
    },
    {
     "name": "stderr",
     "output_type": "stream",
     "text": [
      "Evaluation: 100%|█████████████████████████████████| 168/168 [00:05<00:00, 28.73batch/s, loss=0.0642]\n"
     ]
    },
    {
     "name": "stdout",
     "output_type": "stream",
     "text": [
      "[0.51401957 0.33374933 0.4877652  0.46855934 0.33371488 0.64947215\n",
      " 0.27837712]\n",
      "Validation loss:  0.0642\n"
     ]
    },
    {
     "name": "stderr",
     "output_type": "stream",
     "text": [
      "Evaluation: 100%|████████████████████████████████| 179/179 [00:04<00:00, 37.57batch/s, loss=0.00725]\n"
     ]
    },
    {
     "name": "stdout",
     "output_type": "stream",
     "text": [
      "[0.7977834]\n",
      "Test loss:  0.0073\n",
      "[VAL]  -> QWK:  0.449, CORR:  0.548, RMSE:  0.253\n",
      "[TEST] -> QWK:  0.798, CORR:  0.836, RMSE:  0.085\n",
      "[BEST] -> QWK:  0.750, CORR:  0.833, RMSE:  0.092\n",
      "36 / 50 EPOCHS\n",
      "Seed: 12, Prompt: 1\n"
     ]
    },
    {
     "name": "stderr",
     "output_type": "stream",
     "text": [
      "Training: 100%|█████████████████████████████████| 952/952 [01:15<00:00, 12.54batch/s, loss=0.000242]\n"
     ]
    },
    {
     "name": "stdout",
     "output_type": "stream",
     "text": [
      "Train loss:  0.0002\n"
     ]
    },
    {
     "name": "stderr",
     "output_type": "stream",
     "text": [
      "Evaluation: 100%|█████████████████████████████████| 168/168 [00:05<00:00, 31.80batch/s, loss=0.0513]\n"
     ]
    },
    {
     "name": "stdout",
     "output_type": "stream",
     "text": [
      "[0.5306802  0.40351989 0.54425488 0.49228161 0.37667976 0.70661961\n",
      " 0.26260532]\n",
      "Validation loss:  0.0513\n"
     ]
    },
    {
     "name": "stderr",
     "output_type": "stream",
     "text": [
      "Evaluation: 100%|████████████████████████████████| 179/179 [00:04<00:00, 39.44batch/s, loss=0.00752]\n"
     ]
    },
    {
     "name": "stdout",
     "output_type": "stream",
     "text": [
      "[0.77676452]\n",
      "Test loss:  0.0075\n",
      "[VAL]  -> QWK:  0.490, CORR:  0.584, RMSE:  0.226\n",
      "[TEST] -> QWK:  0.777, CORR:  0.835, RMSE:  0.087\n",
      "[BEST] -> QWK:  0.750, CORR:  0.833, RMSE:  0.092\n",
      "37 / 50 EPOCHS\n",
      "Seed: 12, Prompt: 1\n"
     ]
    },
    {
     "name": "stderr",
     "output_type": "stream",
     "text": [
      "Training: 100%|█████████████████████████████████| 952/952 [01:10<00:00, 13.43batch/s, loss=0.000244]\n"
     ]
    },
    {
     "name": "stdout",
     "output_type": "stream",
     "text": [
      "Train loss:  0.0002\n"
     ]
    },
    {
     "name": "stderr",
     "output_type": "stream",
     "text": [
      "Evaluation: 100%|█████████████████████████████████| 168/168 [00:04<00:00, 36.35batch/s, loss=0.0656]\n"
     ]
    },
    {
     "name": "stdout",
     "output_type": "stream",
     "text": [
      "[0.59391983 0.32893652 0.46928822 0.46459395 0.2924478  0.59890803\n",
      " 0.29448068]\n",
      "Validation loss:  0.0656\n"
     ]
    },
    {
     "name": "stderr",
     "output_type": "stream",
     "text": [
      "Evaluation: 100%|████████████████████████████████| 179/179 [00:05<00:00, 35.73batch/s, loss=0.00787]\n"
     ]
    },
    {
     "name": "stdout",
     "output_type": "stream",
     "text": [
      "[0.77715913]\n",
      "Test loss:  0.0079\n",
      "[VAL]  -> QWK:  0.445, CORR:  0.556, RMSE:  0.256\n",
      "[TEST] -> QWK:  0.777, CORR:  0.834, RMSE:  0.089\n",
      "[BEST] -> QWK:  0.750, CORR:  0.833, RMSE:  0.092\n",
      "38 / 50 EPOCHS\n",
      "Seed: 12, Prompt: 1\n"
     ]
    },
    {
     "name": "stderr",
     "output_type": "stream",
     "text": [
      "Training: 100%|█████████████████████████████████| 952/952 [01:10<00:00, 13.48batch/s, loss=0.000242]\n"
     ]
    },
    {
     "name": "stdout",
     "output_type": "stream",
     "text": [
      "Train loss:  0.0002\n"
     ]
    },
    {
     "name": "stderr",
     "output_type": "stream",
     "text": [
      "Evaluation: 100%|█████████████████████████████████| 168/168 [00:04<00:00, 39.05batch/s, loss=0.0541]\n"
     ]
    },
    {
     "name": "stdout",
     "output_type": "stream",
     "text": [
      "[0.51097439 0.39177385 0.53410459 0.50891426 0.38551749 0.69781553\n",
      " 0.23144934]\n",
      "Validation loss:  0.0541\n"
     ]
    },
    {
     "name": "stderr",
     "output_type": "stream",
     "text": [
      "Evaluation: 100%|████████████████████████████████| 179/179 [00:04<00:00, 39.18batch/s, loss=0.00768]\n"
     ]
    },
    {
     "name": "stdout",
     "output_type": "stream",
     "text": [
      "[0.78254766]\n",
      "Test loss:  0.0077\n",
      "[VAL]  -> QWK:  0.484, CORR:  0.573, RMSE:  0.233\n",
      "[TEST] -> QWK:  0.783, CORR:  0.833, RMSE:  0.087\n",
      "[BEST] -> QWK:  0.750, CORR:  0.833, RMSE:  0.092\n",
      "39 / 50 EPOCHS\n",
      "Seed: 12, Prompt: 1\n"
     ]
    },
    {
     "name": "stderr",
     "output_type": "stream",
     "text": [
      "Training: 100%|█████████████████████████████████| 952/952 [01:07<00:00, 14.02batch/s, loss=0.000241]\n"
     ]
    },
    {
     "name": "stdout",
     "output_type": "stream",
     "text": [
      "Train loss:  0.0002\n"
     ]
    },
    {
     "name": "stderr",
     "output_type": "stream",
     "text": [
      "Evaluation: 100%|██████████████████████████████████| 168/168 [00:04<00:00, 36.24batch/s, loss=0.058]\n"
     ]
    },
    {
     "name": "stdout",
     "output_type": "stream",
     "text": [
      "[0.47567546 0.36944894 0.5130022  0.52274245 0.38033938 0.67367404\n",
      " 0.2167768 ]\n",
      "Validation loss:  0.0580\n"
     ]
    },
    {
     "name": "stderr",
     "output_type": "stream",
     "text": [
      "Evaluation: 100%|████████████████████████████████| 179/179 [00:04<00:00, 35.99batch/s, loss=0.00769]\n"
     ]
    },
    {
     "name": "stdout",
     "output_type": "stream",
     "text": [
      "[0.78143888]\n",
      "Test loss:  0.0077\n",
      "[VAL]  -> QWK:  0.468, CORR:  0.563, RMSE:  0.241\n",
      "[TEST] -> QWK:  0.781, CORR:  0.834, RMSE:  0.088\n",
      "[BEST] -> QWK:  0.750, CORR:  0.833, RMSE:  0.092\n",
      "40 / 50 EPOCHS\n",
      "Seed: 12, Prompt: 1\n"
     ]
    },
    {
     "name": "stderr",
     "output_type": "stream",
     "text": [
      "Training: 100%|█████████████████████████████████| 952/952 [01:20<00:00, 11.83batch/s, loss=0.000233]\n"
     ]
    },
    {
     "name": "stdout",
     "output_type": "stream",
     "text": [
      "Train loss:  0.0002\n"
     ]
    },
    {
     "name": "stderr",
     "output_type": "stream",
     "text": [
      "Evaluation: 100%|█████████████████████████████████| 168/168 [00:04<00:00, 36.88batch/s, loss=0.0567]\n"
     ]
    },
    {
     "name": "stdout",
     "output_type": "stream",
     "text": [
      "[0.47134985 0.39096655 0.52710086 0.5058609  0.37586933 0.68687479\n",
      " 0.2254581 ]\n",
      "Validation loss:  0.0567\n"
     ]
    },
    {
     "name": "stderr",
     "output_type": "stream",
     "text": [
      "Evaluation: 100%|████████████████████████████████| 179/179 [00:04<00:00, 36.81batch/s, loss=0.00763]\n"
     ]
    },
    {
     "name": "stdout",
     "output_type": "stream",
     "text": [
      "[0.77961372]\n",
      "Test loss:  0.0076\n",
      "[VAL]  -> QWK:  0.472, CORR:  0.559, RMSE:  0.238\n",
      "[TEST] -> QWK:  0.780, CORR:  0.835, RMSE:  0.087\n",
      "[BEST] -> QWK:  0.750, CORR:  0.833, RMSE:  0.092\n",
      "41 / 50 EPOCHS\n",
      "Seed: 12, Prompt: 1\n"
     ]
    },
    {
     "name": "stderr",
     "output_type": "stream",
     "text": [
      "Training: 100%|█████████████████████████████████| 952/952 [01:13<00:00, 12.96batch/s, loss=0.000237]\n"
     ]
    },
    {
     "name": "stdout",
     "output_type": "stream",
     "text": [
      "Train loss:  0.0002\n"
     ]
    },
    {
     "name": "stderr",
     "output_type": "stream",
     "text": [
      "Evaluation: 100%|█████████████████████████████████| 168/168 [00:04<00:00, 40.24batch/s, loss=0.0575]\n"
     ]
    },
    {
     "name": "stdout",
     "output_type": "stream",
     "text": [
      "[0.54494057 0.35967971 0.47051861 0.47865705 0.36375551 0.67739377\n",
      " 0.2690044 ]\n",
      "Validation loss:  0.0575\n"
     ]
    },
    {
     "name": "stderr",
     "output_type": "stream",
     "text": [
      "Evaluation: 100%|████████████████████████████████| 179/179 [00:04<00:00, 37.82batch/s, loss=0.00734]\n"
     ]
    },
    {
     "name": "stdout",
     "output_type": "stream",
     "text": [
      "[0.78435465]\n",
      "Test loss:  0.0073\n",
      "[VAL]  -> QWK:  0.465, CORR:  0.566, RMSE:  0.240\n",
      "[TEST] -> QWK:  0.784, CORR:  0.837, RMSE:  0.086\n",
      "[BEST] -> QWK:  0.750, CORR:  0.833, RMSE:  0.092\n",
      "42 / 50 EPOCHS\n",
      "Seed: 12, Prompt: 1\n"
     ]
    },
    {
     "name": "stderr",
     "output_type": "stream",
     "text": [
      "Training: 100%|█████████████████████████████████| 952/952 [01:10<00:00, 13.52batch/s, loss=0.000223]\n"
     ]
    },
    {
     "name": "stdout",
     "output_type": "stream",
     "text": [
      "Train loss:  0.0002\n"
     ]
    },
    {
     "name": "stderr",
     "output_type": "stream",
     "text": [
      "Evaluation: 100%|█████████████████████████████████| 168/168 [00:04<00:00, 39.37batch/s, loss=0.0681]\n"
     ]
    },
    {
     "name": "stdout",
     "output_type": "stream",
     "text": [
      "[0.56224825 0.33705206 0.46932001 0.43422341 0.27796715 0.61508915\n",
      " 0.30861427]\n",
      "Validation loss:  0.0681\n"
     ]
    },
    {
     "name": "stderr",
     "output_type": "stream",
     "text": [
      "Evaluation: 100%|████████████████████████████████| 179/179 [00:04<00:00, 37.81batch/s, loss=0.00788]\n"
     ]
    },
    {
     "name": "stdout",
     "output_type": "stream",
     "text": [
      "[0.78244911]\n",
      "Test loss:  0.0079\n",
      "[VAL]  -> QWK:  0.437, CORR:  0.544, RMSE:  0.261\n",
      "[TEST] -> QWK:  0.782, CORR:  0.834, RMSE:  0.088\n",
      "[BEST] -> QWK:  0.750, CORR:  0.833, RMSE:  0.092\n",
      "43 / 50 EPOCHS\n",
      "Seed: 12, Prompt: 1\n"
     ]
    },
    {
     "name": "stderr",
     "output_type": "stream",
     "text": [
      "Training: 100%|█████████████████████████████████| 952/952 [01:08<00:00, 13.97batch/s, loss=0.000229]\n"
     ]
    },
    {
     "name": "stdout",
     "output_type": "stream",
     "text": [
      "Train loss:  0.0002\n"
     ]
    },
    {
     "name": "stderr",
     "output_type": "stream",
     "text": [
      "Evaluation: 100%|█████████████████████████████████| 168/168 [00:04<00:00, 38.44batch/s, loss=0.0595]\n"
     ]
    },
    {
     "name": "stdout",
     "output_type": "stream",
     "text": [
      "[0.54652143 0.34200367 0.48285284 0.47265898 0.35542565 0.65194164\n",
      " 0.26272123]\n",
      "Validation loss:  0.0595\n"
     ]
    },
    {
     "name": "stderr",
     "output_type": "stream",
     "text": [
      "Evaluation: 100%|████████████████████████████████| 179/179 [00:04<00:00, 40.81batch/s, loss=0.00729]\n"
     ]
    },
    {
     "name": "stdout",
     "output_type": "stream",
     "text": [
      "[0.79068318]\n",
      "Test loss:  0.0073\n",
      "[VAL]  -> QWK:  0.459, CORR:  0.562, RMSE:  0.244\n",
      "[TEST] -> QWK:  0.791, CORR:  0.835, RMSE:  0.086\n",
      "[BEST] -> QWK:  0.750, CORR:  0.833, RMSE:  0.092\n",
      "44 / 50 EPOCHS\n",
      "Seed: 12, Prompt: 1\n"
     ]
    },
    {
     "name": "stderr",
     "output_type": "stream",
     "text": [
      "Training: 100%|█████████████████████████████████| 952/952 [01:10<00:00, 13.55batch/s, loss=0.000225]\n"
     ]
    },
    {
     "name": "stdout",
     "output_type": "stream",
     "text": [
      "Train loss:  0.0002\n"
     ]
    },
    {
     "name": "stderr",
     "output_type": "stream",
     "text": [
      "Evaluation: 100%|█████████████████████████████████| 168/168 [00:05<00:00, 33.23batch/s, loss=0.0623]\n"
     ]
    },
    {
     "name": "stdout",
     "output_type": "stream",
     "text": [
      "[0.489135   0.32522796 0.48075342 0.48741242 0.35496482 0.64881949\n",
      " 0.26213886]\n",
      "Validation loss:  0.0623\n"
     ]
    },
    {
     "name": "stderr",
     "output_type": "stream",
     "text": [
      "Evaluation: 100%|████████████████████████████████| 179/179 [00:05<00:00, 33.36batch/s, loss=0.00754]\n"
     ]
    },
    {
     "name": "stdout",
     "output_type": "stream",
     "text": [
      "[0.78131123]\n",
      "Test loss:  0.0075\n",
      "[VAL]  -> QWK:  0.448, CORR:  0.547, RMSE:  0.250\n",
      "[TEST] -> QWK:  0.781, CORR:  0.830, RMSE:  0.087\n",
      "[BEST] -> QWK:  0.750, CORR:  0.833, RMSE:  0.092\n",
      "45 / 50 EPOCHS\n",
      "Seed: 12, Prompt: 1\n"
     ]
    },
    {
     "name": "stderr",
     "output_type": "stream",
     "text": [
      "Training: 100%|█████████████████████████████████| 952/952 [01:13<00:00, 12.94batch/s, loss=0.000221]\n"
     ]
    },
    {
     "name": "stdout",
     "output_type": "stream",
     "text": [
      "Train loss:  0.0002\n"
     ]
    },
    {
     "name": "stderr",
     "output_type": "stream",
     "text": [
      "Evaluation: 100%|█████████████████████████████████| 168/168 [00:04<00:00, 38.05batch/s, loss=0.0563]\n"
     ]
    },
    {
     "name": "stdout",
     "output_type": "stream",
     "text": [
      "[0.52567398 0.36745726 0.48470978 0.483201   0.35869093 0.6690778\n",
      " 0.26210987]\n",
      "Validation loss:  0.0563\n"
     ]
    },
    {
     "name": "stderr",
     "output_type": "stream",
     "text": [
      "Evaluation: 100%|████████████████████████████████| 179/179 [00:04<00:00, 37.54batch/s, loss=0.00736]\n"
     ]
    },
    {
     "name": "stdout",
     "output_type": "stream",
     "text": [
      "[0.79170556]\n",
      "Test loss:  0.0074\n",
      "[VAL]  -> QWK:  0.464, CORR:  0.563, RMSE:  0.237\n",
      "[TEST] -> QWK:  0.792, CORR:  0.834, RMSE:  0.086\n",
      "[BEST] -> QWK:  0.750, CORR:  0.833, RMSE:  0.092\n",
      "46 / 50 EPOCHS\n",
      "Seed: 12, Prompt: 1\n"
     ]
    },
    {
     "name": "stderr",
     "output_type": "stream",
     "text": [
      "Training: 100%|█████████████████████████████████| 952/952 [01:09<00:00, 13.61batch/s, loss=0.000216]\n"
     ]
    },
    {
     "name": "stdout",
     "output_type": "stream",
     "text": [
      "Train loss:  0.0002\n"
     ]
    },
    {
     "name": "stderr",
     "output_type": "stream",
     "text": [
      "Evaluation: 100%|██████████████████████████████████| 168/168 [00:04<00:00, 36.85batch/s, loss=0.064]\n"
     ]
    },
    {
     "name": "stdout",
     "output_type": "stream",
     "text": [
      "[0.5080006  0.35080024 0.44715503 0.46840385 0.36110807 0.62904268\n",
      " 0.23524216]\n",
      "Validation loss:  0.0640\n"
     ]
    },
    {
     "name": "stderr",
     "output_type": "stream",
     "text": [
      "Evaluation: 100%|████████████████████████████████| 179/179 [00:05<00:00, 35.67batch/s, loss=0.00739]\n"
     ]
    },
    {
     "name": "stdout",
     "output_type": "stream",
     "text": [
      "[0.79523488]\n",
      "Test loss:  0.0074\n",
      "[VAL]  -> QWK:  0.443, CORR:  0.548, RMSE:  0.253\n",
      "[TEST] -> QWK:  0.795, CORR:  0.831, RMSE:  0.086\n",
      "[BEST] -> QWK:  0.750, CORR:  0.833, RMSE:  0.092\n",
      "47 / 50 EPOCHS\n",
      "Seed: 12, Prompt: 1\n"
     ]
    },
    {
     "name": "stderr",
     "output_type": "stream",
     "text": [
      "Training: 100%|██████████████████████████████████| 952/952 [01:10<00:00, 13.46batch/s, loss=0.00022]\n"
     ]
    },
    {
     "name": "stdout",
     "output_type": "stream",
     "text": [
      "Train loss:  0.0002\n"
     ]
    },
    {
     "name": "stderr",
     "output_type": "stream",
     "text": [
      "Evaluation: 100%|█████████████████████████████████| 168/168 [00:04<00:00, 37.91batch/s, loss=0.0668]\n"
     ]
    },
    {
     "name": "stdout",
     "output_type": "stream",
     "text": [
      "[0.55193591 0.33614216 0.46146455 0.4608777  0.31421314 0.62435708\n",
      " 0.30490879]\n",
      "Validation loss:  0.0668\n"
     ]
    },
    {
     "name": "stderr",
     "output_type": "stream",
     "text": [
      "Evaluation: 100%|████████████████████████████████| 179/179 [00:04<00:00, 39.33batch/s, loss=0.00771]\n"
     ]
    },
    {
     "name": "stdout",
     "output_type": "stream",
     "text": [
      "[0.78794739]\n",
      "Test loss:  0.0077\n",
      "[VAL]  -> QWK:  0.446, CORR:  0.544, RMSE:  0.258\n",
      "[TEST] -> QWK:  0.788, CORR:  0.832, RMSE:  0.088\n",
      "[BEST] -> QWK:  0.750, CORR:  0.833, RMSE:  0.092\n",
      "48 / 50 EPOCHS\n",
      "Seed: 12, Prompt: 1\n"
     ]
    },
    {
     "name": "stderr",
     "output_type": "stream",
     "text": [
      "Training: 100%|█████████████████████████████████| 952/952 [01:08<00:00, 13.94batch/s, loss=0.000216]\n"
     ]
    },
    {
     "name": "stdout",
     "output_type": "stream",
     "text": [
      "Train loss:  0.0002\n"
     ]
    },
    {
     "name": "stderr",
     "output_type": "stream",
     "text": [
      "Evaluation: 100%|█████████████████████████████████| 168/168 [00:04<00:00, 40.42batch/s, loss=0.0558]\n"
     ]
    },
    {
     "name": "stdout",
     "output_type": "stream",
     "text": [
      "[0.47790467 0.39994704 0.50676317 0.53845097 0.39167868 0.67711325\n",
      " 0.23987212]\n",
      "Validation loss:  0.0558\n"
     ]
    },
    {
     "name": "stderr",
     "output_type": "stream",
     "text": [
      "Evaluation: 100%|████████████████████████████████| 179/179 [00:04<00:00, 38.76batch/s, loss=0.00773]\n"
     ]
    },
    {
     "name": "stdout",
     "output_type": "stream",
     "text": [
      "[0.76904309]\n",
      "Test loss:  0.0077\n",
      "[VAL]  -> QWK:  0.479, CORR:  0.569, RMSE:  0.236\n",
      "[TEST] -> QWK:  0.769, CORR:  0.829, RMSE:  0.088\n",
      "[BEST] -> QWK:  0.750, CORR:  0.833, RMSE:  0.092\n",
      "49 / 50 EPOCHS\n",
      "Seed: 12, Prompt: 1\n"
     ]
    },
    {
     "name": "stderr",
     "output_type": "stream",
     "text": [
      "Training: 100%|█████████████████████████████████| 952/952 [01:19<00:00, 11.90batch/s, loss=0.000217]\n"
     ]
    },
    {
     "name": "stdout",
     "output_type": "stream",
     "text": [
      "Train loss:  0.0002\n"
     ]
    },
    {
     "name": "stderr",
     "output_type": "stream",
     "text": [
      "Evaluation: 100%|█████████████████████████████████| 168/168 [00:04<00:00, 37.57batch/s, loss=0.0608]\n"
     ]
    },
    {
     "name": "stdout",
     "output_type": "stream",
     "text": [
      "[0.50262275 0.35558781 0.50800923 0.5079301  0.38791181 0.66511785\n",
      " 0.23909858]\n",
      "Validation loss:  0.0608\n"
     ]
    },
    {
     "name": "stderr",
     "output_type": "stream",
     "text": [
      "Evaluation: 100%|████████████████████████████████| 179/179 [00:04<00:00, 39.08batch/s, loss=0.00748]\n"
     ]
    },
    {
     "name": "stdout",
     "output_type": "stream",
     "text": [
      "[0.78500499]\n",
      "Test loss:  0.0075\n",
      "[VAL]  -> QWK:  0.469, CORR:  0.562, RMSE:  0.246\n",
      "[TEST] -> QWK:  0.785, CORR:  0.831, RMSE:  0.086\n",
      "[BEST] -> QWK:  0.750, CORR:  0.833, RMSE:  0.092\n",
      "50 / 50 EPOCHS\n",
      "Seed: 12, Prompt: 1\n"
     ]
    },
    {
     "name": "stderr",
     "output_type": "stream",
     "text": [
      "Training: 100%|█████████████████████████████████| 952/952 [01:11<00:00, 13.28batch/s, loss=0.000213]\n"
     ]
    },
    {
     "name": "stdout",
     "output_type": "stream",
     "text": [
      "Train loss:  0.0002\n"
     ]
    },
    {
     "name": "stderr",
     "output_type": "stream",
     "text": [
      "Evaluation: 100%|██████████████████████████████████| 168/168 [00:04<00:00, 37.95batch/s, loss=0.069]\n"
     ]
    },
    {
     "name": "stdout",
     "output_type": "stream",
     "text": [
      "[0.5485713  0.29793754 0.47463333 0.43015192 0.2920818  0.60408047\n",
      " 0.3285514 ]\n",
      "Validation loss:  0.0690\n"
     ]
    },
    {
     "name": "stderr",
     "output_type": "stream",
     "text": [
      "Evaluation: 100%|████████████████████████████████| 179/179 [00:04<00:00, 39.06batch/s, loss=0.00793]\n"
     ]
    },
    {
     "name": "stdout",
     "output_type": "stream",
     "text": [
      "[0.77564034]\n",
      "Test loss:  0.0079\n",
      "[VAL]  -> QWK:  0.431, CORR:  0.535, RMSE:  0.263\n",
      "[TEST] -> QWK:  0.776, CORR:  0.830, RMSE:  0.089\n",
      "[BEST] -> QWK:  0.750, CORR:  0.833, RMSE:  0.092\n"
     ]
    }
   ],
   "source": [
    "import torch.nn as nn\n",
    "import torch.optim as optim\n",
    "import torch\n",
    "\n",
    "model = PAES(max_sentnum, max_sentlen, X_train_linguistic_features.size(1), X_train_readability.size(1), pos_vocab=pos_vocab)\n",
    "model = model.to(device)\n",
    "print(model)\n",
    "\n",
    "# Create loss and optimizer\n",
    "reduction = 'none'\n",
    "MSE_Loss = nn.MSELoss(reduction=reduction).to(device)\n",
    "optimizer = torch.optim.RMSprop(model.parameters(), lr=0.001)\n",
    "\n",
    "train_history = []\n",
    "dev_history = []\n",
    "test_history = []\n",
    "best_test_metrics = [-1, -1, -1, -1, -1]\n",
    "best_val_metrics = [-1, -1, -1, -1, -1]\n",
    "best_test = [-1, -1, -1, -1, -1]\n",
    "for epoch in range(epochs):\n",
    "    print('{} / {} EPOCHS'.format(epoch+1, epochs))\n",
    "    print('Seed: {}, Prompt: {}'.format(seed, test_prompt_id))\n",
    "    \n",
    "    # Train the model\n",
    "    train_loss = train_model(model, train_loader, MSE_Loss, optimizer, device, weight=True)\n",
    "    print(f'Train loss: {train_loss: .4f}')\n",
    "    train_history.append(train_loss)\n",
    "\n",
    "    # Evaluate the model on dev set\n",
    "    dev_results = evaluate_model(model, dev_loader, MSE_Loss, device, attribute_name)\n",
    "    print(f'Validation loss: {dev_results[\"loss\"]: .4f}')\n",
    "    dev_history.append(dev_results[\"loss\"])\n",
    "\n",
    "    # Evaluate the model on test set\n",
    "    test_results = evaluate_model(model, test_loader, MSE_Loss, device, attribute_name)\n",
    "    print(f'Test loss: {test_results[\"loss\"]: .4f}')\n",
    "    test_history.append(test_results[\"loss\"])\n",
    "\n",
    "    print(f'[VAL]  -> QWK: {dev_results[\"qwk\"]: .3f}, CORR: {dev_results[\"corr\"]: .3f}, RMSE: {dev_results[\"rmse\"]: .3f}')\n",
    "    print(f'[TEST] -> QWK: {test_results[\"qwk\"]: .3f}, CORR: {test_results[\"corr\"]: .3f}, RMSE: {test_results[\"rmse\"]: .3f}')\n",
    "\n",
    "    if dev_results[\"qwk\"] > best_val_metrics[0]:\n",
    "        for i, met in enumerate(['qwk', 'lwk', 'corr', 'rmse', 'mae']):\n",
    "            best_val_metrics[i] = dev_results[met]\n",
    "            best_test_metrics[i] = test_results[met]\n",
    "    if test_results[\"qwk\"] > best_test[0]:\n",
    "        for i, met in enumerate(['qwk', 'lwk', 'corr', 'rmse', 'mae']):\n",
    "            best_test[i] = test_results[met]\n",
    "\n",
    "    print(f'[BEST] -> QWK: {best_test_metrics[0]: .3f}, CORR: {best_test_metrics[2]: .3f}, RMSE: {best_test_metrics[3]: .3f}')\n",
    "    \n",
    "pd.DataFrame(np.array(best_val_metrics).reshape(1, 5), columns=['qwk', 'lwk', 'corr', 'rmse', 'mae']).to_csv(output_path + f'best_dev_metrics{test_prompt_id}.csv', index=False, header=True)\n",
    "pd.DataFrame(np.array(best_test_metrics).reshape(1, 5), columns=['qwk', 'lwk', 'corr', 'rmse', 'mae']).to_csv(output_path + f'best_metrics{test_prompt_id}.csv', index=False, header=True)\n",
    "pd.DataFrame(np.array(best_test).reshape(1, 5), columns=['qwk', 'lwk', 'corr', 'rmse', 'mae']).to_csv(output_path + f'sample_metrics{test_prompt_id}.csv', index=False, header=True)"
   ]
  },
  {
   "cell_type": "code",
   "execution_count": null,
   "metadata": {},
   "outputs": [],
   "source": []
  }
 ],
 "metadata": {
  "kernelspec": {
   "display_name": "Python 3 (ipykernel)",
   "language": "python",
   "name": "python3"
  },
  "language_info": {
   "codemirror_mode": {
    "name": "ipython",
    "version": 3
   },
   "file_extension": ".py",
   "mimetype": "text/x-python",
   "name": "python",
   "nbconvert_exporter": "python",
   "pygments_lexer": "ipython3",
   "version": "3.10.13"
  }
 },
 "nbformat": 4,
 "nbformat_minor": 4
}
