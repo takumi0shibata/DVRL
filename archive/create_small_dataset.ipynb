{
 "cells": [
  {
   "cell_type": "code",
   "execution_count": 1,
   "metadata": {},
   "outputs": [],
   "source": [
    "import pandas as pd\n",
    "import numpy as np\n",
    "import pickle\n",
    "import os"
   ]
  },
  {
   "cell_type": "code",
   "execution_count": 2,
   "metadata": {},
   "outputs": [],
   "source": [
    "prompts = [i for i in range(1, 9)]\n",
    "file_names = ['train.pk', 'dev.pk', 'test.pk']"
   ]
  },
  {
   "cell_type": "code",
   "execution_count": 3,
   "metadata": {},
   "outputs": [],
   "source": [
    "# 変数の定義\n",
    "ATTRIBUTES = 'score'\n",
    "WANT_TO_REMOVE = ['7', '8']\n",
    "WANT_TO_RESCALE = ['1']\n",
    "OUTPUT_FOLDER = 'cross_prompt_attribute_small123456/'"
   ]
  },
  {
   "cell_type": "code",
   "execution_count": 4,
   "metadata": {},
   "outputs": [],
   "source": [
    "for prompt_id in prompts:\n",
    "    for file_name in file_names:\n",
    "        with open(f'cross_prompt_attributes/{prompt_id}/{file_name}', 'rb') as f:\n",
    "            data = pickle.load(f)\n",
    "        \n",
    "        for item in data:\n",
    "            if item['prompt_id'] in WANT_TO_RESCALE:\n",
    "                item[ATTRIBUTES] = int(np.ceil(int(item[ATTRIBUTES]) / 2))\n",
    "        data = [item for item in data if item['prompt_id'] not in WANT_TO_REMOVE]\n",
    "        os.makedirs(OUTPUT_FOLDER + str(prompt_id), exist_ok=True)\n",
    "        if file_name == 'train.pk':\n",
    "            train_data = data\n",
    "            with open(OUTPUT_FOLDER + f'{prompt_id}/{file_name}', 'wb') as f:\n",
    "                pickle.dump(train_data, f)\n",
    "        elif file_name == 'dev.pk':\n",
    "            dev_data = data\n",
    "            with open(OUTPUT_FOLDER + f'{prompt_id}/{file_name}', 'wb') as f:\n",
    "                pickle.dump(dev_data, f)\n",
    "        elif file_name == 'test.pk':\n",
    "            test_data = data\n",
    "            with open(OUTPUT_FOLDER + f'{prompt_id}/{file_name}', 'wb') as f:\n",
    "                pickle.dump(test_data, f)"
   ]
  },
  {
   "cell_type": "code",
   "execution_count": 12,
   "metadata": {},
   "outputs": [
    {
     "name": "stdout",
     "output_type": "stream",
     "text": [
      "Length of train.pk: 9081\n",
      "Length of dev.pk: 1603\n",
      "Length of test.pk: 0\n"
     ]
    }
   ],
   "source": [
    "for file_name in file_names:\n",
    "    with open(OUTPUT_FOLDER + f'/7/{file_name}', 'rb') as f:\n",
    "        data = pickle.load(f)\n",
    "    print(f'Length of {file_name}: {len(data)}')"
   ]
  },
  {
   "cell_type": "code",
   "execution_count": null,
   "metadata": {},
   "outputs": [],
   "source": []
  }
 ],
 "metadata": {
  "kernelspec": {
   "display_name": "Python 3",
   "language": "python",
   "name": "python3"
  },
  "language_info": {
   "codemirror_mode": {
    "name": "ipython",
    "version": 3
   },
   "file_extension": ".py",
   "mimetype": "text/x-python",
   "name": "python",
   "nbconvert_exporter": "python",
   "pygments_lexer": "ipython3",
   "version": "3.11.5"
  }
 },
 "nbformat": 4,
 "nbformat_minor": 2
}
